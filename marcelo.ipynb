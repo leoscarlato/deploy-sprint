{
 "cells": [
  {
   "cell_type": "code",
   "execution_count": 376,
   "metadata": {},
   "outputs": [],
   "source": [
    "\n",
    "import matplotlib.pyplot as plt\n",
    "import numpy as np\n",
    "import pandas as pd\n",
    "import seaborn as sns\n",
    "\n",
    "df = pd.read_csv(\"./data/Ana_Health-Tabela_Modelo_Previsao_Churn.csv\",skiprows=1)\n",
    "\n",
    "cols = ['Interesses', 'id_health_plan', 'Cancelamentos Todos Atendimento', 'id_person', 'Social', 'city', 'id_person_recommendation', 'postal_code', 'contract_start_date', 'lost_time.1', 'contract_end_date', 'stay_in_pipeline_stages_welcome']\n"
   ]
  },
  {
   "cell_type": "code",
   "execution_count": 377,
   "metadata": {},
   "outputs": [
    {
     "data": {
      "text/html": [
       "<div>\n",
       "<style scoped>\n",
       "    .dataframe tbody tr th:only-of-type {\n",
       "        vertical-align: middle;\n",
       "    }\n",
       "\n",
       "    .dataframe tbody tr th {\n",
       "        vertical-align: top;\n",
       "    }\n",
       "\n",
       "    .dataframe thead th {\n",
       "        text-align: right;\n",
       "    }\n",
       "</style>\n",
       "<table border=\"1\" class=\"dataframe\">\n",
       "  <thead>\n",
       "    <tr style=\"text-align: right;\">\n",
       "      <th></th>\n",
       "      <th>Interesses</th>\n",
       "      <th>id_health_plan</th>\n",
       "      <th>Cancelamentos Todos Atendimento</th>\n",
       "      <th>id_person</th>\n",
       "      <th>Social</th>\n",
       "      <th>city</th>\n",
       "      <th>id_person_recommendation</th>\n",
       "      <th>postal_code</th>\n",
       "      <th>contract_start_date</th>\n",
       "      <th>lost_time.1</th>\n",
       "      <th>contract_end_date</th>\n",
       "      <th>stay_in_pipeline_stages_welcome</th>\n",
       "    </tr>\n",
       "  </thead>\n",
       "  <tbody>\n",
       "    <tr>\n",
       "      <th>0</th>\n",
       "      <td>NaN</td>\n",
       "      <td>417.0</td>\n",
       "      <td>False</td>\n",
       "      <td>250</td>\n",
       "      <td>4,0; 4,0; 3,7</td>\n",
       "      <td>São Paulo</td>\n",
       "      <td>NaN</td>\n",
       "      <td>04534-020</td>\n",
       "      <td>2021-01-28</td>\n",
       "      <td>NaN</td>\n",
       "      <td>NaN</td>\n",
       "      <td>0.0</td>\n",
       "    </tr>\n",
       "    <tr>\n",
       "      <th>1</th>\n",
       "      <td>NaN</td>\n",
       "      <td>NaN</td>\n",
       "      <td>False</td>\n",
       "      <td>254</td>\n",
       "      <td>NaN</td>\n",
       "      <td>Mecklenburg County</td>\n",
       "      <td>NaN</td>\n",
       "      <td>28203</td>\n",
       "      <td>2020-12-16</td>\n",
       "      <td>2022-01-25 02:52:00</td>\n",
       "      <td>2021-11-18</td>\n",
       "      <td>9616671.0</td>\n",
       "    </tr>\n",
       "    <tr>\n",
       "      <th>2</th>\n",
       "      <td>NaN</td>\n",
       "      <td>NaN</td>\n",
       "      <td>False</td>\n",
       "      <td>314</td>\n",
       "      <td>NaN</td>\n",
       "      <td>São Paulo</td>\n",
       "      <td>NaN</td>\n",
       "      <td>05337-030</td>\n",
       "      <td>2021-01-21</td>\n",
       "      <td>NaN</td>\n",
       "      <td>2021-03-16</td>\n",
       "      <td>NaN</td>\n",
       "    </tr>\n",
       "    <tr>\n",
       "      <th>3</th>\n",
       "      <td>NaN</td>\n",
       "      <td>NaN</td>\n",
       "      <td>False</td>\n",
       "      <td>315</td>\n",
       "      <td>NaN</td>\n",
       "      <td>NaN</td>\n",
       "      <td>NaN</td>\n",
       "      <td>NaN</td>\n",
       "      <td>2020-12-17</td>\n",
       "      <td>NaN</td>\n",
       "      <td>2021-04-27</td>\n",
       "      <td>NaN</td>\n",
       "    </tr>\n",
       "    <tr>\n",
       "      <th>4</th>\n",
       "      <td>NaN</td>\n",
       "      <td>NaN</td>\n",
       "      <td>False</td>\n",
       "      <td>317</td>\n",
       "      <td>NaN</td>\n",
       "      <td>São Paulo</td>\n",
       "      <td>NaN</td>\n",
       "      <td>05421-050</td>\n",
       "      <td>2021-01-18</td>\n",
       "      <td>NaN</td>\n",
       "      <td>2021-03-16</td>\n",
       "      <td>NaN</td>\n",
       "    </tr>\n",
       "  </tbody>\n",
       "</table>\n",
       "</div>"
      ],
      "text/plain": [
       "  Interesses  id_health_plan  Cancelamentos Todos Atendimento  id_person  \\\n",
       "0        NaN           417.0                            False        250   \n",
       "1        NaN             NaN                            False        254   \n",
       "2        NaN             NaN                            False        314   \n",
       "3        NaN             NaN                            False        315   \n",
       "4        NaN             NaN                            False        317   \n",
       "\n",
       "          Social                city  id_person_recommendation postal_code  \\\n",
       "0  4,0; 4,0; 3,7           São Paulo                       NaN   04534-020   \n",
       "1            NaN  Mecklenburg County                       NaN       28203   \n",
       "2            NaN           São Paulo                       NaN   05337-030   \n",
       "3            NaN                 NaN                       NaN         NaN   \n",
       "4            NaN           São Paulo                       NaN   05421-050   \n",
       "\n",
       "  contract_start_date          lost_time.1 contract_end_date  \\\n",
       "0          2021-01-28                  NaN               NaN   \n",
       "1          2020-12-16  2022-01-25 02:52:00        2021-11-18   \n",
       "2          2021-01-21                  NaN        2021-03-16   \n",
       "3          2020-12-17                  NaN        2021-04-27   \n",
       "4          2021-01-18                  NaN        2021-03-16   \n",
       "\n",
       "   stay_in_pipeline_stages_welcome  \n",
       "0                              0.0  \n",
       "1                        9616671.0  \n",
       "2                              NaN  \n",
       "3                              NaN  \n",
       "4                              NaN  "
      ]
     },
     "execution_count": 377,
     "metadata": {},
     "output_type": "execute_result"
    }
   ],
   "source": [
    "\n",
    "df = df[cols]\n",
    "df.head()"
   ]
  },
  {
   "cell_type": "code",
   "execution_count": 378,
   "metadata": {},
   "outputs": [],
   "source": [
    "# drop interstes\n",
    "df = df.drop(['Interesses'], axis=1)"
   ]
  },
  {
   "cell_type": "code",
   "execution_count": 379,
   "metadata": {},
   "outputs": [
    {
     "data": {
      "text/plain": [
       "id_health_plan                      678\n",
       "Cancelamentos Todos Atendimento       0\n",
       "id_person                             0\n",
       "Social                              304\n",
       "city                                 19\n",
       "id_person_recommendation           1092\n",
       "postal_code                          39\n",
       "contract_start_date                   0\n",
       "lost_time.1                         885\n",
       "contract_end_date                   638\n",
       "stay_in_pipeline_stages_welcome      86\n",
       "dtype: int64"
      ]
     },
     "execution_count": 379,
     "metadata": {},
     "output_type": "execute_result"
    }
   ],
   "source": [
    "# see how many nan values are in each column\n",
    "# DEVEMOS DROPAR id_health_plan ???????\n",
    "df.isnull().sum()"
   ]
  },
  {
   "cell_type": "code",
   "execution_count": 380,
   "metadata": {},
   "outputs": [],
   "source": [
    "df[\"Cancelamentos Todos Atendimento\"].value_counts()\n",
    "# drop Cancelamentos Todos Atendimento\n",
    "df = df.drop(['Cancelamentos Todos Atendimento'], axis=1)\n"
   ]
  },
  {
   "cell_type": "code",
   "execution_count": 381,
   "metadata": {},
   "outputs": [
    {
     "data": {
      "text/plain": [
       "0"
      ]
     },
     "execution_count": 381,
     "metadata": {},
     "output_type": "execute_result"
    }
   ],
   "source": [
    "# check if there are any repeated id_person\n",
    "len(df['id_person'].value_counts()) - len(df['id_person'])"
   ]
  },
  {
   "cell_type": "code",
   "execution_count": 382,
   "metadata": {},
   "outputs": [
    {
     "data": {
      "text/plain": [
       "0          4,0; 4,0; 3,7\n",
       "12                     4\n",
       "16         3,0; 3,3; 4,3\n",
       "17              3,0; 3,0\n",
       "21              5,0; 5,0\n",
       "23              4,7; 4,0\n",
       "24    4,0; 4,0; 4,3; 4,0\n",
       "28              2,7; 2,7\n",
       "29    3,7; 3,7; 4,0; 4,0\n",
       "30                     4\n",
       "Name: Social, dtype: object"
      ]
     },
     "execution_count": 382,
     "metadata": {},
     "output_type": "execute_result"
    }
   ],
   "source": [
    "# remove nan values\n",
    "df_teste = df[\"Social\"].dropna()\n",
    "df_teste.head(10)\n",
    "\n",
    "# relacoes pessoais, apoio social, aspecto sexual."
   ]
  },
  {
   "cell_type": "code",
   "execution_count": 383,
   "metadata": {},
   "outputs": [
    {
     "data": {
      "text/plain": [
       "other             367\n",
       "São Paulo         197\n",
       "São Carlos        104\n",
       "Novo Airão         96\n",
       "Rio de Janeiro     62\n",
       "Manaus             60\n",
       "Curitiba           38\n",
       "Florianópolis      37\n",
       "Ribeirão Preto     31\n",
       "Juiz de Fora       27\n",
       "Campinas           23\n",
       "Palhoça            22\n",
       "Salvador           22\n",
       "Belo Horizonte     17\n",
       "Franca             16\n",
       "São José           16\n",
       "Guarulhos          15\n",
       "Fortaleza          15\n",
       "Recife             15\n",
       "Itatiba            12\n",
       "Uberlândia         10\n",
       "Name: city, dtype: int64"
      ]
     },
     "execution_count": 383,
     "metadata": {},
     "output_type": "execute_result"
    }
   ],
   "source": [
    "cidades = df['city'].value_counts()\n",
    "# if city is nan, replace with other\n",
    "df['city'] = df['city'].fillna('other')\n",
    "\n",
    "# if the city is less than 10, replace with other\n",
    "df['city'] = df['city'].apply(lambda x: 'other' if x in cidades[cidades < 10].index else x)\n",
    "\n",
    "df['city'].value_counts()"
   ]
  },
  {
   "cell_type": "code",
   "execution_count": 384,
   "metadata": {},
   "outputs": [
    {
     "data": {
      "text/plain": [
       "False    1092\n",
       "True      110\n",
       "Name: id_person_recommendation, dtype: int64"
      ]
     },
     "execution_count": 384,
     "metadata": {},
     "output_type": "execute_result"
    }
   ],
   "source": [
    "df[\"id_person_recommendation\"].fillna(False, inplace = True)\n",
    "# if id_person_recommendation is not false, replace with true\n",
    "\n",
    "df[\"id_person_recommendation\"] = df[\"id_person_recommendation\"].apply(lambda x: True if x != False else False)\n",
    "\n",
    "df[\"id_person_recommendation\"].value_counts()"
   ]
  },
  {
   "cell_type": "code",
   "execution_count": 385,
   "metadata": {},
   "outputs": [],
   "source": [
    "# drop postal_code\n",
    "df = df.drop(['postal_code'], axis=1)"
   ]
  },
  {
   "cell_type": "code",
   "execution_count": 386,
   "metadata": {},
   "outputs": [],
   "source": [
    "# contract start date and end date to datetime\n",
    "df['contract_start_date'] = pd.to_datetime(df['contract_start_date'])\n",
    "df['contract_end_date'] = pd.to_datetime(df['contract_end_date'])"
   ]
  },
  {
   "cell_type": "code",
   "execution_count": 387,
   "metadata": {},
   "outputs": [
    {
     "name": "stdout",
     "output_type": "stream",
     "text": [
      "2022-05    46\n",
      "2023-08    38\n",
      "2023-09    25\n",
      "2022-04    25\n",
      "2022-06    21\n",
      "2022-08    18\n",
      "2023-10    17\n",
      "2022-07    17\n",
      "2022-11    16\n",
      "2023-04    15\n",
      "2022-09    14\n",
      "2023-05    13\n",
      "2023-06    12\n",
      "2022-03     9\n",
      "2022-01     7\n",
      "2023-07     4\n",
      "2021-10     4\n",
      "2023-11     3\n",
      "2022-10     3\n",
      "2021-11     3\n",
      "2022-02     3\n",
      "2022-12     2\n",
      "2023-02     2\n",
      "Freq: M, Name: lost_time_month, dtype: int64\n"
     ]
    }
   ],
   "source": [
    "# Convert to datetime\n",
    "df['lost_time.1'] = pd.to_datetime(df['lost_time.1'])\n",
    "\n",
    "# Convert to period (month)\n",
    "df['lost_time_month'] = df['lost_time.1'].dt.to_period('M')\n",
    "\n",
    "# Handling NaN values (you might want to replace this with a specific strategy)\n",
    "# For example, leave NaN as is, or replace with a placeholder date\n",
    "df['lost_time_month'].fillna(pd.NaT, inplace=True)\n",
    "\n",
    "# Value counts\n",
    "print(df[\"lost_time_month\"].value_counts())\n"
   ]
  },
  {
   "cell_type": "code",
   "execution_count": 391,
   "metadata": {},
   "outputs": [
    {
     "data": {
      "text/plain": [
       "10871693.0      1\n",
       "70653.0         1\n",
       "486348.0        1\n",
       "605705.0        1\n",
       "1058728.0       1\n",
       "             ... \n",
       "235.0           2\n",
       "605892.0        2\n",
       "203.0           2\n",
       "86651.0         2\n",
       "0.0           168\n",
       "Name: stay_in_pipeline_stages_welcome, Length: 1031, dtype: int64"
      ]
     },
     "execution_count": 391,
     "metadata": {},
     "output_type": "execute_result"
    }
   ],
   "source": [
    "df[\"stay_in_pipeline_stages_welcome\"].fillna(0, inplace = True)\n",
    "df[\"stay_in_pipeline_stages_welcome\"].astype(int)\n",
    "df[\"stay_in_pipeline_stages_welcome\"].value_counts( ascending=True)"
   ]
  }
 ],
 "metadata": {
  "kernelspec": {
   "display_name": "Python 3",
   "language": "python",
   "name": "python3"
  },
  "language_info": {
   "codemirror_mode": {
    "name": "ipython",
    "version": 3
   },
   "file_extension": ".py",
   "mimetype": "text/x-python",
   "name": "python",
   "nbconvert_exporter": "python",
   "pygments_lexer": "ipython3",
   "version": "3.11.1"
  }
 },
 "nbformat": 4,
 "nbformat_minor": 2
}
