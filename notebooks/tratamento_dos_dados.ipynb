{
 "cells": [
  {
   "cell_type": "code",
   "execution_count": 331,
   "metadata": {},
   "outputs": [],
   "source": [
    "import pandas as pd\n",
    "import numpy as np\n",
    "from sklearn.model_selection import train_test_split\n",
    "from sklearn.metrics import accuracy_score\n",
    "from datetime import datetime\n",
    "#import remap\n",
    "\n"
   ]
  },
  {
   "cell_type": "code",
   "execution_count": 332,
   "metadata": {},
   "outputs": [],
   "source": [
    "df = pd.read_csv(\"../data/Ana_Health-Tabela_Modelo_Previsao_Churn.csv\",skiprows=1)"
   ]
  },
  {
   "cell_type": "markdown",
   "metadata": {},
   "source": [
    "# Criando dataframe com os dados com ocorrência única de won ou lost"
   ]
  },
  {
   "cell_type": "code",
   "execution_count": 333,
   "metadata": {},
   "outputs": [],
   "source": [
    "colunas = ['id_person','state', 'city', 'postal_code', 'id_person_recommendation', 'Recebe Comunicados?', 'Interesses', 'Pontos de Atenção',\n",
    "           'id_stage', 'id_org', 'status.1', 'activities_count', 'Qde Todos Atendimentos', 'Faltas Todos Atendimento', 'Datas Atendimento Médico',\n",
    "           'Datas Acolhimento', 'Datas Psicoterapia','Qde Prescrições', 'Datas Prescrição', 'Qde Respostas WHOQOL']\n",
    "\n",
    "df = df.drop(colunas, axis=1)"
   ]
  },
  {
   "cell_type": "markdown",
   "metadata": {},
   "source": [
    "### Transformando a coluna de 'status' em apenas o último status"
   ]
  },
  {
   "cell_type": "code",
   "execution_count": 334,
   "metadata": {},
   "outputs": [],
   "source": [
    "# def lastStatus(x):\n",
    "#     if pd.isnull(x):\n",
    "#         return 'none'\n",
    "#     s = x.split(';')\n",
    "#     return s[-1].strip()\n",
    "\n",
    "# df['status'] = df['status'].apply(lastStatus)\n",
    "def lastStatus(x):\n",
    "    s = x.split(';')\n",
    "    return s[-1].strip()\n",
    "\n",
    "df['status'] = df['status'].dropna().apply(lastStatus)"
   ]
  },
  {
   "cell_type": "code",
   "execution_count": 335,
   "metadata": {},
   "outputs": [
    {
     "data": {
      "text/plain": [
       "won     586\n",
       "lost    492\n",
       "Name: status, dtype: int64"
      ]
     },
     "execution_count": 335,
     "metadata": {},
     "output_type": "execute_result"
    }
   ],
   "source": [
    "df['status'].value_counts()"
   ]
  },
  {
   "cell_type": "markdown",
   "metadata": {},
   "source": [
    "\n",
    "Se o cliente tiver mais de um start of service é considerado o primeiro"
   ]
  },
  {
   "cell_type": "code",
   "execution_count": 336,
   "metadata": {},
   "outputs": [],
   "source": [
    "def first_date(x):\n",
    "    if pd.isnull(x):\n",
    "        return x\n",
    "    s = x.split(';')\n",
    "    return s[0].strip()\n",
    "\n",
    "\n",
    "df['start_of_service'] = df['start_of_service'].apply(first_date)\n",
    "\n"
   ]
  },
  {
   "cell_type": "markdown",
   "metadata": {},
   "source": [
    "Se o cliente tiver com status won e lost_reason é para eliminar o lost_reason\n",
    "Se estiver com status lost é considerado o último lost_reason"
   ]
  },
  {
   "cell_type": "code",
   "execution_count": 337,
   "metadata": {},
   "outputs": [],
   "source": [
    "def lost_reason_lost(x,y):\n",
    "    if pd.isnull(x) or pd.isnull(y):\n",
    "        return None\n",
    "    \n",
    "    if x == 'won':\n",
    "        return None\n",
    "    \n",
    "    s = y.split(';')\n",
    "    return s[-1].strip()"
   ]
  },
  {
   "cell_type": "code",
   "execution_count": 338,
   "metadata": {},
   "outputs": [
    {
     "data": {
      "text/plain": [
       "[Assinatura] Desligamento                                                                   221\n",
       "[Assinatura] Não quer seguir com a Ana                                                       64\n",
       "[Assinatura] Empresa cancelou o benefício da Ana                                             55\n",
       "[Assinatura] Precisou cortar custos                                                          28\n",
       "[Assinatura] Cancelamento por inadimplência                                                  26\n",
       "[Assinatura] Está sem tempo para conciliar os atendimentos                                   23\n",
       "[Assinatura] Cancelamento após saída da psicoterapeuta do time da Ana                        11\n",
       "[Assinatura] Não estava sentindo evolução na psicoterapia                                     7\n",
       "[Assinatura] Final do Piloto                                                                  5\n",
       "[Assinatura] Desengajou após sentir melhora das questões que a levaram para psicoterapia      5\n",
       "[Assinatura] Recebeu um benefício similar da empresa e não viu sentido em manter os dois      5\n",
       "[Assinatura] AD. Não conseguiu se reestruturar financeiramente e prefere interromper          4\n",
       "[Assinatura] Titular foi desligado da empresa                                                 4\n",
       "[Associade] Foi desligado da empresa e não quiz continuar                                     4\n",
       "[Assinatura] Não se adaptou ao modelo online                                                  3\n",
       "Lead não retornou os contatos após 3 ou mais tentativas                                       3\n",
       "[Assinatura] Empresa retirou funcionário do benefício por pouco uso                           3\n",
       "[Assinatura] Não se adaptou com psicoterapia online                                           2\n",
       "[Assinatura] Quer acompanhamento de especialista focal                                        2\n",
       "[Assinatura] Problemas financeiros                                                            2\n",
       "[Assinatura] Fim do Piloto                                                                    2\n",
       "Empresa está encerrando a operação                                                            2\n",
       "[Assinatura] Cancelou após proposição de troca de horário pela psicoterapeuta                 1\n",
       "Priorizou contratar plano de saúde com cobertura hospitalar                                   1\n",
       "[Assinatura] Empresa começou a oferecer o plano                                               1\n",
       "[Assinatura] Contratou para apenas um atendimento médico de urgência                          1\n",
       "[Assinatura] Prefere utilizar o teleatendimento do plano de saúde                             1\n",
       "[Assinatura] Não está utilizando o serviço                                                    1\n",
       "[Assinatura] Contratou um plano de saúde                                                      1\n",
       "[Assinatura] AD. Não conseguiu se reestruturar financeiramente e prefere interromper.         1\n",
       "[Assinatura] Mudou de país e não viu valor em seguir com o acompanhamento de saúde            1\n",
       "Não é prioridade da empresa oferecer benefício de saúde                                       1\n",
       "[Assinatura] Não aceitou aguardar na fila de espera da psicoterapia                           1\n",
       "Name: lost_reason, dtype: int64"
      ]
     },
     "execution_count": 338,
     "metadata": {},
     "output_type": "execute_result"
    }
   ],
   "source": [
    "df['lost_reason'] = df.apply(lambda row: lost_reason_lost(row['status'], row['lost_reason']), axis=1)\n",
    "df['lost_reason'].value_counts()"
   ]
  },
  {
   "cell_type": "markdown",
   "metadata": {},
   "source": []
  },
  {
   "cell_type": "code",
   "execution_count": 339,
   "metadata": {},
   "outputs": [],
   "source": [
    "def devolve_media(x):\n",
    "    if pd.isnull(x):\n",
    "        return None\n",
    "    x = x.replace(',','.')\n",
    "    s = x.split(';')\n",
    "    s = [float(i) for i in s]\n",
    "    return np.mean(s)"
   ]
  },
  {
   "cell_type": "code",
   "execution_count": 340,
   "metadata": {},
   "outputs": [],
   "source": [
    "colunas_whoqol = ['Físico', 'Psicológico', 'Social', 'Ambiental']\n",
    "for coluna in colunas_whoqol:\n",
    "    df[coluna] = df[coluna].apply(devolve_media)"
   ]
  },
  {
   "cell_type": "code",
   "execution_count": 341,
   "metadata": {},
   "outputs": [
    {
     "data": {
      "text/plain": [
       "count    898.000000\n",
       "mean       3.645049\n",
       "std        0.657525\n",
       "min        1.300000\n",
       "25%        3.300000\n",
       "50%        3.700000\n",
       "75%        4.100000\n",
       "max        5.000000\n",
       "Name: Físico, dtype: float64"
      ]
     },
     "execution_count": 341,
     "metadata": {},
     "output_type": "execute_result"
    }
   ],
   "source": [
    "df['Físico'].describe()"
   ]
  },
  {
   "cell_type": "markdown",
   "metadata": {},
   "source": [
    "Transformando datas em datetime"
   ]
  },
  {
   "cell_type": "code",
   "execution_count": 342,
   "metadata": {},
   "outputs": [],
   "source": [
    "colunas_de_data = ['contract_start_date', 'start_of_service', 'lost_time', 'add_time', 'won_time', 'lost_time.1']\n",
    "colunas_seg = ['stay_in_pipeline_stages_welcome','stay_in_pipeline_stages_first_meeting', 'stay_in_pipeline_stages_whoqol']\n",
    "\n",
    "for coluna in colunas_seg:\n",
    "    df[coluna+'_h'] = df[coluna]/3600\n",
    "\n",
    "df = df.drop(colunas_seg, axis=1)\n",
    "\n",
    "#Trocar a data pelo tempo em dias ate o dia de hoje\n",
    "for coluna in colunas_de_data:\n",
    "    df[coluna] = pd.to_datetime(df[coluna], errors='coerce')\n",
    "    df[coluna] = df[coluna].apply(lambda x: (datetime.now() - x).days)\n",
    "\n",
    "\n"
   ]
  },
  {
   "cell_type": "code",
   "execution_count": 343,
   "metadata": {},
   "outputs": [
    {
     "data": {
      "text/plain": [
       "0                                        NaN\n",
       "1                                        NaN\n",
       "2                                        NaN\n",
       "3                                        NaN\n",
       "4                                        NaN\n",
       "                       ...                  \n",
       "195    infecção por coronavírus A77 (CIAP-2)\n",
       "196         dor articular do pé L17 (CIAP-2)\n",
       "197                                      NaN\n",
       "198                                      NaN\n",
       "199                                      NaN\n",
       "Name: Problemas Abertos, Length: 200, dtype: object"
      ]
     },
     "execution_count": 343,
     "metadata": {},
     "output_type": "execute_result"
    }
   ],
   "source": [
    "df['Problemas Abertos'].head(200)"
   ]
  },
  {
   "cell_type": "code",
   "execution_count": 344,
   "metadata": {},
   "outputs": [],
   "source": [
    "def tem_ou_nao(x):\n",
    "    if pd.isnull(x) :\n",
    "        return 0\n",
    "    return 1\n",
    "\n",
    "df['Problemas Abertos'] = df['Problemas Abertos'].apply(tem_ou_nao)"
   ]
  },
  {
   "cell_type": "code",
   "execution_count": 345,
   "metadata": {},
   "outputs": [
    {
     "data": {
      "text/plain": [
       "count    1201.000000\n",
       "mean        0.507910\n",
       "std         0.500146\n",
       "min         0.000000\n",
       "25%         0.000000\n",
       "50%         1.000000\n",
       "75%         1.000000\n",
       "max         1.000000\n",
       "Name: Problemas Abertos, dtype: float64"
      ]
     },
     "execution_count": 345,
     "metadata": {},
     "output_type": "execute_result"
    }
   ],
   "source": [
    "df['Problemas Abertos'].describe()\n"
   ]
  },
  {
   "cell_type": "markdown",
   "metadata": {},
   "source": [
    "### Criando o dataframe com apenas as linhas que tem valor de status igual a won ou lost."
   ]
  },
  {
   "cell_type": "code",
   "execution_count": 346,
   "metadata": {},
   "outputs": [],
   "source": [
    "df_simple = df[df['status'].isin(['won', 'lost'])]"
   ]
  },
  {
   "cell_type": "markdown",
   "metadata": {},
   "source": [
    "### Aplicando os filtros de status igual a won e data de fim de contrato igual a NaN. Além do filtro de status igual a lost e com data de fim de contrato "
   ]
  },
  {
   "cell_type": "code",
   "execution_count": 347,
   "metadata": {},
   "outputs": [],
   "source": [
    "f1 = df_simple[(df_simple['status'] == 'won') & (df_simple['contract_end_date'].isna())] \n",
    "f2 = df_simple[(df_simple['status'] == 'lost') & (df_simple['contract_end_date'].notna())] \n",
    "\n",
    "df_simple = pd.concat([f1, f2])"
   ]
  },
  {
   "cell_type": "code",
   "execution_count": 348,
   "metadata": {},
   "outputs": [
    {
     "data": {
      "text/plain": [
       "<AxesSubplot:xlabel='contract_end_date'>"
      ]
     },
     "execution_count": 348,
     "metadata": {},
     "output_type": "execute_result"
    },
    {
     "data": {
      "image/png": "[encoded data removed]",
      "text/plain": [
       "<Figure size 432x288 with 1 Axes>"
      ]
     },
     "metadata": {
      "needs_background": "light"
     },
     "output_type": "display_data"
    }
   ],
   "source": [
    "df_simple.groupby('contract_end_date')['status'].count().sort_index().rolling(1).sum().plot(rot=45)"
   ]
  },
  {
   "cell_type": "markdown",
   "metadata": {},
   "source": [
    "### Mudando a coluna de data de começo de contrato para formato de data do pandas"
   ]
  },
  {
   "cell_type": "code",
   "execution_count": 349,
   "metadata": {},
   "outputs": [],
   "source": [
    "df_simple['contract_start_date'] = pd.to_datetime(df_simple['contract_start_date'])\n",
    "df_simple = df_simple.sort_values(by=['contract_start_date'])"
   ]
  },
  {
   "cell_type": "code",
   "execution_count": 350,
   "metadata": {},
   "outputs": [
    {
     "data": {
      "text/plain": [
       "won     574\n",
       "lost    471\n",
       "Name: status, dtype: int64"
      ]
     },
     "execution_count": 350,
     "metadata": {},
     "output_type": "execute_result"
    }
   ],
   "source": [
    "df_simple['status'].value_counts()"
   ]
  },
  {
   "cell_type": "code",
   "execution_count": 351,
   "metadata": {},
   "outputs": [],
   "source": [
    "# #Dado um intervalo de tempo, criar analises de churn baseado na saúde da empresa\n",
    "# #Criar um modelo de previsão de churn\n",
    "# # saintes, entrantes, médias de pagamentos, std.pagamentos. Qde Total de Tentativas de Cobrança, Qde Total de Faturas\n",
    "\n",
    "# df_filtered = df_simple[df_simple['contract_start_date'].between('2021-01-01', '2021-12-31')]\n",
    "# df_filtered\n",
    "\n",
    "# #novo dataframe com as colunas que serão usadas no modelo\n",
    "\n",
    "# new_df = pd.DataFrame(columns=['saintes', 'entrantes', 'media_pagamentos', 'std_pagamentos', 'qde_total_tentativas_cobranca', 'qde_total_faturas', 'churn'])\n",
    "\n",
    "# #atribuir valores ao novo dataframe"
   ]
  },
  {
   "cell_type": "code",
   "execution_count": 352,
   "metadata": {},
   "outputs": [
    {
     "data": {
      "image/png": "[encoded data removed]",
      "text/plain": [
       "<Figure size 720x432 with 1 Axes>"
      ]
     },
     "metadata": {
      "needs_background": "light"
     },
     "output_type": "display_data"
    }
   ],
   "source": [
    "import seaborn as sns\n",
    "import matplotlib.pyplot as plt\n",
    "import pandas as pd  # Make sure to import pandas if not already done\n",
    "\n",
    "# Assuming df_simple is your DataFrame\n",
    "\n",
    "# Convert 'contract_end_date' to datetime if not already in that format\n",
    "df_simple['contract_end_date'] = pd.to_datetime(df_simple['contract_end_date'])\n",
    "\n",
    "nome_dos_meses = ['Janeiro', 'Fevereiro', 'Março', 'Abril', 'Maio', 'Junho', 'Julho', 'Agosto', 'Setembro', 'Outubro', 'Novembro', 'Dezembro']\n",
    "\n",
    "coluna = 'contract_end_date'\n",
    "new_name = coluna + '_year'\n",
    "df_simple[new_name] = df_simple[coluna].dt.year\n",
    "\n",
    "# Plotar gráfico de barras separado por ano\n",
    "plt.figure(figsize=(10, 6))  # Definir tamanho da figura\n",
    "# Usar seaborn para criar facetas\n",
    "sns.countplot(x=df_simple[coluna].dt.month, hue=df_simple[new_name])\n",
    "plt.title('Saintes por mês e ano')  # <- Fix the line ending\n",
    "# Rotacionar labels do eixo x\n",
    "plt.xticks(rotation=45)\n",
    "# Alterar labels do eixo x\n",
    "plt.xticks(np.arange(12), nome_dos_meses)\n",
    "# Trocar legenda da coluna\n",
    "plt.legend(title='Ano', loc='upper left', labels=['2021', '2022', '2023'])\n",
    "# Trocar nome do eixo x\n",
    "plt.xlabel('Mês')\n",
    "# Trocar nome do eixo y\n",
    "plt.ylabel('Quantidade')\n",
    "plt.show()\n"
   ]
  },
  {
   "cell_type": "code",
   "execution_count": 353,
   "metadata": {},
   "outputs": [],
   "source": [
    "colunas_de_data = ['contract_end_date']\n",
    "\n",
    "# LEmbrar de colocar a 'contract_end_date' para time delta posteriormente\n",
    "\n",
    "#Trocar a data pelo tempo em dias ate o dia de hoje\n",
    "for coluna in colunas_de_data:\n",
    "    df[coluna] = pd.to_datetime(df[coluna], errors='coerce')\n",
    "    df[coluna] = df[coluna].apply(lambda x: (datetime.now() - x).days)\n",
    "\n",
    "\n"
   ]
  },
  {
   "cell_type": "code",
   "execution_count": 354,
   "metadata": {},
   "outputs": [],
   "source": [
    "def ultima_mensagem(x,y):\n",
    "    if (y == None):\n",
    "        return \"Cliente\"\n",
    "    \n",
    "    if x>y:\n",
    "        return \"Cliente\"\n",
    "    \n",
    "    else:\n",
    "        return \"Empresa\""
   ]
  },
  {
   "cell_type": "code",
   "execution_count": 355,
   "metadata": {},
   "outputs": [
    {
     "name": "stderr",
     "output_type": "stream",
     "text": [
      "C:\\Users\\jalfr\\AppData\\Local\\Temp\\ipykernel_6356\\4269974155.py:2: SettingWithCopyWarning: \n",
      "A value is trying to be set on a copy of a slice from a DataFrame.\n",
      "Try using .loc[row_indexer,col_indexer] = value instead\n",
      "\n",
      "See the caveats in the documentation: https://pandas.pydata.org/pandas-docs/stable/user_guide/indexing.html#returning-a-view-versus-a-copy\n",
      "  df_aux['Data Última Mensagens Inbound'] = pd.to_datetime(df_aux['Data Última Mensagens Inbound'])\n",
      "C:\\Users\\jalfr\\AppData\\Local\\Temp\\ipykernel_6356\\4269974155.py:3: SettingWithCopyWarning: \n",
      "A value is trying to be set on a copy of a slice from a DataFrame.\n",
      "Try using .loc[row_indexer,col_indexer] = value instead\n",
      "\n",
      "See the caveats in the documentation: https://pandas.pydata.org/pandas-docs/stable/user_guide/indexing.html#returning-a-view-versus-a-copy\n",
      "  df_aux['Data Última Mensagens Outbound'] = pd.to_datetime(df_aux['Data Última Mensagens Outbound'])\n",
      "C:\\Users\\jalfr\\AppData\\Local\\Temp\\ipykernel_6356\\4269974155.py:4: SettingWithCopyWarning: \n",
      "A value is trying to be set on a copy of a slice from a DataFrame.\n",
      "Try using .loc[row_indexer,col_indexer] = value instead\n",
      "\n",
      "See the caveats in the documentation: https://pandas.pydata.org/pandas-docs/stable/user_guide/indexing.html#returning-a-view-versus-a-copy\n",
      "  df_aux['Tempo Última Mensagem Inbound'] = df_aux['Data Última Mensagens Inbound'].apply(lambda x: (datetime.now() - x).days)\n",
      "C:\\Users\\jalfr\\AppData\\Local\\Temp\\ipykernel_6356\\4269974155.py:5: SettingWithCopyWarning: \n",
      "A value is trying to be set on a copy of a slice from a DataFrame.\n",
      "Try using .loc[row_indexer,col_indexer] = value instead\n",
      "\n",
      "See the caveats in the documentation: https://pandas.pydata.org/pandas-docs/stable/user_guide/indexing.html#returning-a-view-versus-a-copy\n",
      "  df_aux['Tempo Última Mensagem Outbound'] = df_aux['Data Última Mensagens Outbound'].apply(lambda x: (datetime.now() - x).days)\n",
      "C:\\Users\\jalfr\\AppData\\Local\\Temp\\ipykernel_6356\\4269974155.py:7: SettingWithCopyWarning: \n",
      "A value is trying to be set on a copy of a slice from a DataFrame.\n",
      "Try using .loc[row_indexer,col_indexer] = value instead\n",
      "\n",
      "See the caveats in the documentation: https://pandas.pydata.org/pandas-docs/stable/user_guide/indexing.html#returning-a-view-versus-a-copy\n",
      "  df_aux['Quem Enviou Última Mensagem'] = df_aux.apply(lambda row: ultima_mensagem(row['Tempo Última Mensagem Inbound'], row['Tempo Última Mensagem Outbound']), axis=1)\n"
     ]
    }
   ],
   "source": [
    "df_aux = df_simple[df_simple['Data Última Mensagens Inbound'].notnull()]\n",
    "df_aux['Data Última Mensagens Inbound'] = pd.to_datetime(df_aux['Data Última Mensagens Inbound'])\n",
    "df_aux['Data Última Mensagens Outbound'] = pd.to_datetime(df_aux['Data Última Mensagens Outbound'])\n",
    "df_aux['Tempo Última Mensagem Inbound'] = df_aux['Data Última Mensagens Inbound'].apply(lambda x: (datetime.now() - x).days)\n",
    "df_aux['Tempo Última Mensagem Outbound'] = df_aux['Data Última Mensagens Outbound'].apply(lambda x: (datetime.now() - x).days)\n",
    "\n",
    "df_aux['Quem Enviou Última Mensagem'] = df_aux.apply(lambda row: ultima_mensagem(row['Tempo Última Mensagem Inbound'], row['Tempo Última Mensagem Outbound']), axis=1)\n"
   ]
  },
  {
   "cell_type": "code",
   "execution_count": 356,
   "metadata": {},
   "outputs": [
    {
     "name": "stderr",
     "output_type": "stream",
     "text": [
      "C:\\Users\\jalfr\\AppData\\Local\\Temp\\ipykernel_6356\\3194983688.py:2: SettingWithCopyWarning: \n",
      "A value is trying to be set on a copy of a slice from a DataFrame.\n",
      "Try using .loc[row_indexer,col_indexer] = value instead\n",
      "\n",
      "See the caveats in the documentation: https://pandas.pydata.org/pandas-docs/stable/user_guide/indexing.html#returning-a-view-versus-a-copy\n",
      "  df_aux['Status Assinatura'] = df_aux['status'].apply(lambda x: \"Ativa\" if x == \"won\" else \"Inativa\")\n"
     ]
    }
   ],
   "source": [
    "df_aux['Quem Enviou Última Mensagem'].value_counts()\n",
    "df_aux['Status Assinatura'] = df_aux['status'].apply(lambda x: \"Ativa\" if x == \"won\" else \"Inativa\")\n"
   ]
  },
  {
   "cell_type": "code",
   "execution_count": 357,
   "metadata": {},
   "outputs": [
    {
     "data": {
      "text/plain": [
       "<AxesSubplot:title={'center':'Status dos Usuários em Relação a Última Mensagema'}, xlabel='Status Assinatura', ylabel='Quantidade Usuários'>"
      ]
     },
     "execution_count": 357,
     "metadata": {},
     "output_type": "execute_result"
    },
    {
     "data": {
      "image/png": "[encoded data removed]",
      "text/plain": [
       "<Figure size 720x432 with 1 Axes>"
      ]
     },
     "metadata": {
      "needs_background": "light"
     },
     "output_type": "display_data"
    }
   ],
   "source": [
    "df_aux.groupby('Status Assinatura')['Quem Enviou Última Mensagem'].value_counts().unstack().plot(kind='bar', rot=0, ylabel='Quantidade Usuários', title='Status dos Usuários em Relação a Última Mensagema', figsize=(10,6))\n"
   ]
  },
  {
   "cell_type": "code",
   "execution_count": 358,
   "metadata": {},
   "outputs": [
    {
     "data": {
      "text/plain": [
       "<AxesSubplot:title={'center':'Quem enviou a última mensagem X Status do Cliente'}, xlabel='Status da Assinatura do Cliente', ylabel='Quantidade de Conversas'>"
      ]
     },
     "execution_count": 358,
     "metadata": {},
     "output_type": "execute_result"
    },
    {
     "data": {
      "image/png": "[encoded data removed]",
      "text/plain": [
       "<Figure size 720x432 with 1 Axes>"
      ]
     },
     "metadata": {
      "needs_background": "light"
     },
     "output_type": "display_data"
    }
   ],
   "source": [
    "df_aux.groupby('Status Assinatura')['Quem Enviou Última Mensagem'].value_counts().unstack().plot(kind='bar', rot=0, ylabel='Quantidade de Conversas', xlabel=\"Status da Assinatura do Cliente\", title='Quem enviou a última mensagem X Status do Cliente', stacked=True, figsize=(10,6))\n"
   ]
  },
  {
   "cell_type": "code",
   "execution_count": 359,
   "metadata": {},
   "outputs": [
    {
     "data": {
      "text/plain": [
       "<AxesSubplot:title={'center':'Quem enviou a última mensagem X Status do Cliente'}, xlabel='Status da Assinatura do Cliente', ylabel='Quantidade de Conversas'>"
      ]
     },
     "execution_count": 359,
     "metadata": {},
     "output_type": "execute_result"
    },
    {
     "data": {
      "image/png": "[encoded data removed]",
      "text/plain": [
       "<Figure size 720x432 with 1 Axes>"
      ]
     },
     "metadata": {
      "needs_background": "light"
     },
     "output_type": "display_data"
    }
   ],
   "source": [
    "df_aux.groupby('Status Assinatura')['Quem Enviou Última Mensagem'].value_counts().unstack().plot(kind='bar', rot=0, ylabel='Quantidade de Conversas', xlabel=\"Status da Assinatura do Cliente\", title='Quem enviou a última mensagem X Status do Cliente', figsize=(10,6))\n"
   ]
  },
  {
   "cell_type": "code",
   "execution_count": 360,
   "metadata": {},
   "outputs": [],
   "source": [
    "df_agosto = pd.read_csv('../data/Agosto/Ana Health_Tabela Modelo Previsão Churn - Tabela até 08_23.csv', skiprows=1)\n",
    "df_julho = pd.read_csv('../data/Julho/Ana Health_Tabela Modelo Previsão Churn - Tabela até 07_23.csv', skiprows=1)\n",
    "df_junho = pd.read_csv('../data/Junho/Ana Health_Tabela Modelo Previsão Churn - Tabela até 06_23.csv', skiprows=1)\n",
    "df_novembro = pd.read_csv('../data/Novembro/Ana Health_Tabela Modelo Previsão Churn - Tabela Geral.csv', skiprows=1)\n",
    "df_outubro = pd.read_csv('../data/Outubro/Ana Health_Tabela Modelo Previsão Churn - Tabela até 10_23.csv', skiprows=1)\n",
    "df_setembro = pd.read_csv('../data/Setembro/Ana Health_Tabela Modelo Previsão Churn - Tabela até 09_23.csv', skiprows=1)"
   ]
  },
  {
   "cell_type": "code",
   "execution_count": 361,
   "metadata": {},
   "outputs": [],
   "source": [
    "import script_dataframe\n",
    "import importlib\n",
    "importlib.reload(script_dataframe)\n",
    "tratamento = script_dataframe.tratamento\n",
    "\n",
    "df_agosto = tratamento(df_agosto)\n",
    "df_julho = tratamento(df_julho)\n",
    "df_junho = tratamento(df_junho)\n",
    "df_novembro = tratamento(df_novembro)\n",
    "df_outubro = tratamento(df_outubro)\n",
    "df_setembro = tratamento(df_setembro)"
   ]
  },
  {
   "cell_type": "code",
   "execution_count": 362,
   "metadata": {},
   "outputs": [],
   "source": [
    "import datetime as dt\n",
    "\n",
    "fim_junho = datetime(2023, 6, 30)\n",
    "fim_julho = datetime(2023, 7, 31)\n",
    "fim_agosto = datetime(2023, 8, 31)\n",
    "fim_setembro = datetime(2023, 9, 30)\n",
    "fim_outubro = datetime(2023, 10, 31)\n",
    "fim_novembro = datetime(2023, 11, 30)\n",
    "\n",
    "def corrige_status(status,lost_time,final_mes):\n",
    "    if lost_time == None:\n",
    "        return 'won'\n",
    "    \n",
    "    if status=='lost':\n",
    "        if lost_time>final_mes:\n",
    "            return 'won'\n",
    "    \n",
    "    return status\n",
    "\n",
    "df_junho['status'] = df_junho.apply(lambda row: corrige_status(row['status'], row['lost_time'], fim_junho), axis=1)\n",
    "df_julho['status'] = df_julho.apply(lambda row: corrige_status(row['status'], row['lost_time'], fim_julho), axis=1)\n",
    "df_agosto['status'] = df_agosto.apply(lambda row: corrige_status(row['status'], row['lost_time'], fim_agosto), axis=1)\n",
    "df_setembro['status'] = df_setembro.apply(lambda row: corrige_status(row['status'], row['lost_time'], fim_setembro), axis=1)\n",
    "df_outubro['status']  = df_outubro.apply(lambda row: corrige_status(row['status'], row['lost_time'], fim_outubro), axis=1)\n",
    "df_novembro['status']  = df_novembro.apply(lambda row: corrige_status(row['status'], row['lost_time'], fim_novembro), axis=1)"
   ]
  },
  {
   "cell_type": "code",
   "execution_count": 363,
   "metadata": {},
   "outputs": [],
   "source": [
    "def prox_status(df1, df2):\n",
    "    df2_novo = df2[df2['id_person'].isin(df1['id_person'].values)]\n",
    "    return pd.merge(df1,df2_novo[['id_person','status']],on='id_person', how='left',suffixes=['','_prox_mes'])\n",
    "\n",
    "df_junho = prox_status(df_junho, df_julho)\n",
    "df_julho = prox_status(df_julho, df_agosto)\n",
    "df_agosto = prox_status(df_agosto, df_setembro)\n",
    "df_setembro = prox_status(df_setembro, df_outubro)\n",
    "df_outubro  = prox_status(df_outubro, df_novembro)"
   ]
  },
  {
   "cell_type": "code",
   "execution_count": 364,
   "metadata": {},
   "outputs": [
    {
     "data": {
      "text/plain": [
       "won     485\n",
       "lost    375\n",
       "Name: status_prox_mes, dtype: int64"
      ]
     },
     "execution_count": 364,
     "metadata": {},
     "output_type": "execute_result"
    }
   ],
   "source": [
    "df_junho['status_prox_mes'].value_counts()"
   ]
  },
  {
   "cell_type": "code",
   "execution_count": 365,
   "metadata": {},
   "outputs": [
    {
     "data": {
      "text/plain": [
       "won     504\n",
       "lost    395\n",
       "Name: status_prox_mes, dtype: int64"
      ]
     },
     "execution_count": 365,
     "metadata": {},
     "output_type": "execute_result"
    }
   ],
   "source": [
    "df_julho['status_prox_mes'].value_counts()"
   ]
  },
  {
   "cell_type": "code",
   "execution_count": 366,
   "metadata": {},
   "outputs": [
    {
     "data": {
      "text/plain": [
       "won     526\n",
       "lost    410\n",
       "Name: status_prox_mes, dtype: int64"
      ]
     },
     "execution_count": 366,
     "metadata": {},
     "output_type": "execute_result"
    }
   ],
   "source": [
    "df_agosto['status_prox_mes'].value_counts()"
   ]
  },
  {
   "cell_type": "code",
   "execution_count": 367,
   "metadata": {},
   "outputs": [
    {
     "data": {
      "text/plain": [
       "won     520\n",
       "lost    442\n",
       "Name: status_prox_mes, dtype: int64"
      ]
     },
     "execution_count": 367,
     "metadata": {},
     "output_type": "execute_result"
    }
   ],
   "source": [
    "df_setembro['status_prox_mes'].value_counts()"
   ]
  },
  {
   "cell_type": "code",
   "execution_count": 368,
   "metadata": {},
   "outputs": [
    {
     "data": {
      "text/plain": [
       "won     559\n",
       "lost    464\n",
       "Name: status_prox_mes, dtype: int64"
      ]
     },
     "execution_count": 368,
     "metadata": {},
     "output_type": "execute_result"
    }
   ],
   "source": [
    "df_outubro['status_prox_mes'].value_counts()"
   ]
  },
  {
   "cell_type": "code",
   "execution_count": 369,
   "metadata": {},
   "outputs": [
    {
     "data": {
      "text/html": [
       "<div>\n",
       "<style scoped>\n",
       "    .dataframe tbody tr th:only-of-type {\n",
       "        vertical-align: middle;\n",
       "    }\n",
       "\n",
       "    .dataframe tbody tr th {\n",
       "        vertical-align: top;\n",
       "    }\n",
       "\n",
       "    .dataframe thead th {\n",
       "        text-align: right;\n",
       "    }\n",
       "</style>\n",
       "<table border=\"1\" class=\"dataframe\">\n",
       "  <thead>\n",
       "    <tr style=\"text-align: right;\">\n",
       "      <th></th>\n",
       "      <th>id_person</th>\n",
       "      <th>birthdate</th>\n",
       "      <th>id_gender</th>\n",
       "      <th>id_marrital_status</th>\n",
       "      <th>id_health_plan</th>\n",
       "      <th>contract_start_date</th>\n",
       "      <th>contract_end_date</th>\n",
       "      <th>id_continuity_pf</th>\n",
       "      <th>Canal de Preferência</th>\n",
       "      <th>notes_count</th>\n",
       "      <th>...</th>\n",
       "      <th>Qde Total de Faturas Inadimpletes</th>\n",
       "      <th>Valor Total Inadimplência</th>\n",
       "      <th>Qde Perfis de Pagamento Inativos</th>\n",
       "      <th>Tempo até Sair</th>\n",
       "      <th>Tem Problema em Aberto</th>\n",
       "      <th>Tempo Última Mensagem Inbound</th>\n",
       "      <th>Tempo Última Mensagem Outbound</th>\n",
       "      <th>Quem Enviou Última Mensagem</th>\n",
       "      <th>status_prox_mes</th>\n",
       "      <th>Target</th>\n",
       "    </tr>\n",
       "  </thead>\n",
       "  <tbody>\n",
       "    <tr>\n",
       "      <th>0</th>\n",
       "      <td>483</td>\n",
       "      <td>76.0</td>\n",
       "      <td>64.0</td>\n",
       "      <td>80.0</td>\n",
       "      <td>453.0</td>\n",
       "      <td>2021-01-27</td>\n",
       "      <td>2023-08-26</td>\n",
       "      <td>NaN</td>\n",
       "      <td>NaN</td>\n",
       "      <td>3</td>\n",
       "      <td>...</td>\n",
       "      <td>NaN</td>\n",
       "      <td>NaN</td>\n",
       "      <td>NaN</td>\n",
       "      <td>941.0</td>\n",
       "      <td>0</td>\n",
       "      <td>183.0</td>\n",
       "      <td>75.0</td>\n",
       "      <td>Cliente</td>\n",
       "      <td>lost</td>\n",
       "      <td>False</td>\n",
       "    </tr>\n",
       "    <tr>\n",
       "      <th>1</th>\n",
       "      <td>1259</td>\n",
       "      <td>31.0</td>\n",
       "      <td>64.0</td>\n",
       "      <td>82.0</td>\n",
       "      <td>NaN</td>\n",
       "      <td>2021-05-10</td>\n",
       "      <td>2022-09-09</td>\n",
       "      <td>338.0</td>\n",
       "      <td>NaN</td>\n",
       "      <td>1</td>\n",
       "      <td>...</td>\n",
       "      <td>NaN</td>\n",
       "      <td>NaN</td>\n",
       "      <td>NaN</td>\n",
       "      <td>487.0</td>\n",
       "      <td>1</td>\n",
       "      <td>493.0</td>\n",
       "      <td>392.0</td>\n",
       "      <td>Cliente</td>\n",
       "      <td>lost</td>\n",
       "      <td>False</td>\n",
       "    </tr>\n",
       "    <tr>\n",
       "      <th>2</th>\n",
       "      <td>975</td>\n",
       "      <td>36.0</td>\n",
       "      <td>63.0</td>\n",
       "      <td>82.0</td>\n",
       "      <td>NaN</td>\n",
       "      <td>2021-06-28</td>\n",
       "      <td>2022-08-16</td>\n",
       "      <td>NaN</td>\n",
       "      <td>NaN</td>\n",
       "      <td>0</td>\n",
       "      <td>...</td>\n",
       "      <td>NaN</td>\n",
       "      <td>NaN</td>\n",
       "      <td>NaN</td>\n",
       "      <td>414.0</td>\n",
       "      <td>1</td>\n",
       "      <td>NaN</td>\n",
       "      <td>497.0</td>\n",
       "      <td>Empresa</td>\n",
       "      <td>lost</td>\n",
       "      <td>False</td>\n",
       "    </tr>\n",
       "    <tr>\n",
       "      <th>3</th>\n",
       "      <td>974</td>\n",
       "      <td>36.0</td>\n",
       "      <td>63.0</td>\n",
       "      <td>80.0</td>\n",
       "      <td>NaN</td>\n",
       "      <td>2021-06-28</td>\n",
       "      <td>2022-08-16</td>\n",
       "      <td>NaN</td>\n",
       "      <td>NaN</td>\n",
       "      <td>0</td>\n",
       "      <td>...</td>\n",
       "      <td>NaN</td>\n",
       "      <td>NaN</td>\n",
       "      <td>NaN</td>\n",
       "      <td>414.0</td>\n",
       "      <td>0</td>\n",
       "      <td>585.0</td>\n",
       "      <td>497.0</td>\n",
       "      <td>Cliente</td>\n",
       "      <td>lost</td>\n",
       "      <td>False</td>\n",
       "    </tr>\n",
       "    <tr>\n",
       "      <th>4</th>\n",
       "      <td>973</td>\n",
       "      <td>37.0</td>\n",
       "      <td>64.0</td>\n",
       "      <td>80.0</td>\n",
       "      <td>412.0</td>\n",
       "      <td>2021-06-28</td>\n",
       "      <td>2022-02-07</td>\n",
       "      <td>339.0</td>\n",
       "      <td>NaN</td>\n",
       "      <td>1</td>\n",
       "      <td>...</td>\n",
       "      <td>NaN</td>\n",
       "      <td>NaN</td>\n",
       "      <td>NaN</td>\n",
       "      <td>224.0</td>\n",
       "      <td>0</td>\n",
       "      <td>685.0</td>\n",
       "      <td>685.0</td>\n",
       "      <td>Empresa</td>\n",
       "      <td>lost</td>\n",
       "      <td>False</td>\n",
       "    </tr>\n",
       "    <tr>\n",
       "      <th>...</th>\n",
       "      <td>...</td>\n",
       "      <td>...</td>\n",
       "      <td>...</td>\n",
       "      <td>...</td>\n",
       "      <td>...</td>\n",
       "      <td>...</td>\n",
       "      <td>...</td>\n",
       "      <td>...</td>\n",
       "      <td>...</td>\n",
       "      <td>...</td>\n",
       "      <td>...</td>\n",
       "      <td>...</td>\n",
       "      <td>...</td>\n",
       "      <td>...</td>\n",
       "      <td>...</td>\n",
       "      <td>...</td>\n",
       "      <td>...</td>\n",
       "      <td>...</td>\n",
       "      <td>...</td>\n",
       "      <td>...</td>\n",
       "      <td>...</td>\n",
       "    </tr>\n",
       "    <tr>\n",
       "      <th>1018</th>\n",
       "      <td>5922</td>\n",
       "      <td>27.0</td>\n",
       "      <td>63.0</td>\n",
       "      <td>82.0</td>\n",
       "      <td>NaN</td>\n",
       "      <td>2023-10-26</td>\n",
       "      <td>NaT</td>\n",
       "      <td>NaN</td>\n",
       "      <td>NaN</td>\n",
       "      <td>2</td>\n",
       "      <td>...</td>\n",
       "      <td>0.0</td>\n",
       "      <td>120.0</td>\n",
       "      <td>NaN</td>\n",
       "      <td>NaN</td>\n",
       "      <td>0</td>\n",
       "      <td>39.0</td>\n",
       "      <td>36.0</td>\n",
       "      <td>Cliente</td>\n",
       "      <td>won</td>\n",
       "      <td>True</td>\n",
       "    </tr>\n",
       "    <tr>\n",
       "      <th>1019</th>\n",
       "      <td>5924</td>\n",
       "      <td>31.0</td>\n",
       "      <td>63.0</td>\n",
       "      <td>82.0</td>\n",
       "      <td>NaN</td>\n",
       "      <td>2023-10-30</td>\n",
       "      <td>NaT</td>\n",
       "      <td>NaN</td>\n",
       "      <td>NaN</td>\n",
       "      <td>0</td>\n",
       "      <td>...</td>\n",
       "      <td>NaN</td>\n",
       "      <td>NaN</td>\n",
       "      <td>NaN</td>\n",
       "      <td>NaN</td>\n",
       "      <td>0</td>\n",
       "      <td>34.0</td>\n",
       "      <td>34.0</td>\n",
       "      <td>Empresa</td>\n",
       "      <td>won</td>\n",
       "      <td>True</td>\n",
       "    </tr>\n",
       "    <tr>\n",
       "      <th>1020</th>\n",
       "      <td>5925</td>\n",
       "      <td>22.0</td>\n",
       "      <td>64.0</td>\n",
       "      <td>80.0</td>\n",
       "      <td>NaN</td>\n",
       "      <td>2023-10-30</td>\n",
       "      <td>NaT</td>\n",
       "      <td>NaN</td>\n",
       "      <td>239.0</td>\n",
       "      <td>0</td>\n",
       "      <td>...</td>\n",
       "      <td>NaN</td>\n",
       "      <td>NaN</td>\n",
       "      <td>NaN</td>\n",
       "      <td>NaN</td>\n",
       "      <td>0</td>\n",
       "      <td>36.0</td>\n",
       "      <td>36.0</td>\n",
       "      <td>Empresa</td>\n",
       "      <td>won</td>\n",
       "      <td>True</td>\n",
       "    </tr>\n",
       "    <tr>\n",
       "      <th>1021</th>\n",
       "      <td>5931</td>\n",
       "      <td>23.0</td>\n",
       "      <td>64.0</td>\n",
       "      <td>82.0</td>\n",
       "      <td>NaN</td>\n",
       "      <td>2023-10-31</td>\n",
       "      <td>NaT</td>\n",
       "      <td>NaN</td>\n",
       "      <td>NaN</td>\n",
       "      <td>0</td>\n",
       "      <td>...</td>\n",
       "      <td>NaN</td>\n",
       "      <td>NaN</td>\n",
       "      <td>NaN</td>\n",
       "      <td>NaN</td>\n",
       "      <td>0</td>\n",
       "      <td>NaN</td>\n",
       "      <td>34.0</td>\n",
       "      <td>Empresa</td>\n",
       "      <td>won</td>\n",
       "      <td>True</td>\n",
       "    </tr>\n",
       "    <tr>\n",
       "      <th>1022</th>\n",
       "      <td>5928</td>\n",
       "      <td>40.0</td>\n",
       "      <td>64.0</td>\n",
       "      <td>82.0</td>\n",
       "      <td>NaN</td>\n",
       "      <td>2023-10-31</td>\n",
       "      <td>NaT</td>\n",
       "      <td>NaN</td>\n",
       "      <td>239.0</td>\n",
       "      <td>0</td>\n",
       "      <td>...</td>\n",
       "      <td>NaN</td>\n",
       "      <td>NaN</td>\n",
       "      <td>NaN</td>\n",
       "      <td>NaN</td>\n",
       "      <td>0</td>\n",
       "      <td>34.0</td>\n",
       "      <td>34.0</td>\n",
       "      <td>Empresa</td>\n",
       "      <td>won</td>\n",
       "      <td>True</td>\n",
       "    </tr>\n",
       "  </tbody>\n",
       "</table>\n",
       "<p>1023 rows × 54 columns</p>\n",
       "</div>"
      ],
      "text/plain": [
       "      id_person  birthdate  id_gender  id_marrital_status  id_health_plan  \\\n",
       "0           483       76.0       64.0                80.0           453.0   \n",
       "1          1259       31.0       64.0                82.0             NaN   \n",
       "2           975       36.0       63.0                82.0             NaN   \n",
       "3           974       36.0       63.0                80.0             NaN   \n",
       "4           973       37.0       64.0                80.0           412.0   \n",
       "...         ...        ...        ...                 ...             ...   \n",
       "1018       5922       27.0       63.0                82.0             NaN   \n",
       "1019       5924       31.0       63.0                82.0             NaN   \n",
       "1020       5925       22.0       64.0                80.0             NaN   \n",
       "1021       5931       23.0       64.0                82.0             NaN   \n",
       "1022       5928       40.0       64.0                82.0             NaN   \n",
       "\n",
       "     contract_start_date contract_end_date  id_continuity_pf  \\\n",
       "0             2021-01-27        2023-08-26               NaN   \n",
       "1             2021-05-10        2022-09-09             338.0   \n",
       "2             2021-06-28        2022-08-16               NaN   \n",
       "3             2021-06-28        2022-08-16               NaN   \n",
       "4             2021-06-28        2022-02-07             339.0   \n",
       "...                  ...               ...               ...   \n",
       "1018          2023-10-26               NaT               NaN   \n",
       "1019          2023-10-30               NaT               NaN   \n",
       "1020          2023-10-30               NaT               NaN   \n",
       "1021          2023-10-31               NaT               NaN   \n",
       "1022          2023-10-31               NaT               NaN   \n",
       "\n",
       "      Canal de Preferência  notes_count  ...  \\\n",
       "0                      NaN            3  ...   \n",
       "1                      NaN            1  ...   \n",
       "2                      NaN            0  ...   \n",
       "3                      NaN            0  ...   \n",
       "4                      NaN            1  ...   \n",
       "...                    ...          ...  ...   \n",
       "1018                   NaN            2  ...   \n",
       "1019                   NaN            0  ...   \n",
       "1020                 239.0            0  ...   \n",
       "1021                   NaN            0  ...   \n",
       "1022                 239.0            0  ...   \n",
       "\n",
       "      Qde Total de Faturas Inadimpletes Valor Total Inadimplência  \\\n",
       "0                                   NaN                       NaN   \n",
       "1                                   NaN                       NaN   \n",
       "2                                   NaN                       NaN   \n",
       "3                                   NaN                       NaN   \n",
       "4                                   NaN                       NaN   \n",
       "...                                 ...                       ...   \n",
       "1018                                0.0                     120.0   \n",
       "1019                                NaN                       NaN   \n",
       "1020                                NaN                       NaN   \n",
       "1021                                NaN                       NaN   \n",
       "1022                                NaN                       NaN   \n",
       "\n",
       "      Qde Perfis de Pagamento Inativos Tempo até Sair Tem Problema em Aberto  \\\n",
       "0                                  NaN          941.0                      0   \n",
       "1                                  NaN          487.0                      1   \n",
       "2                                  NaN          414.0                      1   \n",
       "3                                  NaN          414.0                      0   \n",
       "4                                  NaN          224.0                      0   \n",
       "...                                ...            ...                    ...   \n",
       "1018                               NaN            NaN                      0   \n",
       "1019                               NaN            NaN                      0   \n",
       "1020                               NaN            NaN                      0   \n",
       "1021                               NaN            NaN                      0   \n",
       "1022                               NaN            NaN                      0   \n",
       "\n",
       "      Tempo Última Mensagem Inbound  Tempo Última Mensagem Outbound  \\\n",
       "0                             183.0                            75.0   \n",
       "1                             493.0                           392.0   \n",
       "2                               NaN                           497.0   \n",
       "3                             585.0                           497.0   \n",
       "4                             685.0                           685.0   \n",
       "...                             ...                             ...   \n",
       "1018                           39.0                            36.0   \n",
       "1019                           34.0                            34.0   \n",
       "1020                           36.0                            36.0   \n",
       "1021                            NaN                            34.0   \n",
       "1022                           34.0                            34.0   \n",
       "\n",
       "      Quem Enviou Última Mensagem  status_prox_mes Target  \n",
       "0                         Cliente             lost  False  \n",
       "1                         Cliente             lost  False  \n",
       "2                         Empresa             lost  False  \n",
       "3                         Cliente             lost  False  \n",
       "4                         Empresa             lost  False  \n",
       "...                           ...              ...    ...  \n",
       "1018                      Cliente              won   True  \n",
       "1019                      Empresa              won   True  \n",
       "1020                      Empresa              won   True  \n",
       "1021                      Empresa              won   True  \n",
       "1022                      Empresa              won   True  \n",
       "\n",
       "[1023 rows x 54 columns]"
      ]
     },
     "execution_count": 369,
     "metadata": {},
     "output_type": "execute_result"
    }
   ],
   "source": [
    "df_teste = df_outubro.copy()\n",
    "\n",
    "df_teste['Target'] = df_teste['status_prox_mes'] == 'won'\n",
    "df_teste"
   ]
  },
  {
   "cell_type": "code",
   "execution_count": 370,
   "metadata": {},
   "outputs": [
    {
     "data": {
      "text/html": [
       "<div>\n",
       "<style scoped>\n",
       "    .dataframe tbody tr th:only-of-type {\n",
       "        vertical-align: middle;\n",
       "    }\n",
       "\n",
       "    .dataframe tbody tr th {\n",
       "        vertical-align: top;\n",
       "    }\n",
       "\n",
       "    .dataframe thead th {\n",
       "        text-align: right;\n",
       "    }\n",
       "</style>\n",
       "<table border=\"1\" class=\"dataframe\">\n",
       "  <thead>\n",
       "    <tr style=\"text-align: right;\">\n",
       "      <th></th>\n",
       "      <th>id_person</th>\n",
       "      <th>birthdate</th>\n",
       "      <th>id_gender</th>\n",
       "      <th>id_marrital_status</th>\n",
       "      <th>id_health_plan</th>\n",
       "      <th>id_continuity_pf</th>\n",
       "      <th>Canal de Preferência</th>\n",
       "      <th>notes_count</th>\n",
       "      <th>done_activities_count</th>\n",
       "      <th>start_of_service</th>\n",
       "      <th>...</th>\n",
       "      <th>Valor Médio da Mensalidade</th>\n",
       "      <th>Qde Total de Faturas Pagas após Vencimento</th>\n",
       "      <th>Qde Total de Faturas Inadimpletes</th>\n",
       "      <th>Valor Total Inadimplência</th>\n",
       "      <th>Qde Perfis de Pagamento Inativos</th>\n",
       "      <th>Tempo até Sair</th>\n",
       "      <th>Tem Problema em Aberto</th>\n",
       "      <th>Tempo Última Mensagem Inbound</th>\n",
       "      <th>Tempo Última Mensagem Outbound</th>\n",
       "      <th>Target</th>\n",
       "    </tr>\n",
       "  </thead>\n",
       "  <tbody>\n",
       "    <tr>\n",
       "      <th>id_person</th>\n",
       "      <td>1.000000</td>\n",
       "      <td>0.077331</td>\n",
       "      <td>0.034635</td>\n",
       "      <td>0.093865</td>\n",
       "      <td>0.004016</td>\n",
       "      <td>0.167719</td>\n",
       "      <td>-0.167700</td>\n",
       "      <td>0.082847</td>\n",
       "      <td>-0.325319</td>\n",
       "      <td>-0.977527</td>\n",
       "      <td>...</td>\n",
       "      <td>0.122653</td>\n",
       "      <td>-0.248975</td>\n",
       "      <td>-0.150559</td>\n",
       "      <td>-0.107452</td>\n",
       "      <td>NaN</td>\n",
       "      <td>-0.543733</td>\n",
       "      <td>-0.107225</td>\n",
       "      <td>-0.677965</td>\n",
       "      <td>-0.645202</td>\n",
       "      <td>0.600077</td>\n",
       "    </tr>\n",
       "    <tr>\n",
       "      <th>birthdate</th>\n",
       "      <td>0.077331</td>\n",
       "      <td>1.000000</td>\n",
       "      <td>-0.039217</td>\n",
       "      <td>0.471947</td>\n",
       "      <td>-0.044009</td>\n",
       "      <td>0.066643</td>\n",
       "      <td>0.006928</td>\n",
       "      <td>0.058350</td>\n",
       "      <td>0.009952</td>\n",
       "      <td>-0.076557</td>\n",
       "      <td>...</td>\n",
       "      <td>-0.004564</td>\n",
       "      <td>-0.013554</td>\n",
       "      <td>-0.080121</td>\n",
       "      <td>-0.077298</td>\n",
       "      <td>NaN</td>\n",
       "      <td>0.020770</td>\n",
       "      <td>0.008075</td>\n",
       "      <td>-0.039616</td>\n",
       "      <td>-0.069185</td>\n",
       "      <td>0.091664</td>\n",
       "    </tr>\n",
       "    <tr>\n",
       "      <th>id_gender</th>\n",
       "      <td>0.034635</td>\n",
       "      <td>-0.039217</td>\n",
       "      <td>1.000000</td>\n",
       "      <td>-0.039880</td>\n",
       "      <td>-0.060768</td>\n",
       "      <td>-0.082891</td>\n",
       "      <td>0.274643</td>\n",
       "      <td>0.032363</td>\n",
       "      <td>0.232119</td>\n",
       "      <td>-0.042387</td>\n",
       "      <td>...</td>\n",
       "      <td>-0.068056</td>\n",
       "      <td>-0.014729</td>\n",
       "      <td>-0.021859</td>\n",
       "      <td>-0.025159</td>\n",
       "      <td>NaN</td>\n",
       "      <td>0.048840</td>\n",
       "      <td>0.021244</td>\n",
       "      <td>-0.056142</td>\n",
       "      <td>-0.041738</td>\n",
       "      <td>0.021976</td>\n",
       "    </tr>\n",
       "    <tr>\n",
       "      <th>id_marrital_status</th>\n",
       "      <td>0.093865</td>\n",
       "      <td>0.471947</td>\n",
       "      <td>-0.039880</td>\n",
       "      <td>1.000000</td>\n",
       "      <td>0.011882</td>\n",
       "      <td>0.032634</td>\n",
       "      <td>-0.047522</td>\n",
       "      <td>0.048231</td>\n",
       "      <td>0.000980</td>\n",
       "      <td>-0.087899</td>\n",
       "      <td>...</td>\n",
       "      <td>-0.010010</td>\n",
       "      <td>0.099968</td>\n",
       "      <td>-0.011966</td>\n",
       "      <td>-0.003238</td>\n",
       "      <td>NaN</td>\n",
       "      <td>-0.011990</td>\n",
       "      <td>-0.004839</td>\n",
       "      <td>-0.056535</td>\n",
       "      <td>-0.080110</td>\n",
       "      <td>0.079075</td>\n",
       "    </tr>\n",
       "    <tr>\n",
       "      <th>id_health_plan</th>\n",
       "      <td>0.004016</td>\n",
       "      <td>-0.044009</td>\n",
       "      <td>-0.060768</td>\n",
       "      <td>0.011882</td>\n",
       "      <td>1.000000</td>\n",
       "      <td>0.023627</td>\n",
       "      <td>-0.111456</td>\n",
       "      <td>0.026103</td>\n",
       "      <td>-0.024041</td>\n",
       "      <td>0.003107</td>\n",
       "      <td>...</td>\n",
       "      <td>0.112701</td>\n",
       "      <td>-0.074128</td>\n",
       "      <td>0.007661</td>\n",
       "      <td>0.004923</td>\n",
       "      <td>NaN</td>\n",
       "      <td>0.105388</td>\n",
       "      <td>0.008478</td>\n",
       "      <td>-0.034263</td>\n",
       "      <td>-0.028825</td>\n",
       "      <td>0.009123</td>\n",
       "    </tr>\n",
       "    <tr>\n",
       "      <th>id_continuity_pf</th>\n",
       "      <td>0.167719</td>\n",
       "      <td>0.066643</td>\n",
       "      <td>-0.082891</td>\n",
       "      <td>0.032634</td>\n",
       "      <td>0.023627</td>\n",
       "      <td>1.000000</td>\n",
       "      <td>-0.082775</td>\n",
       "      <td>-0.124081</td>\n",
       "      <td>-0.358531</td>\n",
       "      <td>-0.175278</td>\n",
       "      <td>...</td>\n",
       "      <td>-0.045841</td>\n",
       "      <td>-0.320332</td>\n",
       "      <td>-0.107274</td>\n",
       "      <td>-0.097718</td>\n",
       "      <td>NaN</td>\n",
       "      <td>-0.262249</td>\n",
       "      <td>-0.139613</td>\n",
       "      <td>0.322606</td>\n",
       "      <td>0.292903</td>\n",
       "      <td>-0.485506</td>\n",
       "    </tr>\n",
       "    <tr>\n",
       "      <th>Canal de Preferência</th>\n",
       "      <td>-0.167700</td>\n",
       "      <td>0.006928</td>\n",
       "      <td>0.274643</td>\n",
       "      <td>-0.047522</td>\n",
       "      <td>-0.111456</td>\n",
       "      <td>-0.082775</td>\n",
       "      <td>1.000000</td>\n",
       "      <td>0.123753</td>\n",
       "      <td>0.268101</td>\n",
       "      <td>0.148131</td>\n",
       "      <td>...</td>\n",
       "      <td>-0.127379</td>\n",
       "      <td>-0.021279</td>\n",
       "      <td>-0.066728</td>\n",
       "      <td>-0.073024</td>\n",
       "      <td>NaN</td>\n",
       "      <td>0.213627</td>\n",
       "      <td>-0.017064</td>\n",
       "      <td>0.060094</td>\n",
       "      <td>0.125658</td>\n",
       "      <td>-0.108518</td>\n",
       "    </tr>\n",
       "    <tr>\n",
       "      <th>notes_count</th>\n",
       "      <td>0.082847</td>\n",
       "      <td>0.058350</td>\n",
       "      <td>0.032363</td>\n",
       "      <td>0.048231</td>\n",
       "      <td>0.026103</td>\n",
       "      <td>-0.124081</td>\n",
       "      <td>0.123753</td>\n",
       "      <td>1.000000</td>\n",
       "      <td>0.273727</td>\n",
       "      <td>-0.117221</td>\n",
       "      <td>...</td>\n",
       "      <td>0.029014</td>\n",
       "      <td>0.127105</td>\n",
       "      <td>-0.094520</td>\n",
       "      <td>-0.095803</td>\n",
       "      <td>NaN</td>\n",
       "      <td>0.076886</td>\n",
       "      <td>0.217444</td>\n",
       "      <td>-0.317293</td>\n",
       "      <td>-0.284559</td>\n",
       "      <td>0.199456</td>\n",
       "    </tr>\n",
       "    <tr>\n",
       "      <th>done_activities_count</th>\n",
       "      <td>-0.325319</td>\n",
       "      <td>0.009952</td>\n",
       "      <td>0.232119</td>\n",
       "      <td>0.000980</td>\n",
       "      <td>-0.024041</td>\n",
       "      <td>-0.358531</td>\n",
       "      <td>0.268101</td>\n",
       "      <td>0.273727</td>\n",
       "      <td>1.000000</td>\n",
       "      <td>0.287149</td>\n",
       "      <td>...</td>\n",
       "      <td>-0.030198</td>\n",
       "      <td>0.137290</td>\n",
       "      <td>0.018666</td>\n",
       "      <td>0.006003</td>\n",
       "      <td>NaN</td>\n",
       "      <td>0.450151</td>\n",
       "      <td>0.171888</td>\n",
       "      <td>-0.106639</td>\n",
       "      <td>-0.167616</td>\n",
       "      <td>-0.017719</td>\n",
       "    </tr>\n",
       "    <tr>\n",
       "      <th>start_of_service</th>\n",
       "      <td>-0.977527</td>\n",
       "      <td>-0.076557</td>\n",
       "      <td>-0.042387</td>\n",
       "      <td>-0.087899</td>\n",
       "      <td>0.003107</td>\n",
       "      <td>-0.175278</td>\n",
       "      <td>0.148131</td>\n",
       "      <td>-0.117221</td>\n",
       "      <td>0.287149</td>\n",
       "      <td>1.000000</td>\n",
       "      <td>...</td>\n",
       "      <td>-0.103451</td>\n",
       "      <td>0.226206</td>\n",
       "      <td>0.159210</td>\n",
       "      <td>0.116419</td>\n",
       "      <td>NaN</td>\n",
       "      <td>0.526244</td>\n",
       "      <td>0.102557</td>\n",
       "      <td>0.701325</td>\n",
       "      <td>0.667671</td>\n",
       "      <td>-0.575881</td>\n",
       "    </tr>\n",
       "    <tr>\n",
       "      <th>add_time</th>\n",
       "      <td>-0.978706</td>\n",
       "      <td>-0.072749</td>\n",
       "      <td>-0.043374</td>\n",
       "      <td>-0.088421</td>\n",
       "      <td>-0.001270</td>\n",
       "      <td>-0.132109</td>\n",
       "      <td>0.157705</td>\n",
       "      <td>-0.109033</td>\n",
       "      <td>0.289991</td>\n",
       "      <td>0.987461</td>\n",
       "      <td>...</td>\n",
       "      <td>-0.114214</td>\n",
       "      <td>0.239735</td>\n",
       "      <td>0.172148</td>\n",
       "      <td>0.132440</td>\n",
       "      <td>NaN</td>\n",
       "      <td>0.531933</td>\n",
       "      <td>0.108803</td>\n",
       "      <td>0.703440</td>\n",
       "      <td>0.668502</td>\n",
       "      <td>-0.597206</td>\n",
       "    </tr>\n",
       "    <tr>\n",
       "      <th>id_label</th>\n",
       "      <td>0.367740</td>\n",
       "      <td>-0.018589</td>\n",
       "      <td>-0.035019</td>\n",
       "      <td>0.149784</td>\n",
       "      <td>0.031191</td>\n",
       "      <td>-0.185439</td>\n",
       "      <td>0.158878</td>\n",
       "      <td>0.022230</td>\n",
       "      <td>0.140235</td>\n",
       "      <td>-0.392523</td>\n",
       "      <td>...</td>\n",
       "      <td>-0.130332</td>\n",
       "      <td>0.109435</td>\n",
       "      <td>0.342997</td>\n",
       "      <td>0.342997</td>\n",
       "      <td>NaN</td>\n",
       "      <td>-0.160456</td>\n",
       "      <td>-0.042574</td>\n",
       "      <td>-0.432374</td>\n",
       "      <td>-0.456392</td>\n",
       "      <td>0.183147</td>\n",
       "    </tr>\n",
       "    <tr>\n",
       "      <th>won_time</th>\n",
       "      <td>-0.949326</td>\n",
       "      <td>-0.087855</td>\n",
       "      <td>-0.055719</td>\n",
       "      <td>-0.119618</td>\n",
       "      <td>-0.041045</td>\n",
       "      <td>-0.122489</td>\n",
       "      <td>0.001760</td>\n",
       "      <td>-0.198099</td>\n",
       "      <td>0.327540</td>\n",
       "      <td>0.954164</td>\n",
       "      <td>...</td>\n",
       "      <td>-0.122855</td>\n",
       "      <td>0.221598</td>\n",
       "      <td>0.151705</td>\n",
       "      <td>0.104991</td>\n",
       "      <td>NaN</td>\n",
       "      <td>0.473171</td>\n",
       "      <td>0.061149</td>\n",
       "      <td>0.658697</td>\n",
       "      <td>0.601762</td>\n",
       "      <td>-0.580515</td>\n",
       "    </tr>\n",
       "    <tr>\n",
       "      <th>lost_time.1</th>\n",
       "      <td>-0.960543</td>\n",
       "      <td>-0.017836</td>\n",
       "      <td>0.024169</td>\n",
       "      <td>0.021260</td>\n",
       "      <td>0.064605</td>\n",
       "      <td>-0.044050</td>\n",
       "      <td>0.502971</td>\n",
       "      <td>-0.039996</td>\n",
       "      <td>0.085450</td>\n",
       "      <td>0.960949</td>\n",
       "      <td>...</td>\n",
       "      <td>-0.859701</td>\n",
       "      <td>0.039800</td>\n",
       "      <td>0.375012</td>\n",
       "      <td>0.342644</td>\n",
       "      <td>NaN</td>\n",
       "      <td>0.346954</td>\n",
       "      <td>0.124820</td>\n",
       "      <td>0.854265</td>\n",
       "      <td>0.767475</td>\n",
       "      <td>-0.616752</td>\n",
       "    </tr>\n",
       "    <tr>\n",
       "      <th>Qde Todos Atendimentos</th>\n",
       "      <td>-0.099699</td>\n",
       "      <td>-0.094480</td>\n",
       "      <td>0.101548</td>\n",
       "      <td>-0.065256</td>\n",
       "      <td>0.001490</td>\n",
       "      <td>-0.560436</td>\n",
       "      <td>0.068572</td>\n",
       "      <td>0.269348</td>\n",
       "      <td>0.368003</td>\n",
       "      <td>0.068566</td>\n",
       "      <td>...</td>\n",
       "      <td>0.070278</td>\n",
       "      <td>0.061011</td>\n",
       "      <td>-0.116140</td>\n",
       "      <td>-0.120182</td>\n",
       "      <td>NaN</td>\n",
       "      <td>0.325608</td>\n",
       "      <td>0.237917</td>\n",
       "      <td>-0.360122</td>\n",
       "      <td>-0.292495</td>\n",
       "      <td>0.114017</td>\n",
       "    </tr>\n",
       "    <tr>\n",
       "      <th>Faltas Todos Atendimento</th>\n",
       "      <td>0.209956</td>\n",
       "      <td>0.020344</td>\n",
       "      <td>0.081895</td>\n",
       "      <td>0.043250</td>\n",
       "      <td>0.016877</td>\n",
       "      <td>-0.047440</td>\n",
       "      <td>-0.031238</td>\n",
       "      <td>0.271842</td>\n",
       "      <td>0.075577</td>\n",
       "      <td>-0.212459</td>\n",
       "      <td>...</td>\n",
       "      <td>0.140362</td>\n",
       "      <td>0.044389</td>\n",
       "      <td>-0.010730</td>\n",
       "      <td>-0.038228</td>\n",
       "      <td>NaN</td>\n",
       "      <td>0.044008</td>\n",
       "      <td>0.072432</td>\n",
       "      <td>-0.303891</td>\n",
       "      <td>-0.266845</td>\n",
       "      <td>0.187874</td>\n",
       "    </tr>\n",
       "    <tr>\n",
       "      <th>Qde Atendimento Médico</th>\n",
       "      <td>-0.216316</td>\n",
       "      <td>-0.019989</td>\n",
       "      <td>0.014200</td>\n",
       "      <td>0.001148</td>\n",
       "      <td>0.106006</td>\n",
       "      <td>-0.125487</td>\n",
       "      <td>0.107322</td>\n",
       "      <td>0.119684</td>\n",
       "      <td>0.402005</td>\n",
       "      <td>0.224949</td>\n",
       "      <td>...</td>\n",
       "      <td>0.756961</td>\n",
       "      <td>-0.106543</td>\n",
       "      <td>-0.059187</td>\n",
       "      <td>-0.028190</td>\n",
       "      <td>NaN</td>\n",
       "      <td>0.325232</td>\n",
       "      <td>0.123187</td>\n",
       "      <td>-0.116360</td>\n",
       "      <td>-0.087833</td>\n",
       "      <td>-0.032080</td>\n",
       "    </tr>\n",
       "    <tr>\n",
       "      <th>Faltas Atendimento Médico</th>\n",
       "      <td>0.252864</td>\n",
       "      <td>0.059235</td>\n",
       "      <td>-0.026007</td>\n",
       "      <td>0.089371</td>\n",
       "      <td>0.003382</td>\n",
       "      <td>0.077850</td>\n",
       "      <td>-0.053062</td>\n",
       "      <td>-0.044305</td>\n",
       "      <td>-0.167880</td>\n",
       "      <td>-0.214655</td>\n",
       "      <td>...</td>\n",
       "      <td>0.075725</td>\n",
       "      <td>-0.076043</td>\n",
       "      <td>-0.032530</td>\n",
       "      <td>-0.033563</td>\n",
       "      <td>NaN</td>\n",
       "      <td>-0.161408</td>\n",
       "      <td>-0.031613</td>\n",
       "      <td>-0.097444</td>\n",
       "      <td>-0.133510</td>\n",
       "      <td>0.168671</td>\n",
       "    </tr>\n",
       "    <tr>\n",
       "      <th>Qde Atendimentos Acolhimento</th>\n",
       "      <td>-0.044330</td>\n",
       "      <td>-0.041800</td>\n",
       "      <td>0.156569</td>\n",
       "      <td>-0.074581</td>\n",
       "      <td>0.043918</td>\n",
       "      <td>-0.196560</td>\n",
       "      <td>0.187060</td>\n",
       "      <td>0.130995</td>\n",
       "      <td>0.189728</td>\n",
       "      <td>0.000548</td>\n",
       "      <td>...</td>\n",
       "      <td>0.039054</td>\n",
       "      <td>-0.051978</td>\n",
       "      <td>-0.064697</td>\n",
       "      <td>-0.042766</td>\n",
       "      <td>NaN</td>\n",
       "      <td>-0.054277</td>\n",
       "      <td>0.157746</td>\n",
       "      <td>-0.121396</td>\n",
       "      <td>-0.085857</td>\n",
       "      <td>-0.018981</td>\n",
       "    </tr>\n",
       "    <tr>\n",
       "      <th>Faltas Acolhimento</th>\n",
       "      <td>0.294670</td>\n",
       "      <td>0.090751</td>\n",
       "      <td>-0.031245</td>\n",
       "      <td>0.010504</td>\n",
       "      <td>-0.022097</td>\n",
       "      <td>0.094235</td>\n",
       "      <td>-0.055371</td>\n",
       "      <td>0.002460</td>\n",
       "      <td>-0.124285</td>\n",
       "      <td>-0.257606</td>\n",
       "      <td>...</td>\n",
       "      <td>0.269007</td>\n",
       "      <td>-0.081911</td>\n",
       "      <td>0.012459</td>\n",
       "      <td>0.035620</td>\n",
       "      <td>NaN</td>\n",
       "      <td>-0.133698</td>\n",
       "      <td>-0.172228</td>\n",
       "      <td>-0.154222</td>\n",
       "      <td>-0.132166</td>\n",
       "      <td>0.180365</td>\n",
       "    </tr>\n",
       "    <tr>\n",
       "      <th>Qde Psicoterapia</th>\n",
       "      <td>-0.314698</td>\n",
       "      <td>-0.037678</td>\n",
       "      <td>0.038710</td>\n",
       "      <td>-0.075527</td>\n",
       "      <td>-0.031014</td>\n",
       "      <td>-0.583651</td>\n",
       "      <td>0.069639</td>\n",
       "      <td>0.079150</td>\n",
       "      <td>0.277694</td>\n",
       "      <td>0.297481</td>\n",
       "      <td>...</td>\n",
       "      <td>-0.035036</td>\n",
       "      <td>0.066315</td>\n",
       "      <td>-0.108905</td>\n",
       "      <td>-0.074381</td>\n",
       "      <td>NaN</td>\n",
       "      <td>0.532124</td>\n",
       "      <td>0.059969</td>\n",
       "      <td>-0.283151</td>\n",
       "      <td>-0.255501</td>\n",
       "      <td>0.134780</td>\n",
       "    </tr>\n",
       "    <tr>\n",
       "      <th>Físico</th>\n",
       "      <td>-0.008865</td>\n",
       "      <td>0.064307</td>\n",
       "      <td>-0.102452</td>\n",
       "      <td>0.064014</td>\n",
       "      <td>0.011764</td>\n",
       "      <td>0.106027</td>\n",
       "      <td>-0.094131</td>\n",
       "      <td>-0.045362</td>\n",
       "      <td>-0.014485</td>\n",
       "      <td>0.023393</td>\n",
       "      <td>...</td>\n",
       "      <td>-0.015841</td>\n",
       "      <td>0.098884</td>\n",
       "      <td>-0.063936</td>\n",
       "      <td>-0.085292</td>\n",
       "      <td>NaN</td>\n",
       "      <td>0.175557</td>\n",
       "      <td>-0.152352</td>\n",
       "      <td>0.042675</td>\n",
       "      <td>0.010591</td>\n",
       "      <td>0.055011</td>\n",
       "    </tr>\n",
       "    <tr>\n",
       "      <th>Psicológico</th>\n",
       "      <td>0.066065</td>\n",
       "      <td>0.167767</td>\n",
       "      <td>0.002993</td>\n",
       "      <td>0.083255</td>\n",
       "      <td>-0.000772</td>\n",
       "      <td>0.069311</td>\n",
       "      <td>-0.035697</td>\n",
       "      <td>-0.043616</td>\n",
       "      <td>-0.036484</td>\n",
       "      <td>-0.041517</td>\n",
       "      <td>...</td>\n",
       "      <td>-0.186748</td>\n",
       "      <td>0.044268</td>\n",
       "      <td>0.019670</td>\n",
       "      <td>0.001758</td>\n",
       "      <td>NaN</td>\n",
       "      <td>0.141707</td>\n",
       "      <td>-0.130512</td>\n",
       "      <td>0.011632</td>\n",
       "      <td>-0.033002</td>\n",
       "      <td>0.097387</td>\n",
       "    </tr>\n",
       "    <tr>\n",
       "      <th>Social</th>\n",
       "      <td>-0.025928</td>\n",
       "      <td>-0.016217</td>\n",
       "      <td>0.017827</td>\n",
       "      <td>-0.056360</td>\n",
       "      <td>0.087635</td>\n",
       "      <td>0.108043</td>\n",
       "      <td>-0.032884</td>\n",
       "      <td>-0.029437</td>\n",
       "      <td>-0.009129</td>\n",
       "      <td>0.037382</td>\n",
       "      <td>...</td>\n",
       "      <td>-0.035479</td>\n",
       "      <td>-0.011549</td>\n",
       "      <td>0.052695</td>\n",
       "      <td>0.036759</td>\n",
       "      <td>NaN</td>\n",
       "      <td>0.037061</td>\n",
       "      <td>-0.095356</td>\n",
       "      <td>0.078646</td>\n",
       "      <td>0.048188</td>\n",
       "      <td>-0.014313</td>\n",
       "    </tr>\n",
       "    <tr>\n",
       "      <th>Ambiental</th>\n",
       "      <td>-0.161242</td>\n",
       "      <td>-0.000100</td>\n",
       "      <td>-0.049799</td>\n",
       "      <td>0.032498</td>\n",
       "      <td>0.102567</td>\n",
       "      <td>0.089783</td>\n",
       "      <td>0.014707</td>\n",
       "      <td>-0.049115</td>\n",
       "      <td>-0.005331</td>\n",
       "      <td>0.165776</td>\n",
       "      <td>...</td>\n",
       "      <td>-0.158285</td>\n",
       "      <td>0.053973</td>\n",
       "      <td>0.019084</td>\n",
       "      <td>-0.003462</td>\n",
       "      <td>NaN</td>\n",
       "      <td>0.158114</td>\n",
       "      <td>-0.029899</td>\n",
       "      <td>0.154284</td>\n",
       "      <td>0.127908</td>\n",
       "      <td>-0.090183</td>\n",
       "    </tr>\n",
       "    <tr>\n",
       "      <th>Mensagens Inbound</th>\n",
       "      <td>-0.270960</td>\n",
       "      <td>-0.043430</td>\n",
       "      <td>0.068046</td>\n",
       "      <td>-0.042723</td>\n",
       "      <td>0.018639</td>\n",
       "      <td>-0.486883</td>\n",
       "      <td>0.106101</td>\n",
       "      <td>0.225692</td>\n",
       "      <td>0.527242</td>\n",
       "      <td>0.255544</td>\n",
       "      <td>...</td>\n",
       "      <td>-0.066076</td>\n",
       "      <td>0.102136</td>\n",
       "      <td>-0.000014</td>\n",
       "      <td>-0.015656</td>\n",
       "      <td>NaN</td>\n",
       "      <td>0.364668</td>\n",
       "      <td>0.292041</td>\n",
       "      <td>-0.194482</td>\n",
       "      <td>-0.130201</td>\n",
       "      <td>-0.037159</td>\n",
       "    </tr>\n",
       "    <tr>\n",
       "      <th>Mensagens Outbound</th>\n",
       "      <td>-0.305960</td>\n",
       "      <td>-0.063668</td>\n",
       "      <td>0.061686</td>\n",
       "      <td>-0.060809</td>\n",
       "      <td>-0.001893</td>\n",
       "      <td>-0.593635</td>\n",
       "      <td>0.083843</td>\n",
       "      <td>0.259302</td>\n",
       "      <td>0.582888</td>\n",
       "      <td>0.293681</td>\n",
       "      <td>...</td>\n",
       "      <td>-0.092884</td>\n",
       "      <td>0.130369</td>\n",
       "      <td>0.004683</td>\n",
       "      <td>-0.011753</td>\n",
       "      <td>NaN</td>\n",
       "      <td>0.416195</td>\n",
       "      <td>0.310634</td>\n",
       "      <td>-0.208153</td>\n",
       "      <td>-0.153487</td>\n",
       "      <td>-0.035798</td>\n",
       "    </tr>\n",
       "    <tr>\n",
       "      <th>Ligações Inbound</th>\n",
       "      <td>-0.189449</td>\n",
       "      <td>0.192436</td>\n",
       "      <td>-0.070467</td>\n",
       "      <td>0.016534</td>\n",
       "      <td>-0.029674</td>\n",
       "      <td>-0.305114</td>\n",
       "      <td>-0.103407</td>\n",
       "      <td>0.215982</td>\n",
       "      <td>0.436170</td>\n",
       "      <td>0.208709</td>\n",
       "      <td>...</td>\n",
       "      <td>0.015173</td>\n",
       "      <td>-0.019037</td>\n",
       "      <td>-0.137286</td>\n",
       "      <td>-0.121133</td>\n",
       "      <td>NaN</td>\n",
       "      <td>0.290278</td>\n",
       "      <td>0.106082</td>\n",
       "      <td>-0.036113</td>\n",
       "      <td>-0.030488</td>\n",
       "      <td>-0.139427</td>\n",
       "    </tr>\n",
       "    <tr>\n",
       "      <th>Ligações Outbound</th>\n",
       "      <td>-0.184835</td>\n",
       "      <td>0.211966</td>\n",
       "      <td>-0.018771</td>\n",
       "      <td>0.146486</td>\n",
       "      <td>-0.004418</td>\n",
       "      <td>0.074707</td>\n",
       "      <td>0.089309</td>\n",
       "      <td>-0.010299</td>\n",
       "      <td>0.256385</td>\n",
       "      <td>0.199340</td>\n",
       "      <td>...</td>\n",
       "      <td>-0.015595</td>\n",
       "      <td>-0.017708</td>\n",
       "      <td>-0.097466</td>\n",
       "      <td>-0.097534</td>\n",
       "      <td>NaN</td>\n",
       "      <td>0.117208</td>\n",
       "      <td>0.009015</td>\n",
       "      <td>0.146028</td>\n",
       "      <td>0.097123</td>\n",
       "      <td>-0.069185</td>\n",
       "    </tr>\n",
       "    <tr>\n",
       "      <th>Qde Total de Faturas</th>\n",
       "      <td>-0.462921</td>\n",
       "      <td>0.177310</td>\n",
       "      <td>0.077763</td>\n",
       "      <td>0.208973</td>\n",
       "      <td>0.020246</td>\n",
       "      <td>-0.309885</td>\n",
       "      <td>0.183115</td>\n",
       "      <td>0.264434</td>\n",
       "      <td>0.330083</td>\n",
       "      <td>0.433889</td>\n",
       "      <td>...</td>\n",
       "      <td>-0.182908</td>\n",
       "      <td>0.404905</td>\n",
       "      <td>0.024601</td>\n",
       "      <td>-0.001983</td>\n",
       "      <td>NaN</td>\n",
       "      <td>0.720396</td>\n",
       "      <td>0.149888</td>\n",
       "      <td>-0.164221</td>\n",
       "      <td>-0.203535</td>\n",
       "      <td>0.065602</td>\n",
       "    </tr>\n",
       "    <tr>\n",
       "      <th>Qde Total de Tentativas de Cobrança</th>\n",
       "      <td>-0.419615</td>\n",
       "      <td>0.107082</td>\n",
       "      <td>0.008927</td>\n",
       "      <td>0.170109</td>\n",
       "      <td>-0.010955</td>\n",
       "      <td>-0.407068</td>\n",
       "      <td>0.063676</td>\n",
       "      <td>0.175860</td>\n",
       "      <td>0.213720</td>\n",
       "      <td>0.406445</td>\n",
       "      <td>...</td>\n",
       "      <td>-0.205884</td>\n",
       "      <td>0.615678</td>\n",
       "      <td>0.268615</td>\n",
       "      <td>0.203156</td>\n",
       "      <td>NaN</td>\n",
       "      <td>0.480857</td>\n",
       "      <td>0.052842</td>\n",
       "      <td>-0.005850</td>\n",
       "      <td>-0.077795</td>\n",
       "      <td>-0.061941</td>\n",
       "    </tr>\n",
       "    <tr>\n",
       "      <th>Valor Médio da Mensalidade</th>\n",
       "      <td>0.122653</td>\n",
       "      <td>-0.004564</td>\n",
       "      <td>-0.068056</td>\n",
       "      <td>-0.010010</td>\n",
       "      <td>0.112701</td>\n",
       "      <td>-0.045841</td>\n",
       "      <td>-0.127379</td>\n",
       "      <td>0.029014</td>\n",
       "      <td>-0.030198</td>\n",
       "      <td>-0.103451</td>\n",
       "      <td>...</td>\n",
       "      <td>1.000000</td>\n",
       "      <td>-0.109379</td>\n",
       "      <td>-0.044992</td>\n",
       "      <td>0.017781</td>\n",
       "      <td>NaN</td>\n",
       "      <td>0.164939</td>\n",
       "      <td>-0.027014</td>\n",
       "      <td>-0.226011</td>\n",
       "      <td>-0.223280</td>\n",
       "      <td>0.082434</td>\n",
       "    </tr>\n",
       "    <tr>\n",
       "      <th>Qde Total de Faturas Pagas após Vencimento</th>\n",
       "      <td>-0.248975</td>\n",
       "      <td>-0.013554</td>\n",
       "      <td>-0.014729</td>\n",
       "      <td>0.099968</td>\n",
       "      <td>-0.074128</td>\n",
       "      <td>-0.320332</td>\n",
       "      <td>-0.021279</td>\n",
       "      <td>0.127105</td>\n",
       "      <td>0.137290</td>\n",
       "      <td>0.226206</td>\n",
       "      <td>...</td>\n",
       "      <td>-0.109379</td>\n",
       "      <td>1.000000</td>\n",
       "      <td>0.067731</td>\n",
       "      <td>0.047614</td>\n",
       "      <td>NaN</td>\n",
       "      <td>0.314485</td>\n",
       "      <td>0.104737</td>\n",
       "      <td>-0.019670</td>\n",
       "      <td>-0.039097</td>\n",
       "      <td>-0.077797</td>\n",
       "    </tr>\n",
       "    <tr>\n",
       "      <th>Qde Total de Faturas Inadimpletes</th>\n",
       "      <td>-0.150559</td>\n",
       "      <td>-0.080121</td>\n",
       "      <td>-0.021859</td>\n",
       "      <td>-0.011966</td>\n",
       "      <td>0.007661</td>\n",
       "      <td>-0.107274</td>\n",
       "      <td>-0.066728</td>\n",
       "      <td>-0.094520</td>\n",
       "      <td>0.018666</td>\n",
       "      <td>0.159210</td>\n",
       "      <td>...</td>\n",
       "      <td>-0.044992</td>\n",
       "      <td>0.067731</td>\n",
       "      <td>1.000000</td>\n",
       "      <td>0.954586</td>\n",
       "      <td>NaN</td>\n",
       "      <td>0.042150</td>\n",
       "      <td>-0.096870</td>\n",
       "      <td>0.265937</td>\n",
       "      <td>0.199234</td>\n",
       "      <td>-0.203669</td>\n",
       "    </tr>\n",
       "    <tr>\n",
       "      <th>Valor Total Inadimplência</th>\n",
       "      <td>-0.107452</td>\n",
       "      <td>-0.077298</td>\n",
       "      <td>-0.025159</td>\n",
       "      <td>-0.003238</td>\n",
       "      <td>0.004923</td>\n",
       "      <td>-0.097718</td>\n",
       "      <td>-0.073024</td>\n",
       "      <td>-0.095803</td>\n",
       "      <td>0.006003</td>\n",
       "      <td>0.116419</td>\n",
       "      <td>...</td>\n",
       "      <td>0.017781</td>\n",
       "      <td>0.047614</td>\n",
       "      <td>0.954586</td>\n",
       "      <td>1.000000</td>\n",
       "      <td>NaN</td>\n",
       "      <td>0.053821</td>\n",
       "      <td>-0.084261</td>\n",
       "      <td>0.224137</td>\n",
       "      <td>0.166486</td>\n",
       "      <td>-0.177830</td>\n",
       "    </tr>\n",
       "    <tr>\n",
       "      <th>Qde Perfis de Pagamento Inativos</th>\n",
       "      <td>NaN</td>\n",
       "      <td>NaN</td>\n",
       "      <td>NaN</td>\n",
       "      <td>NaN</td>\n",
       "      <td>NaN</td>\n",
       "      <td>NaN</td>\n",
       "      <td>NaN</td>\n",
       "      <td>NaN</td>\n",
       "      <td>NaN</td>\n",
       "      <td>NaN</td>\n",
       "      <td>...</td>\n",
       "      <td>NaN</td>\n",
       "      <td>NaN</td>\n",
       "      <td>NaN</td>\n",
       "      <td>NaN</td>\n",
       "      <td>NaN</td>\n",
       "      <td>NaN</td>\n",
       "      <td>NaN</td>\n",
       "      <td>NaN</td>\n",
       "      <td>NaN</td>\n",
       "      <td>NaN</td>\n",
       "    </tr>\n",
       "    <tr>\n",
       "      <th>Tempo até Sair</th>\n",
       "      <td>-0.543733</td>\n",
       "      <td>0.020770</td>\n",
       "      <td>0.048840</td>\n",
       "      <td>-0.011990</td>\n",
       "      <td>0.105388</td>\n",
       "      <td>-0.262249</td>\n",
       "      <td>0.213627</td>\n",
       "      <td>0.076886</td>\n",
       "      <td>0.450151</td>\n",
       "      <td>0.526244</td>\n",
       "      <td>...</td>\n",
       "      <td>0.164939</td>\n",
       "      <td>0.314485</td>\n",
       "      <td>0.042150</td>\n",
       "      <td>0.053821</td>\n",
       "      <td>NaN</td>\n",
       "      <td>1.000000</td>\n",
       "      <td>0.233132</td>\n",
       "      <td>-0.087868</td>\n",
       "      <td>-0.217997</td>\n",
       "      <td>NaN</td>\n",
       "    </tr>\n",
       "    <tr>\n",
       "      <th>Tem Problema em Aberto</th>\n",
       "      <td>-0.107225</td>\n",
       "      <td>0.008075</td>\n",
       "      <td>0.021244</td>\n",
       "      <td>-0.004839</td>\n",
       "      <td>0.008478</td>\n",
       "      <td>-0.139613</td>\n",
       "      <td>-0.017064</td>\n",
       "      <td>0.217444</td>\n",
       "      <td>0.171888</td>\n",
       "      <td>0.102557</td>\n",
       "      <td>...</td>\n",
       "      <td>-0.027014</td>\n",
       "      <td>0.104737</td>\n",
       "      <td>-0.096870</td>\n",
       "      <td>-0.084261</td>\n",
       "      <td>NaN</td>\n",
       "      <td>0.233132</td>\n",
       "      <td>1.000000</td>\n",
       "      <td>-0.117334</td>\n",
       "      <td>-0.068546</td>\n",
       "      <td>-0.047111</td>\n",
       "    </tr>\n",
       "    <tr>\n",
       "      <th>Tempo Última Mensagem Inbound</th>\n",
       "      <td>-0.677965</td>\n",
       "      <td>-0.039616</td>\n",
       "      <td>-0.056142</td>\n",
       "      <td>-0.056535</td>\n",
       "      <td>-0.034263</td>\n",
       "      <td>0.322606</td>\n",
       "      <td>0.060094</td>\n",
       "      <td>-0.317293</td>\n",
       "      <td>-0.106639</td>\n",
       "      <td>0.701325</td>\n",
       "      <td>...</td>\n",
       "      <td>-0.226011</td>\n",
       "      <td>-0.019670</td>\n",
       "      <td>0.265937</td>\n",
       "      <td>0.224137</td>\n",
       "      <td>NaN</td>\n",
       "      <td>-0.087868</td>\n",
       "      <td>-0.117334</td>\n",
       "      <td>1.000000</td>\n",
       "      <td>0.900855</td>\n",
       "      <td>-0.653474</td>\n",
       "    </tr>\n",
       "    <tr>\n",
       "      <th>Tempo Última Mensagem Outbound</th>\n",
       "      <td>-0.645202</td>\n",
       "      <td>-0.069185</td>\n",
       "      <td>-0.041738</td>\n",
       "      <td>-0.080110</td>\n",
       "      <td>-0.028825</td>\n",
       "      <td>0.292903</td>\n",
       "      <td>0.125658</td>\n",
       "      <td>-0.284559</td>\n",
       "      <td>-0.167616</td>\n",
       "      <td>0.667671</td>\n",
       "      <td>...</td>\n",
       "      <td>-0.223280</td>\n",
       "      <td>-0.039097</td>\n",
       "      <td>0.199234</td>\n",
       "      <td>0.166486</td>\n",
       "      <td>NaN</td>\n",
       "      <td>-0.217997</td>\n",
       "      <td>-0.068546</td>\n",
       "      <td>0.900855</td>\n",
       "      <td>1.000000</td>\n",
       "      <td>-0.736047</td>\n",
       "    </tr>\n",
       "    <tr>\n",
       "      <th>Target</th>\n",
       "      <td>0.600077</td>\n",
       "      <td>0.091664</td>\n",
       "      <td>0.021976</td>\n",
       "      <td>0.079075</td>\n",
       "      <td>0.009123</td>\n",
       "      <td>-0.485506</td>\n",
       "      <td>-0.108518</td>\n",
       "      <td>0.199456</td>\n",
       "      <td>-0.017719</td>\n",
       "      <td>-0.575881</td>\n",
       "      <td>...</td>\n",
       "      <td>0.082434</td>\n",
       "      <td>-0.077797</td>\n",
       "      <td>-0.203669</td>\n",
       "      <td>-0.177830</td>\n",
       "      <td>NaN</td>\n",
       "      <td>NaN</td>\n",
       "      <td>-0.047111</td>\n",
       "      <td>-0.653474</td>\n",
       "      <td>-0.736047</td>\n",
       "      <td>1.000000</td>\n",
       "    </tr>\n",
       "  </tbody>\n",
       "</table>\n",
       "<p>41 rows × 41 columns</p>\n",
       "</div>"
      ],
      "text/plain": [
       "                                            id_person  birthdate  id_gender  \\\n",
       "id_person                                    1.000000   0.077331   0.034635   \n",
       "birthdate                                    0.077331   1.000000  -0.039217   \n",
       "id_gender                                    0.034635  -0.039217   1.000000   \n",
       "id_marrital_status                           0.093865   0.471947  -0.039880   \n",
       "id_health_plan                               0.004016  -0.044009  -0.060768   \n",
       "id_continuity_pf                             0.167719   0.066643  -0.082891   \n",
       "Canal de Preferência                        -0.167700   0.006928   0.274643   \n",
       "notes_count                                  0.082847   0.058350   0.032363   \n",
       "done_activities_count                       -0.325319   0.009952   0.232119   \n",
       "start_of_service                            -0.977527  -0.076557  -0.042387   \n",
       "add_time                                    -0.978706  -0.072749  -0.043374   \n",
       "id_label                                     0.367740  -0.018589  -0.035019   \n",
       "won_time                                    -0.949326  -0.087855  -0.055719   \n",
       "lost_time.1                                 -0.960543  -0.017836   0.024169   \n",
       "Qde Todos Atendimentos                      -0.099699  -0.094480   0.101548   \n",
       "Faltas Todos Atendimento                     0.209956   0.020344   0.081895   \n",
       "Qde Atendimento Médico                      -0.216316  -0.019989   0.014200   \n",
       "Faltas Atendimento Médico                    0.252864   0.059235  -0.026007   \n",
       "Qde Atendimentos Acolhimento                -0.044330  -0.041800   0.156569   \n",
       "Faltas Acolhimento                           0.294670   0.090751  -0.031245   \n",
       "Qde Psicoterapia                            -0.314698  -0.037678   0.038710   \n",
       "Físico                                      -0.008865   0.064307  -0.102452   \n",
       "Psicológico                                  0.066065   0.167767   0.002993   \n",
       "Social                                      -0.025928  -0.016217   0.017827   \n",
       "Ambiental                                   -0.161242  -0.000100  -0.049799   \n",
       "Mensagens Inbound                           -0.270960  -0.043430   0.068046   \n",
       "Mensagens Outbound                          -0.305960  -0.063668   0.061686   \n",
       "Ligações Inbound                            -0.189449   0.192436  -0.070467   \n",
       "Ligações Outbound                           -0.184835   0.211966  -0.018771   \n",
       "Qde Total de Faturas                        -0.462921   0.177310   0.077763   \n",
       "Qde Total de Tentativas de Cobrança         -0.419615   0.107082   0.008927   \n",
       "Valor Médio da Mensalidade                   0.122653  -0.004564  -0.068056   \n",
       "Qde Total de Faturas Pagas após Vencimento  -0.248975  -0.013554  -0.014729   \n",
       "Qde Total de Faturas Inadimpletes           -0.150559  -0.080121  -0.021859   \n",
       "Valor Total Inadimplência                   -0.107452  -0.077298  -0.025159   \n",
       "Qde Perfis de Pagamento Inativos                  NaN        NaN        NaN   \n",
       "Tempo até Sair                              -0.543733   0.020770   0.048840   \n",
       "Tem Problema em Aberto                      -0.107225   0.008075   0.021244   \n",
       "Tempo Última Mensagem Inbound               -0.677965  -0.039616  -0.056142   \n",
       "Tempo Última Mensagem Outbound              -0.645202  -0.069185  -0.041738   \n",
       "Target                                       0.600077   0.091664   0.021976   \n",
       "\n",
       "                                            id_marrital_status  \\\n",
       "id_person                                             0.093865   \n",
       "birthdate                                             0.471947   \n",
       "id_gender                                            -0.039880   \n",
       "id_marrital_status                                    1.000000   \n",
       "id_health_plan                                        0.011882   \n",
       "id_continuity_pf                                      0.032634   \n",
       "Canal de Preferência                                 -0.047522   \n",
       "notes_count                                           0.048231   \n",
       "done_activities_count                                 0.000980   \n",
       "start_of_service                                     -0.087899   \n",
       "add_time                                             -0.088421   \n",
       "id_label                                              0.149784   \n",
       "won_time                                             -0.119618   \n",
       "lost_time.1                                           0.021260   \n",
       "Qde Todos Atendimentos                               -0.065256   \n",
       "Faltas Todos Atendimento                              0.043250   \n",
       "Qde Atendimento Médico                                0.001148   \n",
       "Faltas Atendimento Médico                             0.089371   \n",
       "Qde Atendimentos Acolhimento                         -0.074581   \n",
       "Faltas Acolhimento                                    0.010504   \n",
       "Qde Psicoterapia                                     -0.075527   \n",
       "Físico                                                0.064014   \n",
       "Psicológico                                           0.083255   \n",
       "Social                                               -0.056360   \n",
       "Ambiental                                             0.032498   \n",
       "Mensagens Inbound                                    -0.042723   \n",
       "Mensagens Outbound                                   -0.060809   \n",
       "Ligações Inbound                                      0.016534   \n",
       "Ligações Outbound                                     0.146486   \n",
       "Qde Total de Faturas                                  0.208973   \n",
       "Qde Total de Tentativas de Cobrança                   0.170109   \n",
       "Valor Médio da Mensalidade                           -0.010010   \n",
       "Qde Total de Faturas Pagas após Vencimento            0.099968   \n",
       "Qde Total de Faturas Inadimpletes                    -0.011966   \n",
       "Valor Total Inadimplência                            -0.003238   \n",
       "Qde Perfis de Pagamento Inativos                           NaN   \n",
       "Tempo até Sair                                       -0.011990   \n",
       "Tem Problema em Aberto                               -0.004839   \n",
       "Tempo Última Mensagem Inbound                        -0.056535   \n",
       "Tempo Última Mensagem Outbound                       -0.080110   \n",
       "Target                                                0.079075   \n",
       "\n",
       "                                            id_health_plan  id_continuity_pf  \\\n",
       "id_person                                         0.004016          0.167719   \n",
       "birthdate                                        -0.044009          0.066643   \n",
       "id_gender                                        -0.060768         -0.082891   \n",
       "id_marrital_status                                0.011882          0.032634   \n",
       "id_health_plan                                    1.000000          0.023627   \n",
       "id_continuity_pf                                  0.023627          1.000000   \n",
       "Canal de Preferência                             -0.111456         -0.082775   \n",
       "notes_count                                       0.026103         -0.124081   \n",
       "done_activities_count                            -0.024041         -0.358531   \n",
       "start_of_service                                  0.003107         -0.175278   \n",
       "add_time                                         -0.001270         -0.132109   \n",
       "id_label                                          0.031191         -0.185439   \n",
       "won_time                                         -0.041045         -0.122489   \n",
       "lost_time.1                                       0.064605         -0.044050   \n",
       "Qde Todos Atendimentos                            0.001490         -0.560436   \n",
       "Faltas Todos Atendimento                          0.016877         -0.047440   \n",
       "Qde Atendimento Médico                            0.106006         -0.125487   \n",
       "Faltas Atendimento Médico                         0.003382          0.077850   \n",
       "Qde Atendimentos Acolhimento                      0.043918         -0.196560   \n",
       "Faltas Acolhimento                               -0.022097          0.094235   \n",
       "Qde Psicoterapia                                 -0.031014         -0.583651   \n",
       "Físico                                            0.011764          0.106027   \n",
       "Psicológico                                      -0.000772          0.069311   \n",
       "Social                                            0.087635          0.108043   \n",
       "Ambiental                                         0.102567          0.089783   \n",
       "Mensagens Inbound                                 0.018639         -0.486883   \n",
       "Mensagens Outbound                               -0.001893         -0.593635   \n",
       "Ligações Inbound                                 -0.029674         -0.305114   \n",
       "Ligações Outbound                                -0.004418          0.074707   \n",
       "Qde Total de Faturas                              0.020246         -0.309885   \n",
       "Qde Total de Tentativas de Cobrança              -0.010955         -0.407068   \n",
       "Valor Médio da Mensalidade                        0.112701         -0.045841   \n",
       "Qde Total de Faturas Pagas após Vencimento       -0.074128         -0.320332   \n",
       "Qde Total de Faturas Inadimpletes                 0.007661         -0.107274   \n",
       "Valor Total Inadimplência                         0.004923         -0.097718   \n",
       "Qde Perfis de Pagamento Inativos                       NaN               NaN   \n",
       "Tempo até Sair                                    0.105388         -0.262249   \n",
       "Tem Problema em Aberto                            0.008478         -0.139613   \n",
       "Tempo Última Mensagem Inbound                    -0.034263          0.322606   \n",
       "Tempo Última Mensagem Outbound                   -0.028825          0.292903   \n",
       "Target                                            0.009123         -0.485506   \n",
       "\n",
       "                                            Canal de Preferência  notes_count  \\\n",
       "id_person                                              -0.167700     0.082847   \n",
       "birthdate                                               0.006928     0.058350   \n",
       "id_gender                                               0.274643     0.032363   \n",
       "id_marrital_status                                     -0.047522     0.048231   \n",
       "id_health_plan                                         -0.111456     0.026103   \n",
       "id_continuity_pf                                       -0.082775    -0.124081   \n",
       "Canal de Preferência                                    1.000000     0.123753   \n",
       "notes_count                                             0.123753     1.000000   \n",
       "done_activities_count                                   0.268101     0.273727   \n",
       "start_of_service                                        0.148131    -0.117221   \n",
       "add_time                                                0.157705    -0.109033   \n",
       "id_label                                                0.158878     0.022230   \n",
       "won_time                                                0.001760    -0.198099   \n",
       "lost_time.1                                             0.502971    -0.039996   \n",
       "Qde Todos Atendimentos                                  0.068572     0.269348   \n",
       "Faltas Todos Atendimento                               -0.031238     0.271842   \n",
       "Qde Atendimento Médico                                  0.107322     0.119684   \n",
       "Faltas Atendimento Médico                              -0.053062    -0.044305   \n",
       "Qde Atendimentos Acolhimento                            0.187060     0.130995   \n",
       "Faltas Acolhimento                                     -0.055371     0.002460   \n",
       "Qde Psicoterapia                                        0.069639     0.079150   \n",
       "Físico                                                 -0.094131    -0.045362   \n",
       "Psicológico                                            -0.035697    -0.043616   \n",
       "Social                                                 -0.032884    -0.029437   \n",
       "Ambiental                                               0.014707    -0.049115   \n",
       "Mensagens Inbound                                       0.106101     0.225692   \n",
       "Mensagens Outbound                                      0.083843     0.259302   \n",
       "Ligações Inbound                                       -0.103407     0.215982   \n",
       "Ligações Outbound                                       0.089309    -0.010299   \n",
       "Qde Total de Faturas                                    0.183115     0.264434   \n",
       "Qde Total de Tentativas de Cobrança                     0.063676     0.175860   \n",
       "Valor Médio da Mensalidade                             -0.127379     0.029014   \n",
       "Qde Total de Faturas Pagas após Vencimento             -0.021279     0.127105   \n",
       "Qde Total de Faturas Inadimpletes                      -0.066728    -0.094520   \n",
       "Valor Total Inadimplência                              -0.073024    -0.095803   \n",
       "Qde Perfis de Pagamento Inativos                             NaN          NaN   \n",
       "Tempo até Sair                                          0.213627     0.076886   \n",
       "Tem Problema em Aberto                                 -0.017064     0.217444   \n",
       "Tempo Última Mensagem Inbound                           0.060094    -0.317293   \n",
       "Tempo Última Mensagem Outbound                          0.125658    -0.284559   \n",
       "Target                                                 -0.108518     0.199456   \n",
       "\n",
       "                                            done_activities_count  \\\n",
       "id_person                                               -0.325319   \n",
       "birthdate                                                0.009952   \n",
       "id_gender                                                0.232119   \n",
       "id_marrital_status                                       0.000980   \n",
       "id_health_plan                                          -0.024041   \n",
       "id_continuity_pf                                        -0.358531   \n",
       "Canal de Preferência                                     0.268101   \n",
       "notes_count                                              0.273727   \n",
       "done_activities_count                                    1.000000   \n",
       "start_of_service                                         0.287149   \n",
       "add_time                                                 0.289991   \n",
       "id_label                                                 0.140235   \n",
       "won_time                                                 0.327540   \n",
       "lost_time.1                                              0.085450   \n",
       "Qde Todos Atendimentos                                   0.368003   \n",
       "Faltas Todos Atendimento                                 0.075577   \n",
       "Qde Atendimento Médico                                   0.402005   \n",
       "Faltas Atendimento Médico                               -0.167880   \n",
       "Qde Atendimentos Acolhimento                             0.189728   \n",
       "Faltas Acolhimento                                      -0.124285   \n",
       "Qde Psicoterapia                                         0.277694   \n",
       "Físico                                                  -0.014485   \n",
       "Psicológico                                             -0.036484   \n",
       "Social                                                  -0.009129   \n",
       "Ambiental                                               -0.005331   \n",
       "Mensagens Inbound                                        0.527242   \n",
       "Mensagens Outbound                                       0.582888   \n",
       "Ligações Inbound                                         0.436170   \n",
       "Ligações Outbound                                        0.256385   \n",
       "Qde Total de Faturas                                     0.330083   \n",
       "Qde Total de Tentativas de Cobrança                      0.213720   \n",
       "Valor Médio da Mensalidade                              -0.030198   \n",
       "Qde Total de Faturas Pagas após Vencimento               0.137290   \n",
       "Qde Total de Faturas Inadimpletes                        0.018666   \n",
       "Valor Total Inadimplência                                0.006003   \n",
       "Qde Perfis de Pagamento Inativos                              NaN   \n",
       "Tempo até Sair                                           0.450151   \n",
       "Tem Problema em Aberto                                   0.171888   \n",
       "Tempo Última Mensagem Inbound                           -0.106639   \n",
       "Tempo Última Mensagem Outbound                          -0.167616   \n",
       "Target                                                  -0.017719   \n",
       "\n",
       "                                            start_of_service  ...  \\\n",
       "id_person                                          -0.977527  ...   \n",
       "birthdate                                          -0.076557  ...   \n",
       "id_gender                                          -0.042387  ...   \n",
       "id_marrital_status                                 -0.087899  ...   \n",
       "id_health_plan                                      0.003107  ...   \n",
       "id_continuity_pf                                   -0.175278  ...   \n",
       "Canal de Preferência                                0.148131  ...   \n",
       "notes_count                                        -0.117221  ...   \n",
       "done_activities_count                               0.287149  ...   \n",
       "start_of_service                                    1.000000  ...   \n",
       "add_time                                            0.987461  ...   \n",
       "id_label                                           -0.392523  ...   \n",
       "won_time                                            0.954164  ...   \n",
       "lost_time.1                                         0.960949  ...   \n",
       "Qde Todos Atendimentos                              0.068566  ...   \n",
       "Faltas Todos Atendimento                           -0.212459  ...   \n",
       "Qde Atendimento Médico                              0.224949  ...   \n",
       "Faltas Atendimento Médico                          -0.214655  ...   \n",
       "Qde Atendimentos Acolhimento                        0.000548  ...   \n",
       "Faltas Acolhimento                                 -0.257606  ...   \n",
       "Qde Psicoterapia                                    0.297481  ...   \n",
       "Físico                                              0.023393  ...   \n",
       "Psicológico                                        -0.041517  ...   \n",
       "Social                                              0.037382  ...   \n",
       "Ambiental                                           0.165776  ...   \n",
       "Mensagens Inbound                                   0.255544  ...   \n",
       "Mensagens Outbound                                  0.293681  ...   \n",
       "Ligações Inbound                                    0.208709  ...   \n",
       "Ligações Outbound                                   0.199340  ...   \n",
       "Qde Total de Faturas                                0.433889  ...   \n",
       "Qde Total de Tentativas de Cobrança                 0.406445  ...   \n",
       "Valor Médio da Mensalidade                         -0.103451  ...   \n",
       "Qde Total de Faturas Pagas após Vencimento          0.226206  ...   \n",
       "Qde Total de Faturas Inadimpletes                   0.159210  ...   \n",
       "Valor Total Inadimplência                           0.116419  ...   \n",
       "Qde Perfis de Pagamento Inativos                         NaN  ...   \n",
       "Tempo até Sair                                      0.526244  ...   \n",
       "Tem Problema em Aberto                              0.102557  ...   \n",
       "Tempo Última Mensagem Inbound                       0.701325  ...   \n",
       "Tempo Última Mensagem Outbound                      0.667671  ...   \n",
       "Target                                             -0.575881  ...   \n",
       "\n",
       "                                            Valor Médio da Mensalidade  \\\n",
       "id_person                                                     0.122653   \n",
       "birthdate                                                    -0.004564   \n",
       "id_gender                                                    -0.068056   \n",
       "id_marrital_status                                           -0.010010   \n",
       "id_health_plan                                                0.112701   \n",
       "id_continuity_pf                                             -0.045841   \n",
       "Canal de Preferência                                         -0.127379   \n",
       "notes_count                                                   0.029014   \n",
       "done_activities_count                                        -0.030198   \n",
       "start_of_service                                             -0.103451   \n",
       "add_time                                                     -0.114214   \n",
       "id_label                                                     -0.130332   \n",
       "won_time                                                     -0.122855   \n",
       "lost_time.1                                                  -0.859701   \n",
       "Qde Todos Atendimentos                                        0.070278   \n",
       "Faltas Todos Atendimento                                      0.140362   \n",
       "Qde Atendimento Médico                                        0.756961   \n",
       "Faltas Atendimento Médico                                     0.075725   \n",
       "Qde Atendimentos Acolhimento                                  0.039054   \n",
       "Faltas Acolhimento                                            0.269007   \n",
       "Qde Psicoterapia                                             -0.035036   \n",
       "Físico                                                       -0.015841   \n",
       "Psicológico                                                  -0.186748   \n",
       "Social                                                       -0.035479   \n",
       "Ambiental                                                    -0.158285   \n",
       "Mensagens Inbound                                            -0.066076   \n",
       "Mensagens Outbound                                           -0.092884   \n",
       "Ligações Inbound                                              0.015173   \n",
       "Ligações Outbound                                            -0.015595   \n",
       "Qde Total de Faturas                                         -0.182908   \n",
       "Qde Total de Tentativas de Cobrança                          -0.205884   \n",
       "Valor Médio da Mensalidade                                    1.000000   \n",
       "Qde Total de Faturas Pagas após Vencimento                   -0.109379   \n",
       "Qde Total de Faturas Inadimpletes                            -0.044992   \n",
       "Valor Total Inadimplência                                     0.017781   \n",
       "Qde Perfis de Pagamento Inativos                                   NaN   \n",
       "Tempo até Sair                                                0.164939   \n",
       "Tem Problema em Aberto                                       -0.027014   \n",
       "Tempo Última Mensagem Inbound                                -0.226011   \n",
       "Tempo Última Mensagem Outbound                               -0.223280   \n",
       "Target                                                        0.082434   \n",
       "\n",
       "                                            Qde Total de Faturas Pagas após Vencimento  \\\n",
       "id_person                                                                    -0.248975   \n",
       "birthdate                                                                    -0.013554   \n",
       "id_gender                                                                    -0.014729   \n",
       "id_marrital_status                                                            0.099968   \n",
       "id_health_plan                                                               -0.074128   \n",
       "id_continuity_pf                                                             -0.320332   \n",
       "Canal de Preferência                                                         -0.021279   \n",
       "notes_count                                                                   0.127105   \n",
       "done_activities_count                                                         0.137290   \n",
       "start_of_service                                                              0.226206   \n",
       "add_time                                                                      0.239735   \n",
       "id_label                                                                      0.109435   \n",
       "won_time                                                                      0.221598   \n",
       "lost_time.1                                                                   0.039800   \n",
       "Qde Todos Atendimentos                                                        0.061011   \n",
       "Faltas Todos Atendimento                                                      0.044389   \n",
       "Qde Atendimento Médico                                                       -0.106543   \n",
       "Faltas Atendimento Médico                                                    -0.076043   \n",
       "Qde Atendimentos Acolhimento                                                 -0.051978   \n",
       "Faltas Acolhimento                                                           -0.081911   \n",
       "Qde Psicoterapia                                                              0.066315   \n",
       "Físico                                                                        0.098884   \n",
       "Psicológico                                                                   0.044268   \n",
       "Social                                                                       -0.011549   \n",
       "Ambiental                                                                     0.053973   \n",
       "Mensagens Inbound                                                             0.102136   \n",
       "Mensagens Outbound                                                            0.130369   \n",
       "Ligações Inbound                                                             -0.019037   \n",
       "Ligações Outbound                                                            -0.017708   \n",
       "Qde Total de Faturas                                                          0.404905   \n",
       "Qde Total de Tentativas de Cobrança                                           0.615678   \n",
       "Valor Médio da Mensalidade                                                   -0.109379   \n",
       "Qde Total de Faturas Pagas após Vencimento                                    1.000000   \n",
       "Qde Total de Faturas Inadimpletes                                             0.067731   \n",
       "Valor Total Inadimplência                                                     0.047614   \n",
       "Qde Perfis de Pagamento Inativos                                                   NaN   \n",
       "Tempo até Sair                                                                0.314485   \n",
       "Tem Problema em Aberto                                                        0.104737   \n",
       "Tempo Última Mensagem Inbound                                                -0.019670   \n",
       "Tempo Última Mensagem Outbound                                               -0.039097   \n",
       "Target                                                                       -0.077797   \n",
       "\n",
       "                                            Qde Total de Faturas Inadimpletes  \\\n",
       "id_person                                                           -0.150559   \n",
       "birthdate                                                           -0.080121   \n",
       "id_gender                                                           -0.021859   \n",
       "id_marrital_status                                                  -0.011966   \n",
       "id_health_plan                                                       0.007661   \n",
       "id_continuity_pf                                                    -0.107274   \n",
       "Canal de Preferência                                                -0.066728   \n",
       "notes_count                                                         -0.094520   \n",
       "done_activities_count                                                0.018666   \n",
       "start_of_service                                                     0.159210   \n",
       "add_time                                                             0.172148   \n",
       "id_label                                                             0.342997   \n",
       "won_time                                                             0.151705   \n",
       "lost_time.1                                                          0.375012   \n",
       "Qde Todos Atendimentos                                              -0.116140   \n",
       "Faltas Todos Atendimento                                            -0.010730   \n",
       "Qde Atendimento Médico                                              -0.059187   \n",
       "Faltas Atendimento Médico                                           -0.032530   \n",
       "Qde Atendimentos Acolhimento                                        -0.064697   \n",
       "Faltas Acolhimento                                                   0.012459   \n",
       "Qde Psicoterapia                                                    -0.108905   \n",
       "Físico                                                              -0.063936   \n",
       "Psicológico                                                          0.019670   \n",
       "Social                                                               0.052695   \n",
       "Ambiental                                                            0.019084   \n",
       "Mensagens Inbound                                                   -0.000014   \n",
       "Mensagens Outbound                                                   0.004683   \n",
       "Ligações Inbound                                                    -0.137286   \n",
       "Ligações Outbound                                                   -0.097466   \n",
       "Qde Total de Faturas                                                 0.024601   \n",
       "Qde Total de Tentativas de Cobrança                                  0.268615   \n",
       "Valor Médio da Mensalidade                                          -0.044992   \n",
       "Qde Total de Faturas Pagas após Vencimento                           0.067731   \n",
       "Qde Total de Faturas Inadimpletes                                    1.000000   \n",
       "Valor Total Inadimplência                                            0.954586   \n",
       "Qde Perfis de Pagamento Inativos                                          NaN   \n",
       "Tempo até Sair                                                       0.042150   \n",
       "Tem Problema em Aberto                                              -0.096870   \n",
       "Tempo Última Mensagem Inbound                                        0.265937   \n",
       "Tempo Última Mensagem Outbound                                       0.199234   \n",
       "Target                                                              -0.203669   \n",
       "\n",
       "                                            Valor Total Inadimplência  \\\n",
       "id_person                                                   -0.107452   \n",
       "birthdate                                                   -0.077298   \n",
       "id_gender                                                   -0.025159   \n",
       "id_marrital_status                                          -0.003238   \n",
       "id_health_plan                                               0.004923   \n",
       "id_continuity_pf                                            -0.097718   \n",
       "Canal de Preferência                                        -0.073024   \n",
       "notes_count                                                 -0.095803   \n",
       "done_activities_count                                        0.006003   \n",
       "start_of_service                                             0.116419   \n",
       "add_time                                                     0.132440   \n",
       "id_label                                                     0.342997   \n",
       "won_time                                                     0.104991   \n",
       "lost_time.1                                                  0.342644   \n",
       "Qde Todos Atendimentos                                      -0.120182   \n",
       "Faltas Todos Atendimento                                    -0.038228   \n",
       "Qde Atendimento Médico                                      -0.028190   \n",
       "Faltas Atendimento Médico                                   -0.033563   \n",
       "Qde Atendimentos Acolhimento                                -0.042766   \n",
       "Faltas Acolhimento                                           0.035620   \n",
       "Qde Psicoterapia                                            -0.074381   \n",
       "Físico                                                      -0.085292   \n",
       "Psicológico                                                  0.001758   \n",
       "Social                                                       0.036759   \n",
       "Ambiental                                                   -0.003462   \n",
       "Mensagens Inbound                                           -0.015656   \n",
       "Mensagens Outbound                                          -0.011753   \n",
       "Ligações Inbound                                            -0.121133   \n",
       "Ligações Outbound                                           -0.097534   \n",
       "Qde Total de Faturas                                        -0.001983   \n",
       "Qde Total de Tentativas de Cobrança                          0.203156   \n",
       "Valor Médio da Mensalidade                                   0.017781   \n",
       "Qde Total de Faturas Pagas após Vencimento                   0.047614   \n",
       "Qde Total de Faturas Inadimpletes                            0.954586   \n",
       "Valor Total Inadimplência                                    1.000000   \n",
       "Qde Perfis de Pagamento Inativos                                  NaN   \n",
       "Tempo até Sair                                               0.053821   \n",
       "Tem Problema em Aberto                                      -0.084261   \n",
       "Tempo Última Mensagem Inbound                                0.224137   \n",
       "Tempo Última Mensagem Outbound                               0.166486   \n",
       "Target                                                      -0.177830   \n",
       "\n",
       "                                            Qde Perfis de Pagamento Inativos  \\\n",
       "id_person                                                                NaN   \n",
       "birthdate                                                                NaN   \n",
       "id_gender                                                                NaN   \n",
       "id_marrital_status                                                       NaN   \n",
       "id_health_plan                                                           NaN   \n",
       "id_continuity_pf                                                         NaN   \n",
       "Canal de Preferência                                                     NaN   \n",
       "notes_count                                                              NaN   \n",
       "done_activities_count                                                    NaN   \n",
       "start_of_service                                                         NaN   \n",
       "add_time                                                                 NaN   \n",
       "id_label                                                                 NaN   \n",
       "won_time                                                                 NaN   \n",
       "lost_time.1                                                              NaN   \n",
       "Qde Todos Atendimentos                                                   NaN   \n",
       "Faltas Todos Atendimento                                                 NaN   \n",
       "Qde Atendimento Médico                                                   NaN   \n",
       "Faltas Atendimento Médico                                                NaN   \n",
       "Qde Atendimentos Acolhimento                                             NaN   \n",
       "Faltas Acolhimento                                                       NaN   \n",
       "Qde Psicoterapia                                                         NaN   \n",
       "Físico                                                                   NaN   \n",
       "Psicológico                                                              NaN   \n",
       "Social                                                                   NaN   \n",
       "Ambiental                                                                NaN   \n",
       "Mensagens Inbound                                                        NaN   \n",
       "Mensagens Outbound                                                       NaN   \n",
       "Ligações Inbound                                                         NaN   \n",
       "Ligações Outbound                                                        NaN   \n",
       "Qde Total de Faturas                                                     NaN   \n",
       "Qde Total de Tentativas de Cobrança                                      NaN   \n",
       "Valor Médio da Mensalidade                                               NaN   \n",
       "Qde Total de Faturas Pagas após Vencimento                               NaN   \n",
       "Qde Total de Faturas Inadimpletes                                        NaN   \n",
       "Valor Total Inadimplência                                                NaN   \n",
       "Qde Perfis de Pagamento Inativos                                         NaN   \n",
       "Tempo até Sair                                                           NaN   \n",
       "Tem Problema em Aberto                                                   NaN   \n",
       "Tempo Última Mensagem Inbound                                            NaN   \n",
       "Tempo Última Mensagem Outbound                                           NaN   \n",
       "Target                                                                   NaN   \n",
       "\n",
       "                                            Tempo até Sair  \\\n",
       "id_person                                        -0.543733   \n",
       "birthdate                                         0.020770   \n",
       "id_gender                                         0.048840   \n",
       "id_marrital_status                               -0.011990   \n",
       "id_health_plan                                    0.105388   \n",
       "id_continuity_pf                                 -0.262249   \n",
       "Canal de Preferência                              0.213627   \n",
       "notes_count                                       0.076886   \n",
       "done_activities_count                             0.450151   \n",
       "start_of_service                                  0.526244   \n",
       "add_time                                          0.531933   \n",
       "id_label                                         -0.160456   \n",
       "won_time                                          0.473171   \n",
       "lost_time.1                                       0.346954   \n",
       "Qde Todos Atendimentos                            0.325608   \n",
       "Faltas Todos Atendimento                          0.044008   \n",
       "Qde Atendimento Médico                            0.325232   \n",
       "Faltas Atendimento Médico                        -0.161408   \n",
       "Qde Atendimentos Acolhimento                     -0.054277   \n",
       "Faltas Acolhimento                               -0.133698   \n",
       "Qde Psicoterapia                                  0.532124   \n",
       "Físico                                            0.175557   \n",
       "Psicológico                                       0.141707   \n",
       "Social                                            0.037061   \n",
       "Ambiental                                         0.158114   \n",
       "Mensagens Inbound                                 0.364668   \n",
       "Mensagens Outbound                                0.416195   \n",
       "Ligações Inbound                                  0.290278   \n",
       "Ligações Outbound                                 0.117208   \n",
       "Qde Total de Faturas                              0.720396   \n",
       "Qde Total de Tentativas de Cobrança               0.480857   \n",
       "Valor Médio da Mensalidade                        0.164939   \n",
       "Qde Total de Faturas Pagas após Vencimento        0.314485   \n",
       "Qde Total de Faturas Inadimpletes                 0.042150   \n",
       "Valor Total Inadimplência                         0.053821   \n",
       "Qde Perfis de Pagamento Inativos                       NaN   \n",
       "Tempo até Sair                                    1.000000   \n",
       "Tem Problema em Aberto                            0.233132   \n",
       "Tempo Última Mensagem Inbound                    -0.087868   \n",
       "Tempo Última Mensagem Outbound                   -0.217997   \n",
       "Target                                                 NaN   \n",
       "\n",
       "                                            Tem Problema em Aberto  \\\n",
       "id_person                                                -0.107225   \n",
       "birthdate                                                 0.008075   \n",
       "id_gender                                                 0.021244   \n",
       "id_marrital_status                                       -0.004839   \n",
       "id_health_plan                                            0.008478   \n",
       "id_continuity_pf                                         -0.139613   \n",
       "Canal de Preferência                                     -0.017064   \n",
       "notes_count                                               0.217444   \n",
       "done_activities_count                                     0.171888   \n",
       "start_of_service                                          0.102557   \n",
       "add_time                                                  0.108803   \n",
       "id_label                                                 -0.042574   \n",
       "won_time                                                  0.061149   \n",
       "lost_time.1                                               0.124820   \n",
       "Qde Todos Atendimentos                                    0.237917   \n",
       "Faltas Todos Atendimento                                  0.072432   \n",
       "Qde Atendimento Médico                                    0.123187   \n",
       "Faltas Atendimento Médico                                -0.031613   \n",
       "Qde Atendimentos Acolhimento                              0.157746   \n",
       "Faltas Acolhimento                                       -0.172228   \n",
       "Qde Psicoterapia                                          0.059969   \n",
       "Físico                                                   -0.152352   \n",
       "Psicológico                                              -0.130512   \n",
       "Social                                                   -0.095356   \n",
       "Ambiental                                                -0.029899   \n",
       "Mensagens Inbound                                         0.292041   \n",
       "Mensagens Outbound                                        0.310634   \n",
       "Ligações Inbound                                          0.106082   \n",
       "Ligações Outbound                                         0.009015   \n",
       "Qde Total de Faturas                                      0.149888   \n",
       "Qde Total de Tentativas de Cobrança                       0.052842   \n",
       "Valor Médio da Mensalidade                               -0.027014   \n",
       "Qde Total de Faturas Pagas após Vencimento                0.104737   \n",
       "Qde Total de Faturas Inadimpletes                        -0.096870   \n",
       "Valor Total Inadimplência                                -0.084261   \n",
       "Qde Perfis de Pagamento Inativos                               NaN   \n",
       "Tempo até Sair                                            0.233132   \n",
       "Tem Problema em Aberto                                    1.000000   \n",
       "Tempo Última Mensagem Inbound                            -0.117334   \n",
       "Tempo Última Mensagem Outbound                           -0.068546   \n",
       "Target                                                   -0.047111   \n",
       "\n",
       "                                            Tempo Última Mensagem Inbound  \\\n",
       "id_person                                                       -0.677965   \n",
       "birthdate                                                       -0.039616   \n",
       "id_gender                                                       -0.056142   \n",
       "id_marrital_status                                              -0.056535   \n",
       "id_health_plan                                                  -0.034263   \n",
       "id_continuity_pf                                                 0.322606   \n",
       "Canal de Preferência                                             0.060094   \n",
       "notes_count                                                     -0.317293   \n",
       "done_activities_count                                           -0.106639   \n",
       "start_of_service                                                 0.701325   \n",
       "add_time                                                         0.703440   \n",
       "id_label                                                        -0.432374   \n",
       "won_time                                                         0.658697   \n",
       "lost_time.1                                                      0.854265   \n",
       "Qde Todos Atendimentos                                          -0.360122   \n",
       "Faltas Todos Atendimento                                        -0.303891   \n",
       "Qde Atendimento Médico                                          -0.116360   \n",
       "Faltas Atendimento Médico                                       -0.097444   \n",
       "Qde Atendimentos Acolhimento                                    -0.121396   \n",
       "Faltas Acolhimento                                              -0.154222   \n",
       "Qde Psicoterapia                                                -0.283151   \n",
       "Físico                                                           0.042675   \n",
       "Psicológico                                                      0.011632   \n",
       "Social                                                           0.078646   \n",
       "Ambiental                                                        0.154284   \n",
       "Mensagens Inbound                                               -0.194482   \n",
       "Mensagens Outbound                                              -0.208153   \n",
       "Ligações Inbound                                                -0.036113   \n",
       "Ligações Outbound                                                0.146028   \n",
       "Qde Total de Faturas                                            -0.164221   \n",
       "Qde Total de Tentativas de Cobrança                             -0.005850   \n",
       "Valor Médio da Mensalidade                                      -0.226011   \n",
       "Qde Total de Faturas Pagas após Vencimento                      -0.019670   \n",
       "Qde Total de Faturas Inadimpletes                                0.265937   \n",
       "Valor Total Inadimplência                                        0.224137   \n",
       "Qde Perfis de Pagamento Inativos                                      NaN   \n",
       "Tempo até Sair                                                  -0.087868   \n",
       "Tem Problema em Aberto                                          -0.117334   \n",
       "Tempo Última Mensagem Inbound                                    1.000000   \n",
       "Tempo Última Mensagem Outbound                                   0.900855   \n",
       "Target                                                          -0.653474   \n",
       "\n",
       "                                            Tempo Última Mensagem Outbound  \\\n",
       "id_person                                                        -0.645202   \n",
       "birthdate                                                        -0.069185   \n",
       "id_gender                                                        -0.041738   \n",
       "id_marrital_status                                               -0.080110   \n",
       "id_health_plan                                                   -0.028825   \n",
       "id_continuity_pf                                                  0.292903   \n",
       "Canal de Preferência                                              0.125658   \n",
       "notes_count                                                      -0.284559   \n",
       "done_activities_count                                            -0.167616   \n",
       "start_of_service                                                  0.667671   \n",
       "add_time                                                          0.668502   \n",
       "id_label                                                         -0.456392   \n",
       "won_time                                                          0.601762   \n",
       "lost_time.1                                                       0.767475   \n",
       "Qde Todos Atendimentos                                           -0.292495   \n",
       "Faltas Todos Atendimento                                         -0.266845   \n",
       "Qde Atendimento Médico                                           -0.087833   \n",
       "Faltas Atendimento Médico                                        -0.133510   \n",
       "Qde Atendimentos Acolhimento                                     -0.085857   \n",
       "Faltas Acolhimento                                               -0.132166   \n",
       "Qde Psicoterapia                                                 -0.255501   \n",
       "Físico                                                            0.010591   \n",
       "Psicológico                                                      -0.033002   \n",
       "Social                                                            0.048188   \n",
       "Ambiental                                                         0.127908   \n",
       "Mensagens Inbound                                                -0.130201   \n",
       "Mensagens Outbound                                               -0.153487   \n",
       "Ligações Inbound                                                 -0.030488   \n",
       "Ligações Outbound                                                 0.097123   \n",
       "Qde Total de Faturas                                             -0.203535   \n",
       "Qde Total de Tentativas de Cobrança                              -0.077795   \n",
       "Valor Médio da Mensalidade                                       -0.223280   \n",
       "Qde Total de Faturas Pagas após Vencimento                       -0.039097   \n",
       "Qde Total de Faturas Inadimpletes                                 0.199234   \n",
       "Valor Total Inadimplência                                         0.166486   \n",
       "Qde Perfis de Pagamento Inativos                                       NaN   \n",
       "Tempo até Sair                                                   -0.217997   \n",
       "Tem Problema em Aberto                                           -0.068546   \n",
       "Tempo Última Mensagem Inbound                                     0.900855   \n",
       "Tempo Última Mensagem Outbound                                    1.000000   \n",
       "Target                                                           -0.736047   \n",
       "\n",
       "                                              Target  \n",
       "id_person                                   0.600077  \n",
       "birthdate                                   0.091664  \n",
       "id_gender                                   0.021976  \n",
       "id_marrital_status                          0.079075  \n",
       "id_health_plan                              0.009123  \n",
       "id_continuity_pf                           -0.485506  \n",
       "Canal de Preferência                       -0.108518  \n",
       "notes_count                                 0.199456  \n",
       "done_activities_count                      -0.017719  \n",
       "start_of_service                           -0.575881  \n",
       "add_time                                   -0.597206  \n",
       "id_label                                    0.183147  \n",
       "won_time                                   -0.580515  \n",
       "lost_time.1                                -0.616752  \n",
       "Qde Todos Atendimentos                      0.114017  \n",
       "Faltas Todos Atendimento                    0.187874  \n",
       "Qde Atendimento Médico                     -0.032080  \n",
       "Faltas Atendimento Médico                   0.168671  \n",
       "Qde Atendimentos Acolhimento               -0.018981  \n",
       "Faltas Acolhimento                          0.180365  \n",
       "Qde Psicoterapia                            0.134780  \n",
       "Físico                                      0.055011  \n",
       "Psicológico                                 0.097387  \n",
       "Social                                     -0.014313  \n",
       "Ambiental                                  -0.090183  \n",
       "Mensagens Inbound                          -0.037159  \n",
       "Mensagens Outbound                         -0.035798  \n",
       "Ligações Inbound                           -0.139427  \n",
       "Ligações Outbound                          -0.069185  \n",
       "Qde Total de Faturas                        0.065602  \n",
       "Qde Total de Tentativas de Cobrança        -0.061941  \n",
       "Valor Médio da Mensalidade                  0.082434  \n",
       "Qde Total de Faturas Pagas após Vencimento -0.077797  \n",
       "Qde Total de Faturas Inadimpletes          -0.203669  \n",
       "Valor Total Inadimplência                  -0.177830  \n",
       "Qde Perfis de Pagamento Inativos                 NaN  \n",
       "Tempo até Sair                                   NaN  \n",
       "Tem Problema em Aberto                     -0.047111  \n",
       "Tempo Última Mensagem Inbound              -0.653474  \n",
       "Tempo Última Mensagem Outbound             -0.736047  \n",
       "Target                                      1.000000  \n",
       "\n",
       "[41 rows x 41 columns]"
      ]
     },
     "execution_count": 370,
     "metadata": {},
     "output_type": "execute_result"
    }
   ],
   "source": [
    "corr = df_teste.corr(numeric_only=True)\n",
    "corr"
   ]
  },
  {
   "cell_type": "code",
   "execution_count": 371,
   "metadata": {},
   "outputs": [
    {
     "data": {
      "text/plain": [
       "<AxesSubplot:>"
      ]
     },
     "execution_count": 371,
     "metadata": {},
     "output_type": "execute_result"
    },
    {
     "data": {
      "image/png": "[encoded data removed]",
      "text/plain": [
       "<Figure size 432x288 with 2 Axes>"
      ]
     },
     "metadata": {
      "needs_background": "light"
     },
     "output_type": "display_data"
    }
   ],
   "source": [
    "sns.heatmap(corr, xticklabels=corr.columns, yticklabels=corr.columns)"
   ]
  },
  {
   "cell_type": "code",
   "execution_count": 372,
   "metadata": {},
   "outputs": [
    {
     "name": "stdout",
     "output_type": "stream",
     "text": [
      "<class 'pandas.core.frame.DataFrame'>\n",
      "Int64Index: 4680 entries, 0 to 1022\n",
      "Data columns (total 54 columns):\n",
      " #   Column                                      Non-Null Count  Dtype         \n",
      "---  ------                                      --------------  -----         \n",
      " 0   id_person                                   4680 non-null   int64         \n",
      " 1   birthdate                                   4675 non-null   float64       \n",
      " 2   id_gender                                   4662 non-null   float64       \n",
      " 3   id_marrital_status                          4670 non-null   float64       \n",
      " 4   id_health_plan                              2204 non-null   float64       \n",
      " 5   contract_start_date                         4680 non-null   datetime64[ns]\n",
      " 6   contract_end_date                           2292 non-null   datetime64[ns]\n",
      " 7   id_continuity_pf                            1687 non-null   float64       \n",
      " 8   Canal de Preferência                        1473 non-null   float64       \n",
      " 9   notes_count                                 4680 non-null   int64         \n",
      " 10  done_activities_count                       4680 non-null   int64         \n",
      " 11  status                                      4680 non-null   object        \n",
      " 12  start_of_service                            4680 non-null   float64       \n",
      " 13  lost_time                                   2366 non-null   datetime64[ns]\n",
      " 14  lost_reason                                 2292 non-null   object        \n",
      " 15  add_time                                    4502 non-null   float64       \n",
      " 16  id_label                                    389 non-null    float64       \n",
      " 17  won_time                                    2890 non-null   float64       \n",
      " 18  lost_time.1                                 1293 non-null   float64       \n",
      " 19  lost_reason.1                               1293 non-null   object        \n",
      " 20  Qde Todos Atendimentos                      4680 non-null   int64         \n",
      " 21  Faltas Todos Atendimento                    4680 non-null   int64         \n",
      " 22  Qde Atendimento Médico                      801 non-null    float64       \n",
      " 23  Faltas Atendimento Médico                   801 non-null    float64       \n",
      " 24  Qde Atendimentos Acolhimento                2744 non-null   float64       \n",
      " 25  Faltas Acolhimento                          2744 non-null   float64       \n",
      " 26  Qde Psicoterapia                            1797 non-null   float64       \n",
      " 27  Faltas Psicoterapia                         587 non-null    object        \n",
      " 28  Físico                                      3562 non-null   float64       \n",
      " 29  Psicológico                                 3562 non-null   float64       \n",
      " 30  Social                                      3562 non-null   float64       \n",
      " 31  Ambiental                                   3562 non-null   float64       \n",
      " 32  Problemas Abertos                           2402 non-null   object        \n",
      " 33  Mensagens Inbound                           4367 non-null   float64       \n",
      " 34  Mensagens Outbound                          4606 non-null   float64       \n",
      " 35  Ligações Inbound                            430 non-null    float64       \n",
      " 36  Data Última Ligações Inbound                430 non-null    object        \n",
      " 37  Ligações Outbound                           2271 non-null   float64       \n",
      " 38  Data Última Ligações Outbound               2271 non-null   object        \n",
      " 39  Qde Total de Faturas                        880 non-null    float64       \n",
      " 40  Qde Total de Tentativas de Cobrança         878 non-null    float64       \n",
      " 41  Método de Pagamento                         880 non-null    object        \n",
      " 42  Valor Médio da Mensalidade                  880 non-null    float64       \n",
      " 43  Qde Total de Faturas Pagas após Vencimento  880 non-null    float64       \n",
      " 44  Qde Total de Faturas Inadimpletes           880 non-null    float64       \n",
      " 45  Valor Total Inadimplência                   880 non-null    float64       \n",
      " 46  Qde Perfis de Pagamento Inativos            0 non-null      float64       \n",
      " 47  Tempo até Sair                              2292 non-null   float64       \n",
      " 48  Tem Problema em Aberto                      4680 non-null   int64         \n",
      " 49  Tempo Última Mensagem Inbound               4367 non-null   float64       \n",
      " 50  Tempo Última Mensagem Outbound              4606 non-null   float64       \n",
      " 51  Quem Enviou Última Mensagem                 4680 non-null   object        \n",
      " 52  status_prox_mes                             4680 non-null   object        \n",
      " 53  Target                                      4680 non-null   bool          \n",
      "dtypes: bool(1), datetime64[ns](3), float64(34), int64(6), object(10)\n",
      "memory usage: 1.9+ MB\n"
     ]
    }
   ],
   "source": [
    "df_total = pd.concat([df_junho, df_julho, df_agosto, df_setembro, df_outubro])\n",
    "\n",
    "df_total['Target'] = df_total['status_prox_mes'] == 'won'\n",
    "\n",
    "df_total['Target'].value_counts()\n",
    "df_total.info()"
   ]
  },
  {
   "cell_type": "code",
   "execution_count": 373,
   "metadata": {},
   "outputs": [
    {
     "data": {
      "text/plain": [
       "<AxesSubplot:>"
      ]
     },
     "execution_count": 373,
     "metadata": {},
     "output_type": "execute_result"
    },
    {
     "data": {
      "image/png": "[encoded data removed]",
      "text/plain": [
       "<Figure size 432x288 with 2 Axes>"
      ]
     },
     "metadata": {
      "needs_background": "light"
     },
     "output_type": "display_data"
    }
   ],
   "source": [
    "corr = df_teste.corr(numeric_only=True)\n",
    "sns.heatmap(corr, xticklabels=corr.columns, yticklabels=corr.columns)"
   ]
  },
  {
   "cell_type": "code",
   "execution_count": 374,
   "metadata": {},
   "outputs": [
    {
     "data": {
      "text/plain": [
       "<AxesSubplot:title={'center':'Planos de Saúde mais comuns'}>"
      ]
     },
     "execution_count": 374,
     "metadata": {},
     "output_type": "execute_result"
    },
    {
     "data": {
      "image/png": "[encoded data removed]",
      "text/plain": [
       "<Figure size 720x432 with 1 Axes>"
      ]
     },
     "metadata": {},
     "output_type": "display_data"
    }
   ],
   "source": [
    "\n",
    "\n",
    "df_plan_mais_comum = df[df['status'] == 'won']\n",
    "df_plan_mais_comum = df_plan_mais_comum[df_plan_mais_comum['id_health_plan'].notna()]\n",
    "\n",
    "top_7_values = df_plan_mais_comum['id_health_plan'].value_counts().nlargest(7).index\n",
    "df_plan_mais_comum['id_health_plan'] = df_plan_mais_comum['id_health_plan'].apply(lambda x: x if x in top_7_values else 'Outros')\n",
    "\n",
    "df_plan_mais_comum['id_health_plan'].value_counts().plot.pie(legend=True, figsize=(10,6), title='Planos de Saúde mais comuns', ylabel='', autopct='%1.1f%%', fontsize=8)\n",
    "\n"
   ]
  },
  {
   "cell_type": "code",
   "execution_count": 375,
   "metadata": {},
   "outputs": [
    {
     "data": {
      "image/png": "[encoded data removed]",
      "text/plain": [
       "<Figure size 432x288 with 1 Axes>"
      ]
     },
     "metadata": {},
     "output_type": "display_data"
    }
   ],
   "source": [
    "labels = [\"Médico\", \"Acolhimento\", \"Psicoterapia\"]\n",
    "values = [df[\"Qde Atendimento Médico\"].sum(), df[\"Qde Atendimentos Acolhimento\"].sum(), df[\"Qde Psicoterapia\"].sum()]\n",
    "\n",
    "plt.pie(values, labels=labels, autopct='%1.0f%%', startangle=90, textprops={'fontsize': 10})\n",
    "plt.title(\"Tipos de Atendimento\")\n",
    "plt.show()\n",
    "\n"
   ]
  },
  {
   "cell_type": "code",
   "execution_count": 376,
   "metadata": {},
   "outputs": [],
   "source": [
    "def remap_categories(\n",
    "    series: pd.Series,\n",
    "    old_categories: tuple[str],\n",
    "    new_category: str,\n",
    ") -> pd.Series:\n",
    "    # Add the new category to the list of valid categories.\n",
    "    series = series.cat.add_categories(new_category)\n",
    "\n",
    "    # Set all items of the old categories as the new category.\n",
    "    remapped_items = series.isin(old_categories)\n",
    "    series.loc[remapped_items] = new_category\n",
    "\n",
    "    # Clean up the list of categories, the old categories no longer exist.\n",
    "    series = series.cat.remove_unused_categories()\n",
    "\n",
    "    return series"
   ]
  },
  {
   "cell_type": "code",
   "execution_count": 377,
   "metadata": {},
   "outputs": [
    {
     "data": {
      "text/plain": [
       "80.0    3309\n",
       "82.0    1182\n",
       "83.0     159\n",
       "81.0      20\n",
       "Name: id_marrital_status, dtype: int64"
      ]
     },
     "execution_count": 377,
     "metadata": {},
     "output_type": "execute_result"
    }
   ],
   "source": [
    "df_total['id_marrital_status'].value_counts()"
   ]
  },
  {
   "cell_type": "code",
   "execution_count": 378,
   "metadata": {},
   "outputs": [],
   "source": [
    "def transform_to_category(x,qtd_itens,lista_itens):\n",
    "   for i in range(qtd_itens):\n",
    "      if x == lista_itens[i]:\n",
    "         return str(x)\n",
    "   return 'Outros'\n",
    "   \n",
    "\n",
    "colunas = df_total.columns\n",
    "c1 = colunas[:10]\n",
    "c2 = colunas[10:20]\n",
    "c3 = colunas[20:30]\n",
    "c4 = colunas[30:40]\n",
    "c5 = colunas[40:]\n",
    "\n",
    "colunas_dropadas = ['id_person','contract_start_date','contract_end_date','id_continuity_pf','Canal de Preferência','status','lost_time','add_time','id_label','won_time','lost_time.1','lost_reason','lost_reason.1',\\\n",
    "                    'Qde Atendimento Médico','Faltas Atendimento Médico',\t'Qde Atendimentos Acolhimento',\t'Faltas Acolhimento',\t'Qde Psicoterapia',\t'Faltas Psicoterapia','Data Última Ligações Outbound',\\\n",
    "                     'Data Última Ligações Inbound','Qde Total de Faturas Pagas após Vencimento','Qde Perfis de Pagamento Inativos','Tempo até Sair', 'Valor Médio da Mensalidade', 'status_prox_mes', 'Qde Total de Faturas','Problemas Abertos']\n",
    "\n",
    "\n",
    "colunas_dropadas_regr = ['id_person','contract_start_date','contract_end_date','id_continuity_pf','Canal de Preferência','status','lost_time','add_time','id_label','won_time','lost_time.1','lost_reason','lost_reason.1',\\\n",
    "                     'Qde Atendimento Médico','Faltas Atendimento Médico',\t'Qde Atendimentos Acolhimento',\t'Faltas Acolhimento',\t'Qde Psicoterapia',\t'Faltas Psicoterapia','Data Última Ligações Outbound',\\\n",
    "                     'Data Última Ligações Inbound','Qde Total de Faturas Pagas após Vencimento','Qde Perfis de Pagamento Inativos', 'Valor Médio da Mensalidade', 'status_prox_mes', 'Qde Total de Faturas', 'Target','Problemas Abertos']\n",
    "\n",
    "\n",
    "colunas_get_dummies = ['id_gender','id_marrital_status','id_health_plan','notes_count','Método de Pagamento','Qde Total de Faturas Inadimpletes', 'Quem Enviou Última Mensagem']\n",
    "\n",
    "#coluna de genero\n",
    "df_total['id_gender'] = df_total['id_gender'] = df_total['id_gender'].apply(lambda x: transform_to_category(x,2,[63,64]))\n",
    "#coluna de estado civil\n",
    "#drop marrital status diferentes de 80,82,83\n",
    "df_total = df_total[df_total['id_marrital_status'].isin([80,82,83])]\n",
    "df_total['id_marrital_status'] = df_total['id_marrital_status'].apply(lambda x: transform_to_category(x,3,[80,82,83]))\n",
    "#coluna de health plan\n",
    "df_total['id_health_plan'] = df_total['id_health_plan'].apply(lambda x: transform_to_category(x,4,[412,415,418,435]))\n",
    "#coluna de notes count\n",
    "df_total = df_total[df_total['notes_count'] < 7]\n",
    "\n",
    "\n",
    "#coluna birthdate\n",
    "df_total = df_total[df_total['birthdate'].notna()]\n",
    "#coluna de fisico\n",
    "df_total['Físico'] = df_total['Físico'].fillna(df_total['Físico'].mean())\n",
    "#coluna de psicologico\n",
    "df_total['Psicológico'] = df_total['Psicológico'].fillna(df_total['Psicológico'].mean())\n",
    "#coluna de social \n",
    "df_total['Social'] = df_total['Social'].fillna(df_total['Social'].mean())\n",
    "#coluna de ambiental\n",
    "df_total['Ambiental'] = df_total['Ambiental'].fillna(df_total['Ambiental'].mean())\n",
    "#coluna de mensagens inbound\n",
    "df_total['Mensagens Inbound'] = df_total['Mensagens Inbound'].fillna(0)\n",
    "#coluna de mensagens outbound\n",
    "df_total['Mensagens Outbound'] = df_total['Mensagens Outbound'].fillna(0)\n",
    "#coluna de ligacoes inbound\n",
    "df_total['Ligações Inbound'] = df_total['Ligações Inbound'].fillna(0)\n",
    "#coluna de ligacoes outbound\n",
    "df_total['Ligações Outbound'] = df_total['Ligações Outbound'].fillna(0)\n",
    "#coluna qtd tentativas de cobrança\n",
    "df_total['Qde Total de Tentativas de Cobrança'] = df_total['Qde Total de Tentativas de Cobrança'].fillna(0)\n",
    "#coluna método de pagamento\n",
    "df_total['Método de Pagamento'] = df_total['Método de Pagamento'].apply(lambda x: transform_to_category(x,2,[\"Cartão de crédito\",\"Dinheiro\"]))\n",
    "#coluna total de faturas inadimplentes\n",
    "df_total['Qde Total de Faturas Inadimpletes'] = df_total['Qde Total de Faturas Inadimpletes'].fillna(0)\n",
    "df_total['Qde Total de Faturas Inadimpletes'] = df_total['Qde Total de Faturas Inadimpletes'].apply(lambda x: True if x > 0 else False)\n",
    "#coluna valor total inadimplente\n",
    "df_total['Valor Total Inadimplência'] = df_total['Valor Total Inadimplência'].fillna(0)\n",
    "#coluna Tempo Última Mensagem Inbound\n",
    "df_total['Tempo Última Mensagem Inbound'] = df_total['Tempo Última Mensagem Inbound'].fillna(0)\n",
    "#coluna Tempo Última Mensagem Outbound\n",
    "df_total['Tempo Última Mensagem Outbound'] = df_total['Tempo Última Mensagem Outbound'].fillna(0)\n",
    "#rename coluna birthdate para idade\n",
    "df_total = df_total.rename(columns={'birthdate':'idade'})\n",
    "# dropa linhas duplicadas\n",
    "\n",
    "df_total = df_total.drop_duplicates()\n",
    "df_regr = df_total.copy()    \n",
    "df_total = df_total.drop(colunas_dropadas, axis=1)\n",
    "df_regr = df_regr.drop(colunas_dropadas_regr, axis=1)\n",
    "df_regr.dropna(inplace=True)\n",
    "df_regr = pd.get_dummies(df_regr, columns=colunas_get_dummies)\n",
    "df_total = pd.get_dummies(df_total, columns=colunas_get_dummies)\n"
   ]
  },
  {
   "cell_type": "code",
   "execution_count": 379,
   "metadata": {},
   "outputs": [
    {
     "data": {
      "text/plain": [
       "idade                                      0\n",
       "done_activities_count                      0\n",
       "start_of_service                           0\n",
       "Qde Todos Atendimentos                     0\n",
       "Faltas Todos Atendimento                   0\n",
       "Físico                                     0\n",
       "Psicológico                                0\n",
       "Social                                     0\n",
       "Ambiental                                  0\n",
       "Mensagens Inbound                          0\n",
       "Mensagens Outbound                         0\n",
       "Ligações Inbound                           0\n",
       "Ligações Outbound                          0\n",
       "Qde Total de Tentativas de Cobrança        0\n",
       "Valor Total Inadimplência                  0\n",
       "Tem Problema em Aberto                     0\n",
       "Tempo Última Mensagem Inbound              0\n",
       "Tempo Última Mensagem Outbound             0\n",
       "Target                                     0\n",
       "id_gender_63.0                             0\n",
       "id_gender_64.0                             0\n",
       "id_gender_Outros                           0\n",
       "id_marrital_status_80.0                    0\n",
       "id_marrital_status_82.0                    0\n",
       "id_marrital_status_83.0                    0\n",
       "id_health_plan_412.0                       0\n",
       "id_health_plan_415.0                       0\n",
       "id_health_plan_418.0                       0\n",
       "id_health_plan_435.0                       0\n",
       "id_health_plan_Outros                      0\n",
       "notes_count_0                              0\n",
       "notes_count_1                              0\n",
       "notes_count_2                              0\n",
       "notes_count_3                              0\n",
       "notes_count_4                              0\n",
       "notes_count_5                              0\n",
       "notes_count_6                              0\n",
       "Método de Pagamento_Cartão de crédito      0\n",
       "Método de Pagamento_Dinheiro               0\n",
       "Método de Pagamento_Outros                 0\n",
       "Qde Total de Faturas Inadimpletes_False    0\n",
       "Qde Total de Faturas Inadimpletes_True     0\n",
       "Quem Enviou Última Mensagem_Cliente        0\n",
       "Quem Enviou Última Mensagem_Empresa        0\n",
       "dtype: int64"
      ]
     },
     "execution_count": 379,
     "metadata": {},
     "output_type": "execute_result"
    }
   ],
   "source": [
    "# verifica quantos nan tem em cada coluna\n",
    "df_total.isna().sum()"
   ]
  },
  {
   "cell_type": "code",
   "execution_count": null,
   "metadata": {},
   "outputs": [],
   "source": []
  },
  {
   "cell_type": "code",
   "execution_count": 380,
   "metadata": {},
   "outputs": [
    {
     "name": "stdout",
     "output_type": "stream",
     "text": [
      "Accuracy: 0.9036608863198459\n",
      "Confusion Matrix:\n",
      "[[ 93  20]\n",
      " [ 30 376]]\n",
      "Classification Report:\n",
      "              precision    recall  f1-score   support\n",
      "\n",
      "       False       0.76      0.82      0.79       113\n",
      "        True       0.95      0.93      0.94       406\n",
      "\n",
      "    accuracy                           0.90       519\n",
      "   macro avg       0.85      0.87      0.86       519\n",
      "weighted avg       0.91      0.90      0.91       519\n",
      "\n"
     ]
    }
   ],
   "source": [
    "#decision tree\n",
    "from sklearn.tree import DecisionTreeClassifier\n",
    "from sklearn.model_selection import train_test_split\n",
    "from sklearn.metrics import accuracy_score\n",
    "from sklearn.metrics import confusion_matrix\n",
    "from sklearn.metrics import classification_report\n",
    "# Split the data into training and testing sets\n",
    "X_train, X_test, y_train, y_test = train_test_split(df_total.drop('Target', axis=1), df_total['Target'], test_size=0.2, random_state=42)\n",
    "\n",
    "# Create the decision tree classifier\n",
    "clf = DecisionTreeClassifier(random_state=42)\n",
    "\n",
    "# Train the model\n",
    "clf.fit(X_train, y_train)\n",
    "\n",
    "# Make predictions on the test set\n",
    "y_pred = clf.predict(X_test)\n",
    "\n",
    "# Evaluate the model\n",
    "accuracy = accuracy_score(y_test, y_pred)\n",
    "confusion_mat = confusion_matrix(y_test, y_pred)\n",
    "classification_rep = classification_report(y_test, y_pred)\n",
    "\n",
    "# Print the results\n",
    "print(\"Accuracy:\", accuracy)\n",
    "print(\"Confusion Matrix:\")\n",
    "print(confusion_mat)\n",
    "print(\"Classification Report:\")\n",
    "print(classification_rep)\n"
   ]
  },
  {
   "cell_type": "code",
   "execution_count": 381,
   "metadata": {},
   "outputs": [
    {
     "name": "stdout",
     "output_type": "stream",
     "text": [
      "Mean Squared Error: 7962.416655628498\n"
     ]
    }
   ],
   "source": [
    "from sklearn.model_selection import train_test_split\n",
    "from sklearn.linear_model import LinearRegression, Lasso, Ridge, ElasticNet\n",
    "from sklearn.metrics import mean_squared_error\n",
    "\n",
    "# Split the dataset into training and testing sets\n",
    "y = df_regr['Tempo até Sair']\n",
    "X = df_regr.drop(['Tempo até Sair'], axis=1)\n",
    "X_train, X_test, y_train, y_test = train_test_split(X, y, test_size=0.1, random_state=42)  # Adjust test_size\n",
    "\n",
    "# Create the regression model\n",
    "model = ElasticNet()\n",
    "\n",
    "# Train the model\n",
    "model.fit(X_train, y_train)\n",
    "\n",
    "# Make predictions on the testing set\n",
    "y_pred = model.predict(X_test)\n",
    "\n",
    "# Evaluate the performance of the model\n",
    "mse = mean_squared_error(y_test, y_pred)\n",
    "print(\"Mean Squared Error:\", mse)\n"
   ]
  },
  {
   "cell_type": "code",
   "execution_count": 382,
   "metadata": {},
   "outputs": [
    {
     "name": "stdout",
     "output_type": "stream",
     "text": [
      "<class 'pandas.core.frame.DataFrame'>\n",
      "Int64Index: 753 entries, 0 to 982\n",
      "Data columns (total 43 columns):\n",
      " #   Column                                   Non-Null Count  Dtype  \n",
      "---  ------                                   --------------  -----  \n",
      " 0   idade                                    753 non-null    float64\n",
      " 1   done_activities_count                    753 non-null    int64  \n",
      " 2   start_of_service                         753 non-null    float64\n",
      " 3   Qde Todos Atendimentos                   753 non-null    int64  \n",
      " 4   Faltas Todos Atendimento                 753 non-null    int64  \n",
      " 5   Físico                                   753 non-null    float64\n",
      " 6   Psicológico                              753 non-null    float64\n",
      " 7   Social                                   753 non-null    float64\n",
      " 8   Ambiental                                753 non-null    float64\n",
      " 9   Mensagens Inbound                        753 non-null    float64\n",
      " 10  Mensagens Outbound                       753 non-null    float64\n",
      " 11  Ligações Inbound                         753 non-null    float64\n",
      " 12  Ligações Outbound                        753 non-null    float64\n",
      " 13  Qde Total de Tentativas de Cobrança      753 non-null    float64\n",
      " 14  Valor Total Inadimplência                753 non-null    float64\n",
      " 15  Tempo até Sair                           753 non-null    float64\n",
      " 16  Tem Problema em Aberto                   753 non-null    int64  \n",
      " 17  Tempo Última Mensagem Inbound            753 non-null    float64\n",
      " 18  Tempo Última Mensagem Outbound           753 non-null    float64\n",
      " 19  id_gender_63.0                           753 non-null    uint8  \n",
      " 20  id_gender_64.0                           753 non-null    uint8  \n",
      " 21  id_gender_Outros                         753 non-null    uint8  \n",
      " 22  id_marrital_status_80.0                  753 non-null    uint8  \n",
      " 23  id_marrital_status_82.0                  753 non-null    uint8  \n",
      " 24  id_marrital_status_83.0                  753 non-null    uint8  \n",
      " 25  id_health_plan_412.0                     753 non-null    uint8  \n",
      " 26  id_health_plan_415.0                     753 non-null    uint8  \n",
      " 27  id_health_plan_418.0                     753 non-null    uint8  \n",
      " 28  id_health_plan_435.0                     753 non-null    uint8  \n",
      " 29  id_health_plan_Outros                    753 non-null    uint8  \n",
      " 30  notes_count_0                            753 non-null    uint8  \n",
      " 31  notes_count_1                            753 non-null    uint8  \n",
      " 32  notes_count_2                            753 non-null    uint8  \n",
      " 33  notes_count_3                            753 non-null    uint8  \n",
      " 34  notes_count_4                            753 non-null    uint8  \n",
      " 35  notes_count_5                            753 non-null    uint8  \n",
      " 36  Método de Pagamento_Cartão de crédito    753 non-null    uint8  \n",
      " 37  Método de Pagamento_Dinheiro             753 non-null    uint8  \n",
      " 38  Método de Pagamento_Outros               753 non-null    uint8  \n",
      " 39  Qde Total de Faturas Inadimpletes_False  753 non-null    uint8  \n",
      " 40  Qde Total de Faturas Inadimpletes_True   753 non-null    uint8  \n",
      " 41  Quem Enviou Última Mensagem_Cliente      753 non-null    uint8  \n",
      " 42  Quem Enviou Última Mensagem_Empresa      753 non-null    uint8  \n",
      "dtypes: float64(15), int64(4), uint8(24)\n",
      "memory usage: 135.3 KB\n"
     ]
    }
   ],
   "source": [
    "df_regr.info()\n"
   ]
  },
  {
   "cell_type": "code",
   "execution_count": 383,
   "metadata": {},
   "outputs": [
    {
     "name": "stderr",
     "output_type": "stream",
     "text": [
      "C:\\Users\\jalfr\\AppData\\Local\\Temp\\ipykernel_6356\\1887410386.py:10: SettingWithCopyWarning: \n",
      "A value is trying to be set on a copy of a slice from a DataFrame.\n",
      "Try using .loc[row_indexer,col_indexer] = value instead\n",
      "\n",
      "See the caveats in the documentation: https://pandas.pydata.org/pandas-docs/stable/user_guide/indexing.html#returning-a-view-versus-a-copy\n",
      "  df_aux['Quem envia mais mensagens'] = df.apply(lambda row: retornaMensagensMais(row['Mensagens Inbound'], row['Mensagens Outbound']), axis=1)\n"
     ]
    },
    {
     "data": {
      "text/plain": [
       "1193    Empresa\n",
       "1190    Empresa\n",
       "1189     Empate\n",
       "1188    Cliente\n",
       "1187    Cliente\n",
       "         ...   \n",
       "38      Cliente\n",
       "39      Cliente\n",
       "68      Empresa\n",
       "28      Empresa\n",
       "24      Empresa\n",
       "Name: Quem envia mais mensagens, Length: 972, dtype: object"
      ]
     },
     "execution_count": 383,
     "metadata": {},
     "output_type": "execute_result"
    }
   ],
   "source": [
    "def retornaMensagensMais(x,y):\n",
    "    if x>y:\n",
    "        return 'Cliente'\n",
    "    elif y>x:\n",
    "        return 'Empresa'\n",
    "    return 'Empate'\n",
    "\n",
    "\n",
    "\n",
    "df_aux['Quem envia mais mensagens'] = df.apply(lambda row: retornaMensagensMais(row['Mensagens Inbound'], row['Mensagens Outbound']), axis=1)\n",
    "\n",
    "df_aux['Quem envia mais mensagens']"
   ]
  },
  {
   "cell_type": "code",
   "execution_count": 384,
   "metadata": {},
   "outputs": [
    {
     "data": {
      "text/plain": [
       "<AxesSubplot:title={'center':'Quem envia mais mensagens tem impacto na assinatura?'}, xlabel='Status Assinatura', ylabel='Número de Conversas'>"
      ]
     },
     "execution_count": 384,
     "metadata": {},
     "output_type": "execute_result"
    },
    {
     "data": {
      "image/png": "[encoded data removed]",
      "text/plain": [
       "<Figure size 720x432 with 1 Axes>"
      ]
     },
     "metadata": {
      "needs_background": "light"
     },
     "output_type": "display_data"
    }
   ],
   "source": [
    "df_aux.groupby('Status Assinatura')['Quem envia mais mensagens'].value_counts().unstack().plot(kind='bar', rot=0, ylabel='Número de Conversas', title='Quem envia mais mensagens tem impacto na assinatura?', figsize=(10,6))"
   ]
  },
  {
   "cell_type": "code",
   "execution_count": 385,
   "metadata": {},
   "outputs": [
    {
     "data": {
      "text/plain": [
       "count     753.000000\n",
       "mean       86.766268\n",
       "std       132.719353\n",
       "min         0.000000\n",
       "25%        16.000000\n",
       "50%        47.000000\n",
       "75%       112.000000\n",
       "max      1436.000000\n",
       "Name: Mensagens Inbound, dtype: float64"
      ]
     },
     "execution_count": 385,
     "metadata": {},
     "output_type": "execute_result"
    }
   ],
   "source": [
    "df_regr['Mensagens Inbound'].describe()"
   ]
  },
  {
   "cell_type": "code",
   "execution_count": 386,
   "metadata": {},
   "outputs": [
    {
     "name": "stderr",
     "output_type": "stream",
     "text": [
      "C:\\Users\\jalfr\\AppData\\Local\\Temp\\ipykernel_6356\\2941231498.py:4: SettingWithCopyWarning: \n",
      "A value is trying to be set on a copy of a slice from a DataFrame.\n",
      "Try using .loc[row_indexer,col_indexer] = value instead\n",
      "\n",
      "See the caveats in the documentation: https://pandas.pydata.org/pandas-docs/stable/user_guide/indexing.html#returning-a-view-versus-a-copy\n",
      "  df_aux['Mensagens Inbound Range'] = pd.cut(df_aux['Mensagens Inbound'], bins, labels=names)\n",
      "C:\\Users\\jalfr\\AppData\\Local\\Temp\\ipykernel_6356\\2941231498.py:6: SettingWithCopyWarning: \n",
      "A value is trying to be set on a copy of a slice from a DataFrame.\n",
      "Try using .loc[row_indexer,col_indexer] = value instead\n",
      "\n",
      "See the caveats in the documentation: https://pandas.pydata.org/pandas-docs/stable/user_guide/indexing.html#returning-a-view-versus-a-copy\n",
      "  df_aux['Mensagens Outbound Range'] = pd.cut(df_aux['Mensagens Outbound'], bins, labels=names)\n"
     ]
    }
   ],
   "source": [
    "bins = [0, 10, 20, 50, 100, 150, 200, np.inf]\n",
    "names = ['<10', '10-19', '20-49', '50-99', '100-149', '150-199', '200+']\n",
    "\n",
    "df_aux['Mensagens Inbound Range'] = pd.cut(df_aux['Mensagens Inbound'], bins, labels=names)\n",
    "\n",
    "df_aux['Mensagens Outbound Range'] = pd.cut(df_aux['Mensagens Outbound'], bins, labels=names)"
   ]
  },
  {
   "cell_type": "code",
   "execution_count": 387,
   "metadata": {},
   "outputs": [
    {
     "data": {
      "text/plain": [
       "<AxesSubplot:title={'center':'Impacto do Número de Mensagens Enviadas pela Empresa na Assinatura do Cliente'}, xlabel='Status Assinatura', ylabel='Número de Mensagens'>"
      ]
     },
     "execution_count": 387,
     "metadata": {},
     "output_type": "execute_result"
    },
    {
     "data": {
      "image/png": "[encoded data removed]",
      "text/plain": [
       "<Figure size 720x432 with 1 Axes>"
      ]
     },
     "metadata": {
      "needs_background": "light"
     },
     "output_type": "display_data"
    }
   ],
   "source": [
    "df_aux.groupby('Status Assinatura')['Mensagens Inbound Range'].value_counts().unstack().plot(kind='bar', rot=0, ylabel='Número de Mensagens', title='Impacto do Número de Mensagens Enviadas pela Empresa na Assinatura do Cliente', figsize=(10,6))"
   ]
  },
  {
   "cell_type": "code",
   "execution_count": 388,
   "metadata": {},
   "outputs": [
    {
     "data": {
      "text/plain": [
       "Status Assinatura\n",
       "Ativa      AxesSubplot(0.125,0.125;0.775x0.755)\n",
       "Inativa    AxesSubplot(0.125,0.125;0.775x0.755)\n",
       "Name: Mensagens Inbound, dtype: object"
      ]
     },
     "execution_count": 388,
     "metadata": {},
     "output_type": "execute_result"
    },
    {
     "data": {
      "image/png": "[encoded data removed]",
      "text/plain": [
       "<Figure size 720x432 with 1 Axes>"
      ]
     },
     "metadata": {
      "needs_background": "light"
     },
     "output_type": "display_data"
    }
   ],
   "source": [
    "df_aux.groupby('Status Assinatura')['Mensagens Inbound'].plot(kind='hist', rot=0, title='Impacto do Número de Mensagens Enviadas pela Empresa na Assinatura do Cliente', figsize=(10,6), legend=True, density=True, alpha=0.75)"
   ]
  },
  {
   "cell_type": "code",
   "execution_count": 389,
   "metadata": {},
   "outputs": [
    {
     "data": {
      "text/plain": [
       "<AxesSubplot:title={'center':'Impacto do Número de Mensagens Enviadas pelo Cliente na Assinatura do Cliente'}, xlabel='Status Assinatura', ylabel='Número de Mensagens'>"
      ]
     },
     "execution_count": 389,
     "metadata": {},
     "output_type": "execute_result"
    },
    {
     "data": {
      "image/png": "[encoded data removed]",
      "text/plain": [
       "<Figure size 720x432 with 1 Axes>"
      ]
     },
     "metadata": {
      "needs_background": "light"
     },
     "output_type": "display_data"
    }
   ],
   "source": [
    "df_aux.groupby('Status Assinatura')['Mensagens Outbound Range'].value_counts().unstack().plot(kind='bar', rot=0, ylabel='Número de Mensagens', title='Impacto do Número de Mensagens Enviadas pelo Cliente na Assinatura do Cliente', figsize=(10,6))"
   ]
  },
  {
   "cell_type": "code",
   "execution_count": 390,
   "metadata": {},
   "outputs": [
    {
     "data": {
      "text/plain": [
       "Status Assinatura\n",
       "Ativa      AxesSubplot(0.125,0.125;0.775x0.755)\n",
       "Inativa    AxesSubplot(0.125,0.125;0.775x0.755)\n",
       "Name: Mensagens Outbound, dtype: object"
      ]
     },
     "execution_count": 390,
     "metadata": {},
     "output_type": "execute_result"
    },
    {
     "data": {
      "image/png": "[encoded data removed]",
      "text/plain": [
       "<Figure size 720x432 with 1 Axes>"
      ]
     },
     "metadata": {
      "needs_background": "light"
     },
     "output_type": "display_data"
    }
   ],
   "source": [
    "df_aux.groupby('Status Assinatura')['Mensagens Outbound'].plot(kind='hist', rot=0, title='Impacto do Número de Mensagens Enviadas pelo Cliente na Assinatura do Mesmo', figsize=(10,6), legend=True, density=True, alpha=0.75)"
   ]
  },
  {
   "cell_type": "code",
   "execution_count": 391,
   "metadata": {},
   "outputs": [
    {
     "data": {
      "text/plain": [
       "count    753.000000\n",
       "mean       0.677291\n",
       "std        6.011578\n",
       "min        0.000000\n",
       "25%        0.000000\n",
       "50%        0.000000\n",
       "75%        0.000000\n",
       "max       80.000000\n",
       "Name: Ligações Inbound, dtype: float64"
      ]
     },
     "execution_count": 391,
     "metadata": {},
     "output_type": "execute_result"
    }
   ],
   "source": [
    "df_regr['Ligações Inbound'].describe()"
   ]
  },
  {
   "cell_type": "code",
   "execution_count": 392,
   "metadata": {},
   "outputs": [
    {
     "data": {
      "text/plain": [
       "Status Assinatura\n",
       "Ativa      AxesSubplot(0.125,0.125;0.775x0.755)\n",
       "Inativa    AxesSubplot(0.125,0.125;0.775x0.755)\n",
       "Name: Ligações Inbound, dtype: object"
      ]
     },
     "execution_count": 392,
     "metadata": {},
     "output_type": "execute_result"
    },
    {
     "data": {
      "image/png": "[encoded data removed]",
      "text/plain": [
       "<Figure size 720x432 with 1 Axes>"
      ]
     },
     "metadata": {
      "needs_background": "light"
     },
     "output_type": "display_data"
    }
   ],
   "source": [
    "df_aux.groupby('Status Assinatura')['Ligações Inbound'].plot(kind='hist', rot=0, title=' Impacto do Número de Ligações da Empresa no Status do Cliente', figsize=(10,6), legend=True, density=True, alpha=0.75)"
   ]
  },
  {
   "cell_type": "code",
   "execution_count": 393,
   "metadata": {},
   "outputs": [
    {
     "data": {
      "text/plain": [
       "<AxesSubplot:title={'center':'Impacto do Número de Ligações do Usuário no Status do Cliente'}, xlabel='Status Assinatura', ylabel='Número de Usuários'>"
      ]
     },
     "execution_count": 393,
     "metadata": {},
     "output_type": "execute_result"
    },
    {
     "data": {
      "image/png": "[encoded data removed]",
      "text/plain": [
       "<Figure size 720x432 with 1 Axes>"
      ]
     },
     "metadata": {
      "needs_background": "light"
     },
     "output_type": "display_data"
    }
   ],
   "source": [
    "df_aux.groupby('Status Assinatura')['Ligações Outbound'].value_counts().unstack().plot(kind='bar', rot=0, ylabel='Número de Usuários', title='Impacto do Número de Ligações do Usuário no Status do Cliente', figsize=(10,6))"
   ]
  },
  {
   "cell_type": "code",
   "execution_count": 394,
   "metadata": {},
   "outputs": [
    {
     "name": "stderr",
     "output_type": "stream",
     "text": [
      "C:\\Users\\jalfr\\AppData\\Local\\Temp\\ipykernel_6356\\4072466146.py:10: SettingWithCopyWarning: \n",
      "A value is trying to be set on a copy of a slice from a DataFrame.\n",
      "Try using .loc[row_indexer,col_indexer] = value instead\n",
      "\n",
      "See the caveats in the documentation: https://pandas.pydata.org/pandas-docs/stable/user_guide/indexing.html#returning-a-view-versus-a-copy\n",
      "  df_aux['Quem liga mais'] = df.apply(lambda row: retornaMensagensMais(row['Ligações Inbound'], row['Ligações Outbound']), axis=1)\n"
     ]
    },
    {
     "data": {
      "text/plain": [
       "1193     Empate\n",
       "1190     Empate\n",
       "1189     Empate\n",
       "1188     Empate\n",
       "1187     Empate\n",
       "         ...   \n",
       "38       Empate\n",
       "39       Empate\n",
       "68       Empate\n",
       "28       Empate\n",
       "24      Empresa\n",
       "Name: Quem liga mais, Length: 972, dtype: object"
      ]
     },
     "execution_count": 394,
     "metadata": {},
     "output_type": "execute_result"
    }
   ],
   "source": [
    "def retornaMensagensMais(x,y):\n",
    "    if x>y:\n",
    "        return 'Cliente'\n",
    "    elif y>x:\n",
    "        return 'Empresa'\n",
    "    return 'Empate'\n",
    "\n",
    "\n",
    "\n",
    "df_aux['Quem liga mais'] = df.apply(lambda row: retornaMensagensMais(row['Ligações Inbound'], row['Ligações Outbound']), axis=1)\n",
    "\n",
    "df_aux['Quem liga mais']"
   ]
  },
  {
   "cell_type": "code",
   "execution_count": 395,
   "metadata": {},
   "outputs": [
    {
     "data": {
      "text/plain": [
       "<AxesSubplot:title={'center':'Impacto de Quem Faz Mais Ligações no Status do Cliente'}, xlabel='Status Assinatura', ylabel='Número de Usuários'>"
      ]
     },
     "execution_count": 395,
     "metadata": {},
     "output_type": "execute_result"
    },
    {
     "data": {
      "image/png": "[encoded data removed]",
      "text/plain": [
       "<Figure size 720x432 with 1 Axes>"
      ]
     },
     "metadata": {
      "needs_background": "light"
     },
     "output_type": "display_data"
    }
   ],
   "source": [
    "df_aux.groupby('Status Assinatura')['Quem liga mais'].value_counts().unstack().plot(kind='bar', rot=0, ylabel='Número de Usuários', title='Impacto de Quem Faz Mais Ligações no Status do Cliente', figsize=(10,6))"
   ]
  },
  {
   "cell_type": "code",
   "execution_count": 396,
   "metadata": {},
   "outputs": [
    {
     "data": {
      "text/plain": [
       "count    208.000000\n",
       "mean       1.692308\n",
       "std        1.516906\n",
       "min        0.000000\n",
       "25%        1.000000\n",
       "50%        1.000000\n",
       "75%        2.000000\n",
       "max       11.000000\n",
       "Name: Qde Atendimento Médico, dtype: float64"
      ]
     },
     "execution_count": 396,
     "metadata": {},
     "output_type": "execute_result"
    }
   ],
   "source": [
    "df_aux['Qde Atendimento Médico'].describe()"
   ]
  },
  {
   "cell_type": "code",
   "execution_count": 397,
   "metadata": {},
   "outputs": [
    {
     "data": {
      "text/plain": [
       "Status Assinatura\n",
       "Ativa      AxesSubplot(0.125,0.125;0.775x0.755)\n",
       "Inativa    AxesSubplot(0.125,0.125;0.775x0.755)\n",
       "Name: Qde Atendimento Médico, dtype: object"
      ]
     },
     "execution_count": 397,
     "metadata": {},
     "output_type": "execute_result"
    },
    {
     "data": {
      "image/png": "[encoded data removed]",
      "text/plain": [
       "<Figure size 720x432 with 1 Axes>"
      ]
     },
     "metadata": {
      "needs_background": "light"
     },
     "output_type": "display_data"
    }
   ],
   "source": [
    "df_aux.groupby('Status Assinatura')['Qde Atendimento Médico'].plot(kind='hist', rot=0, title='Impacto do Número de Atendimentos Médicos no Status do Cliente', figsize=(10,6), legend=True, density=True, alpha=0.75)"
   ]
  },
  {
   "cell_type": "code",
   "execution_count": 398,
   "metadata": {},
   "outputs": [
    {
     "data": {
      "text/plain": [
       "Status Assinatura\n",
       "Ativa      AxesSubplot(0.125,0.125;0.775x0.755)\n",
       "Inativa    AxesSubplot(0.125,0.125;0.775x0.755)\n",
       "Name: Faltas Atendimento Médico, dtype: object"
      ]
     },
     "execution_count": 398,
     "metadata": {},
     "output_type": "execute_result"
    },
    {
     "data": {
      "image/png": "[encoded data removed]",
      "text/plain": [
       "<Figure size 720x432 with 1 Axes>"
      ]
     },
     "metadata": {
      "needs_background": "light"
     },
     "output_type": "display_data"
    }
   ],
   "source": [
    "df_aux.groupby('Status Assinatura')['Faltas Atendimento Médico'].plot(kind='hist', rot=0, title='Faltas de Atendimento Médico X Status do Cliente', figsize=(10,6), legend=True, density=True, alpha=0.75)"
   ]
  },
  {
   "cell_type": "code",
   "execution_count": 399,
   "metadata": {},
   "outputs": [
    {
     "data": {
      "text/plain": [
       "count    426.000000\n",
       "mean      11.495305\n",
       "std       11.544950\n",
       "min        1.000000\n",
       "25%        3.000000\n",
       "50%        8.000000\n",
       "75%       17.000000\n",
       "max       64.000000\n",
       "Name: Qde Psicoterapia, dtype: float64"
      ]
     },
     "execution_count": 399,
     "metadata": {},
     "output_type": "execute_result"
    }
   ],
   "source": [
    "df_aux['Qde Psicoterapia'].describe()"
   ]
  },
  {
   "cell_type": "code",
   "execution_count": 400,
   "metadata": {},
   "outputs": [
    {
     "name": "stderr",
     "output_type": "stream",
     "text": [
      "C:\\Users\\jalfr\\AppData\\Local\\Temp\\ipykernel_6356\\1319644578.py:4: SettingWithCopyWarning: \n",
      "A value is trying to be set on a copy of a slice from a DataFrame.\n",
      "Try using .loc[row_indexer,col_indexer] = value instead\n",
      "\n",
      "See the caveats in the documentation: https://pandas.pydata.org/pandas-docs/stable/user_guide/indexing.html#returning-a-view-versus-a-copy\n",
      "  df_aux['Qde Psicoterapia Range'] = pd.cut(df_aux['Qde Psicoterapia'], bins, labels=names)\n"
     ]
    }
   ],
   "source": [
    "bins = [0, 10, 20, 30, 40, 50, np.inf]\n",
    "names = ['<10', '10-19', '20-29', '30-39', '40-49', '50+']\n",
    "\n",
    "df_aux['Qde Psicoterapia Range'] = pd.cut(df_aux['Qde Psicoterapia'], bins, labels=names)"
   ]
  },
  {
   "cell_type": "code",
   "execution_count": 401,
   "metadata": {},
   "outputs": [
    {
     "data": {
      "text/plain": [
       "Status Assinatura\n",
       "Ativa      AxesSubplot(0.125,0.125;0.775x0.755)\n",
       "Inativa    AxesSubplot(0.125,0.125;0.775x0.755)\n",
       "Name: Qde Psicoterapia, dtype: object"
      ]
     },
     "execution_count": 401,
     "metadata": {},
     "output_type": "execute_result"
    },
    {
     "data": {
      "image/png": "[encoded data removed]",
      "text/plain": [
       "<Figure size 720x432 with 1 Axes>"
      ]
     },
     "metadata": {
      "needs_background": "light"
     },
     "output_type": "display_data"
    }
   ],
   "source": [
    "df_aux.groupby('Status Assinatura')['Qde Psicoterapia'].plot(kind='hist', title='Atendimentos Psicoterapia X Status do Cliente', figsize=(10,6), legend=True, alpha=0.75, density=True)"
   ]
  },
  {
   "cell_type": "code",
   "execution_count": 402,
   "metadata": {},
   "outputs": [
    {
     "data": {
      "text/plain": [
       "Status Assinatura\n",
       "Ativa      AxesSubplot(0.125,0.125;0.775x0.755)\n",
       "Inativa    AxesSubplot(0.125,0.125;0.775x0.755)\n",
       "Name: Faltas Psicoterapia, dtype: object"
      ]
     },
     "execution_count": 402,
     "metadata": {},
     "output_type": "execute_result"
    },
    {
     "data": {
      "image/png": "[encoded data removed]",
      "text/plain": [
       "<Figure size 720x432 with 1 Axes>"
      ]
     },
     "metadata": {
      "needs_background": "light"
     },
     "output_type": "display_data"
    }
   ],
   "source": [
    "df_aux.groupby('Status Assinatura')['Faltas Psicoterapia'].plot(kind='hist', title='Média WHOQOL Faltas Psicoterapia X Status do Cliente', figsize=(10,6), legend=True, alpha=0.75, density=True)"
   ]
  },
  {
   "cell_type": "code",
   "execution_count": 403,
   "metadata": {},
   "outputs": [
    {
     "data": {
      "text/plain": [
       "Status Assinatura\n",
       "Ativa      AxesSubplot(0.125,0.125;0.775x0.755)\n",
       "Inativa    AxesSubplot(0.125,0.125;0.775x0.755)\n",
       "Name: Físico, dtype: object"
      ]
     },
     "execution_count": 403,
     "metadata": {},
     "output_type": "execute_result"
    },
    {
     "data": {
      "image/png": "[encoded data removed]",
      "text/plain": [
       "<Figure size 720x432 with 1 Axes>"
      ]
     },
     "metadata": {
      "needs_background": "light"
     },
     "output_type": "display_data"
    }
   ],
   "source": [
    "df_aux.groupby('Status Assinatura')['Físico'].plot(kind='hist', title='Média WHOQOL Físico X Status do Cliente', figsize=(10,6), legend=True, alpha=0.75, density=True)"
   ]
  },
  {
   "cell_type": "code",
   "execution_count": 404,
   "metadata": {},
   "outputs": [
    {
     "data": {
      "text/plain": [
       "Status Assinatura\n",
       "Ativa      AxesSubplot(0.125,0.125;0.775x0.755)\n",
       "Inativa    AxesSubplot(0.125,0.125;0.775x0.755)\n",
       "Name: Psicológico, dtype: object"
      ]
     },
     "execution_count": 404,
     "metadata": {},
     "output_type": "execute_result"
    },
    {
     "data": {
      "image/png": "[encoded data removed]",
      "text/plain": [
       "<Figure size 720x432 with 1 Axes>"
      ]
     },
     "metadata": {
      "needs_background": "light"
     },
     "output_type": "display_data"
    }
   ],
   "source": [
    "df_aux.groupby('Status Assinatura')['Psicológico'].plot(kind='hist', title='Média WHOQOL Psicológico X Status do Cliente', figsize=(10,6), legend=True, alpha=0.75, density=True)"
   ]
  },
  {
   "cell_type": "code",
   "execution_count": 405,
   "metadata": {},
   "outputs": [
    {
     "data": {
      "text/plain": [
       "Status Assinatura\n",
       "Ativa      AxesSubplot(0.125,0.125;0.775x0.755)\n",
       "Inativa    AxesSubplot(0.125,0.125;0.775x0.755)\n",
       "Name: Social, dtype: object"
      ]
     },
     "execution_count": 405,
     "metadata": {},
     "output_type": "execute_result"
    },
    {
     "data": {
      "image/png": "[encoded data removed]",
      "text/plain": [
       "<Figure size 720x432 with 1 Axes>"
      ]
     },
     "metadata": {
      "needs_background": "light"
     },
     "output_type": "display_data"
    }
   ],
   "source": [
    "df_aux.groupby('Status Assinatura')['Social'].plot(kind='hist', title='Média WHOQOL Social X Status do Cliente', figsize=(10,6), legend=True, alpha=0.75, density=True)"
   ]
  }
 ],
 "metadata": {
  "kernelspec": {
   "display_name": "Python 3",
   "language": "python",
   "name": "python3"
  },
  "language_info": {
   "codemirror_mode": {
    "name": "ipython",
    "version": 3
   },
   "file_extension": ".py",
   "mimetype": "text/x-python",
   "name": "python",
   "nbconvert_exporter": "python",
   "pygments_lexer": "ipython3",
   "version": "3.11.4"
  }
 },
 "nbformat": 4,
 "nbformat_minor": 2
}
