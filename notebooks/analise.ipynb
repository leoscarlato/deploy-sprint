{
 "cells": [
  {
   "cell_type": "code",
   "execution_count": 2,
   "metadata": {},
   "outputs": [],
   "source": [
    "import matplotlib.pyplot as plt\n",
    "import numpy as np\n",
    "import pandas as pd\n",
    "import seaborn as sns\n",
    "\n",
    "RANDOM_SEED = 42"
   ]
  },
  {
   "cell_type": "code",
   "execution_count": 3,
   "metadata": {},
   "outputs": [
    {
     "data": {
      "text/html": [
       "<div>\n",
       "<style scoped>\n",
       "    .dataframe tbody tr th:only-of-type {\n",
       "        vertical-align: middle;\n",
       "    }\n",
       "\n",
       "    .dataframe tbody tr th {\n",
       "        vertical-align: top;\n",
       "    }\n",
       "\n",
       "    .dataframe thead th {\n",
       "        text-align: right;\n",
       "    }\n",
       "</style>\n",
       "<table border=\"1\" class=\"dataframe\">\n",
       "  <thead>\n",
       "    <tr style=\"text-align: right;\">\n",
       "      <th></th>\n",
       "      <th>id_person</th>\n",
       "      <th>birthdate</th>\n",
       "      <th>id_gender</th>\n",
       "      <th>id_marrital_status</th>\n",
       "      <th>state</th>\n",
       "      <th>city</th>\n",
       "      <th>postal_code</th>\n",
       "      <th>id_health_plan</th>\n",
       "      <th>id_person_recommendation</th>\n",
       "      <th>contract_start_date</th>\n",
       "      <th>...</th>\n",
       "      <th>Ligações Outbound</th>\n",
       "      <th>Data Última Ligações Outbound</th>\n",
       "      <th>Qde Total de Faturas</th>\n",
       "      <th>Qde Total de Tentativas de Cobrança</th>\n",
       "      <th>Método de Pagamento</th>\n",
       "      <th>Valor Médio da Mensalidade</th>\n",
       "      <th>Qde Total de Faturas Pagas após Vencimento</th>\n",
       "      <th>Qde Total de Faturas Inadimpletes</th>\n",
       "      <th>Valor Total Inadimplência</th>\n",
       "      <th>Qde Perfis de Pagamento Inativos</th>\n",
       "    </tr>\n",
       "  </thead>\n",
       "  <tbody>\n",
       "    <tr>\n",
       "      <th>0</th>\n",
       "      <td>250</td>\n",
       "      <td>1971-04-01</td>\n",
       "      <td>64.0</td>\n",
       "      <td>82.0</td>\n",
       "      <td>São Paulo</td>\n",
       "      <td>São Paulo</td>\n",
       "      <td>04534-020</td>\n",
       "      <td>417.0</td>\n",
       "      <td>NaN</td>\n",
       "      <td>2021-01-28</td>\n",
       "      <td>...</td>\n",
       "      <td>2.0</td>\n",
       "      <td>2022-04-25 19:18:52</td>\n",
       "      <td>NaN</td>\n",
       "      <td>NaN</td>\n",
       "      <td>NaN</td>\n",
       "      <td>NaN</td>\n",
       "      <td>NaN</td>\n",
       "      <td>NaN</td>\n",
       "      <td>NaN</td>\n",
       "      <td>False</td>\n",
       "    </tr>\n",
       "    <tr>\n",
       "      <th>1</th>\n",
       "      <td>254</td>\n",
       "      <td>NaN</td>\n",
       "      <td>NaN</td>\n",
       "      <td>NaN</td>\n",
       "      <td>North Carolina</td>\n",
       "      <td>Mecklenburg County</td>\n",
       "      <td>28203</td>\n",
       "      <td>NaN</td>\n",
       "      <td>NaN</td>\n",
       "      <td>2020-12-16</td>\n",
       "      <td>...</td>\n",
       "      <td>NaN</td>\n",
       "      <td>NaN</td>\n",
       "      <td>NaN</td>\n",
       "      <td>NaN</td>\n",
       "      <td>NaN</td>\n",
       "      <td>NaN</td>\n",
       "      <td>NaN</td>\n",
       "      <td>NaN</td>\n",
       "      <td>NaN</td>\n",
       "      <td>False</td>\n",
       "    </tr>\n",
       "    <tr>\n",
       "      <th>2</th>\n",
       "      <td>314</td>\n",
       "      <td>1985-08-01</td>\n",
       "      <td>NaN</td>\n",
       "      <td>NaN</td>\n",
       "      <td>São Paulo</td>\n",
       "      <td>São Paulo</td>\n",
       "      <td>05337-030</td>\n",
       "      <td>NaN</td>\n",
       "      <td>NaN</td>\n",
       "      <td>2021-01-21</td>\n",
       "      <td>...</td>\n",
       "      <td>NaN</td>\n",
       "      <td>NaN</td>\n",
       "      <td>NaN</td>\n",
       "      <td>NaN</td>\n",
       "      <td>NaN</td>\n",
       "      <td>NaN</td>\n",
       "      <td>NaN</td>\n",
       "      <td>NaN</td>\n",
       "      <td>NaN</td>\n",
       "      <td>False</td>\n",
       "    </tr>\n",
       "    <tr>\n",
       "      <th>3</th>\n",
       "      <td>315</td>\n",
       "      <td>NaN</td>\n",
       "      <td>NaN</td>\n",
       "      <td>NaN</td>\n",
       "      <td>NaN</td>\n",
       "      <td>NaN</td>\n",
       "      <td>NaN</td>\n",
       "      <td>NaN</td>\n",
       "      <td>NaN</td>\n",
       "      <td>2020-12-17</td>\n",
       "      <td>...</td>\n",
       "      <td>NaN</td>\n",
       "      <td>NaN</td>\n",
       "      <td>NaN</td>\n",
       "      <td>NaN</td>\n",
       "      <td>NaN</td>\n",
       "      <td>NaN</td>\n",
       "      <td>NaN</td>\n",
       "      <td>NaN</td>\n",
       "      <td>NaN</td>\n",
       "      <td>False</td>\n",
       "    </tr>\n",
       "    <tr>\n",
       "      <th>4</th>\n",
       "      <td>317</td>\n",
       "      <td>1986-10-14</td>\n",
       "      <td>NaN</td>\n",
       "      <td>NaN</td>\n",
       "      <td>São Paulo</td>\n",
       "      <td>São Paulo</td>\n",
       "      <td>05421-050</td>\n",
       "      <td>NaN</td>\n",
       "      <td>NaN</td>\n",
       "      <td>2021-01-18</td>\n",
       "      <td>...</td>\n",
       "      <td>NaN</td>\n",
       "      <td>NaN</td>\n",
       "      <td>NaN</td>\n",
       "      <td>NaN</td>\n",
       "      <td>NaN</td>\n",
       "      <td>NaN</td>\n",
       "      <td>NaN</td>\n",
       "      <td>NaN</td>\n",
       "      <td>NaN</td>\n",
       "      <td>False</td>\n",
       "    </tr>\n",
       "    <tr>\n",
       "      <th>...</th>\n",
       "      <td>...</td>\n",
       "      <td>...</td>\n",
       "      <td>...</td>\n",
       "      <td>...</td>\n",
       "      <td>...</td>\n",
       "      <td>...</td>\n",
       "      <td>...</td>\n",
       "      <td>...</td>\n",
       "      <td>...</td>\n",
       "      <td>...</td>\n",
       "      <td>...</td>\n",
       "      <td>...</td>\n",
       "      <td>...</td>\n",
       "      <td>...</td>\n",
       "      <td>...</td>\n",
       "      <td>...</td>\n",
       "      <td>...</td>\n",
       "      <td>...</td>\n",
       "      <td>...</td>\n",
       "      <td>...</td>\n",
       "      <td>...</td>\n",
       "    </tr>\n",
       "    <tr>\n",
       "      <th>1197</th>\n",
       "      <td>5948</td>\n",
       "      <td>1990-08-13</td>\n",
       "      <td>64.0</td>\n",
       "      <td>80.0</td>\n",
       "      <td>Bahia</td>\n",
       "      <td>Salvador</td>\n",
       "      <td>41830-120</td>\n",
       "      <td>NaN</td>\n",
       "      <td>NaN</td>\n",
       "      <td>2023-11-07</td>\n",
       "      <td>...</td>\n",
       "      <td>NaN</td>\n",
       "      <td>NaN</td>\n",
       "      <td>1.0</td>\n",
       "      <td>1.0</td>\n",
       "      <td>Cartão de crédito</td>\n",
       "      <td>50.0</td>\n",
       "      <td>0.0</td>\n",
       "      <td>0.0</td>\n",
       "      <td>0.0</td>\n",
       "      <td>False</td>\n",
       "    </tr>\n",
       "    <tr>\n",
       "      <th>1198</th>\n",
       "      <td>5949</td>\n",
       "      <td>1997-04-17</td>\n",
       "      <td>64.0</td>\n",
       "      <td>80.0</td>\n",
       "      <td>São Paulo</td>\n",
       "      <td>São Paulo</td>\n",
       "      <td>05014-001</td>\n",
       "      <td>NaN</td>\n",
       "      <td>NaN</td>\n",
       "      <td>2023-11-07</td>\n",
       "      <td>...</td>\n",
       "      <td>NaN</td>\n",
       "      <td>NaN</td>\n",
       "      <td>NaN</td>\n",
       "      <td>NaN</td>\n",
       "      <td>NaN</td>\n",
       "      <td>NaN</td>\n",
       "      <td>NaN</td>\n",
       "      <td>NaN</td>\n",
       "      <td>NaN</td>\n",
       "      <td>False</td>\n",
       "    </tr>\n",
       "    <tr>\n",
       "      <th>1199</th>\n",
       "      <td>5951</td>\n",
       "      <td>1973-10-20</td>\n",
       "      <td>111.0</td>\n",
       "      <td>83.0</td>\n",
       "      <td>São Paulo</td>\n",
       "      <td>São Paulo</td>\n",
       "      <td>04883-190</td>\n",
       "      <td>412.0</td>\n",
       "      <td>NaN</td>\n",
       "      <td>2023-10-02</td>\n",
       "      <td>...</td>\n",
       "      <td>NaN</td>\n",
       "      <td>NaN</td>\n",
       "      <td>NaN</td>\n",
       "      <td>NaN</td>\n",
       "      <td>NaN</td>\n",
       "      <td>NaN</td>\n",
       "      <td>NaN</td>\n",
       "      <td>NaN</td>\n",
       "      <td>NaN</td>\n",
       "      <td>False</td>\n",
       "    </tr>\n",
       "    <tr>\n",
       "      <th>1200</th>\n",
       "      <td>5954</td>\n",
       "      <td>1970-08-14</td>\n",
       "      <td>63.0</td>\n",
       "      <td>82.0</td>\n",
       "      <td>São Paulo</td>\n",
       "      <td>São Paulo</td>\n",
       "      <td>04513-100</td>\n",
       "      <td>NaN</td>\n",
       "      <td>NaN</td>\n",
       "      <td>2023-11-07</td>\n",
       "      <td>...</td>\n",
       "      <td>NaN</td>\n",
       "      <td>NaN</td>\n",
       "      <td>1.0</td>\n",
       "      <td>1.0</td>\n",
       "      <td>Cartão de crédito</td>\n",
       "      <td>120.0</td>\n",
       "      <td>0.0</td>\n",
       "      <td>0.0</td>\n",
       "      <td>0.0</td>\n",
       "      <td>False</td>\n",
       "    </tr>\n",
       "    <tr>\n",
       "      <th>1201</th>\n",
       "      <td>5956</td>\n",
       "      <td>1985-01-26</td>\n",
       "      <td>63.0</td>\n",
       "      <td>82.0</td>\n",
       "      <td>Rio de Janeiro</td>\n",
       "      <td>Rio de Janeiro</td>\n",
       "      <td>22280-010</td>\n",
       "      <td>NaN</td>\n",
       "      <td>NaN</td>\n",
       "      <td>2023-11-08</td>\n",
       "      <td>...</td>\n",
       "      <td>NaN</td>\n",
       "      <td>NaN</td>\n",
       "      <td>NaN</td>\n",
       "      <td>NaN</td>\n",
       "      <td>NaN</td>\n",
       "      <td>NaN</td>\n",
       "      <td>NaN</td>\n",
       "      <td>NaN</td>\n",
       "      <td>NaN</td>\n",
       "      <td>False</td>\n",
       "    </tr>\n",
       "  </tbody>\n",
       "</table>\n",
       "<p>1202 rows × 75 columns</p>\n",
       "</div>"
      ],
      "text/plain": [
       "      id_person   birthdate  id_gender  id_marrital_status           state  \\\n",
       "0           250  1971-04-01       64.0                82.0       São Paulo   \n",
       "1           254         NaN        NaN                 NaN  North Carolina   \n",
       "2           314  1985-08-01        NaN                 NaN       São Paulo   \n",
       "3           315         NaN        NaN                 NaN             NaN   \n",
       "4           317  1986-10-14        NaN                 NaN       São Paulo   \n",
       "...         ...         ...        ...                 ...             ...   \n",
       "1197       5948  1990-08-13       64.0                80.0           Bahia   \n",
       "1198       5949  1997-04-17       64.0                80.0       São Paulo   \n",
       "1199       5951  1973-10-20      111.0                83.0       São Paulo   \n",
       "1200       5954  1970-08-14       63.0                82.0       São Paulo   \n",
       "1201       5956  1985-01-26       63.0                82.0  Rio de Janeiro   \n",
       "\n",
       "                    city postal_code  id_health_plan  \\\n",
       "0              São Paulo   04534-020           417.0   \n",
       "1     Mecklenburg County       28203             NaN   \n",
       "2              São Paulo   05337-030             NaN   \n",
       "3                    NaN         NaN             NaN   \n",
       "4              São Paulo   05421-050             NaN   \n",
       "...                  ...         ...             ...   \n",
       "1197            Salvador   41830-120             NaN   \n",
       "1198           São Paulo   05014-001             NaN   \n",
       "1199           São Paulo   04883-190           412.0   \n",
       "1200           São Paulo   04513-100             NaN   \n",
       "1201      Rio de Janeiro   22280-010             NaN   \n",
       "\n",
       "      id_person_recommendation contract_start_date  ... Ligações Outbound  \\\n",
       "0                          NaN          2021-01-28  ...               2.0   \n",
       "1                          NaN          2020-12-16  ...               NaN   \n",
       "2                          NaN          2021-01-21  ...               NaN   \n",
       "3                          NaN          2020-12-17  ...               NaN   \n",
       "4                          NaN          2021-01-18  ...               NaN   \n",
       "...                        ...                 ...  ...               ...   \n",
       "1197                       NaN          2023-11-07  ...               NaN   \n",
       "1198                       NaN          2023-11-07  ...               NaN   \n",
       "1199                       NaN          2023-10-02  ...               NaN   \n",
       "1200                       NaN          2023-11-07  ...               NaN   \n",
       "1201                       NaN          2023-11-08  ...               NaN   \n",
       "\n",
       "      Data Última Ligações Outbound Qde Total de Faturas  \\\n",
       "0               2022-04-25 19:18:52                  NaN   \n",
       "1                               NaN                  NaN   \n",
       "2                               NaN                  NaN   \n",
       "3                               NaN                  NaN   \n",
       "4                               NaN                  NaN   \n",
       "...                             ...                  ...   \n",
       "1197                            NaN                  1.0   \n",
       "1198                            NaN                  NaN   \n",
       "1199                            NaN                  NaN   \n",
       "1200                            NaN                  1.0   \n",
       "1201                            NaN                  NaN   \n",
       "\n",
       "      Qde Total de Tentativas de Cobrança Método de Pagamento  \\\n",
       "0                                     NaN                 NaN   \n",
       "1                                     NaN                 NaN   \n",
       "2                                     NaN                 NaN   \n",
       "3                                     NaN                 NaN   \n",
       "4                                     NaN                 NaN   \n",
       "...                                   ...                 ...   \n",
       "1197                                  1.0   Cartão de crédito   \n",
       "1198                                  NaN                 NaN   \n",
       "1199                                  NaN                 NaN   \n",
       "1200                                  1.0   Cartão de crédito   \n",
       "1201                                  NaN                 NaN   \n",
       "\n",
       "     Valor Médio da Mensalidade  Qde Total de Faturas Pagas após Vencimento  \\\n",
       "0                           NaN                                         NaN   \n",
       "1                           NaN                                         NaN   \n",
       "2                           NaN                                         NaN   \n",
       "3                           NaN                                         NaN   \n",
       "4                           NaN                                         NaN   \n",
       "...                         ...                                         ...   \n",
       "1197                       50.0                                         0.0   \n",
       "1198                        NaN                                         NaN   \n",
       "1199                        NaN                                         NaN   \n",
       "1200                      120.0                                         0.0   \n",
       "1201                        NaN                                         NaN   \n",
       "\n",
       "      Qde Total de Faturas Inadimpletes Valor Total Inadimplência  \\\n",
       "0                                   NaN                       NaN   \n",
       "1                                   NaN                       NaN   \n",
       "2                                   NaN                       NaN   \n",
       "3                                   NaN                       NaN   \n",
       "4                                   NaN                       NaN   \n",
       "...                                 ...                       ...   \n",
       "1197                                0.0                       0.0   \n",
       "1198                                NaN                       NaN   \n",
       "1199                                NaN                       NaN   \n",
       "1200                                0.0                       0.0   \n",
       "1201                                NaN                       NaN   \n",
       "\n",
       "     Qde Perfis de Pagamento Inativos  \n",
       "0                               False  \n",
       "1                               False  \n",
       "2                               False  \n",
       "3                               False  \n",
       "4                               False  \n",
       "...                               ...  \n",
       "1197                            False  \n",
       "1198                            False  \n",
       "1199                            False  \n",
       "1200                            False  \n",
       "1201                            False  \n",
       "\n",
       "[1202 rows x 75 columns]"
      ]
     },
     "execution_count": 3,
     "metadata": {},
     "output_type": "execute_result"
    }
   ],
   "source": [
    "df = pd.read_csv(\"./../data/Ana_Health-Tabela_Modelo_Previsao_Churn.csv\",skiprows=1)\n",
    "df"
   ]
  },
  {
   "cell_type": "code",
   "execution_count": 4,
   "metadata": {},
   "outputs": [
    {
     "name": "stdout",
     "output_type": "stream",
     "text": [
      "<class 'pandas.core.frame.DataFrame'>\n",
      "RangeIndex: 1202 entries, 0 to 1201\n",
      "Data columns (total 75 columns):\n",
      " #   Column                                      Non-Null Count  Dtype  \n",
      "---  ------                                      --------------  -----  \n",
      " 0   id_person                                   1202 non-null   int64  \n",
      " 1   birthdate                                   1191 non-null   object \n",
      " 2   id_gender                                   1178 non-null   float64\n",
      " 3   id_marrital_status                          1178 non-null   float64\n",
      " 4   state                                       1185 non-null   object \n",
      " 5   city                                        1183 non-null   object \n",
      " 6   postal_code                                 1163 non-null   object \n",
      " 7   id_health_plan                              524 non-null    float64\n",
      " 8   id_person_recommendation                    110 non-null    float64\n",
      " 9   contract_start_date                         1202 non-null   object \n",
      " 10  contract_end_date                           564 non-null    object \n",
      " 11  id_continuity_pf                            395 non-null    float64\n",
      " 12  Recebe Comunicados?                         62 non-null     object \n",
      " 13  Canal de Preferência                        384 non-null    float64\n",
      " 14  Interesses                                  62 non-null     object \n",
      " 15  Pontos de Atenção                           62 non-null     object \n",
      " 16  notes_count                                 1202 non-null   int64  \n",
      " 17  done_activities_count                       1202 non-null   int64  \n",
      " 18  id_stage                                    1079 non-null   object \n",
      " 19  id_org                                      886 non-null    object \n",
      " 20  status                                      1079 non-null   object \n",
      " 21  start_of_service                            1065 non-null   object \n",
      " 22  lost_time                                   519 non-null    object \n",
      " 23  lost_reason                                 520 non-null    object \n",
      " 24  age_total_seconds                           1079 non-null   object \n",
      " 25  add_time                                    1116 non-null   object \n",
      " 26  status.1                                    1116 non-null   object \n",
      " 27  id_label                                    103 non-null    float64\n",
      " 28  stay_in_pipeline_stages_welcome             1116 non-null   float64\n",
      " 29  stay_in_pipeline_stages_first_meeting       924 non-null    float64\n",
      " 30  stay_in_pipeline_stages_whoqol              864 non-null    float64\n",
      " 31  won_time                                    693 non-null    object \n",
      " 32  lost_time.1                                 317 non-null    object \n",
      " 33  lost_reason.1                               317 non-null    object \n",
      " 34  age_total_seconds.1                         1116 non-null   float64\n",
      " 35  activities_count                            1116 non-null   float64\n",
      " 36  Qde Todos Atendimentos                      1202 non-null   bool   \n",
      " 37  Faltas Todos Atendimento                    1202 non-null   bool   \n",
      " 38  Cancelamentos Todos Atendimento             1202 non-null   bool   \n",
      " 39  Qde Atendimento Médico                      1202 non-null   bool   \n",
      " 40  Faltas Atendimento Médico                   1202 non-null   bool   \n",
      " 41  Cancelamentos Atendimento Médico            1202 non-null   bool   \n",
      " 42  Datas Atendimento Médico                    1202 non-null   bool   \n",
      " 43  Qde Atendimentos Acolhimento                1202 non-null   bool   \n",
      " 44  Faltas Acolhimento                          1202 non-null   bool   \n",
      " 45  Cancelamentos Acolhimento                   1202 non-null   bool   \n",
      " 46  Datas Acolhimento                           1202 non-null   bool   \n",
      " 47  Qde Psicoterapia                            459 non-null    float64\n",
      " 48  Faltas Psicoterapia                         180 non-null    float64\n",
      " 49  Datas Psicoterapia                          459 non-null    object \n",
      " 50  Cancelamentos Psicoterapia                  1202 non-null   bool   \n",
      " 51  Qde Prescrições                             1202 non-null   bool   \n",
      " 52  Datas Prescrição                            1202 non-null   bool   \n",
      " 53  Qde Respostas WHOQOL                        898 non-null    float64\n",
      " 54  Físico                                      898 non-null    object \n",
      " 55  Psicológico                                 898 non-null    object \n",
      " 56  Social                                      898 non-null    object \n",
      " 57  Ambiental                                   898 non-null    object \n",
      " 58  Problemas Abertos                           610 non-null    object \n",
      " 59  Mensagens Inbound                           1091 non-null   float64\n",
      " 60  Data Última Mensagens Inbound               1091 non-null   object \n",
      " 61  Mensagens Outbound                          1158 non-null   float64\n",
      " 62  Data Última Mensagens Outbound              1158 non-null   object \n",
      " 63  Ligações Inbound                            118 non-null    float64\n",
      " 64  Data Última Ligações Inbound                118 non-null    object \n",
      " 65  Ligações Outbound                           579 non-null    float64\n",
      " 66  Data Última Ligações Outbound               579 non-null    object \n",
      " 67  Qde Total de Faturas                        252 non-null    float64\n",
      " 68  Qde Total de Tentativas de Cobrança         252 non-null    float64\n",
      " 69  Método de Pagamento                         252 non-null    object \n",
      " 70  Valor Médio da Mensalidade                  252 non-null    float64\n",
      " 71  Qde Total de Faturas Pagas após Vencimento  252 non-null    float64\n",
      " 72  Qde Total de Faturas Inadimpletes           252 non-null    float64\n",
      " 73  Valor Total Inadimplência                   252 non-null    float64\n",
      " 74  Qde Perfis de Pagamento Inativos            1202 non-null   bool   \n",
      "dtypes: bool(15), float64(25), int64(3), object(32)\n",
      "memory usage: 581.2+ KB\n"
     ]
    }
   ],
   "source": [
    "df.info()"
   ]
  },
  {
   "cell_type": "code",
   "execution_count": 5,
   "metadata": {},
   "outputs": [
    {
     "data": {
      "text/html": [
       "<div>\n",
       "<style scoped>\n",
       "    .dataframe tbody tr th:only-of-type {\n",
       "        vertical-align: middle;\n",
       "    }\n",
       "\n",
       "    .dataframe tbody tr th {\n",
       "        vertical-align: top;\n",
       "    }\n",
       "\n",
       "    .dataframe thead th {\n",
       "        text-align: right;\n",
       "    }\n",
       "</style>\n",
       "<table border=\"1\" class=\"dataframe\">\n",
       "  <thead>\n",
       "    <tr style=\"text-align: right;\">\n",
       "      <th></th>\n",
       "      <th>id_person</th>\n",
       "      <th>id_gender</th>\n",
       "      <th>id_marrital_status</th>\n",
       "      <th>id_health_plan</th>\n",
       "      <th>id_person_recommendation</th>\n",
       "      <th>id_continuity_pf</th>\n",
       "      <th>Canal de Preferência</th>\n",
       "      <th>notes_count</th>\n",
       "      <th>done_activities_count</th>\n",
       "      <th>id_label</th>\n",
       "      <th>...</th>\n",
       "      <th>Mensagens Inbound</th>\n",
       "      <th>Mensagens Outbound</th>\n",
       "      <th>Ligações Inbound</th>\n",
       "      <th>Ligações Outbound</th>\n",
       "      <th>Qde Total de Faturas</th>\n",
       "      <th>Qde Total de Tentativas de Cobrança</th>\n",
       "      <th>Valor Médio da Mensalidade</th>\n",
       "      <th>Qde Total de Faturas Pagas após Vencimento</th>\n",
       "      <th>Qde Total de Faturas Inadimpletes</th>\n",
       "      <th>Valor Total Inadimplência</th>\n",
       "    </tr>\n",
       "  </thead>\n",
       "  <tbody>\n",
       "    <tr>\n",
       "      <th>count</th>\n",
       "      <td>1202.000000</td>\n",
       "      <td>1178.000000</td>\n",
       "      <td>1178.000000</td>\n",
       "      <td>524.000000</td>\n",
       "      <td>110.000000</td>\n",
       "      <td>395.000000</td>\n",
       "      <td>384.000000</td>\n",
       "      <td>1202.000000</td>\n",
       "      <td>1202.000000</td>\n",
       "      <td>103.000000</td>\n",
       "      <td>...</td>\n",
       "      <td>1091.000000</td>\n",
       "      <td>1158.000000</td>\n",
       "      <td>118.000000</td>\n",
       "      <td>579.000000</td>\n",
       "      <td>252.000000</td>\n",
       "      <td>252.000000</td>\n",
       "      <td>252.000000</td>\n",
       "      <td>252.000000</td>\n",
       "      <td>252.000000</td>\n",
       "      <td>252.000000</td>\n",
       "    </tr>\n",
       "    <tr>\n",
       "      <th>mean</th>\n",
       "      <td>3484.637271</td>\n",
       "      <td>63.729202</td>\n",
       "      <td>80.619694</td>\n",
       "      <td>417.921756</td>\n",
       "      <td>2555.736364</td>\n",
       "      <td>338.878481</td>\n",
       "      <td>244.635417</td>\n",
       "      <td>1.182196</td>\n",
       "      <td>10.122296</td>\n",
       "      <td>317.135922</td>\n",
       "      <td>...</td>\n",
       "      <td>75.735105</td>\n",
       "      <td>83.278066</td>\n",
       "      <td>3.144068</td>\n",
       "      <td>2.861831</td>\n",
       "      <td>6.325397</td>\n",
       "      <td>8.714286</td>\n",
       "      <td>94.484683</td>\n",
       "      <td>0.880952</td>\n",
       "      <td>0.250000</td>\n",
       "      <td>24.182738</td>\n",
       "    </tr>\n",
       "    <tr>\n",
       "      <th>std</th>\n",
       "      <td>1468.065478</td>\n",
       "      <td>3.353515</td>\n",
       "      <td>0.977062</td>\n",
       "      <td>129.712462</td>\n",
       "      <td>1213.154949</td>\n",
       "      <td>0.327144</td>\n",
       "      <td>25.618050</td>\n",
       "      <td>1.908197</td>\n",
       "      <td>8.938732</td>\n",
       "      <td>11.220647</td>\n",
       "      <td>...</td>\n",
       "      <td>104.519681</td>\n",
       "      <td>98.981933</td>\n",
       "      <td>8.482537</td>\n",
       "      <td>8.430147</td>\n",
       "      <td>4.803434</td>\n",
       "      <td>7.736556</td>\n",
       "      <td>32.399305</td>\n",
       "      <td>1.536318</td>\n",
       "      <td>0.821159</td>\n",
       "      <td>76.092674</td>\n",
       "    </tr>\n",
       "    <tr>\n",
       "      <th>min</th>\n",
       "      <td>250.000000</td>\n",
       "      <td>63.000000</td>\n",
       "      <td>80.000000</td>\n",
       "      <td>78.000000</td>\n",
       "      <td>321.000000</td>\n",
       "      <td>338.000000</td>\n",
       "      <td>238.000000</td>\n",
       "      <td>0.000000</td>\n",
       "      <td>0.000000</td>\n",
       "      <td>284.000000</td>\n",
       "      <td>...</td>\n",
       "      <td>1.000000</td>\n",
       "      <td>1.000000</td>\n",
       "      <td>1.000000</td>\n",
       "      <td>1.000000</td>\n",
       "      <td>1.000000</td>\n",
       "      <td>0.000000</td>\n",
       "      <td>50.000000</td>\n",
       "      <td>0.000000</td>\n",
       "      <td>0.000000</td>\n",
       "      <td>0.000000</td>\n",
       "    </tr>\n",
       "    <tr>\n",
       "      <th>25%</th>\n",
       "      <td>2399.250000</td>\n",
       "      <td>63.000000</td>\n",
       "      <td>80.000000</td>\n",
       "      <td>412.000000</td>\n",
       "      <td>1510.000000</td>\n",
       "      <td>339.000000</td>\n",
       "      <td>239.000000</td>\n",
       "      <td>0.000000</td>\n",
       "      <td>5.000000</td>\n",
       "      <td>313.000000</td>\n",
       "      <td>...</td>\n",
       "      <td>13.000000</td>\n",
       "      <td>19.000000</td>\n",
       "      <td>1.000000</td>\n",
       "      <td>1.000000</td>\n",
       "      <td>3.000000</td>\n",
       "      <td>3.000000</td>\n",
       "      <td>78.000000</td>\n",
       "      <td>0.000000</td>\n",
       "      <td>0.000000</td>\n",
       "      <td>0.000000</td>\n",
       "    </tr>\n",
       "    <tr>\n",
       "      <th>50%</th>\n",
       "      <td>3281.500000</td>\n",
       "      <td>64.000000</td>\n",
       "      <td>80.000000</td>\n",
       "      <td>412.000000</td>\n",
       "      <td>2379.000000</td>\n",
       "      <td>339.000000</td>\n",
       "      <td>239.000000</td>\n",
       "      <td>1.000000</td>\n",
       "      <td>8.000000</td>\n",
       "      <td>325.000000</td>\n",
       "      <td>...</td>\n",
       "      <td>40.000000</td>\n",
       "      <td>50.000000</td>\n",
       "      <td>1.000000</td>\n",
       "      <td>2.000000</td>\n",
       "      <td>5.000000</td>\n",
       "      <td>7.000000</td>\n",
       "      <td>88.000000</td>\n",
       "      <td>0.000000</td>\n",
       "      <td>0.000000</td>\n",
       "      <td>0.000000</td>\n",
       "    </tr>\n",
       "    <tr>\n",
       "      <th>75%</th>\n",
       "      <td>5114.750000</td>\n",
       "      <td>64.000000</td>\n",
       "      <td>82.000000</td>\n",
       "      <td>419.500000</td>\n",
       "      <td>3347.500000</td>\n",
       "      <td>339.000000</td>\n",
       "      <td>239.000000</td>\n",
       "      <td>2.000000</td>\n",
       "      <td>13.000000</td>\n",
       "      <td>325.000000</td>\n",
       "      <td>...</td>\n",
       "      <td>96.500000</td>\n",
       "      <td>110.000000</td>\n",
       "      <td>2.000000</td>\n",
       "      <td>3.000000</td>\n",
       "      <td>9.000000</td>\n",
       "      <td>12.000000</td>\n",
       "      <td>111.100000</td>\n",
       "      <td>1.000000</td>\n",
       "      <td>0.000000</td>\n",
       "      <td>0.000000</td>\n",
       "    </tr>\n",
       "    <tr>\n",
       "      <th>max</th>\n",
       "      <td>5956.000000</td>\n",
       "      <td>117.000000</td>\n",
       "      <td>83.000000</td>\n",
       "      <td>1164.000000</td>\n",
       "      <td>5556.000000</td>\n",
       "      <td>339.000000</td>\n",
       "      <td>360.000000</td>\n",
       "      <td>31.000000</td>\n",
       "      <td>137.000000</td>\n",
       "      <td>325.000000</td>\n",
       "      <td>...</td>\n",
       "      <td>1436.000000</td>\n",
       "      <td>1230.000000</td>\n",
       "      <td>80.000000</td>\n",
       "      <td>197.000000</td>\n",
       "      <td>30.000000</td>\n",
       "      <td>41.000000</td>\n",
       "      <td>383.750000</td>\n",
       "      <td>9.000000</td>\n",
       "      <td>7.000000</td>\n",
       "      <td>616.000000</td>\n",
       "    </tr>\n",
       "  </tbody>\n",
       "</table>\n",
       "<p>8 rows × 28 columns</p>\n",
       "</div>"
      ],
      "text/plain": [
       "         id_person    id_gender  id_marrital_status  id_health_plan  \\\n",
       "count  1202.000000  1178.000000         1178.000000      524.000000   \n",
       "mean   3484.637271    63.729202           80.619694      417.921756   \n",
       "std    1468.065478     3.353515            0.977062      129.712462   \n",
       "min     250.000000    63.000000           80.000000       78.000000   \n",
       "25%    2399.250000    63.000000           80.000000      412.000000   \n",
       "50%    3281.500000    64.000000           80.000000      412.000000   \n",
       "75%    5114.750000    64.000000           82.000000      419.500000   \n",
       "max    5956.000000   117.000000           83.000000     1164.000000   \n",
       "\n",
       "       id_person_recommendation  id_continuity_pf  Canal de Preferência  \\\n",
       "count                110.000000        395.000000            384.000000   \n",
       "mean                2555.736364        338.878481            244.635417   \n",
       "std                 1213.154949          0.327144             25.618050   \n",
       "min                  321.000000        338.000000            238.000000   \n",
       "25%                 1510.000000        339.000000            239.000000   \n",
       "50%                 2379.000000        339.000000            239.000000   \n",
       "75%                 3347.500000        339.000000            239.000000   \n",
       "max                 5556.000000        339.000000            360.000000   \n",
       "\n",
       "       notes_count  done_activities_count    id_label  ...  Mensagens Inbound  \\\n",
       "count  1202.000000            1202.000000  103.000000  ...        1091.000000   \n",
       "mean      1.182196              10.122296  317.135922  ...          75.735105   \n",
       "std       1.908197               8.938732   11.220647  ...         104.519681   \n",
       "min       0.000000               0.000000  284.000000  ...           1.000000   \n",
       "25%       0.000000               5.000000  313.000000  ...          13.000000   \n",
       "50%       1.000000               8.000000  325.000000  ...          40.000000   \n",
       "75%       2.000000              13.000000  325.000000  ...          96.500000   \n",
       "max      31.000000             137.000000  325.000000  ...        1436.000000   \n",
       "\n",
       "       Mensagens Outbound  Ligações Inbound  Ligações Outbound  \\\n",
       "count         1158.000000        118.000000         579.000000   \n",
       "mean            83.278066          3.144068           2.861831   \n",
       "std             98.981933          8.482537           8.430147   \n",
       "min              1.000000          1.000000           1.000000   \n",
       "25%             19.000000          1.000000           1.000000   \n",
       "50%             50.000000          1.000000           2.000000   \n",
       "75%            110.000000          2.000000           3.000000   \n",
       "max           1230.000000         80.000000         197.000000   \n",
       "\n",
       "       Qde Total de Faturas  Qde Total de Tentativas de Cobrança  \\\n",
       "count            252.000000                           252.000000   \n",
       "mean               6.325397                             8.714286   \n",
       "std                4.803434                             7.736556   \n",
       "min                1.000000                             0.000000   \n",
       "25%                3.000000                             3.000000   \n",
       "50%                5.000000                             7.000000   \n",
       "75%                9.000000                            12.000000   \n",
       "max               30.000000                            41.000000   \n",
       "\n",
       "       Valor Médio da Mensalidade  Qde Total de Faturas Pagas após Vencimento  \\\n",
       "count                  252.000000                                  252.000000   \n",
       "mean                    94.484683                                    0.880952   \n",
       "std                     32.399305                                    1.536318   \n",
       "min                     50.000000                                    0.000000   \n",
       "25%                     78.000000                                    0.000000   \n",
       "50%                     88.000000                                    0.000000   \n",
       "75%                    111.100000                                    1.000000   \n",
       "max                    383.750000                                    9.000000   \n",
       "\n",
       "       Qde Total de Faturas Inadimpletes  Valor Total Inadimplência  \n",
       "count                         252.000000                 252.000000  \n",
       "mean                            0.250000                  24.182738  \n",
       "std                             0.821159                  76.092674  \n",
       "min                             0.000000                   0.000000  \n",
       "25%                             0.000000                   0.000000  \n",
       "50%                             0.000000                   0.000000  \n",
       "75%                             0.000000                   0.000000  \n",
       "max                             7.000000                 616.000000  \n",
       "\n",
       "[8 rows x 28 columns]"
      ]
     },
     "execution_count": 5,
     "metadata": {},
     "output_type": "execute_result"
    }
   ],
   "source": [
    "df.describe()"
   ]
  },
  {
   "cell_type": "code",
   "execution_count": 6,
   "metadata": {},
   "outputs": [
    {
     "data": {
      "image/png": "[encoded data removed]",
      "text/plain": [
       "<Figure size 1440x1440 with 30 Axes>"
      ]
     },
     "metadata": {
      "needs_background": "light"
     },
     "output_type": "display_data"
    }
   ],
   "source": [
    "df.hist(bins=50, figsize=(20,20))\n",
    "plt.show()"
   ]
  },
  {
   "cell_type": "markdown",
   "metadata": {},
   "source": [
    "Gráfico de dispersão para visualizar a relação entre a coluna de destino e outras colunas do conjunto de dados"
   ]
  },
  {
   "cell_type": "markdown",
   "metadata": {},
   "source": [
    "# Análise Exploratória"
   ]
  },
  {
   "cell_type": "code",
   "execution_count": 7,
   "metadata": {},
   "outputs": [],
   "source": [
    "df_erik = df[['Qde Total de Faturas Inadimpletes', 'Cancelamentos Atendimento Médico', 'Problemas Abertos', 'Psicológico', 'Método de Pagamento', 'Mensagens Inbound', 'notes_count', 'Físico', 'Qde Atendimento Médico', 'id_marrital_status', 'id_org', 'start_of_service']]\n",
    "\n",
    "df_leo = df[['Qde Prescrições', 'Ligações Outbound', 'Datas Acolhimento', 'id_stage', 'Data Última Mensagens Inbound', 'Faltas Atendimento Médico', 'Pontos de Atenção', 'activities_count', 'Recebe Comunicados?', 'Qde Total de Faturas', 'Data Última Ligações Inbound', 'id_gender']]\n",
    "\n",
    "df_matheus = df[['Faltas Acolhimento', 'Qde Perfis de Pagamento Inativos', 'Datas Prescrição', 'Valor Total Inadimplência', 'id_continuity_pf', 'add_time', 'Qde Respostas WHOQOL', 'Datas Psicoterapia', 'Cancelamentos Acolhimento', 'won_time', 'Canal de Preferência', 'Ambiental']]\n",
    "\n",
    "df_alfredo = df[['lost_reason.1', 'lost_reason', 'Mensagens Outbound', 'Datas Atendimento Médico', 'stay_in_pipeline_stages_whoqol', 'id_label', 'done_activities_count', 'state', 'Faltas Psicoterapia', 'Data Última Mensagens Outbound', 'Qde Atendimentos Acolhimento', 'status']]\n",
    "\n",
    "df_gustavo = df[['Qde Total de Faturas Pagas após Vencimento', 'birthdate', 'Qde Psicoterapia', 'stay_in_pipeline_stages_first_meeting', 'status.1', 'Data Última Ligações Outbound', 'lost_time', 'Ligações Inbound', 'Qde Total de Tentativas de Cobrança', 'Cancelamentos Psicoterapia', 'Faltas Todos Atendimento', 'Valor Médio da Mensalidade']]"
   ]
  },
  {
   "cell_type": "markdown",
   "metadata": {},
   "source": [
    "## Erik"
   ]
  },
  {
   "cell_type": "code",
   "execution_count": 8,
   "metadata": {},
   "outputs": [
    {
     "data": {
      "image/png": "[encoded data removed]",
      "text/plain": [
       "<Figure size 720x720 with 4 Axes>"
      ]
     },
     "metadata": {
      "needs_background": "light"
     },
     "output_type": "display_data"
    }
   ],
   "source": [
    "df_erik.hist(bins=50, figsize=(10,10))\n",
    "plt.show()"
   ]
  },
  {
   "cell_type": "code",
   "execution_count": 9,
   "metadata": {},
   "outputs": [
    {
     "data": {
      "text/plain": [
       "0     534\n",
       "1     290\n",
       "2     188\n",
       "3     122\n",
       "4      37\n",
       "5      20\n",
       "6       3\n",
       "31      2\n",
       "8       2\n",
       "7       2\n",
       "22      1\n",
       "9       1\n",
       "Name: notes_count, dtype: int64"
      ]
     },
     "execution_count": 9,
     "metadata": {},
     "output_type": "execute_result"
    }
   ],
   "source": [
    "df_erik[\"notes_count\"].value_counts()"
   ]
  },
  {
   "cell_type": "markdown",
   "metadata": {},
   "source": [
    "Qtd total de faturas inadimplentes: Mudar para bool ou 1 e 0. Considerando apenas dois grupos, já teve inadimplente ou nunca teve inadimplente"
   ]
  },
  {
   "cell_type": "code",
   "execution_count": 10,
   "metadata": {},
   "outputs": [
    {
     "data": {
      "text/plain": [
       "0.0    218\n",
       "1.0     20\n",
       "2.0      7\n",
       "3.0      4\n",
       "4.0      1\n",
       "6.0      1\n",
       "7.0      1\n",
       "Name: Qde Total de Faturas Inadimpletes, dtype: int64"
      ]
     },
     "execution_count": 10,
     "metadata": {},
     "output_type": "execute_result"
    }
   ],
   "source": [
    "df_erik[\"Qde Total de Faturas Inadimpletes\"].value_counts()"
   ]
  },
  {
   "cell_type": "markdown",
   "metadata": {},
   "source": [
    "Cancelamentos Atendimento Médico: Excluir colunas \"Cancelamento Atendimento Médico\" e coluna \"Qde Atendimento Médico\". Pois estão sem dados coletados."
   ]
  },
  {
   "cell_type": "code",
   "execution_count": 11,
   "metadata": {},
   "outputs": [
    {
     "data": {
      "text/html": [
       "<div>\n",
       "<style scoped>\n",
       "    .dataframe tbody tr th:only-of-type {\n",
       "        vertical-align: middle;\n",
       "    }\n",
       "\n",
       "    .dataframe tbody tr th {\n",
       "        vertical-align: top;\n",
       "    }\n",
       "\n",
       "    .dataframe thead th {\n",
       "        text-align: right;\n",
       "    }\n",
       "</style>\n",
       "<table border=\"1\" class=\"dataframe\">\n",
       "  <thead>\n",
       "    <tr style=\"text-align: right;\">\n",
       "      <th></th>\n",
       "      <th>count</th>\n",
       "      <th>unique</th>\n",
       "      <th>top</th>\n",
       "      <th>freq</th>\n",
       "    </tr>\n",
       "  </thead>\n",
       "  <tbody>\n",
       "    <tr>\n",
       "      <th>Cancelamentos Atendimento Médico</th>\n",
       "      <td>1202</td>\n",
       "      <td>1</td>\n",
       "      <td>False</td>\n",
       "      <td>1202</td>\n",
       "    </tr>\n",
       "    <tr>\n",
       "      <th>Qde Atendimento Médico</th>\n",
       "      <td>1202</td>\n",
       "      <td>1</td>\n",
       "      <td>False</td>\n",
       "      <td>1202</td>\n",
       "    </tr>\n",
       "  </tbody>\n",
       "</table>\n",
       "</div>"
      ],
      "text/plain": [
       "                                 count unique    top  freq\n",
       "Cancelamentos Atendimento Médico  1202      1  False  1202\n",
       "Qde Atendimento Médico            1202      1  False  1202"
      ]
     },
     "execution_count": 11,
     "metadata": {},
     "output_type": "execute_result"
    }
   ],
   "source": [
    "colunas_bool = df_erik.select_dtypes(include='bool').columns\n",
    "df_erik[colunas_bool].describe().transpose()"
   ]
  },
  {
   "cell_type": "code",
   "execution_count": 12,
   "metadata": {},
   "outputs": [
    {
     "data": {
      "text/html": [
       "<div>\n",
       "<style scoped>\n",
       "    .dataframe tbody tr th:only-of-type {\n",
       "        vertical-align: middle;\n",
       "    }\n",
       "\n",
       "    .dataframe tbody tr th {\n",
       "        vertical-align: top;\n",
       "    }\n",
       "\n",
       "    .dataframe thead th {\n",
       "        text-align: right;\n",
       "    }\n",
       "</style>\n",
       "<table border=\"1\" class=\"dataframe\">\n",
       "  <thead>\n",
       "    <tr style=\"text-align: right;\">\n",
       "      <th></th>\n",
       "      <th>count</th>\n",
       "      <th>unique</th>\n",
       "      <th>top</th>\n",
       "      <th>freq</th>\n",
       "    </tr>\n",
       "  </thead>\n",
       "  <tbody>\n",
       "    <tr>\n",
       "      <th>Problemas Abertos</th>\n",
       "      <td>610</td>\n",
       "      <td>548</td>\n",
       "      <td>ansiedade P01 (CIAP-2)</td>\n",
       "      <td>11</td>\n",
       "    </tr>\n",
       "    <tr>\n",
       "      <th>Psicológico</th>\n",
       "      <td>898</td>\n",
       "      <td>130</td>\n",
       "      <td>4</td>\n",
       "      <td>275</td>\n",
       "    </tr>\n",
       "    <tr>\n",
       "      <th>Método de Pagamento</th>\n",
       "      <td>252</td>\n",
       "      <td>4</td>\n",
       "      <td>Cartão de crédito</td>\n",
       "      <td>227</td>\n",
       "    </tr>\n",
       "    <tr>\n",
       "      <th>Físico</th>\n",
       "      <td>898</td>\n",
       "      <td>139</td>\n",
       "      <td>3,90</td>\n",
       "      <td>64</td>\n",
       "    </tr>\n",
       "    <tr>\n",
       "      <th>id_org</th>\n",
       "      <td>886</td>\n",
       "      <td>63</td>\n",
       "      <td>2457</td>\n",
       "      <td>123</td>\n",
       "    </tr>\n",
       "    <tr>\n",
       "      <th>start_of_service</th>\n",
       "      <td>1065</td>\n",
       "      <td>420</td>\n",
       "      <td>2023-06-12</td>\n",
       "      <td>43</td>\n",
       "    </tr>\n",
       "  </tbody>\n",
       "</table>\n",
       "</div>"
      ],
      "text/plain": [
       "                    count unique                     top freq\n",
       "Problemas Abertos     610    548  ansiedade P01 (CIAP-2)   11\n",
       "Psicológico           898    130                       4  275\n",
       "Método de Pagamento   252      4       Cartão de crédito  227\n",
       "Físico                898    139                    3,90   64\n",
       "id_org                886     63                    2457  123\n",
       "start_of_service     1065    420              2023-06-12   43"
      ]
     },
     "execution_count": 12,
     "metadata": {},
     "output_type": "execute_result"
    }
   ],
   "source": [
    "colunas_object = df_erik.select_dtypes(include='object').columns\n",
    "df_erik[colunas_object].describe().transpose()"
   ]
  },
  {
   "cell_type": "markdown",
   "metadata": {},
   "source": [
    "Problemas Abertos: MUITO diverso, agrupar de alguma forma? "
   ]
  },
  {
   "cell_type": "code",
   "execution_count": 13,
   "metadata": {},
   "outputs": [
    {
     "data": {
      "text/plain": [
       "count                        610\n",
       "unique                       548\n",
       "top       ansiedade P01 (CIAP-2)\n",
       "freq                          11\n",
       "Name: Problemas Abertos, dtype: object"
      ]
     },
     "execution_count": 13,
     "metadata": {},
     "output_type": "execute_result"
    }
   ],
   "source": [
    "df_erik[\"Problemas Abertos\"].describe()"
   ]
  },
  {
   "cell_type": "markdown",
   "metadata": {},
   "source": [
    "Também apresenta uma grande diversidade de dados, agrupar por categorias?"
   ]
  },
  {
   "cell_type": "code",
   "execution_count": 14,
   "metadata": {},
   "outputs": [
    {
     "data": {
      "text/plain": [
       "4                275\n",
       "3                247\n",
       "2                 58\n",
       "5                 43\n",
       "3,3               16\n",
       "                ... \n",
       "3,7; 4,0; 3,3      1\n",
       "3,2; 3,3; 3,3      1\n",
       "3,7; 3,2           1\n",
       "4,2; 4,7           1\n",
       "3,2; 3,2           1\n",
       "Name: Psicológico, Length: 130, dtype: int64"
      ]
     },
     "execution_count": 14,
     "metadata": {},
     "output_type": "execute_result"
    }
   ],
   "source": [
    "df_erik[\"Psicológico\"].value_counts()"
   ]
  },
  {
   "cell_type": "code",
   "execution_count": 15,
   "metadata": {},
   "outputs": [
    {
     "data": {
      "text/plain": [
       "Cartão de crédito    227\n",
       "Dinheiro              15\n",
       "Boleto YaPay           9\n",
       "Pix                    1\n",
       "Name: Método de Pagamento, dtype: int64"
      ]
     },
     "execution_count": 15,
     "metadata": {},
     "output_type": "execute_result"
    }
   ],
   "source": [
    "df_erik[\"Método de Pagamento\"].value_counts()"
   ]
  },
  {
   "cell_type": "code",
   "execution_count": 16,
   "metadata": {},
   "outputs": [
    {
     "data": {
      "text/plain": [
       "3,90        64\n",
       "3,70        63\n",
       "4,10        63\n",
       "4,00        59\n",
       "3,60        58\n",
       "            ..\n",
       "4,4; 4,1     1\n",
       "3,6; 4,9     1\n",
       "4,0; 4,9     1\n",
       "4,3; 4,7     1\n",
       "3,4; 3,4     1\n",
       "Name: Físico, Length: 139, dtype: int64"
      ]
     },
     "execution_count": 16,
     "metadata": {},
     "output_type": "execute_result"
    }
   ],
   "source": [
    "df_erik[\"Físico\"].value_counts()"
   ]
  },
  {
   "cell_type": "code",
   "execution_count": 17,
   "metadata": {},
   "outputs": [
    {
     "data": {
      "text/plain": [
       "80.0    830\n",
       "82.0    300\n",
       "83.0     41\n",
       "81.0      7\n",
       "Name: id_marrital_status, dtype: int64"
      ]
     },
     "execution_count": 17,
     "metadata": {},
     "output_type": "execute_result"
    }
   ],
   "source": [
    "df_erik[\"id_marrital_status\"].value_counts()"
   ]
  },
  {
   "cell_type": "markdown",
   "metadata": {},
   "source": [
    "Id Org talvez não seja necessário, pois não é necessário o identificador da empresa para prever os cancelamentos."
   ]
  },
  {
   "cell_type": "code",
   "execution_count": 18,
   "metadata": {},
   "outputs": [
    {
     "data": {
      "text/plain": [
       "2457         123\n",
       "1436         103\n",
       "448           98\n",
       "2458          48\n",
       "1251          46\n",
       "            ... \n",
       "619            1\n",
       "1605           1\n",
       "448; 1436      1\n",
       "929; 929       1\n",
       "2909           1\n",
       "Name: id_org, Length: 63, dtype: int64"
      ]
     },
     "execution_count": 18,
     "metadata": {},
     "output_type": "execute_result"
    }
   ],
   "source": [
    "df_erik[\"id_org\"].value_counts()"
   ]
  },
  {
   "cell_type": "markdown",
   "metadata": {},
   "source": [
    "Talvez seja interessante agrupar os dados por mês, para ver se existe alguma sazonalidade."
   ]
  },
  {
   "cell_type": "code",
   "execution_count": 19,
   "metadata": {},
   "outputs": [
    {
     "data": {
      "text/plain": [
       "2023-06-12                43\n",
       "2022-03-04                38\n",
       "2023-06-14                25\n",
       "2022-08-01                22\n",
       "2023-06-13                19\n",
       "                          ..\n",
       "2022-07-28                 1\n",
       "2022-07-27; 2022-07-27     1\n",
       "2022-07-21                 1\n",
       "2022-07-13                 1\n",
       "2023-11-08                 1\n",
       "Name: start_of_service, Length: 420, dtype: int64"
      ]
     },
     "execution_count": 19,
     "metadata": {},
     "output_type": "execute_result"
    }
   ],
   "source": [
    "df_erik[\"start_of_service\"].value_counts()"
   ]
  },
  {
   "cell_type": "markdown",
   "metadata": {},
   "source": [
    "## Leo"
   ]
  },
  {
   "cell_type": "code",
   "execution_count": 20,
   "metadata": {},
   "outputs": [
    {
     "name": "stdout",
     "output_type": "stream",
     "text": [
      "<class 'pandas.core.frame.DataFrame'>\n",
      "RangeIndex: 1202 entries, 0 to 1201\n",
      "Data columns (total 12 columns):\n",
      " #   Column                         Non-Null Count  Dtype  \n",
      "---  ------                         --------------  -----  \n",
      " 0   Qde Prescrições                1202 non-null   bool   \n",
      " 1   Ligações Outbound              579 non-null    float64\n",
      " 2   Datas Acolhimento              1202 non-null   bool   \n",
      " 3   id_stage                       1079 non-null   object \n",
      " 4   Data Última Mensagens Inbound  1091 non-null   object \n",
      " 5   Faltas Atendimento Médico      1202 non-null   bool   \n",
      " 6   Pontos de Atenção              62 non-null     object \n",
      " 7   activities_count               1116 non-null   float64\n",
      " 8   Recebe Comunicados?            62 non-null     object \n",
      " 9   Qde Total de Faturas           252 non-null    float64\n",
      " 10  Data Última Ligações Inbound   118 non-null    object \n",
      " 11  id_gender                      1178 non-null   float64\n",
      "dtypes: bool(3), float64(4), object(5)\n",
      "memory usage: 88.2+ KB\n"
     ]
    }
   ],
   "source": [
    "df_leo.info()"
   ]
  },
  {
   "cell_type": "code",
   "execution_count": 21,
   "metadata": {},
   "outputs": [
    {
     "data": {
      "image/png": "[encoded data removed]",
      "text/plain": [
       "<Figure size 720x720 with 4 Axes>"
      ]
     },
     "metadata": {
      "needs_background": "light"
     },
     "output_type": "display_data"
    }
   ],
   "source": [
    "df_leo.hist(bins=50, figsize=(10,10))\n",
    "plt.show()"
   ]
  },
  {
   "cell_type": "markdown",
   "metadata": {},
   "source": [
    "### Ligações Outbound"
   ]
  },
  {
   "cell_type": "code",
   "execution_count": 22,
   "metadata": {},
   "outputs": [],
   "source": [
    "ligacoes_outbound = df_leo['Ligações Outbound']"
   ]
  },
  {
   "cell_type": "code",
   "execution_count": 23,
   "metadata": {},
   "outputs": [
    {
     "data": {
      "text/plain": [
       "1.0      240\n",
       "2.0      145\n",
       "3.0       81\n",
       "4.0       39\n",
       "5.0       22\n",
       "6.0       20\n",
       "7.0       12\n",
       "9.0        5\n",
       "8.0        4\n",
       "10.0       3\n",
       "12.0       2\n",
       "14.0       2\n",
       "11.0       1\n",
       "197.0      1\n",
       "16.0       1\n",
       "31.0       1\n",
       "Name: Ligações Outbound, dtype: int64"
      ]
     },
     "execution_count": 23,
     "metadata": {},
     "output_type": "execute_result"
    }
   ],
   "source": [
    "vc = ligacoes_outbound.value_counts()\n",
    "vc"
   ]
  },
  {
   "cell_type": "code",
   "execution_count": 24,
   "metadata": {},
   "outputs": [
    {
     "data": {
      "image/png": "[encoded data removed]",
      "text/plain": [
       "<Figure size 1440x576 with 1 Axes>"
      ]
     },
     "metadata": {
      "needs_background": "light"
     },
     "output_type": "display_data"
    }
   ],
   "source": [
    "plt.figure(figsize=(20,8))\n",
    "plt.bar(vc.index, vc.values) \n",
    "plt.xlabel('Quantidade de ligações')\n",
    "plt.ylabel('Ocorrências')\n",
    "plt.title('Quantidade de ligações por registro - Ligações Outbound')\n",
    "plt.show()"
   ]
  },
  {
   "cell_type": "markdown",
   "metadata": {},
   "source": [
    "### activities_count"
   ]
  },
  {
   "cell_type": "code",
   "execution_count": 25,
   "metadata": {},
   "outputs": [],
   "source": [
    "activities_count = df_leo['activities_count']\n"
   ]
  },
  {
   "cell_type": "code",
   "execution_count": 26,
   "metadata": {},
   "outputs": [
    {
     "data": {
      "text/plain": [
       "0.0     346\n",
       "1.0     189\n",
       "2.0     128\n",
       "3.0      93\n",
       "5.0      79\n",
       "4.0      74\n",
       "6.0      49\n",
       "8.0      43\n",
       "9.0      37\n",
       "7.0      36\n",
       "11.0     11\n",
       "10.0     11\n",
       "12.0      7\n",
       "13.0      5\n",
       "45.0      1\n",
       "15.0      1\n",
       "22.0      1\n",
       "17.0      1\n",
       "30.0      1\n",
       "20.0      1\n",
       "18.0      1\n",
       "14.0      1\n",
       "Name: activities_count, dtype: int64"
      ]
     },
     "execution_count": 26,
     "metadata": {},
     "output_type": "execute_result"
    }
   ],
   "source": [
    "\n",
    "vc = activities_count.value_counts()\n",
    "vc"
   ]
  },
  {
   "cell_type": "code",
   "execution_count": 27,
   "metadata": {},
   "outputs": [
    {
     "data": {
      "image/png": "[encoded data removed]",
      "text/plain": [
       "<Figure size 1440x576 with 1 Axes>"
      ]
     },
     "metadata": {
      "needs_background": "light"
     },
     "output_type": "display_data"
    }
   ],
   "source": [
    "plt.figure(figsize=(20,8))\n",
    "plt.bar(vc.index, vc.values)\n",
    "plt.xlabel('Quantidade de atividades')\n",
    "plt.ylabel('Ocorrências')\n",
    "plt.title('Quantidade de atividades por registro - activities_count')\n",
    "plt.show()"
   ]
  },
  {
   "cell_type": "markdown",
   "metadata": {},
   "source": [
    "### Qde Total de Faturas"
   ]
  },
  {
   "cell_type": "code",
   "execution_count": 28,
   "metadata": {},
   "outputs": [],
   "source": [
    "qde_total_faturas = df_leo['Qde Total de Faturas']"
   ]
  },
  {
   "cell_type": "code",
   "execution_count": 29,
   "metadata": {},
   "outputs": [
    {
     "data": {
      "text/plain": [
       "3.0     35\n",
       "1.0     32\n",
       "2.0     26\n",
       "5.0     22\n",
       "8.0     20\n",
       "4.0     20\n",
       "7.0     18\n",
       "6.0     13\n",
       "9.0     12\n",
       "10.0     8\n",
       "11.0     8\n",
       "13.0     8\n",
       "14.0     8\n",
       "12.0     6\n",
       "16.0     5\n",
       "15.0     5\n",
       "20.0     2\n",
       "21.0     1\n",
       "23.0     1\n",
       "18.0     1\n",
       "30.0     1\n",
       "Name: Qde Total de Faturas, dtype: int64"
      ]
     },
     "execution_count": 29,
     "metadata": {},
     "output_type": "execute_result"
    }
   ],
   "source": [
    "vc = qde_total_faturas.value_counts()\n",
    "vc"
   ]
  },
  {
   "cell_type": "code",
   "execution_count": 30,
   "metadata": {},
   "outputs": [
    {
     "data": {
      "image/png": "[encoded data removed]",
      "text/plain": [
       "<Figure size 1440x576 with 1 Axes>"
      ]
     },
     "metadata": {
      "needs_background": "light"
     },
     "output_type": "display_data"
    }
   ],
   "source": [
    "plt.figure(figsize=(20,8))\n",
    "plt.bar(vc.index, vc.values)\n",
    "plt.xlabel('Quantidade de faturas')\n",
    "plt.ylabel('Ocorrências')\n",
    "plt.title('Quantidade de faturas por registro - Qde Total de Faturas')\n",
    "\n",
    "plt.show()"
   ]
  },
  {
   "cell_type": "markdown",
   "metadata": {},
   "source": [
    "Correlação entre as features"
   ]
  },
  {
   "cell_type": "code",
   "execution_count": 31,
   "metadata": {},
   "outputs": [
    {
     "name": "stderr",
     "output_type": "stream",
     "text": [
      "C:\\Users\\jalfr\\AppData\\Local\\Temp\\ipykernel_480\\1095395754.py:2: FutureWarning: The default value of numeric_only in DataFrame.corr is deprecated. In a future version, it will default to False. Select only valid columns or specify the value of numeric_only to silence this warning.\n",
      "  corr_matrix = df_leo_corr.corr()\n"
     ]
    },
    {
     "data": {
      "text/html": [
       "<div>\n",
       "<style scoped>\n",
       "    .dataframe tbody tr th:only-of-type {\n",
       "        vertical-align: middle;\n",
       "    }\n",
       "\n",
       "    .dataframe tbody tr th {\n",
       "        vertical-align: top;\n",
       "    }\n",
       "\n",
       "    .dataframe thead th {\n",
       "        text-align: right;\n",
       "    }\n",
       "</style>\n",
       "<table border=\"1\" class=\"dataframe\">\n",
       "  <thead>\n",
       "    <tr style=\"text-align: right;\">\n",
       "      <th></th>\n",
       "      <th>Ligações Outbound</th>\n",
       "      <th>activities_count</th>\n",
       "      <th>Qde Total de Faturas</th>\n",
       "      <th>id_gender</th>\n",
       "    </tr>\n",
       "  </thead>\n",
       "  <tbody>\n",
       "    <tr>\n",
       "      <th>Ligações Outbound</th>\n",
       "      <td>1.000000</td>\n",
       "      <td>0.009544</td>\n",
       "      <td>0.286932</td>\n",
       "      <td>-0.014417</td>\n",
       "    </tr>\n",
       "    <tr>\n",
       "      <th>activities_count</th>\n",
       "      <td>0.009544</td>\n",
       "      <td>1.000000</td>\n",
       "      <td>0.077818</td>\n",
       "      <td>-0.019529</td>\n",
       "    </tr>\n",
       "    <tr>\n",
       "      <th>Qde Total de Faturas</th>\n",
       "      <td>0.286932</td>\n",
       "      <td>0.077818</td>\n",
       "      <td>1.000000</td>\n",
       "      <td>0.046366</td>\n",
       "    </tr>\n",
       "    <tr>\n",
       "      <th>id_gender</th>\n",
       "      <td>-0.014417</td>\n",
       "      <td>-0.019529</td>\n",
       "      <td>0.046366</td>\n",
       "      <td>1.000000</td>\n",
       "    </tr>\n",
       "  </tbody>\n",
       "</table>\n",
       "</div>"
      ],
      "text/plain": [
       "                      Ligações Outbound  activities_count  \\\n",
       "Ligações Outbound              1.000000          0.009544   \n",
       "activities_count               0.009544          1.000000   \n",
       "Qde Total de Faturas           0.286932          0.077818   \n",
       "id_gender                     -0.014417         -0.019529   \n",
       "\n",
       "                      Qde Total de Faturas  id_gender  \n",
       "Ligações Outbound                 0.286932  -0.014417  \n",
       "activities_count                  0.077818  -0.019529  \n",
       "Qde Total de Faturas              1.000000   0.046366  \n",
       "id_gender                         0.046366   1.000000  "
      ]
     },
     "execution_count": 31,
     "metadata": {},
     "output_type": "execute_result"
    }
   ],
   "source": [
    "df_leo_corr = df_leo.drop(['Qde Prescrições', 'Datas Acolhimento', 'Faltas Atendimento Médico'], axis=1)    # retirando as features que não são numéricas\n",
    "corr_matrix = df_leo_corr.corr()\n",
    "corr_matrix"
   ]
  },
  {
   "cell_type": "code",
   "execution_count": 32,
   "metadata": {},
   "outputs": [
    {
     "data": {
      "image/png": "[encoded data removed]",
      "text/plain": [
       "<Figure size 720x216 with 2 Axes>"
      ]
     },
     "metadata": {
      "needs_background": "light"
     },
     "output_type": "display_data"
    }
   ],
   "source": [
    "plt.figure(figsize=(10,3))\n",
    "sns.heatmap(corr_matrix, annot=True, cmap='Blues')\n",
    "plt.show()"
   ]
  },
  {
   "cell_type": "code",
   "execution_count": 33,
   "metadata": {},
   "outputs": [
    {
     "name": "stdout",
     "output_type": "stream",
     "text": [
      "<class 'pandas.core.frame.DataFrame'>\n",
      "RangeIndex: 1202 entries, 0 to 1201\n",
      "Data columns (total 12 columns):\n",
      " #   Column                         Non-Null Count  Dtype  \n",
      "---  ------                         --------------  -----  \n",
      " 0   Qde Prescrições                1202 non-null   bool   \n",
      " 1   Ligações Outbound              579 non-null    float64\n",
      " 2   Datas Acolhimento              1202 non-null   bool   \n",
      " 3   id_stage                       1079 non-null   object \n",
      " 4   Data Última Mensagens Inbound  1091 non-null   object \n",
      " 5   Faltas Atendimento Médico      1202 non-null   bool   \n",
      " 6   Pontos de Atenção              62 non-null     object \n",
      " 7   activities_count               1116 non-null   float64\n",
      " 8   Recebe Comunicados?            62 non-null     object \n",
      " 9   Qde Total de Faturas           252 non-null    float64\n",
      " 10  Data Última Ligações Inbound   118 non-null    object \n",
      " 11  id_gender                      1178 non-null   float64\n",
      "dtypes: bool(3), float64(4), object(5)\n",
      "memory usage: 88.2+ KB\n"
     ]
    }
   ],
   "source": [
    "df_leo.info()"
   ]
  },
  {
   "cell_type": "markdown",
   "metadata": {},
   "source": [
    "### Variáveis categóricas"
   ]
  },
  {
   "cell_type": "markdown",
   "metadata": {},
   "source": [
    "#### Dates"
   ]
  },
  {
   "cell_type": "code",
   "execution_count": 34,
   "metadata": {},
   "outputs": [
    {
     "name": "stdout",
     "output_type": "stream",
     "text": [
      "<class 'pandas.core.frame.DataFrame'>\n",
      "RangeIndex: 1202 entries, 0 to 1201\n",
      "Data columns (total 12 columns):\n",
      " #   Column                         Non-Null Count  Dtype         \n",
      "---  ------                         --------------  -----         \n",
      " 0   Qde Prescrições                1202 non-null   bool          \n",
      " 1   Ligações Outbound              579 non-null    float64       \n",
      " 2   Datas Acolhimento              1202 non-null   bool          \n",
      " 3   id_stage                       1079 non-null   object        \n",
      " 4   Data Última Mensagens Inbound  1091 non-null   datetime64[ns]\n",
      " 5   Faltas Atendimento Médico      1202 non-null   bool          \n",
      " 6   Pontos de Atenção              62 non-null     object        \n",
      " 7   activities_count               1116 non-null   float64       \n",
      " 8   Recebe Comunicados?            62 non-null     object        \n",
      " 9   Qde Total de Faturas           252 non-null    float64       \n",
      " 10  Data Última Ligações Inbound   118 non-null    datetime64[ns]\n",
      " 11  id_gender                      1178 non-null   float64       \n",
      "dtypes: bool(3), datetime64[ns](2), float64(4), object(3)\n",
      "memory usage: 88.2+ KB\n"
     ]
    },
    {
     "name": "stderr",
     "output_type": "stream",
     "text": [
      "C:\\Users\\jalfr\\AppData\\Local\\Temp\\ipykernel_480\\2292309337.py:1: SettingWithCopyWarning: \n",
      "A value is trying to be set on a copy of a slice from a DataFrame.\n",
      "Try using .loc[row_indexer,col_indexer] = value instead\n",
      "\n",
      "See the caveats in the documentation: https://pandas.pydata.org/pandas-docs/stable/user_guide/indexing.html#returning-a-view-versus-a-copy\n",
      "  df_leo['Data Última Mensagens Inbound'] = pd.to_datetime(df_leo['Data Última Mensagens Inbound'])\n",
      "C:\\Users\\jalfr\\AppData\\Local\\Temp\\ipykernel_480\\2292309337.py:2: SettingWithCopyWarning: \n",
      "A value is trying to be set on a copy of a slice from a DataFrame.\n",
      "Try using .loc[row_indexer,col_indexer] = value instead\n",
      "\n",
      "See the caveats in the documentation: https://pandas.pydata.org/pandas-docs/stable/user_guide/indexing.html#returning-a-view-versus-a-copy\n",
      "  df_leo['Data Última Ligações Inbound'] = pd.to_datetime(df_leo['Data Última Ligações Inbound'])\n"
     ]
    }
   ],
   "source": [
    "df_leo['Data Última Mensagens Inbound'] = pd.to_datetime(df_leo['Data Última Mensagens Inbound'])\n",
    "df_leo['Data Última Ligações Inbound'] = pd.to_datetime(df_leo['Data Última Ligações Inbound'])\n",
    "\n",
    "df_leo.info()"
   ]
  },
  {
   "cell_type": "code",
   "execution_count": 35,
   "metadata": {},
   "outputs": [
    {
     "data": {
      "image/png": "[encoded data removed]",
      "text/plain": [
       "<Figure size 2160x720 with 2 Axes>"
      ]
     },
     "metadata": {
      "needs_background": "light"
     },
     "output_type": "display_data"
    }
   ],
   "source": [
    "fig, ax = plt.subplots(1, 2, figsize=(30, 10))\n",
    "\n",
    "# plot 1\n",
    "df_leo['Data Última Mensagens Inbound'].hist(ax=ax[0], bins=50)\n",
    "ax[0].set_title('Data Última Mensagens Inbound')\n",
    "\n",
    "# plot 2\n",
    "df_leo['Data Última Ligações Inbound'].hist(ax=ax[1], bins=50)\n",
    "ax[1].set_title('Data Última Ligações Inbound')\n",
    "\n",
    "# xlabel e ylabel\n",
    "for i in range(2):\n",
    "    ax[i].set_xlabel('Data')\n",
    "    ax[i].set_ylabel('Ocorrências')\n",
    "\n",
    "plt.show()"
   ]
  },
  {
   "cell_type": "markdown",
   "metadata": {},
   "source": [
    "#### Recebe Comunicados?"
   ]
  },
  {
   "cell_type": "code",
   "execution_count": 36,
   "metadata": {},
   "outputs": [
    {
     "data": {
      "text/plain": [
       "False    62\n",
       "Name: Recebe Comunicados?, dtype: int64"
      ]
     },
     "execution_count": 36,
     "metadata": {},
     "output_type": "execute_result"
    }
   ],
   "source": [
    "df_leo['Recebe Comunicados?'].value_counts()"
   ]
  },
  {
   "cell_type": "markdown",
   "metadata": {},
   "source": [
    "#### Pontos de Atenção"
   ]
  },
  {
   "cell_type": "code",
   "execution_count": 37,
   "metadata": {},
   "outputs": [
    {
     "data": {
      "text/plain": [
       "False    62\n",
       "Name: Pontos de Atenção, dtype: int64"
      ]
     },
     "execution_count": 37,
     "metadata": {},
     "output_type": "execute_result"
    }
   ],
   "source": [
    "df_leo['Pontos de Atenção'].value_counts()"
   ]
  },
  {
   "cell_type": "markdown",
   "metadata": {},
   "source": [
    "#### id_stage"
   ]
  },
  {
   "cell_type": "code",
   "execution_count": 38,
   "metadata": {},
   "outputs": [
    {
     "name": "stdout",
     "output_type": "stream",
     "text": [
      "65 - 65\n",
      "64 - 64\n",
      "65; 64 - [65, 64]\n",
      "64; 65 - [64, 65]\n",
      "64; 64 - [64, 64]\n",
      "65; 65 - [65, 65]\n",
      "65; 66 - [65, 66]\n",
      "64; 66; 65 - [64, 66, 65]\n",
      "66; 65 - [66, 65]\n",
      "65; 64; 66 - [65, 64, 66]\n",
      "65; 66; 64 - [65, 66, 64]\n",
      "66 - 66\n",
      "64; 64; 64 - [64, 64, 64]\n",
      "64; 64; 65; 66 - [64, 64, 65, 66]\n",
      "65; 64; 64; 64 - [65, 64, 64, 64]\n",
      "66; 65; 64 - [66, 65, 64]\n",
      "64; 66 - [64, 66]\n",
      "65; 64; 65 - [65, 64, 65]\n",
      "64; 64; 64; 64 - [64, 64, 64, 64]\n",
      "64; 64; 64; 64; 64; 64; 64; 64; 64; 64 - [64, 64, 64, 64, 64, 64, 64, 64, 64, 64]\n"
     ]
    }
   ],
   "source": [
    "df['id_stage'].value_counts()\n",
    "\n",
    "for linha in df['id_stage'].value_counts().index:\n",
    "    try:\n",
    "        # verifica se o formato já está em int\n",
    "        print(f\"{linha} - {int(linha)}\")\n",
    "    except:\n",
    "        array = linha.split('; ')\n",
    "        for i in range(len(array)):\n",
    "            array[i] = int(array[i])\n",
    "        print(f\"{linha} - {array}\")\n",
    "\n"
   ]
  },
  {
   "cell_type": "markdown",
   "metadata": {},
   "source": [
    "### Insights\n",
    "\n",
    "- **Datas Acolhimento**: a coluna possui todos os valores setados como False, logo por enquanto não entrou na análise. O mesmo vale para a coluna **Faltas Atendimento Médico**, **Recebe Comunicados?** e **Pontos de Atenção**.\n",
    "\n",
    "- **id_gender**: a coluna possui dois valores possíveis (63 e 64), que representam os gêneros masculino e feminino. A dúvida consiste em qual valor representa qual gênero.\n",
    "\n",
    "- **Pontos de Atenção**: a coluna possui apenas 62 valores não-nulos, o que representa uma porção muito pequena do total de dados possíveis (1202)\n",
    "\n",
    "- **id_stage**: a coluna, que representa o tipo de organização por assinatura (PJ, PF ou Acolimento Desemprego), possui casos onde existem mais de 1 tipo de identificador para a mesma pessoa, como por exemplo na linha \"66; 65; 64\". A dúvida consiste em como tratar esses casos.\n",
    "\n",
    "- **Data Última Mensagens Inbound** e **Data Última Mensagens Outbound**: ao plotar o gráfico das duas features, foi possível notar um aumento nos dois casos mais perto do fim do ano. A dúvida consiste em se esse aumento é sazonal ou não, ou seja, se é apenas uma coincidência ou se existe algum motivo para esse aumento.\n",
    "\n",
    "- No geral as colunas possuem muitos dados faltantes, a questão consiste em como tratá-los, seja excluindo as colunas ou preenchendo os valores faltantes com algum valor."
   ]
  },
  {
   "cell_type": "code",
   "execution_count": null,
   "metadata": {},
   "outputs": [],
   "source": []
  },
  {
   "cell_type": "code",
   "execution_count": 39,
   "metadata": {},
   "outputs": [
    {
     "data": {
      "image/png": "[encoded data removed]",
      "text/plain": [
       "<Figure size 720x720 with 4 Axes>"
      ]
     },
     "metadata": {
      "needs_background": "light"
     },
     "output_type": "display_data"
    }
   ],
   "source": [
    "df_matheus.hist(bins=50, figsize=(10,10))\n",
    "plt.show()"
   ]
  },
  {
   "cell_type": "markdown",
   "metadata": {},
   "source": [
    "## Análises - Alfredo"
   ]
  },
  {
   "cell_type": "code",
   "execution_count": 40,
   "metadata": {},
   "outputs": [
    {
     "data": {
      "text/plain": [
       "array([[<AxesSubplot:title={'center':'Mensagens Outbound'}>,\n",
       "        <AxesSubplot:title={'center':'stay_in_pipeline_stages_whoqol'}>],\n",
       "       [<AxesSubplot:title={'center':'id_label'}>,\n",
       "        <AxesSubplot:title={'center':'done_activities_count'}>],\n",
       "       [<AxesSubplot:title={'center':'Faltas Psicoterapia'}>,\n",
       "        <AxesSubplot:>]], dtype=object)"
      ]
     },
     "execution_count": 40,
     "metadata": {},
     "output_type": "execute_result"
    },
    {
     "data": {
      "image/png": "[encoded data removed]",
      "text/plain": [
       "<Figure size 720x720 with 6 Axes>"
      ]
     },
     "metadata": {
      "needs_background": "light"
     },
     "output_type": "display_data"
    }
   ],
   "source": [
    "df_alfredo.hist(bins=50, figsize=(10,10))"
   ]
  },
  {
   "cell_type": "markdown",
   "metadata": {},
   "source": [
    "### lost_reason.1 - Onboarding\n",
    "\n",
    "Motivo pelo qual a pessoa não concluiu o processo de onboarding."
   ]
  },
  {
   "cell_type": "code",
   "execution_count": 41,
   "metadata": {},
   "outputs": [
    {
     "data": {
      "text/plain": [
       "1                                     Cancelou assinatura\n",
       "6                                     Cancelou assinatura\n",
       "9       [Onboarding] Não retornou aos contatos de resgate\n",
       "17      [Onboarding] Não tem interesse em seguir nas e...\n",
       "23      [Onboarding] Não tem interesse em seguir nas e...\n",
       "                              ...                        \n",
       "1122    [Onboarding] Não retornou aos contatos de resgate\n",
       "1126    [Onboarding] Não retornou aos contatos de resgate\n",
       "1129    [Onboarding] Não retornou aos contatos de resgate\n",
       "1131    [Onboarding] Não retornou aos contatos de resgate\n",
       "1148    [Onboarding] Não retornou aos contatos de resgate\n",
       "Name: lost_reason.1, Length: 317, dtype: object"
      ]
     },
     "execution_count": 41,
     "metadata": {},
     "output_type": "execute_result"
    }
   ],
   "source": [
    "df['lost_reason.1'].dropna()"
   ]
  },
  {
   "cell_type": "markdown",
   "metadata": {},
   "source": [
    "### lost_reason - Assinatura\n",
    "\n",
    "Motivo do cancelamento por assinatura (separada por vírgula)."
   ]
  },
  {
   "cell_type": "code",
   "execution_count": 42,
   "metadata": {},
   "outputs": [
    {
     "data": {
      "text/plain": [
       "24                 [Assinatura] Não quer seguir com a Ana\n",
       "28                    [Assinatura] Precisou cortar custos\n",
       "30      [Assinatura] Cancelamento após saída da psicot...\n",
       "36       [Assinatura] Empresa cancelou o benefício da Ana\n",
       "37                     Empresa está encerrando a operação\n",
       "                              ...                        \n",
       "1110                  [Assinatura] Precisou cortar custos\n",
       "1112               [Assinatura] Não quer seguir com a Ana\n",
       "1114                            [Assinatura] Desligamento\n",
       "1120                            [Assinatura] Desligamento\n",
       "1133                            [Assinatura] Desligamento\n",
       "Name: lost_reason, Length: 520, dtype: object"
      ]
     },
     "execution_count": 42,
     "metadata": {},
     "output_type": "execute_result"
    }
   ],
   "source": [
    "df['lost_reason'].dropna()"
   ]
  },
  {
   "cell_type": "markdown",
   "metadata": {},
   "source": [
    "### Mensagens Outbound - \n",
    "\n",
    "Contagem de mensagens enviadas pela equipe de saúde. Pode ser interessante ver q quantidade ao longo do tempo, assim, mostrando como que o cuidado vai evoluindo com o passar do tempo, mas, não temos acesso ao log de mensagens por dia, apenas por cliente."
   ]
  },
  {
   "cell_type": "code",
   "execution_count": 43,
   "metadata": {},
   "outputs": [
    {
     "data": {
      "image/png": "[encoded data removed]",
      "text/plain": [
       "<Figure size 432x288 with 1 Axes>"
      ]
     },
     "metadata": {
      "needs_background": "light"
     },
     "output_type": "display_data"
    }
   ],
   "source": [
    "plt.bar(df['id_person'],df['Mensagens Outbound'])\n",
    "plt.show()"
   ]
  },
  {
   "cell_type": "code",
   "execution_count": 46,
   "metadata": {},
   "outputs": [
    {
     "name": "stdout",
     "output_type": "stream",
     "text": [
      "Media de mensagens enviadas pela equipe de saude:  83.27806563039724\n",
      "Primeiro quartil de mensagens enviadas:  19.0\n",
      "Quartil superior de mensagens enviadas:  110.0\n"
     ]
    }
   ],
   "source": [
    "print(\"Media de mensagens enviadas pela equipe de saude: \", df['Mensagens Outbound'].mean())\n",
    "print(\"Primeiro quartil de mensagens enviadas: \", df['Mensagens Outbound'].quantile(0.25))\n",
    "print(\"Quartil superior de mensagens enviadas: \", df['Mensagens Outbound'].quantile(0.75))"
   ]
  },
  {
   "cell_type": "markdown",
   "metadata": {},
   "source": [
    "### Datas Atendimento Médico - \n",
    "Data dos atendimentos com a equipe médica. Importante ver a quantidade de atendimentos por cliente ou empresa que existem.\n"
   ]
  },
  {
   "cell_type": "code",
   "execution_count": 47,
   "metadata": {},
   "outputs": [
    {
     "data": {
      "text/plain": [
       "0       False\n",
       "1       False\n",
       "2       False\n",
       "3       False\n",
       "4       False\n",
       "        ...  \n",
       "1197    False\n",
       "1198    False\n",
       "1199    False\n",
       "1200    False\n",
       "1201    False\n",
       "Name: Datas Atendimento Médico, Length: 1202, dtype: bool"
      ]
     },
     "execution_count": 47,
     "metadata": {},
     "output_type": "execute_result"
    }
   ],
   "source": [
    "df['Datas Atendimento Médico']"
   ]
  },
  {
   "cell_type": "code",
   "execution_count": 48,
   "metadata": {},
   "outputs": [
    {
     "data": {
      "text/html": [
       "<div>\n",
       "<style scoped>\n",
       "    .dataframe tbody tr th:only-of-type {\n",
       "        vertical-align: middle;\n",
       "    }\n",
       "\n",
       "    .dataframe tbody tr th {\n",
       "        vertical-align: top;\n",
       "    }\n",
       "\n",
       "    .dataframe thead th {\n",
       "        text-align: right;\n",
       "    }\n",
       "</style>\n",
       "<table border=\"1\" class=\"dataframe\">\n",
       "  <thead>\n",
       "    <tr style=\"text-align: right;\">\n",
       "      <th></th>\n",
       "      <th>id_person</th>\n",
       "      <th>birthdate</th>\n",
       "      <th>id_gender</th>\n",
       "      <th>id_marrital_status</th>\n",
       "      <th>state</th>\n",
       "      <th>city</th>\n",
       "      <th>postal_code</th>\n",
       "      <th>id_health_plan</th>\n",
       "      <th>id_person_recommendation</th>\n",
       "      <th>contract_start_date</th>\n",
       "      <th>...</th>\n",
       "      <th>Ligações Outbound</th>\n",
       "      <th>Data Última Ligações Outbound</th>\n",
       "      <th>Qde Total de Faturas</th>\n",
       "      <th>Qde Total de Tentativas de Cobrança</th>\n",
       "      <th>Método de Pagamento</th>\n",
       "      <th>Valor Médio da Mensalidade</th>\n",
       "      <th>Qde Total de Faturas Pagas após Vencimento</th>\n",
       "      <th>Qde Total de Faturas Inadimpletes</th>\n",
       "      <th>Valor Total Inadimplência</th>\n",
       "      <th>Qde Perfis de Pagamento Inativos</th>\n",
       "    </tr>\n",
       "  </thead>\n",
       "  <tbody>\n",
       "  </tbody>\n",
       "</table>\n",
       "<p>0 rows × 75 columns</p>\n",
       "</div>"
      ],
      "text/plain": [
       "Empty DataFrame\n",
       "Columns: [id_person, birthdate, id_gender, id_marrital_status, state, city, postal_code, id_health_plan, id_person_recommendation, contract_start_date, contract_end_date, id_continuity_pf, Recebe Comunicados?, Canal de Preferência, Interesses, Pontos de Atenção, notes_count, done_activities_count, id_stage, id_org, status, start_of_service, lost_time, lost_reason, age_total_seconds, add_time, status.1, id_label, stay_in_pipeline_stages_welcome, stay_in_pipeline_stages_first_meeting, stay_in_pipeline_stages_whoqol, won_time, lost_time.1, lost_reason.1, age_total_seconds.1, activities_count, Qde Todos Atendimentos, Faltas Todos Atendimento, Cancelamentos Todos Atendimento, Qde Atendimento Médico, Faltas Atendimento Médico, Cancelamentos Atendimento Médico, Datas Atendimento Médico, Qde Atendimentos Acolhimento, Faltas Acolhimento, Cancelamentos Acolhimento, Datas Acolhimento, Qde Psicoterapia, Faltas Psicoterapia, Datas Psicoterapia, Cancelamentos Psicoterapia, Qde Prescrições, Datas Prescrição, Qde Respostas WHOQOL, Físico, Psicológico, Social, Ambiental, Problemas Abertos, Mensagens Inbound, Data Última Mensagens Inbound, Mensagens Outbound, Data Última Mensagens Outbound, Ligações Inbound, Data Última Ligações Inbound, Ligações Outbound, Data Última Ligações Outbound, Qde Total de Faturas, Qde Total de Tentativas de Cobrança, Método de Pagamento, Valor Médio da Mensalidade, Qde Total de Faturas Pagas após Vencimento, Qde Total de Faturas Inadimpletes, Valor Total Inadimplência, Qde Perfis de Pagamento Inativos]\n",
       "Index: []\n",
       "\n",
       "[0 rows x 75 columns]"
      ]
     },
     "execution_count": 48,
     "metadata": {},
     "output_type": "execute_result"
    }
   ],
   "source": [
    "df[df['Datas Atendimento Médico']!=False]"
   ]
  },
  {
   "cell_type": "markdown",
   "metadata": {},
   "source": [
    "**Coluna completamente nula**"
   ]
  },
  {
   "cell_type": "markdown",
   "metadata": {},
   "source": [
    "### stay_in_pipeline_stages_whoqol - \n",
    "\n",
    "Tempo até a realização da atendimento para pactuar a jornada de cuidados. Não sabemos qual a unidade de medida de tempo utilizada."
   ]
  },
  {
   "cell_type": "code",
   "execution_count": 49,
   "metadata": {},
   "outputs": [
    {
     "data": {
      "text/plain": [
       "864"
      ]
     },
     "execution_count": 49,
     "metadata": {},
     "output_type": "execute_result"
    }
   ],
   "source": [
    "df['stay_in_pipeline_stages_whoqol']\n",
    "\n",
    "len(df['stay_in_pipeline_stages_whoqol'].dropna())"
   ]
  },
  {
   "cell_type": "code",
   "execution_count": 50,
   "metadata": {},
   "outputs": [
    {
     "data": {
      "image/png": "[encoded data removed]",
      "text/plain": [
       "<Figure size 432x288 with 1 Axes>"
      ]
     },
     "metadata": {
      "needs_background": "light"
     },
     "output_type": "display_data"
    }
   ],
   "source": [
    "filtro = pd.notna(df['stay_in_pipeline_stages_whoqol'])\n",
    "\n",
    "users_fizeram = df[filtro]['id_person']\n",
    "tempo_testes_feitos = df[filtro]['stay_in_pipeline_stages_whoqol']\n",
    "\n",
    "plt.bar(users_fizeram, tempo_testes_feitos)\n",
    "plt.show()"
   ]
  },
  {
   "cell_type": "markdown",
   "metadata": {},
   "source": [
    "O que é possível ver são tempos muito altos (já que a escala está relativa), indicando uma possível demora para realizar o teste de satisfação com a própria vida."
   ]
  },
  {
   "cell_type": "markdown",
   "metadata": {},
   "source": [
    "### id_label - \n",
    "\n",
    "Identificador do status do agendamento durante o processo de onboarding: Convera Agendada, Reagendar.\n",
    "\n",
    "Só há 103 valores não nulos e não sabemos o valor associado aos números presentes na coluna (cada um representa uma classe).\n"
   ]
  },
  {
   "cell_type": "code",
   "execution_count": 51,
   "metadata": {},
   "outputs": [
    {
     "data": {
      "text/plain": [
       "<AxesSubplot:>"
      ]
     },
     "execution_count": 51,
     "metadata": {},
     "output_type": "execute_result"
    },
    {
     "data": {
      "image/png": "[encoded data removed]",
      "text/plain": [
       "<Figure size 432x288 with 1 Axes>"
      ]
     },
     "metadata": {
      "needs_background": "light"
     },
     "output_type": "display_data"
    }
   ],
   "source": [
    "df['id_label'].hist()"
   ]
  },
  {
   "cell_type": "code",
   "execution_count": 52,
   "metadata": {},
   "outputs": [
    {
     "data": {
      "text/plain": [
       "38      284.0\n",
       "69      325.0\n",
       "78      284.0\n",
       "81      284.0\n",
       "137     323.0\n",
       "        ...  \n",
       "1182    313.0\n",
       "1189    313.0\n",
       "1191    313.0\n",
       "1193    313.0\n",
       "1198    313.0\n",
       "Name: id_label, Length: 103, dtype: float64"
      ]
     },
     "execution_count": 52,
     "metadata": {},
     "output_type": "execute_result"
    }
   ],
   "source": [
    "df['id_label'].dropna()"
   ]
  },
  {
   "cell_type": "markdown",
   "metadata": {},
   "source": [
    "### done_activities_count - \n",
    "\n",
    "Contagem das atividades concluídas relacionada à pessoa. Algo a ser levado em consideração quando analisarmos quais os clientes propícios a cancelar é o quanto eles usufruíram dos serviços antes do término."
   ]
  },
  {
   "cell_type": "code",
   "execution_count": 53,
   "metadata": {},
   "outputs": [
    {
     "data": {
      "text/plain": [
       "0       8\n",
       "1       4\n",
       "2       0\n",
       "3       0\n",
       "4       0\n",
       "       ..\n",
       "1197    0\n",
       "1198    0\n",
       "1199    0\n",
       "1200    0\n",
       "1201    0\n",
       "Name: done_activities_count, Length: 1202, dtype: int64"
      ]
     },
     "execution_count": 53,
     "metadata": {},
     "output_type": "execute_result"
    }
   ],
   "source": [
    "df['done_activities_count']"
   ]
  },
  {
   "cell_type": "code",
   "execution_count": 54,
   "metadata": {},
   "outputs": [
    {
     "data": {
      "text/plain": [
       "<AxesSubplot:>"
      ]
     },
     "execution_count": 54,
     "metadata": {},
     "output_type": "execute_result"
    },
    {
     "data": {
      "image/png": "[encoded data removed]",
      "text/plain": [
       "<Figure size 432x288 with 1 Axes>"
      ]
     },
     "metadata": {
      "needs_background": "light"
     },
     "output_type": "display_data"
    }
   ],
   "source": [
    "df['done_activities_count'].hist()"
   ]
  },
  {
   "cell_type": "code",
   "execution_count": 56,
   "metadata": {},
   "outputs": [
    {
     "name": "stdout",
     "output_type": "stream",
     "text": [
      "Primeiro quaril de atividades:  5.0\n",
      "Quartil superior do número de ativiaddes feitas:  13.0\n"
     ]
    }
   ],
   "source": [
    "print(\"Primeiro quaril de atividades: \",df['done_activities_count'].quantile(0.25))\n",
    "print(\"Quartil superior do número de ativiaddes feitas: \",df['done_activities_count'].quantile(0.75))"
   ]
  },
  {
   "cell_type": "markdown",
   "metadata": {},
   "source": [
    "### state - \n",
    "Estado onde a pessoa reside."
   ]
  },
  {
   "cell_type": "code",
   "execution_count": 57,
   "metadata": {},
   "outputs": [
    {
     "data": {
      "image/png": "[encoded data removed]",
      "text/plain": [
       "<Figure size 720x720 with 1 Axes>"
      ]
     },
     "metadata": {
      "needs_background": "light"
     },
     "output_type": "display_data"
    }
   ],
   "source": [
    "vc = df['state'].value_counts()\n",
    "plt.figure(figsize=(10,10))\n",
    "plt.bar(vc.index,vc.values)\n",
    "plt.xticks(rotation=90)\n",
    "plt.show()"
   ]
  },
  {
   "cell_type": "markdown",
   "metadata": {},
   "source": [
    "Grande maioria dos usuários são situados em São Paulo."
   ]
  },
  {
   "cell_type": "markdown",
   "metadata": {},
   "source": [
    "### Faltas Psicoterapia - \n",
    "\n",
    "Contagem das faltas considerando apenas as sessões de psicoterapia. Se alguém acabar por faltar bastante, pode indicar alguma insatisfação com o serviço ou insegurança com o processo de terapia.\n",
    "\n",
    "Há apenas 180 valores não nulos"
   ]
  },
  {
   "cell_type": "code",
   "execution_count": 58,
   "metadata": {},
   "outputs": [
    {
     "data": {
      "text/plain": [
       "28       1.0\n",
       "50       8.0\n",
       "55      12.0\n",
       "65       1.0\n",
       "72       2.0\n",
       "        ... \n",
       "1105     2.0\n",
       "1106     1.0\n",
       "1111     1.0\n",
       "1138     1.0\n",
       "1142     1.0\n",
       "Name: Faltas Psicoterapia, Length: 180, dtype: float64"
      ]
     },
     "execution_count": 58,
     "metadata": {},
     "output_type": "execute_result"
    }
   ],
   "source": [
    "df['Faltas Psicoterapia'].dropna()"
   ]
  },
  {
   "cell_type": "code",
   "execution_count": 59,
   "metadata": {},
   "outputs": [
    {
     "data": {
      "text/plain": [
       "<AxesSubplot:>"
      ]
     },
     "execution_count": 59,
     "metadata": {},
     "output_type": "execute_result"
    },
    {
     "data": {
      "image/png": "[encoded data removed]",
      "text/plain": [
       "<Figure size 432x288 with 1 Axes>"
      ]
     },
     "metadata": {
      "needs_background": "light"
     },
     "output_type": "display_data"
    }
   ],
   "source": [
    "df['Faltas Psicoterapia'].hist()"
   ]
  },
  {
   "cell_type": "markdown",
   "metadata": {},
   "source": [
    "O baixo índice de faltas indica que muitas pessoas estão realmente indo aos atendimentos. O problema é que temos apenas 180 amostras não nulas no dataset, se não seria uma informação relevante."
   ]
  },
  {
   "cell_type": "markdown",
   "metadata": {},
   "source": [
    "### Data Última Mensagens Outbound\n",
    "Data da última mensagem enviada pela equipe de saúde. Se essa data for anterior à última data da mensagem enviada pelo cliente isso é um possível problema."
   ]
  },
  {
   "cell_type": "code",
   "execution_count": 60,
   "metadata": {},
   "outputs": [
    {
     "data": {
      "text/plain": [
       "0       2023-01-30 16:24:27\n",
       "1                       NaN\n",
       "2                       NaN\n",
       "3                       NaN\n",
       "4                       NaN\n",
       "               ...         \n",
       "1197                    NaN\n",
       "1198                    NaN\n",
       "1199    2023-10-31 14:01:06\n",
       "1200                    NaN\n",
       "1201                    NaN\n",
       "Name: Data Última Mensagens Outbound, Length: 1202, dtype: object"
      ]
     },
     "execution_count": 60,
     "metadata": {},
     "output_type": "execute_result"
    }
   ],
   "source": [
    "df['Data Última Mensagens Outbound']"
   ]
  },
  {
   "cell_type": "code",
   "execution_count": 61,
   "metadata": {},
   "outputs": [
    {
     "data": {
      "text/plain": [
       "2022-03-24 11:55:48    5\n",
       "2023-10-31 18:40:50    3\n",
       "2023-10-26 07:40:52    3\n",
       "2023-10-30 18:40:51    3\n",
       "2023-10-03 10:33:21    3\n",
       "                      ..\n",
       "2022-11-07 17:17:07    1\n",
       "2023-10-27 18:55:34    1\n",
       "2023-10-26 20:58:51    1\n",
       "2022-06-17 11:01:17    1\n",
       "2023-10-31 14:01:06    1\n",
       "Name: Data Última Mensagens Outbound, Length: 1125, dtype: int64"
      ]
     },
     "execution_count": 61,
     "metadata": {},
     "output_type": "execute_result"
    }
   ],
   "source": [
    "df['Data Última Mensagens Outbound'].value_counts()"
   ]
  },
  {
   "cell_type": "code",
   "execution_count": 62,
   "metadata": {},
   "outputs": [
    {
     "data": {
      "text/plain": [
       "0      2023-01-30 16:24:27\n",
       "1                      NaT\n",
       "2                      NaT\n",
       "3                      NaT\n",
       "4                      NaT\n",
       "               ...        \n",
       "1197                   NaT\n",
       "1198                   NaT\n",
       "1199   2023-10-31 14:01:06\n",
       "1200                   NaT\n",
       "1201                   NaT\n",
       "Name: Data Última Mensagens Outbound, Length: 1202, dtype: datetime64[ns]"
      ]
     },
     "execution_count": 62,
     "metadata": {},
     "output_type": "execute_result"
    }
   ],
   "source": [
    "df['Data Última Mensagens Outbound'] = pd.to_datetime(df['Data Última Mensagens Outbound'], format='%Y-%m-%d %H:%M:%S')\n",
    "df['Data Última Mensagens Outbound']"
   ]
  },
  {
   "cell_type": "code",
   "execution_count": 63,
   "metadata": {},
   "outputs": [
    {
     "data": {
      "text/plain": [
       "0      2023-01-02 15:36:27\n",
       "1                      NaT\n",
       "2                      NaT\n",
       "3                      NaT\n",
       "4                      NaT\n",
       "               ...        \n",
       "1197                   NaT\n",
       "1198                   NaT\n",
       "1199   2023-10-31 14:01:01\n",
       "1200                   NaT\n",
       "1201                   NaT\n",
       "Name: Data Última Mensagens Inbound, Length: 1202, dtype: datetime64[ns]"
      ]
     },
     "execution_count": 63,
     "metadata": {},
     "output_type": "execute_result"
    }
   ],
   "source": [
    "df['Data Última Mensagens Inbound'] = pd.to_datetime(df['Data Última Mensagens Inbound'], format='%Y-%m-%d %H:%M:%S')\n",
    "df['Data Última Mensagens Inbound']"
   ]
  },
  {
   "cell_type": "code",
   "execution_count": 66,
   "metadata": {},
   "outputs": [
    {
     "data": {
      "text/html": [
       "<div>\n",
       "<style scoped>\n",
       "    .dataframe tbody tr th:only-of-type {\n",
       "        vertical-align: middle;\n",
       "    }\n",
       "\n",
       "    .dataframe tbody tr th {\n",
       "        vertical-align: top;\n",
       "    }\n",
       "\n",
       "    .dataframe thead th {\n",
       "        text-align: right;\n",
       "    }\n",
       "</style>\n",
       "<table border=\"1\" class=\"dataframe\">\n",
       "  <thead>\n",
       "    <tr style=\"text-align: right;\">\n",
       "      <th></th>\n",
       "      <th>id_person</th>\n",
       "      <th>birthdate</th>\n",
       "      <th>id_gender</th>\n",
       "      <th>id_marrital_status</th>\n",
       "      <th>state</th>\n",
       "      <th>city</th>\n",
       "      <th>postal_code</th>\n",
       "      <th>id_health_plan</th>\n",
       "      <th>id_person_recommendation</th>\n",
       "      <th>contract_start_date</th>\n",
       "      <th>...</th>\n",
       "      <th>Ligações Outbound</th>\n",
       "      <th>Data Última Ligações Outbound</th>\n",
       "      <th>Qde Total de Faturas</th>\n",
       "      <th>Qde Total de Tentativas de Cobrança</th>\n",
       "      <th>Método de Pagamento</th>\n",
       "      <th>Valor Médio da Mensalidade</th>\n",
       "      <th>Qde Total de Faturas Pagas após Vencimento</th>\n",
       "      <th>Qde Total de Faturas Inadimpletes</th>\n",
       "      <th>Valor Total Inadimplência</th>\n",
       "      <th>Qde Perfis de Pagamento Inativos</th>\n",
       "    </tr>\n",
       "  </thead>\n",
       "  <tbody>\n",
       "    <tr>\n",
       "      <th>17</th>\n",
       "      <td>408</td>\n",
       "      <td>1963-10-04</td>\n",
       "      <td>63.0</td>\n",
       "      <td>82.0</td>\n",
       "      <td>São Paulo</td>\n",
       "      <td>Marília</td>\n",
       "      <td>17502-242</td>\n",
       "      <td>428.0</td>\n",
       "      <td>2379.0</td>\n",
       "      <td>2021-01-28</td>\n",
       "      <td>...</td>\n",
       "      <td>11.0</td>\n",
       "      <td>2023-06-06 07:59:43</td>\n",
       "      <td>30.0</td>\n",
       "      <td>32.0</td>\n",
       "      <td>Cartão de crédito</td>\n",
       "      <td>91.54</td>\n",
       "      <td>0.0</td>\n",
       "      <td>0.0</td>\n",
       "      <td>0.0</td>\n",
       "      <td>False</td>\n",
       "    </tr>\n",
       "    <tr>\n",
       "      <th>23</th>\n",
       "      <td>463</td>\n",
       "      <td>1971-02-28</td>\n",
       "      <td>64.0</td>\n",
       "      <td>82.0</td>\n",
       "      <td>NaN</td>\n",
       "      <td>NaN</td>\n",
       "      <td>NaN</td>\n",
       "      <td>NaN</td>\n",
       "      <td>NaN</td>\n",
       "      <td>2021-02-23</td>\n",
       "      <td>...</td>\n",
       "      <td>NaN</td>\n",
       "      <td>NaN</td>\n",
       "      <td>NaN</td>\n",
       "      <td>NaN</td>\n",
       "      <td>NaN</td>\n",
       "      <td>NaN</td>\n",
       "      <td>NaN</td>\n",
       "      <td>NaN</td>\n",
       "      <td>NaN</td>\n",
       "      <td>False</td>\n",
       "    </tr>\n",
       "    <tr>\n",
       "      <th>30</th>\n",
       "      <td>860</td>\n",
       "      <td>1998-05-06</td>\n",
       "      <td>63.0</td>\n",
       "      <td>80.0</td>\n",
       "      <td>Paraná</td>\n",
       "      <td>Londrina</td>\n",
       "      <td>86020-410</td>\n",
       "      <td>NaN</td>\n",
       "      <td>NaN</td>\n",
       "      <td>2022-06-21</td>\n",
       "      <td>...</td>\n",
       "      <td>NaN</td>\n",
       "      <td>NaN</td>\n",
       "      <td>13.0</td>\n",
       "      <td>14.0</td>\n",
       "      <td>Cartão de crédito</td>\n",
       "      <td>88.00</td>\n",
       "      <td>1.0</td>\n",
       "      <td>0.0</td>\n",
       "      <td>0.0</td>\n",
       "      <td>False</td>\n",
       "    </tr>\n",
       "    <tr>\n",
       "      <th>38</th>\n",
       "      <td>973</td>\n",
       "      <td>1986-10-11</td>\n",
       "      <td>64.0</td>\n",
       "      <td>80.0</td>\n",
       "      <td>Minas Gerais</td>\n",
       "      <td>Uberlândia</td>\n",
       "      <td>38405-364</td>\n",
       "      <td>412.0</td>\n",
       "      <td>NaN</td>\n",
       "      <td>2021-06-28</td>\n",
       "      <td>...</td>\n",
       "      <td>NaN</td>\n",
       "      <td>NaN</td>\n",
       "      <td>NaN</td>\n",
       "      <td>NaN</td>\n",
       "      <td>NaN</td>\n",
       "      <td>NaN</td>\n",
       "      <td>NaN</td>\n",
       "      <td>NaN</td>\n",
       "      <td>NaN</td>\n",
       "      <td>False</td>\n",
       "    </tr>\n",
       "    <tr>\n",
       "      <th>51</th>\n",
       "      <td>1152</td>\n",
       "      <td>1994-08-31</td>\n",
       "      <td>64.0</td>\n",
       "      <td>80.0</td>\n",
       "      <td>São Paulo</td>\n",
       "      <td>São Carlos</td>\n",
       "      <td>13569-060</td>\n",
       "      <td>NaN</td>\n",
       "      <td>NaN</td>\n",
       "      <td>2021-08-05</td>\n",
       "      <td>...</td>\n",
       "      <td>NaN</td>\n",
       "      <td>NaN</td>\n",
       "      <td>NaN</td>\n",
       "      <td>NaN</td>\n",
       "      <td>NaN</td>\n",
       "      <td>NaN</td>\n",
       "      <td>NaN</td>\n",
       "      <td>NaN</td>\n",
       "      <td>NaN</td>\n",
       "      <td>False</td>\n",
       "    </tr>\n",
       "    <tr>\n",
       "      <th>...</th>\n",
       "      <td>...</td>\n",
       "      <td>...</td>\n",
       "      <td>...</td>\n",
       "      <td>...</td>\n",
       "      <td>...</td>\n",
       "      <td>...</td>\n",
       "      <td>...</td>\n",
       "      <td>...</td>\n",
       "      <td>...</td>\n",
       "      <td>...</td>\n",
       "      <td>...</td>\n",
       "      <td>...</td>\n",
       "      <td>...</td>\n",
       "      <td>...</td>\n",
       "      <td>...</td>\n",
       "      <td>...</td>\n",
       "      <td>...</td>\n",
       "      <td>...</td>\n",
       "      <td>...</td>\n",
       "      <td>...</td>\n",
       "      <td>...</td>\n",
       "    </tr>\n",
       "    <tr>\n",
       "      <th>1166</th>\n",
       "      <td>5877</td>\n",
       "      <td>2003-01-15</td>\n",
       "      <td>63.0</td>\n",
       "      <td>80.0</td>\n",
       "      <td>Minas Gerais</td>\n",
       "      <td>Belo Horizonte</td>\n",
       "      <td>31310-360</td>\n",
       "      <td>NaN</td>\n",
       "      <td>NaN</td>\n",
       "      <td>2023-10-16</td>\n",
       "      <td>...</td>\n",
       "      <td>NaN</td>\n",
       "      <td>NaN</td>\n",
       "      <td>NaN</td>\n",
       "      <td>NaN</td>\n",
       "      <td>NaN</td>\n",
       "      <td>NaN</td>\n",
       "      <td>NaN</td>\n",
       "      <td>NaN</td>\n",
       "      <td>NaN</td>\n",
       "      <td>False</td>\n",
       "    </tr>\n",
       "    <tr>\n",
       "      <th>1173</th>\n",
       "      <td>5893</td>\n",
       "      <td>1983-12-02</td>\n",
       "      <td>64.0</td>\n",
       "      <td>82.0</td>\n",
       "      <td>São Paulo</td>\n",
       "      <td>São Paulo</td>\n",
       "      <td>04303-001</td>\n",
       "      <td>NaN</td>\n",
       "      <td>NaN</td>\n",
       "      <td>2023-10-19</td>\n",
       "      <td>...</td>\n",
       "      <td>NaN</td>\n",
       "      <td>NaN</td>\n",
       "      <td>NaN</td>\n",
       "      <td>NaN</td>\n",
       "      <td>NaN</td>\n",
       "      <td>NaN</td>\n",
       "      <td>NaN</td>\n",
       "      <td>NaN</td>\n",
       "      <td>NaN</td>\n",
       "      <td>False</td>\n",
       "    </tr>\n",
       "    <tr>\n",
       "      <th>1175</th>\n",
       "      <td>5897</td>\n",
       "      <td>1994-02-12</td>\n",
       "      <td>64.0</td>\n",
       "      <td>80.0</td>\n",
       "      <td>Pernambuco</td>\n",
       "      <td>Recife</td>\n",
       "      <td>54290-050</td>\n",
       "      <td>NaN</td>\n",
       "      <td>NaN</td>\n",
       "      <td>2023-10-20</td>\n",
       "      <td>...</td>\n",
       "      <td>NaN</td>\n",
       "      <td>NaN</td>\n",
       "      <td>NaN</td>\n",
       "      <td>NaN</td>\n",
       "      <td>NaN</td>\n",
       "      <td>NaN</td>\n",
       "      <td>NaN</td>\n",
       "      <td>NaN</td>\n",
       "      <td>NaN</td>\n",
       "      <td>False</td>\n",
       "    </tr>\n",
       "    <tr>\n",
       "      <th>1184</th>\n",
       "      <td>5914</td>\n",
       "      <td>1998-03-03</td>\n",
       "      <td>64.0</td>\n",
       "      <td>80.0</td>\n",
       "      <td>Bahia</td>\n",
       "      <td>Salvador</td>\n",
       "      <td>40230-113</td>\n",
       "      <td>NaN</td>\n",
       "      <td>NaN</td>\n",
       "      <td>2023-10-24</td>\n",
       "      <td>...</td>\n",
       "      <td>NaN</td>\n",
       "      <td>NaN</td>\n",
       "      <td>1.0</td>\n",
       "      <td>1.0</td>\n",
       "      <td>Cartão de crédito</td>\n",
       "      <td>50.00</td>\n",
       "      <td>0.0</td>\n",
       "      <td>0.0</td>\n",
       "      <td>0.0</td>\n",
       "      <td>False</td>\n",
       "    </tr>\n",
       "    <tr>\n",
       "      <th>1189</th>\n",
       "      <td>5924</td>\n",
       "      <td>1992-05-30</td>\n",
       "      <td>63.0</td>\n",
       "      <td>82.0</td>\n",
       "      <td>São Paulo</td>\n",
       "      <td>Taboão da Serra</td>\n",
       "      <td>06754-060</td>\n",
       "      <td>NaN</td>\n",
       "      <td>NaN</td>\n",
       "      <td>2023-10-30</td>\n",
       "      <td>...</td>\n",
       "      <td>NaN</td>\n",
       "      <td>NaN</td>\n",
       "      <td>NaN</td>\n",
       "      <td>NaN</td>\n",
       "      <td>NaN</td>\n",
       "      <td>NaN</td>\n",
       "      <td>NaN</td>\n",
       "      <td>NaN</td>\n",
       "      <td>NaN</td>\n",
       "      <td>False</td>\n",
       "    </tr>\n",
       "  </tbody>\n",
       "</table>\n",
       "<p>196 rows × 75 columns</p>\n",
       "</div>"
      ],
      "text/plain": [
       "      id_person   birthdate  id_gender  id_marrital_status         state  \\\n",
       "17          408  1963-10-04       63.0                82.0     São Paulo   \n",
       "23          463  1971-02-28       64.0                82.0           NaN   \n",
       "30          860  1998-05-06       63.0                80.0        Paraná   \n",
       "38          973  1986-10-11       64.0                80.0  Minas Gerais   \n",
       "51         1152  1994-08-31       64.0                80.0     São Paulo   \n",
       "...         ...         ...        ...                 ...           ...   \n",
       "1166       5877  2003-01-15       63.0                80.0  Minas Gerais   \n",
       "1173       5893  1983-12-02       64.0                82.0     São Paulo   \n",
       "1175       5897  1994-02-12       64.0                80.0    Pernambuco   \n",
       "1184       5914  1998-03-03       64.0                80.0         Bahia   \n",
       "1189       5924  1992-05-30       63.0                82.0     São Paulo   \n",
       "\n",
       "                 city postal_code  id_health_plan  id_person_recommendation  \\\n",
       "17            Marília   17502-242           428.0                    2379.0   \n",
       "23                NaN         NaN             NaN                       NaN   \n",
       "30           Londrina   86020-410             NaN                       NaN   \n",
       "38         Uberlândia   38405-364           412.0                       NaN   \n",
       "51         São Carlos   13569-060             NaN                       NaN   \n",
       "...               ...         ...             ...                       ...   \n",
       "1166   Belo Horizonte   31310-360             NaN                       NaN   \n",
       "1173        São Paulo   04303-001             NaN                       NaN   \n",
       "1175           Recife   54290-050             NaN                       NaN   \n",
       "1184         Salvador   40230-113             NaN                       NaN   \n",
       "1189  Taboão da Serra   06754-060             NaN                       NaN   \n",
       "\n",
       "     contract_start_date  ... Ligações Outbound  \\\n",
       "17            2021-01-28  ...              11.0   \n",
       "23            2021-02-23  ...               NaN   \n",
       "30            2022-06-21  ...               NaN   \n",
       "38            2021-06-28  ...               NaN   \n",
       "51            2021-08-05  ...               NaN   \n",
       "...                  ...  ...               ...   \n",
       "1166          2023-10-16  ...               NaN   \n",
       "1173          2023-10-19  ...               NaN   \n",
       "1175          2023-10-20  ...               NaN   \n",
       "1184          2023-10-24  ...               NaN   \n",
       "1189          2023-10-30  ...               NaN   \n",
       "\n",
       "      Data Última Ligações Outbound Qde Total de Faturas  \\\n",
       "17              2023-06-06 07:59:43                 30.0   \n",
       "23                              NaN                  NaN   \n",
       "30                              NaN                 13.0   \n",
       "38                              NaN                  NaN   \n",
       "51                              NaN                  NaN   \n",
       "...                             ...                  ...   \n",
       "1166                            NaN                  NaN   \n",
       "1173                            NaN                  NaN   \n",
       "1175                            NaN                  NaN   \n",
       "1184                            NaN                  1.0   \n",
       "1189                            NaN                  NaN   \n",
       "\n",
       "      Qde Total de Tentativas de Cobrança Método de Pagamento  \\\n",
       "17                                   32.0   Cartão de crédito   \n",
       "23                                    NaN                 NaN   \n",
       "30                                   14.0   Cartão de crédito   \n",
       "38                                    NaN                 NaN   \n",
       "51                                    NaN                 NaN   \n",
       "...                                   ...                 ...   \n",
       "1166                                  NaN                 NaN   \n",
       "1173                                  NaN                 NaN   \n",
       "1175                                  NaN                 NaN   \n",
       "1184                                  1.0   Cartão de crédito   \n",
       "1189                                  NaN                 NaN   \n",
       "\n",
       "     Valor Médio da Mensalidade  Qde Total de Faturas Pagas após Vencimento  \\\n",
       "17                        91.54                                         0.0   \n",
       "23                          NaN                                         NaN   \n",
       "30                        88.00                                         1.0   \n",
       "38                          NaN                                         NaN   \n",
       "51                          NaN                                         NaN   \n",
       "...                         ...                                         ...   \n",
       "1166                        NaN                                         NaN   \n",
       "1173                        NaN                                         NaN   \n",
       "1175                        NaN                                         NaN   \n",
       "1184                      50.00                                         0.0   \n",
       "1189                        NaN                                         NaN   \n",
       "\n",
       "      Qde Total de Faturas Inadimpletes Valor Total Inadimplência  \\\n",
       "17                                  0.0                       0.0   \n",
       "23                                  NaN                       NaN   \n",
       "30                                  0.0                       0.0   \n",
       "38                                  NaN                       NaN   \n",
       "51                                  NaN                       NaN   \n",
       "...                                 ...                       ...   \n",
       "1166                                NaN                       NaN   \n",
       "1173                                NaN                       NaN   \n",
       "1175                                NaN                       NaN   \n",
       "1184                                0.0                       0.0   \n",
       "1189                                NaN                       NaN   \n",
       "\n",
       "     Qde Perfis de Pagamento Inativos  \n",
       "17                              False  \n",
       "23                              False  \n",
       "30                              False  \n",
       "38                              False  \n",
       "51                              False  \n",
       "...                               ...  \n",
       "1166                            False  \n",
       "1173                            False  \n",
       "1175                            False  \n",
       "1184                            False  \n",
       "1189                            False  \n",
       "\n",
       "[196 rows x 75 columns]"
      ]
     },
     "execution_count": 66,
     "metadata": {},
     "output_type": "execute_result"
    }
   ],
   "source": [
    "filtro = df['Data Última Mensagens Inbound'] > df['Data Última Mensagens Outbound']\n",
    "\n",
    "df[filtro]"
   ]
  },
  {
   "cell_type": "markdown",
   "metadata": {},
   "source": [
    "Como o datafranme acima indica, 196 clientes tiveram mensagens não respondidas até agora pela central de atendimento (no momento de criação dos dados)"
   ]
  },
  {
   "cell_type": "markdown",
   "metadata": {},
   "source": [
    "### Qde Atendimentos Acolhimento - \n",
    "\n",
    "Contagem dos atendimentos realizados com a equipe de acolhimento da Ana Health. Coluna inteira está vazia."
   ]
  },
  {
   "cell_type": "code",
   "execution_count": 67,
   "metadata": {},
   "outputs": [
    {
     "data": {
      "text/plain": [
       "count      1202\n",
       "unique        1\n",
       "top       False\n",
       "freq       1202\n",
       "Name: Qde Atendimentos Acolhimento, dtype: object"
      ]
     },
     "execution_count": 67,
     "metadata": {},
     "output_type": "execute_result"
    }
   ],
   "source": [
    "df['Qde Atendimentos Acolhimento'].describe()"
   ]
  },
  {
   "cell_type": "markdown",
   "metadata": {},
   "source": [
    "### Status - Assinatura \n",
    "\n",
    "Status por assinatura (separada por vírgula): Cancelada (lost), Ativa (won). O que acontece se o status for nulo?"
   ]
  },
  {
   "cell_type": "code",
   "execution_count": 68,
   "metadata": {},
   "outputs": [
    {
     "data": {
      "text/plain": [
       "24      lost\n",
       "28      lost\n",
       "30      lost\n",
       "36      lost\n",
       "37      lost\n",
       "        ... \n",
       "1196     won\n",
       "1197     won\n",
       "1198     won\n",
       "1200     won\n",
       "1201     won\n",
       "Name: status, Length: 1079, dtype: object"
      ]
     },
     "execution_count": 68,
     "metadata": {},
     "output_type": "execute_result"
    }
   ],
   "source": [
    "df['status'].dropna()"
   ]
  },
  {
   "cell_type": "code",
   "execution_count": 69,
   "metadata": {},
   "outputs": [
    {
     "data": {
      "text/plain": [
       "won                                                 551\n",
       "lost                                                450\n",
       "lost; lost                                           31\n",
       "won; lost                                            13\n",
       "lost; won                                            12\n",
       "won; won                                              6\n",
       "lost; lost; lost                                      5\n",
       "lost; won; lost                                       2\n",
       "won; lost; lost; lost                                 1\n",
       "lost; open                                            1\n",
       "lost; lost; won; lost                                 1\n",
       "open; won; lost                                       1\n",
       "lost; won; won; won                                   1\n",
       "won; won; won                                         1\n",
       "lost; lost; won                                       1\n",
       "won; lost; won                                        1\n",
       "won; won; won; won; won; won; won; won; won; won      1\n",
       "Name: status, dtype: int64"
      ]
     },
     "execution_count": 69,
     "metadata": {},
     "output_type": "execute_result"
    }
   ],
   "source": [
    "df['status'].value_counts()"
   ]
  },
  {
   "cell_type": "code",
   "execution_count": 70,
   "metadata": {},
   "outputs": [
    {
     "data": {
      "text/plain": [
       "won     574\n",
       "lost    504\n",
       "open      1\n",
       "Name: status, dtype: int64"
      ]
     },
     "execution_count": 70,
     "metadata": {},
     "output_type": "execute_result"
    }
   ],
   "source": [
    "def lastStatus(x):\n",
    "    s = x.split(';')\n",
    "    return s[-1].strip()\n",
    "\n",
    "status = df['status'].dropna().apply(lastStatus)\n",
    "\n",
    "status.value_counts()"
   ]
  },
  {
   "cell_type": "code",
   "execution_count": 119,
   "metadata": {},
   "outputs": [
    {
     "data": {
      "image/png": "[encoded data removed]",
      "text/plain": [
       "<Figure size 1000x1000 with 6 Axes>"
      ]
     },
     "metadata": {},
     "output_type": "display_data"
    }
   ],
   "source": [
    "df_gustavo.hist(bins=50, figsize=(10,10))\n",
    "plt.show()"
   ]
  },
  {
   "cell_type": "code",
   "execution_count": null,
   "metadata": {},
   "outputs": [],
   "source": []
  }
 ],
 "metadata": {
  "kernelspec": {
   "display_name": "Python 3",
   "language": "python",
   "name": "python3"
  },
  "language_info": {
   "codemirror_mode": {
    "name": "ipython",
    "version": 3
   },
   "file_extension": ".py",
   "mimetype": "text/x-python",
   "name": "python",
   "nbconvert_exporter": "python",
   "pygments_lexer": "ipython3",
   "version": "3.10.2"
  }
 },
 "nbformat": 4,
 "nbformat_minor": 2
}
