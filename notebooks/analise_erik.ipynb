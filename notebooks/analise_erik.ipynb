{
 "cells": [
  {
   "cell_type": "markdown",
   "metadata": {},
   "source": [
    "## Análise Erik"
   ]
  },
  {
   "cell_type": "code",
   "execution_count": 32,
   "metadata": {},
   "outputs": [],
   "source": [
    "import matplotlib.pyplot as plt\n",
    "import numpy as np\n",
    "import pandas as pd\n",
    "import seaborn as sns\n",
    "\n",
    "RANDOM_SEED = 42"
   ]
  },
  {
   "cell_type": "code",
   "execution_count": 33,
   "metadata": {},
   "outputs": [
    {
     "data": {
      "text/html": [
       "<div>\n",
       "<style scoped>\n",
       "    .dataframe tbody tr th:only-of-type {\n",
       "        vertical-align: middle;\n",
       "    }\n",
       "\n",
       "    .dataframe tbody tr th {\n",
       "        vertical-align: top;\n",
       "    }\n",
       "\n",
       "    .dataframe thead th {\n",
       "        text-align: right;\n",
       "    }\n",
       "</style>\n",
       "<table border=\"1\" class=\"dataframe\">\n",
       "  <thead>\n",
       "    <tr style=\"text-align: right;\">\n",
       "      <th></th>\n",
       "      <th>id_person</th>\n",
       "      <th>birthdate</th>\n",
       "      <th>id_gender</th>\n",
       "      <th>id_marrital_status</th>\n",
       "      <th>state</th>\n",
       "      <th>city</th>\n",
       "      <th>postal_code</th>\n",
       "      <th>id_health_plan</th>\n",
       "      <th>id_person_recommendation</th>\n",
       "      <th>contract_start_date</th>\n",
       "      <th>...</th>\n",
       "      <th>Ligações Outbound</th>\n",
       "      <th>Data Última Ligações Outbound</th>\n",
       "      <th>Qde Total de Faturas</th>\n",
       "      <th>Qde Total de Tentativas de Cobrança</th>\n",
       "      <th>Método de Pagamento</th>\n",
       "      <th>Valor Médio da Mensalidade</th>\n",
       "      <th>Qde Total de Faturas Pagas após Vencimento</th>\n",
       "      <th>Qde Total de Faturas Inadimpletes</th>\n",
       "      <th>Valor Total Inadimplência</th>\n",
       "      <th>Qde Perfis de Pagamento Inativos</th>\n",
       "    </tr>\n",
       "  </thead>\n",
       "  <tbody>\n",
       "    <tr>\n",
       "      <th>0</th>\n",
       "      <td>250</td>\n",
       "      <td>1971-04-01</td>\n",
       "      <td>64.0</td>\n",
       "      <td>82.0</td>\n",
       "      <td>São Paulo</td>\n",
       "      <td>São Paulo</td>\n",
       "      <td>04534-020</td>\n",
       "      <td>417.0</td>\n",
       "      <td>NaN</td>\n",
       "      <td>2021-01-28</td>\n",
       "      <td>...</td>\n",
       "      <td>2.0</td>\n",
       "      <td>2022-04-25 19:18:52</td>\n",
       "      <td>NaN</td>\n",
       "      <td>NaN</td>\n",
       "      <td>NaN</td>\n",
       "      <td>NaN</td>\n",
       "      <td>NaN</td>\n",
       "      <td>NaN</td>\n",
       "      <td>NaN</td>\n",
       "      <td>False</td>\n",
       "    </tr>\n",
       "    <tr>\n",
       "      <th>1</th>\n",
       "      <td>254</td>\n",
       "      <td>NaN</td>\n",
       "      <td>NaN</td>\n",
       "      <td>NaN</td>\n",
       "      <td>North Carolina</td>\n",
       "      <td>Mecklenburg County</td>\n",
       "      <td>28203</td>\n",
       "      <td>NaN</td>\n",
       "      <td>NaN</td>\n",
       "      <td>2020-12-16</td>\n",
       "      <td>...</td>\n",
       "      <td>NaN</td>\n",
       "      <td>NaN</td>\n",
       "      <td>NaN</td>\n",
       "      <td>NaN</td>\n",
       "      <td>NaN</td>\n",
       "      <td>NaN</td>\n",
       "      <td>NaN</td>\n",
       "      <td>NaN</td>\n",
       "      <td>NaN</td>\n",
       "      <td>False</td>\n",
       "    </tr>\n",
       "    <tr>\n",
       "      <th>2</th>\n",
       "      <td>314</td>\n",
       "      <td>1985-08-01</td>\n",
       "      <td>NaN</td>\n",
       "      <td>NaN</td>\n",
       "      <td>São Paulo</td>\n",
       "      <td>São Paulo</td>\n",
       "      <td>05337-030</td>\n",
       "      <td>NaN</td>\n",
       "      <td>NaN</td>\n",
       "      <td>2021-01-21</td>\n",
       "      <td>...</td>\n",
       "      <td>NaN</td>\n",
       "      <td>NaN</td>\n",
       "      <td>NaN</td>\n",
       "      <td>NaN</td>\n",
       "      <td>NaN</td>\n",
       "      <td>NaN</td>\n",
       "      <td>NaN</td>\n",
       "      <td>NaN</td>\n",
       "      <td>NaN</td>\n",
       "      <td>False</td>\n",
       "    </tr>\n",
       "    <tr>\n",
       "      <th>3</th>\n",
       "      <td>315</td>\n",
       "      <td>NaN</td>\n",
       "      <td>NaN</td>\n",
       "      <td>NaN</td>\n",
       "      <td>NaN</td>\n",
       "      <td>NaN</td>\n",
       "      <td>NaN</td>\n",
       "      <td>NaN</td>\n",
       "      <td>NaN</td>\n",
       "      <td>2020-12-17</td>\n",
       "      <td>...</td>\n",
       "      <td>NaN</td>\n",
       "      <td>NaN</td>\n",
       "      <td>NaN</td>\n",
       "      <td>NaN</td>\n",
       "      <td>NaN</td>\n",
       "      <td>NaN</td>\n",
       "      <td>NaN</td>\n",
       "      <td>NaN</td>\n",
       "      <td>NaN</td>\n",
       "      <td>False</td>\n",
       "    </tr>\n",
       "    <tr>\n",
       "      <th>4</th>\n",
       "      <td>317</td>\n",
       "      <td>1986-10-14</td>\n",
       "      <td>NaN</td>\n",
       "      <td>NaN</td>\n",
       "      <td>São Paulo</td>\n",
       "      <td>São Paulo</td>\n",
       "      <td>05421-050</td>\n",
       "      <td>NaN</td>\n",
       "      <td>NaN</td>\n",
       "      <td>2021-01-18</td>\n",
       "      <td>...</td>\n",
       "      <td>NaN</td>\n",
       "      <td>NaN</td>\n",
       "      <td>NaN</td>\n",
       "      <td>NaN</td>\n",
       "      <td>NaN</td>\n",
       "      <td>NaN</td>\n",
       "      <td>NaN</td>\n",
       "      <td>NaN</td>\n",
       "      <td>NaN</td>\n",
       "      <td>False</td>\n",
       "    </tr>\n",
       "    <tr>\n",
       "      <th>...</th>\n",
       "      <td>...</td>\n",
       "      <td>...</td>\n",
       "      <td>...</td>\n",
       "      <td>...</td>\n",
       "      <td>...</td>\n",
       "      <td>...</td>\n",
       "      <td>...</td>\n",
       "      <td>...</td>\n",
       "      <td>...</td>\n",
       "      <td>...</td>\n",
       "      <td>...</td>\n",
       "      <td>...</td>\n",
       "      <td>...</td>\n",
       "      <td>...</td>\n",
       "      <td>...</td>\n",
       "      <td>...</td>\n",
       "      <td>...</td>\n",
       "      <td>...</td>\n",
       "      <td>...</td>\n",
       "      <td>...</td>\n",
       "      <td>...</td>\n",
       "    </tr>\n",
       "    <tr>\n",
       "      <th>1197</th>\n",
       "      <td>5948</td>\n",
       "      <td>1990-08-13</td>\n",
       "      <td>64.0</td>\n",
       "      <td>80.0</td>\n",
       "      <td>Bahia</td>\n",
       "      <td>Salvador</td>\n",
       "      <td>41830-120</td>\n",
       "      <td>NaN</td>\n",
       "      <td>NaN</td>\n",
       "      <td>2023-11-07</td>\n",
       "      <td>...</td>\n",
       "      <td>NaN</td>\n",
       "      <td>NaN</td>\n",
       "      <td>1.0</td>\n",
       "      <td>1.0</td>\n",
       "      <td>Cartão de crédito</td>\n",
       "      <td>50.0</td>\n",
       "      <td>0.0</td>\n",
       "      <td>0.0</td>\n",
       "      <td>0.0</td>\n",
       "      <td>False</td>\n",
       "    </tr>\n",
       "    <tr>\n",
       "      <th>1198</th>\n",
       "      <td>5949</td>\n",
       "      <td>1997-04-17</td>\n",
       "      <td>64.0</td>\n",
       "      <td>80.0</td>\n",
       "      <td>São Paulo</td>\n",
       "      <td>São Paulo</td>\n",
       "      <td>05014-001</td>\n",
       "      <td>NaN</td>\n",
       "      <td>NaN</td>\n",
       "      <td>2023-11-07</td>\n",
       "      <td>...</td>\n",
       "      <td>NaN</td>\n",
       "      <td>NaN</td>\n",
       "      <td>NaN</td>\n",
       "      <td>NaN</td>\n",
       "      <td>NaN</td>\n",
       "      <td>NaN</td>\n",
       "      <td>NaN</td>\n",
       "      <td>NaN</td>\n",
       "      <td>NaN</td>\n",
       "      <td>False</td>\n",
       "    </tr>\n",
       "    <tr>\n",
       "      <th>1199</th>\n",
       "      <td>5951</td>\n",
       "      <td>1973-10-20</td>\n",
       "      <td>111.0</td>\n",
       "      <td>83.0</td>\n",
       "      <td>São Paulo</td>\n",
       "      <td>São Paulo</td>\n",
       "      <td>04883-190</td>\n",
       "      <td>412.0</td>\n",
       "      <td>NaN</td>\n",
       "      <td>2023-10-02</td>\n",
       "      <td>...</td>\n",
       "      <td>NaN</td>\n",
       "      <td>NaN</td>\n",
       "      <td>NaN</td>\n",
       "      <td>NaN</td>\n",
       "      <td>NaN</td>\n",
       "      <td>NaN</td>\n",
       "      <td>NaN</td>\n",
       "      <td>NaN</td>\n",
       "      <td>NaN</td>\n",
       "      <td>False</td>\n",
       "    </tr>\n",
       "    <tr>\n",
       "      <th>1200</th>\n",
       "      <td>5954</td>\n",
       "      <td>1970-08-14</td>\n",
       "      <td>63.0</td>\n",
       "      <td>82.0</td>\n",
       "      <td>São Paulo</td>\n",
       "      <td>São Paulo</td>\n",
       "      <td>04513-100</td>\n",
       "      <td>NaN</td>\n",
       "      <td>NaN</td>\n",
       "      <td>2023-11-07</td>\n",
       "      <td>...</td>\n",
       "      <td>NaN</td>\n",
       "      <td>NaN</td>\n",
       "      <td>1.0</td>\n",
       "      <td>1.0</td>\n",
       "      <td>Cartão de crédito</td>\n",
       "      <td>120.0</td>\n",
       "      <td>0.0</td>\n",
       "      <td>0.0</td>\n",
       "      <td>0.0</td>\n",
       "      <td>False</td>\n",
       "    </tr>\n",
       "    <tr>\n",
       "      <th>1201</th>\n",
       "      <td>5956</td>\n",
       "      <td>1985-01-26</td>\n",
       "      <td>63.0</td>\n",
       "      <td>82.0</td>\n",
       "      <td>Rio de Janeiro</td>\n",
       "      <td>Rio de Janeiro</td>\n",
       "      <td>22280-010</td>\n",
       "      <td>NaN</td>\n",
       "      <td>NaN</td>\n",
       "      <td>2023-11-08</td>\n",
       "      <td>...</td>\n",
       "      <td>NaN</td>\n",
       "      <td>NaN</td>\n",
       "      <td>NaN</td>\n",
       "      <td>NaN</td>\n",
       "      <td>NaN</td>\n",
       "      <td>NaN</td>\n",
       "      <td>NaN</td>\n",
       "      <td>NaN</td>\n",
       "      <td>NaN</td>\n",
       "      <td>False</td>\n",
       "    </tr>\n",
       "  </tbody>\n",
       "</table>\n",
       "<p>1202 rows × 75 columns</p>\n",
       "</div>"
      ],
      "text/plain": [
       "      id_person   birthdate  id_gender  id_marrital_status           state  \\\n",
       "0           250  1971-04-01       64.0                82.0       São Paulo   \n",
       "1           254         NaN        NaN                 NaN  North Carolina   \n",
       "2           314  1985-08-01        NaN                 NaN       São Paulo   \n",
       "3           315         NaN        NaN                 NaN             NaN   \n",
       "4           317  1986-10-14        NaN                 NaN       São Paulo   \n",
       "...         ...         ...        ...                 ...             ...   \n",
       "1197       5948  1990-08-13       64.0                80.0           Bahia   \n",
       "1198       5949  1997-04-17       64.0                80.0       São Paulo   \n",
       "1199       5951  1973-10-20      111.0                83.0       São Paulo   \n",
       "1200       5954  1970-08-14       63.0                82.0       São Paulo   \n",
       "1201       5956  1985-01-26       63.0                82.0  Rio de Janeiro   \n",
       "\n",
       "                    city postal_code  id_health_plan  \\\n",
       "0              São Paulo   04534-020           417.0   \n",
       "1     Mecklenburg County       28203             NaN   \n",
       "2              São Paulo   05337-030             NaN   \n",
       "3                    NaN         NaN             NaN   \n",
       "4              São Paulo   05421-050             NaN   \n",
       "...                  ...         ...             ...   \n",
       "1197            Salvador   41830-120             NaN   \n",
       "1198           São Paulo   05014-001             NaN   \n",
       "1199           São Paulo   04883-190           412.0   \n",
       "1200           São Paulo   04513-100             NaN   \n",
       "1201      Rio de Janeiro   22280-010             NaN   \n",
       "\n",
       "      id_person_recommendation contract_start_date  ... Ligações Outbound  \\\n",
       "0                          NaN          2021-01-28  ...               2.0   \n",
       "1                          NaN          2020-12-16  ...               NaN   \n",
       "2                          NaN          2021-01-21  ...               NaN   \n",
       "3                          NaN          2020-12-17  ...               NaN   \n",
       "4                          NaN          2021-01-18  ...               NaN   \n",
       "...                        ...                 ...  ...               ...   \n",
       "1197                       NaN          2023-11-07  ...               NaN   \n",
       "1198                       NaN          2023-11-07  ...               NaN   \n",
       "1199                       NaN          2023-10-02  ...               NaN   \n",
       "1200                       NaN          2023-11-07  ...               NaN   \n",
       "1201                       NaN          2023-11-08  ...               NaN   \n",
       "\n",
       "      Data Última Ligações Outbound Qde Total de Faturas  \\\n",
       "0               2022-04-25 19:18:52                  NaN   \n",
       "1                               NaN                  NaN   \n",
       "2                               NaN                  NaN   \n",
       "3                               NaN                  NaN   \n",
       "4                               NaN                  NaN   \n",
       "...                             ...                  ...   \n",
       "1197                            NaN                  1.0   \n",
       "1198                            NaN                  NaN   \n",
       "1199                            NaN                  NaN   \n",
       "1200                            NaN                  1.0   \n",
       "1201                            NaN                  NaN   \n",
       "\n",
       "      Qde Total de Tentativas de Cobrança Método de Pagamento  \\\n",
       "0                                     NaN                 NaN   \n",
       "1                                     NaN                 NaN   \n",
       "2                                     NaN                 NaN   \n",
       "3                                     NaN                 NaN   \n",
       "4                                     NaN                 NaN   \n",
       "...                                   ...                 ...   \n",
       "1197                                  1.0   Cartão de crédito   \n",
       "1198                                  NaN                 NaN   \n",
       "1199                                  NaN                 NaN   \n",
       "1200                                  1.0   Cartão de crédito   \n",
       "1201                                  NaN                 NaN   \n",
       "\n",
       "     Valor Médio da Mensalidade  Qde Total de Faturas Pagas após Vencimento  \\\n",
       "0                           NaN                                         NaN   \n",
       "1                           NaN                                         NaN   \n",
       "2                           NaN                                         NaN   \n",
       "3                           NaN                                         NaN   \n",
       "4                           NaN                                         NaN   \n",
       "...                         ...                                         ...   \n",
       "1197                       50.0                                         0.0   \n",
       "1198                        NaN                                         NaN   \n",
       "1199                        NaN                                         NaN   \n",
       "1200                      120.0                                         0.0   \n",
       "1201                        NaN                                         NaN   \n",
       "\n",
       "      Qde Total de Faturas Inadimpletes Valor Total Inadimplência  \\\n",
       "0                                   NaN                       NaN   \n",
       "1                                   NaN                       NaN   \n",
       "2                                   NaN                       NaN   \n",
       "3                                   NaN                       NaN   \n",
       "4                                   NaN                       NaN   \n",
       "...                                 ...                       ...   \n",
       "1197                                0.0                       0.0   \n",
       "1198                                NaN                       NaN   \n",
       "1199                                NaN                       NaN   \n",
       "1200                                0.0                       0.0   \n",
       "1201                                NaN                       NaN   \n",
       "\n",
       "     Qde Perfis de Pagamento Inativos  \n",
       "0                               False  \n",
       "1                               False  \n",
       "2                               False  \n",
       "3                               False  \n",
       "4                               False  \n",
       "...                               ...  \n",
       "1197                            False  \n",
       "1198                            False  \n",
       "1199                            False  \n",
       "1200                            False  \n",
       "1201                            False  \n",
       "\n",
       "[1202 rows x 75 columns]"
      ]
     },
     "execution_count": 33,
     "metadata": {},
     "output_type": "execute_result"
    }
   ],
   "source": [
    "df = pd.read_csv(\"./data/Ana_Health-Tabela_Modelo_Previsao_Churn.csv\",skiprows=1)\n",
    "df"
   ]
  },
  {
   "cell_type": "code",
   "execution_count": 34,
   "metadata": {},
   "outputs": [],
   "source": [
    "df_erik = df[['Qde Total de Faturas Inadimpletes', 'Cancelamentos Atendimento Médico', 'Problemas Abertos', 'Psicológico', 'Método de Pagamento', 'Mensagens Inbound', 'notes_count', 'Físico', 'Qde Atendimento Médico', 'id_marrital_status', 'id_org', 'start_of_service']\n",
    "]"
   ]
  },
  {
   "cell_type": "code",
   "execution_count": 35,
   "metadata": {},
   "outputs": [
    {
     "data": {
      "text/plain": [
       "(1202, 12)"
      ]
     },
     "execution_count": 35,
     "metadata": {},
     "output_type": "execute_result"
    }
   ],
   "source": [
    "df_erik.shape"
   ]
  },
  {
   "cell_type": "code",
   "execution_count": 36,
   "metadata": {},
   "outputs": [
    {
     "name": "stdout",
     "output_type": "stream",
     "text": [
      "<class 'pandas.core.frame.DataFrame'>\n",
      "RangeIndex: 1202 entries, 0 to 1201\n",
      "Data columns (total 12 columns):\n",
      " #   Column                             Non-Null Count  Dtype  \n",
      "---  ------                             --------------  -----  \n",
      " 0   Qde Total de Faturas Inadimpletes  252 non-null    float64\n",
      " 1   Cancelamentos Atendimento Médico   1202 non-null   bool   \n",
      " 2   Problemas Abertos                  610 non-null    object \n",
      " 3   Psicológico                        898 non-null    object \n",
      " 4   Método de Pagamento                252 non-null    object \n",
      " 5   Mensagens Inbound                  1091 non-null   float64\n",
      " 6   notes_count                        1202 non-null   int64  \n",
      " 7   Físico                             898 non-null    object \n",
      " 8   Qde Atendimento Médico             1202 non-null   bool   \n",
      " 9   id_marrital_status                 1178 non-null   float64\n",
      " 10  id_org                             886 non-null    object \n",
      " 11  start_of_service                   1065 non-null   object \n",
      "dtypes: bool(2), float64(3), int64(1), object(6)\n",
      "memory usage: 96.4+ KB\n"
     ]
    }
   ],
   "source": [
    "df_erik.info()"
   ]
  },
  {
   "cell_type": "code",
   "execution_count": 37,
   "metadata": {},
   "outputs": [
    {
     "data": {
      "image/png": "[encoded data removed]",
      "text/plain": [
       "<Figure size 2000x2000 with 4 Axes>"
      ]
     },
     "metadata": {},
     "output_type": "display_data"
    }
   ],
   "source": [
    "df_erik.hist(bins=50, figsize=(20,20))\n",
    "plt.show()"
   ]
  },
  {
   "cell_type": "code",
   "execution_count": 67,
   "metadata": {},
   "outputs": [
    {
     "data": {
      "text/plain": [
       "notes_count\n",
       "0     534\n",
       "1     290\n",
       "2     188\n",
       "3     122\n",
       "4      37\n",
       "5      20\n",
       "6       3\n",
       "31      2\n",
       "8       2\n",
       "7       2\n",
       "22      1\n",
       "9       1\n",
       "Name: count, dtype: int64"
      ]
     },
     "execution_count": 67,
     "metadata": {},
     "output_type": "execute_result"
    }
   ],
   "source": [
    "df_erik[\"notes_count\"].value_counts()"
   ]
  },
  {
   "cell_type": "code",
   "execution_count": 38,
   "metadata": {},
   "outputs": [
    {
     "data": {
      "text/plain": [
       "Qde Total de Faturas Inadimpletes\n",
       "0.0    218\n",
       "1.0     20\n",
       "2.0      7\n",
       "3.0      4\n",
       "4.0      1\n",
       "6.0      1\n",
       "7.0      1\n",
       "Name: count, dtype: int64"
      ]
     },
     "execution_count": 38,
     "metadata": {},
     "output_type": "execute_result"
    }
   ],
   "source": [
    "df_erik[\"Qde Total de Faturas Inadimpletes\"].value_counts()"
   ]
  },
  {
   "cell_type": "code",
   "execution_count": 39,
   "metadata": {},
   "outputs": [
    {
     "data": {
      "text/plain": [
       "Cancelamentos Atendimento Médico\n",
       "False    1202\n",
       "Name: count, dtype: int64"
      ]
     },
     "execution_count": 39,
     "metadata": {},
     "output_type": "execute_result"
    }
   ],
   "source": [
    "df_erik[\"Cancelamentos Atendimento Médico\"].value_counts()"
   ]
  },
  {
   "cell_type": "code",
   "execution_count": 41,
   "metadata": {},
   "outputs": [
    {
     "data": {
      "text/plain": [
       "Qde Atendimento Médico\n",
       "False    1202\n",
       "Name: count, dtype: int64"
      ]
     },
     "execution_count": 41,
     "metadata": {},
     "output_type": "execute_result"
    }
   ],
   "source": [
    "df_erik[\"Qde Atendimento Médico\"].value_counts()"
   ]
  },
  {
   "cell_type": "code",
   "execution_count": 45,
   "metadata": {},
   "outputs": [
    {
     "data": {
      "text/html": [
       "<div>\n",
       "<style scoped>\n",
       "    .dataframe tbody tr th:only-of-type {\n",
       "        vertical-align: middle;\n",
       "    }\n",
       "\n",
       "    .dataframe tbody tr th {\n",
       "        vertical-align: top;\n",
       "    }\n",
       "\n",
       "    .dataframe thead th {\n",
       "        text-align: right;\n",
       "    }\n",
       "</style>\n",
       "<table border=\"1\" class=\"dataframe\">\n",
       "  <thead>\n",
       "    <tr style=\"text-align: right;\">\n",
       "      <th></th>\n",
       "      <th>count</th>\n",
       "      <th>unique</th>\n",
       "      <th>top</th>\n",
       "      <th>freq</th>\n",
       "    </tr>\n",
       "  </thead>\n",
       "  <tbody>\n",
       "    <tr>\n",
       "      <th>Cancelamentos Atendimento Médico</th>\n",
       "      <td>1202</td>\n",
       "      <td>1</td>\n",
       "      <td>False</td>\n",
       "      <td>1202</td>\n",
       "    </tr>\n",
       "    <tr>\n",
       "      <th>Qde Atendimento Médico</th>\n",
       "      <td>1202</td>\n",
       "      <td>1</td>\n",
       "      <td>False</td>\n",
       "      <td>1202</td>\n",
       "    </tr>\n",
       "  </tbody>\n",
       "</table>\n",
       "</div>"
      ],
      "text/plain": [
       "                                 count unique    top  freq\n",
       "Cancelamentos Atendimento Médico  1202      1  False  1202\n",
       "Qde Atendimento Médico            1202      1  False  1202"
      ]
     },
     "execution_count": 45,
     "metadata": {},
     "output_type": "execute_result"
    }
   ],
   "source": [
    "colunas_bool = df_erik.select_dtypes(include='bool').columns\n",
    "df_erik[colunas_bool].describe().transpose()"
   ]
  },
  {
   "cell_type": "code",
   "execution_count": 47,
   "metadata": {},
   "outputs": [
    {
     "data": {
      "text/html": [
       "<div>\n",
       "<style scoped>\n",
       "    .dataframe tbody tr th:only-of-type {\n",
       "        vertical-align: middle;\n",
       "    }\n",
       "\n",
       "    .dataframe tbody tr th {\n",
       "        vertical-align: top;\n",
       "    }\n",
       "\n",
       "    .dataframe thead th {\n",
       "        text-align: right;\n",
       "    }\n",
       "</style>\n",
       "<table border=\"1\" class=\"dataframe\">\n",
       "  <thead>\n",
       "    <tr style=\"text-align: right;\">\n",
       "      <th></th>\n",
       "      <th>count</th>\n",
       "      <th>unique</th>\n",
       "      <th>top</th>\n",
       "      <th>freq</th>\n",
       "    </tr>\n",
       "  </thead>\n",
       "  <tbody>\n",
       "    <tr>\n",
       "      <th>Problemas Abertos</th>\n",
       "      <td>610</td>\n",
       "      <td>548</td>\n",
       "      <td>ansiedade P01 (CIAP-2)</td>\n",
       "      <td>11</td>\n",
       "    </tr>\n",
       "    <tr>\n",
       "      <th>Psicológico</th>\n",
       "      <td>898</td>\n",
       "      <td>130</td>\n",
       "      <td>4</td>\n",
       "      <td>275</td>\n",
       "    </tr>\n",
       "    <tr>\n",
       "      <th>Método de Pagamento</th>\n",
       "      <td>252</td>\n",
       "      <td>4</td>\n",
       "      <td>Cartão de crédito</td>\n",
       "      <td>227</td>\n",
       "    </tr>\n",
       "    <tr>\n",
       "      <th>Físico</th>\n",
       "      <td>898</td>\n",
       "      <td>139</td>\n",
       "      <td>3,90</td>\n",
       "      <td>64</td>\n",
       "    </tr>\n",
       "    <tr>\n",
       "      <th>id_org</th>\n",
       "      <td>886</td>\n",
       "      <td>63</td>\n",
       "      <td>2457</td>\n",
       "      <td>123</td>\n",
       "    </tr>\n",
       "    <tr>\n",
       "      <th>start_of_service</th>\n",
       "      <td>1065</td>\n",
       "      <td>420</td>\n",
       "      <td>2023-06-12</td>\n",
       "      <td>43</td>\n",
       "    </tr>\n",
       "  </tbody>\n",
       "</table>\n",
       "</div>"
      ],
      "text/plain": [
       "                    count unique                     top freq\n",
       "Problemas Abertos     610    548  ansiedade P01 (CIAP-2)   11\n",
       "Psicológico           898    130                       4  275\n",
       "Método de Pagamento   252      4       Cartão de crédito  227\n",
       "Físico                898    139                    3,90   64\n",
       "id_org                886     63                    2457  123\n",
       "start_of_service     1065    420              2023-06-12   43"
      ]
     },
     "execution_count": 47,
     "metadata": {},
     "output_type": "execute_result"
    }
   ],
   "source": [
    "colunas_object = df_erik.select_dtypes(include='object').columns\n",
    "df_erik[colunas_object].describe().transpose()\n"
   ]
  },
  {
   "cell_type": "code",
   "execution_count": 65,
   "metadata": {},
   "outputs": [
    {
     "data": {
      "text/plain": [
       "count                        610\n",
       "unique                       548\n",
       "top       ansiedade P01 (CIAP-2)\n",
       "freq                          11\n",
       "Name: Problemas Abertos, dtype: object"
      ]
     },
     "execution_count": 65,
     "metadata": {},
     "output_type": "execute_result"
    }
   ],
   "source": [
    "df_erik[\"Problemas Abertos\"].describe()"
   ]
  },
  {
   "cell_type": "code",
   "execution_count": 49,
   "metadata": {},
   "outputs": [
    {
     "data": {
      "text/plain": [
       "Psicológico\n",
       "4                275\n",
       "3                247\n",
       "2                 58\n",
       "5                 43\n",
       "3,3               16\n",
       "                ... \n",
       "3,7; 4,0; 3,3      1\n",
       "3,2; 3,3; 3,3      1\n",
       "3,7; 3,2           1\n",
       "4,2; 4,7           1\n",
       "3,2; 3,2           1\n",
       "Name: count, Length: 130, dtype: int64"
      ]
     },
     "execution_count": 49,
     "metadata": {},
     "output_type": "execute_result"
    }
   ],
   "source": [
    "df_erik[\"Psicológico\"].value_counts()"
   ]
  },
  {
   "cell_type": "code",
   "execution_count": 50,
   "metadata": {},
   "outputs": [
    {
     "data": {
      "text/plain": [
       "Método de Pagamento\n",
       "Cartão de crédito    227\n",
       "Dinheiro              15\n",
       "Boleto YaPay           9\n",
       "Pix                    1\n",
       "Name: count, dtype: int64"
      ]
     },
     "execution_count": 50,
     "metadata": {},
     "output_type": "execute_result"
    }
   ],
   "source": [
    "df_erik[\"Método de Pagamento\"].value_counts()"
   ]
  },
  {
   "cell_type": "code",
   "execution_count": 51,
   "metadata": {},
   "outputs": [
    {
     "data": {
      "text/plain": [
       "Físico\n",
       "3,90        64\n",
       "3,70        63\n",
       "4,10        63\n",
       "4,00        59\n",
       "3,60        58\n",
       "            ..\n",
       "4,4; 4,1     1\n",
       "3,6; 4,9     1\n",
       "4,0; 4,9     1\n",
       "4,3; 4,7     1\n",
       "3,4; 3,4     1\n",
       "Name: count, Length: 139, dtype: int64"
      ]
     },
     "execution_count": 51,
     "metadata": {},
     "output_type": "execute_result"
    }
   ],
   "source": [
    "df_erik[\"Físico\"].value_counts()"
   ]
  },
  {
   "cell_type": "code",
   "execution_count": 68,
   "metadata": {},
   "outputs": [
    {
     "data": {
      "text/plain": [
       "id_marrital_status\n",
       "80.0    830\n",
       "82.0    300\n",
       "83.0     41\n",
       "81.0      7\n",
       "Name: count, dtype: int64"
      ]
     },
     "execution_count": 68,
     "metadata": {},
     "output_type": "execute_result"
    }
   ],
   "source": [
    "df_erik[\"id_marrital_status\"].value_counts()"
   ]
  },
  {
   "cell_type": "code",
   "execution_count": 62,
   "metadata": {},
   "outputs": [
    {
     "data": {
      "text/plain": [
       "id_org\n",
       "2457         123\n",
       "1436         103\n",
       "448           98\n",
       "2458          48\n",
       "1251          46\n",
       "            ... \n",
       "619            1\n",
       "1605           1\n",
       "448; 1436      1\n",
       "929; 929       1\n",
       "2909           1\n",
       "Name: count, Length: 63, dtype: int64"
      ]
     },
     "execution_count": 62,
     "metadata": {},
     "output_type": "execute_result"
    }
   ],
   "source": [
    "df_erik[\"id_org\"].value_counts()"
   ]
  },
  {
   "cell_type": "code",
   "execution_count": 63,
   "metadata": {},
   "outputs": [
    {
     "data": {
      "text/plain": [
       "start_of_service\n",
       "2023-06-12                43\n",
       "2022-03-04                38\n",
       "2023-06-14                25\n",
       "2022-08-01                22\n",
       "2023-06-13                19\n",
       "                          ..\n",
       "2022-07-28                 1\n",
       "2022-07-27; 2022-07-27     1\n",
       "2022-07-21                 1\n",
       "2022-07-13                 1\n",
       "2023-11-08                 1\n",
       "Name: count, Length: 420, dtype: int64"
      ]
     },
     "execution_count": 63,
     "metadata": {},
     "output_type": "execute_result"
    }
   ],
   "source": [
    "df_erik[\"start_of_service\"].value_counts()"
   ]
  },
  {
   "cell_type": "markdown",
   "metadata": {},
   "source": [
    "**INSIGHTS**\n",
    "Qtd total de faturas inadimplentes: Mudar para bool ou 1 e 0. Considerando apenas dois grupos, já teve inadimplente ou nunca teve inadimplente     \n",
    "Cancelamentos Atendimento Médico: Excluir. Sem dados  \n",
    "Problemas Abertos: MUITO diverso, agrupar de alguma forma?  \n",
    "Qde Atendimento Médico: Excluir. Sem dados  \n",
    "\n"
   ]
  },
  {
   "cell_type": "markdown",
   "metadata": {},
   "source": []
  }
 ],
 "metadata": {
  "kernelspec": {
   "display_name": "Python 3",
   "language": "python",
   "name": "python3"
  },
  "language_info": {
   "codemirror_mode": {
    "name": "ipython",
    "version": 3
   },
   "file_extension": ".py",
   "mimetype": "text/x-python",
   "name": "python",
   "nbconvert_exporter": "python",
   "pygments_lexer": "ipython3",
   "version": "3.11.3"
  }
 },
 "nbformat": 4,
 "nbformat_minor": 2
}
