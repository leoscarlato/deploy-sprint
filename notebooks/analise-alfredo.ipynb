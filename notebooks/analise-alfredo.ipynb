{
 "cells": [
  {
   "cell_type": "code",
   "execution_count": 1,
   "metadata": {},
   "outputs": [],
   "source": [
    "import matplotlib.pyplot as plt\n",
    "import numpy as np\n",
    "import pandas as pd\n",
    "import seaborn as sns\n",
    "\n",
    "RANDOM_SEED = 42"
   ]
  },
  {
   "cell_type": "code",
   "execution_count": 3,
   "metadata": {},
   "outputs": [
    {
     "data": {
      "text/html": [
       "<div>\n",
       "<style scoped>\n",
       "    .dataframe tbody tr th:only-of-type {\n",
       "        vertical-align: middle;\n",
       "    }\n",
       "\n",
       "    .dataframe tbody tr th {\n",
       "        vertical-align: top;\n",
       "    }\n",
       "\n",
       "    .dataframe thead th {\n",
       "        text-align: right;\n",
       "    }\n",
       "</style>\n",
       "<table border=\"1\" class=\"dataframe\">\n",
       "  <thead>\n",
       "    <tr style=\"text-align: right;\">\n",
       "      <th></th>\n",
       "      <th>id_person</th>\n",
       "      <th>birthdate</th>\n",
       "      <th>id_gender</th>\n",
       "      <th>id_marrital_status</th>\n",
       "      <th>state</th>\n",
       "      <th>city</th>\n",
       "      <th>postal_code</th>\n",
       "      <th>id_health_plan</th>\n",
       "      <th>id_person_recommendation</th>\n",
       "      <th>contract_start_date</th>\n",
       "      <th>...</th>\n",
       "      <th>Ligações Outbound</th>\n",
       "      <th>Data Última Ligações Outbound</th>\n",
       "      <th>Qde Total de Faturas</th>\n",
       "      <th>Qde Total de Tentativas de Cobrança</th>\n",
       "      <th>Método de Pagamento</th>\n",
       "      <th>Valor Médio da Mensalidade</th>\n",
       "      <th>Qde Total de Faturas Pagas após Vencimento</th>\n",
       "      <th>Qde Total de Faturas Inadimpletes</th>\n",
       "      <th>Valor Total Inadimplência</th>\n",
       "      <th>Qde Perfis de Pagamento Inativos</th>\n",
       "    </tr>\n",
       "  </thead>\n",
       "  <tbody>\n",
       "    <tr>\n",
       "      <th>0</th>\n",
       "      <td>250</td>\n",
       "      <td>1971-04-01</td>\n",
       "      <td>64.0</td>\n",
       "      <td>82.0</td>\n",
       "      <td>São Paulo</td>\n",
       "      <td>São Paulo</td>\n",
       "      <td>04534-020</td>\n",
       "      <td>417.0</td>\n",
       "      <td>NaN</td>\n",
       "      <td>2021-01-28</td>\n",
       "      <td>...</td>\n",
       "      <td>2.0</td>\n",
       "      <td>2022-04-25 19:18:52</td>\n",
       "      <td>NaN</td>\n",
       "      <td>NaN</td>\n",
       "      <td>NaN</td>\n",
       "      <td>NaN</td>\n",
       "      <td>NaN</td>\n",
       "      <td>NaN</td>\n",
       "      <td>NaN</td>\n",
       "      <td>False</td>\n",
       "    </tr>\n",
       "    <tr>\n",
       "      <th>1</th>\n",
       "      <td>254</td>\n",
       "      <td>NaN</td>\n",
       "      <td>NaN</td>\n",
       "      <td>NaN</td>\n",
       "      <td>North Carolina</td>\n",
       "      <td>Mecklenburg County</td>\n",
       "      <td>28203</td>\n",
       "      <td>NaN</td>\n",
       "      <td>NaN</td>\n",
       "      <td>2020-12-16</td>\n",
       "      <td>...</td>\n",
       "      <td>NaN</td>\n",
       "      <td>NaN</td>\n",
       "      <td>NaN</td>\n",
       "      <td>NaN</td>\n",
       "      <td>NaN</td>\n",
       "      <td>NaN</td>\n",
       "      <td>NaN</td>\n",
       "      <td>NaN</td>\n",
       "      <td>NaN</td>\n",
       "      <td>False</td>\n",
       "    </tr>\n",
       "    <tr>\n",
       "      <th>2</th>\n",
       "      <td>314</td>\n",
       "      <td>1985-08-01</td>\n",
       "      <td>NaN</td>\n",
       "      <td>NaN</td>\n",
       "      <td>São Paulo</td>\n",
       "      <td>São Paulo</td>\n",
       "      <td>05337-030</td>\n",
       "      <td>NaN</td>\n",
       "      <td>NaN</td>\n",
       "      <td>2021-01-21</td>\n",
       "      <td>...</td>\n",
       "      <td>NaN</td>\n",
       "      <td>NaN</td>\n",
       "      <td>NaN</td>\n",
       "      <td>NaN</td>\n",
       "      <td>NaN</td>\n",
       "      <td>NaN</td>\n",
       "      <td>NaN</td>\n",
       "      <td>NaN</td>\n",
       "      <td>NaN</td>\n",
       "      <td>False</td>\n",
       "    </tr>\n",
       "    <tr>\n",
       "      <th>3</th>\n",
       "      <td>315</td>\n",
       "      <td>NaN</td>\n",
       "      <td>NaN</td>\n",
       "      <td>NaN</td>\n",
       "      <td>NaN</td>\n",
       "      <td>NaN</td>\n",
       "      <td>NaN</td>\n",
       "      <td>NaN</td>\n",
       "      <td>NaN</td>\n",
       "      <td>2020-12-17</td>\n",
       "      <td>...</td>\n",
       "      <td>NaN</td>\n",
       "      <td>NaN</td>\n",
       "      <td>NaN</td>\n",
       "      <td>NaN</td>\n",
       "      <td>NaN</td>\n",
       "      <td>NaN</td>\n",
       "      <td>NaN</td>\n",
       "      <td>NaN</td>\n",
       "      <td>NaN</td>\n",
       "      <td>False</td>\n",
       "    </tr>\n",
       "    <tr>\n",
       "      <th>4</th>\n",
       "      <td>317</td>\n",
       "      <td>1986-10-14</td>\n",
       "      <td>NaN</td>\n",
       "      <td>NaN</td>\n",
       "      <td>São Paulo</td>\n",
       "      <td>São Paulo</td>\n",
       "      <td>05421-050</td>\n",
       "      <td>NaN</td>\n",
       "      <td>NaN</td>\n",
       "      <td>2021-01-18</td>\n",
       "      <td>...</td>\n",
       "      <td>NaN</td>\n",
       "      <td>NaN</td>\n",
       "      <td>NaN</td>\n",
       "      <td>NaN</td>\n",
       "      <td>NaN</td>\n",
       "      <td>NaN</td>\n",
       "      <td>NaN</td>\n",
       "      <td>NaN</td>\n",
       "      <td>NaN</td>\n",
       "      <td>False</td>\n",
       "    </tr>\n",
       "    <tr>\n",
       "      <th>...</th>\n",
       "      <td>...</td>\n",
       "      <td>...</td>\n",
       "      <td>...</td>\n",
       "      <td>...</td>\n",
       "      <td>...</td>\n",
       "      <td>...</td>\n",
       "      <td>...</td>\n",
       "      <td>...</td>\n",
       "      <td>...</td>\n",
       "      <td>...</td>\n",
       "      <td>...</td>\n",
       "      <td>...</td>\n",
       "      <td>...</td>\n",
       "      <td>...</td>\n",
       "      <td>...</td>\n",
       "      <td>...</td>\n",
       "      <td>...</td>\n",
       "      <td>...</td>\n",
       "      <td>...</td>\n",
       "      <td>...</td>\n",
       "      <td>...</td>\n",
       "    </tr>\n",
       "    <tr>\n",
       "      <th>1197</th>\n",
       "      <td>5948</td>\n",
       "      <td>1990-08-13</td>\n",
       "      <td>64.0</td>\n",
       "      <td>80.0</td>\n",
       "      <td>Bahia</td>\n",
       "      <td>Salvador</td>\n",
       "      <td>41830-120</td>\n",
       "      <td>NaN</td>\n",
       "      <td>NaN</td>\n",
       "      <td>2023-11-07</td>\n",
       "      <td>...</td>\n",
       "      <td>NaN</td>\n",
       "      <td>NaN</td>\n",
       "      <td>1.0</td>\n",
       "      <td>1.0</td>\n",
       "      <td>Cartão de crédito</td>\n",
       "      <td>50.0</td>\n",
       "      <td>0.0</td>\n",
       "      <td>0.0</td>\n",
       "      <td>0.0</td>\n",
       "      <td>False</td>\n",
       "    </tr>\n",
       "    <tr>\n",
       "      <th>1198</th>\n",
       "      <td>5949</td>\n",
       "      <td>1997-04-17</td>\n",
       "      <td>64.0</td>\n",
       "      <td>80.0</td>\n",
       "      <td>São Paulo</td>\n",
       "      <td>São Paulo</td>\n",
       "      <td>05014-001</td>\n",
       "      <td>NaN</td>\n",
       "      <td>NaN</td>\n",
       "      <td>2023-11-07</td>\n",
       "      <td>...</td>\n",
       "      <td>NaN</td>\n",
       "      <td>NaN</td>\n",
       "      <td>NaN</td>\n",
       "      <td>NaN</td>\n",
       "      <td>NaN</td>\n",
       "      <td>NaN</td>\n",
       "      <td>NaN</td>\n",
       "      <td>NaN</td>\n",
       "      <td>NaN</td>\n",
       "      <td>False</td>\n",
       "    </tr>\n",
       "    <tr>\n",
       "      <th>1199</th>\n",
       "      <td>5951</td>\n",
       "      <td>1973-10-20</td>\n",
       "      <td>111.0</td>\n",
       "      <td>83.0</td>\n",
       "      <td>São Paulo</td>\n",
       "      <td>São Paulo</td>\n",
       "      <td>04883-190</td>\n",
       "      <td>412.0</td>\n",
       "      <td>NaN</td>\n",
       "      <td>2023-10-02</td>\n",
       "      <td>...</td>\n",
       "      <td>NaN</td>\n",
       "      <td>NaN</td>\n",
       "      <td>NaN</td>\n",
       "      <td>NaN</td>\n",
       "      <td>NaN</td>\n",
       "      <td>NaN</td>\n",
       "      <td>NaN</td>\n",
       "      <td>NaN</td>\n",
       "      <td>NaN</td>\n",
       "      <td>False</td>\n",
       "    </tr>\n",
       "    <tr>\n",
       "      <th>1200</th>\n",
       "      <td>5954</td>\n",
       "      <td>1970-08-14</td>\n",
       "      <td>63.0</td>\n",
       "      <td>82.0</td>\n",
       "      <td>São Paulo</td>\n",
       "      <td>São Paulo</td>\n",
       "      <td>04513-100</td>\n",
       "      <td>NaN</td>\n",
       "      <td>NaN</td>\n",
       "      <td>2023-11-07</td>\n",
       "      <td>...</td>\n",
       "      <td>NaN</td>\n",
       "      <td>NaN</td>\n",
       "      <td>1.0</td>\n",
       "      <td>1.0</td>\n",
       "      <td>Cartão de crédito</td>\n",
       "      <td>120.0</td>\n",
       "      <td>0.0</td>\n",
       "      <td>0.0</td>\n",
       "      <td>0.0</td>\n",
       "      <td>False</td>\n",
       "    </tr>\n",
       "    <tr>\n",
       "      <th>1201</th>\n",
       "      <td>5956</td>\n",
       "      <td>1985-01-26</td>\n",
       "      <td>63.0</td>\n",
       "      <td>82.0</td>\n",
       "      <td>Rio de Janeiro</td>\n",
       "      <td>Rio de Janeiro</td>\n",
       "      <td>22280-010</td>\n",
       "      <td>NaN</td>\n",
       "      <td>NaN</td>\n",
       "      <td>2023-11-08</td>\n",
       "      <td>...</td>\n",
       "      <td>NaN</td>\n",
       "      <td>NaN</td>\n",
       "      <td>NaN</td>\n",
       "      <td>NaN</td>\n",
       "      <td>NaN</td>\n",
       "      <td>NaN</td>\n",
       "      <td>NaN</td>\n",
       "      <td>NaN</td>\n",
       "      <td>NaN</td>\n",
       "      <td>False</td>\n",
       "    </tr>\n",
       "  </tbody>\n",
       "</table>\n",
       "<p>1202 rows × 75 columns</p>\n",
       "</div>"
      ],
      "text/plain": [
       "      id_person   birthdate  id_gender  id_marrital_status           state  \\\n",
       "0           250  1971-04-01       64.0                82.0       São Paulo   \n",
       "1           254         NaN        NaN                 NaN  North Carolina   \n",
       "2           314  1985-08-01        NaN                 NaN       São Paulo   \n",
       "3           315         NaN        NaN                 NaN             NaN   \n",
       "4           317  1986-10-14        NaN                 NaN       São Paulo   \n",
       "...         ...         ...        ...                 ...             ...   \n",
       "1197       5948  1990-08-13       64.0                80.0           Bahia   \n",
       "1198       5949  1997-04-17       64.0                80.0       São Paulo   \n",
       "1199       5951  1973-10-20      111.0                83.0       São Paulo   \n",
       "1200       5954  1970-08-14       63.0                82.0       São Paulo   \n",
       "1201       5956  1985-01-26       63.0                82.0  Rio de Janeiro   \n",
       "\n",
       "                    city postal_code  id_health_plan  \\\n",
       "0              São Paulo   04534-020           417.0   \n",
       "1     Mecklenburg County       28203             NaN   \n",
       "2              São Paulo   05337-030             NaN   \n",
       "3                    NaN         NaN             NaN   \n",
       "4              São Paulo   05421-050             NaN   \n",
       "...                  ...         ...             ...   \n",
       "1197            Salvador   41830-120             NaN   \n",
       "1198           São Paulo   05014-001             NaN   \n",
       "1199           São Paulo   04883-190           412.0   \n",
       "1200           São Paulo   04513-100             NaN   \n",
       "1201      Rio de Janeiro   22280-010             NaN   \n",
       "\n",
       "      id_person_recommendation contract_start_date  ... Ligações Outbound  \\\n",
       "0                          NaN          2021-01-28  ...               2.0   \n",
       "1                          NaN          2020-12-16  ...               NaN   \n",
       "2                          NaN          2021-01-21  ...               NaN   \n",
       "3                          NaN          2020-12-17  ...               NaN   \n",
       "4                          NaN          2021-01-18  ...               NaN   \n",
       "...                        ...                 ...  ...               ...   \n",
       "1197                       NaN          2023-11-07  ...               NaN   \n",
       "1198                       NaN          2023-11-07  ...               NaN   \n",
       "1199                       NaN          2023-10-02  ...               NaN   \n",
       "1200                       NaN          2023-11-07  ...               NaN   \n",
       "1201                       NaN          2023-11-08  ...               NaN   \n",
       "\n",
       "      Data Última Ligações Outbound Qde Total de Faturas  \\\n",
       "0               2022-04-25 19:18:52                  NaN   \n",
       "1                               NaN                  NaN   \n",
       "2                               NaN                  NaN   \n",
       "3                               NaN                  NaN   \n",
       "4                               NaN                  NaN   \n",
       "...                             ...                  ...   \n",
       "1197                            NaN                  1.0   \n",
       "1198                            NaN                  NaN   \n",
       "1199                            NaN                  NaN   \n",
       "1200                            NaN                  1.0   \n",
       "1201                            NaN                  NaN   \n",
       "\n",
       "      Qde Total de Tentativas de Cobrança Método de Pagamento  \\\n",
       "0                                     NaN                 NaN   \n",
       "1                                     NaN                 NaN   \n",
       "2                                     NaN                 NaN   \n",
       "3                                     NaN                 NaN   \n",
       "4                                     NaN                 NaN   \n",
       "...                                   ...                 ...   \n",
       "1197                                  1.0   Cartão de crédito   \n",
       "1198                                  NaN                 NaN   \n",
       "1199                                  NaN                 NaN   \n",
       "1200                                  1.0   Cartão de crédito   \n",
       "1201                                  NaN                 NaN   \n",
       "\n",
       "     Valor Médio da Mensalidade  Qde Total de Faturas Pagas após Vencimento  \\\n",
       "0                           NaN                                         NaN   \n",
       "1                           NaN                                         NaN   \n",
       "2                           NaN                                         NaN   \n",
       "3                           NaN                                         NaN   \n",
       "4                           NaN                                         NaN   \n",
       "...                         ...                                         ...   \n",
       "1197                       50.0                                         0.0   \n",
       "1198                        NaN                                         NaN   \n",
       "1199                        NaN                                         NaN   \n",
       "1200                      120.0                                         0.0   \n",
       "1201                        NaN                                         NaN   \n",
       "\n",
       "      Qde Total de Faturas Inadimpletes Valor Total Inadimplência  \\\n",
       "0                                   NaN                       NaN   \n",
       "1                                   NaN                       NaN   \n",
       "2                                   NaN                       NaN   \n",
       "3                                   NaN                       NaN   \n",
       "4                                   NaN                       NaN   \n",
       "...                                 ...                       ...   \n",
       "1197                                0.0                       0.0   \n",
       "1198                                NaN                       NaN   \n",
       "1199                                NaN                       NaN   \n",
       "1200                                0.0                       0.0   \n",
       "1201                                NaN                       NaN   \n",
       "\n",
       "     Qde Perfis de Pagamento Inativos  \n",
       "0                               False  \n",
       "1                               False  \n",
       "2                               False  \n",
       "3                               False  \n",
       "4                               False  \n",
       "...                               ...  \n",
       "1197                            False  \n",
       "1198                            False  \n",
       "1199                            False  \n",
       "1200                            False  \n",
       "1201                            False  \n",
       "\n",
       "[1202 rows x 75 columns]"
      ]
     },
     "execution_count": 3,
     "metadata": {},
     "output_type": "execute_result"
    }
   ],
   "source": [
    "df = pd.read_csv(\"./../data/Ana_Health-Tabela_Modelo_Previsao_Churn.csv\",skiprows=1)\n",
    "df"
   ]
  },
  {
   "cell_type": "code",
   "execution_count": 4,
   "metadata": {},
   "outputs": [
    {
     "name": "stdout",
     "output_type": "stream",
     "text": [
      "<class 'pandas.core.frame.DataFrame'>\n",
      "RangeIndex: 1202 entries, 0 to 1201\n",
      "Data columns (total 75 columns):\n",
      " #   Column                                      Non-Null Count  Dtype  \n",
      "---  ------                                      --------------  -----  \n",
      " 0   id_person                                   1202 non-null   int64  \n",
      " 1   birthdate                                   1191 non-null   object \n",
      " 2   id_gender                                   1178 non-null   float64\n",
      " 3   id_marrital_status                          1178 non-null   float64\n",
      " 4   state                                       1185 non-null   object \n",
      " 5   city                                        1183 non-null   object \n",
      " 6   postal_code                                 1163 non-null   object \n",
      " 7   id_health_plan                              524 non-null    float64\n",
      " 8   id_person_recommendation                    110 non-null    float64\n",
      " 9   contract_start_date                         1202 non-null   object \n",
      " 10  contract_end_date                           564 non-null    object \n",
      " 11  id_continuity_pf                            395 non-null    float64\n",
      " 12  Recebe Comunicados?                         62 non-null     object \n",
      " 13  Canal de Preferência                        384 non-null    float64\n",
      " 14  Interesses                                  62 non-null     object \n",
      " 15  Pontos de Atenção                           62 non-null     object \n",
      " 16  notes_count                                 1202 non-null   int64  \n",
      " 17  done_activities_count                       1202 non-null   int64  \n",
      " 18  id_stage                                    1079 non-null   object \n",
      " 19  id_org                                      886 non-null    object \n",
      " 20  status                                      1079 non-null   object \n",
      " 21  start_of_service                            1065 non-null   object \n",
      " 22  lost_time                                   519 non-null    object \n",
      " 23  lost_reason                                 520 non-null    object \n",
      " 24  age_total_seconds                           1079 non-null   object \n",
      " 25  add_time                                    1116 non-null   object \n",
      " 26  status.1                                    1116 non-null   object \n",
      " 27  id_label                                    103 non-null    float64\n",
      " 28  stay_in_pipeline_stages_welcome             1116 non-null   float64\n",
      " 29  stay_in_pipeline_stages_first_meeting       924 non-null    float64\n",
      " 30  stay_in_pipeline_stages_whoqol              864 non-null    float64\n",
      " 31  won_time                                    693 non-null    object \n",
      " 32  lost_time.1                                 317 non-null    object \n",
      " 33  lost_reason.1                               317 non-null    object \n",
      " 34  age_total_seconds.1                         1116 non-null   float64\n",
      " 35  activities_count                            1116 non-null   float64\n",
      " 36  Qde Todos Atendimentos                      1202 non-null   bool   \n",
      " 37  Faltas Todos Atendimento                    1202 non-null   bool   \n",
      " 38  Cancelamentos Todos Atendimento             1202 non-null   bool   \n",
      " 39  Qde Atendimento Médico                      1202 non-null   bool   \n",
      " 40  Faltas Atendimento Médico                   1202 non-null   bool   \n",
      " 41  Cancelamentos Atendimento Médico            1202 non-null   bool   \n",
      " 42  Datas Atendimento Médico                    1202 non-null   bool   \n",
      " 43  Qde Atendimentos Acolhimento                1202 non-null   bool   \n",
      " 44  Faltas Acolhimento                          1202 non-null   bool   \n",
      " 45  Cancelamentos Acolhimento                   1202 non-null   bool   \n",
      " 46  Datas Acolhimento                           1202 non-null   bool   \n",
      " 47  Qde Psicoterapia                            459 non-null    float64\n",
      " 48  Faltas Psicoterapia                         180 non-null    float64\n",
      " 49  Datas Psicoterapia                          459 non-null    object \n",
      " 50  Cancelamentos Psicoterapia                  1202 non-null   bool   \n",
      " 51  Qde Prescrições                             1202 non-null   bool   \n",
      " 52  Datas Prescrição                            1202 non-null   bool   \n",
      " 53  Qde Respostas WHOQOL                        898 non-null    float64\n",
      " 54  Físico                                      898 non-null    object \n",
      " 55  Psicológico                                 898 non-null    object \n",
      " 56  Social                                      898 non-null    object \n",
      " 57  Ambiental                                   898 non-null    object \n",
      " 58  Problemas Abertos                           610 non-null    object \n",
      " 59  Mensagens Inbound                           1091 non-null   float64\n",
      " 60  Data Última Mensagens Inbound               1091 non-null   object \n",
      " 61  Mensagens Outbound                          1158 non-null   float64\n",
      " 62  Data Última Mensagens Outbound              1158 non-null   object \n",
      " 63  Ligações Inbound                            118 non-null    float64\n",
      " 64  Data Última Ligações Inbound                118 non-null    object \n",
      " 65  Ligações Outbound                           579 non-null    float64\n",
      " 66  Data Última Ligações Outbound               579 non-null    object \n",
      " 67  Qde Total de Faturas                        252 non-null    float64\n",
      " 68  Qde Total de Tentativas de Cobrança         252 non-null    float64\n",
      " 69  Método de Pagamento                         252 non-null    object \n",
      " 70  Valor Médio da Mensalidade                  252 non-null    float64\n",
      " 71  Qde Total de Faturas Pagas após Vencimento  252 non-null    float64\n",
      " 72  Qde Total de Faturas Inadimpletes           252 non-null    float64\n",
      " 73  Valor Total Inadimplência                   252 non-null    float64\n",
      " 74  Qde Perfis de Pagamento Inativos            1202 non-null   bool   \n",
      "dtypes: bool(15), float64(25), int64(3), object(32)\n",
      "memory usage: 581.2+ KB\n"
     ]
    }
   ],
   "source": [
    "df.info()"
   ]
  },
  {
   "cell_type": "code",
   "execution_count": 5,
   "metadata": {},
   "outputs": [
    {
     "data": {
      "text/html": [
       "<div>\n",
       "<style scoped>\n",
       "    .dataframe tbody tr th:only-of-type {\n",
       "        vertical-align: middle;\n",
       "    }\n",
       "\n",
       "    .dataframe tbody tr th {\n",
       "        vertical-align: top;\n",
       "    }\n",
       "\n",
       "    .dataframe thead th {\n",
       "        text-align: right;\n",
       "    }\n",
       "</style>\n",
       "<table border=\"1\" class=\"dataframe\">\n",
       "  <thead>\n",
       "    <tr style=\"text-align: right;\">\n",
       "      <th></th>\n",
       "      <th>id_person</th>\n",
       "      <th>id_gender</th>\n",
       "      <th>id_marrital_status</th>\n",
       "      <th>id_health_plan</th>\n",
       "      <th>id_person_recommendation</th>\n",
       "      <th>id_continuity_pf</th>\n",
       "      <th>Canal de Preferência</th>\n",
       "      <th>notes_count</th>\n",
       "      <th>done_activities_count</th>\n",
       "      <th>id_label</th>\n",
       "      <th>...</th>\n",
       "      <th>Mensagens Inbound</th>\n",
       "      <th>Mensagens Outbound</th>\n",
       "      <th>Ligações Inbound</th>\n",
       "      <th>Ligações Outbound</th>\n",
       "      <th>Qde Total de Faturas</th>\n",
       "      <th>Qde Total de Tentativas de Cobrança</th>\n",
       "      <th>Valor Médio da Mensalidade</th>\n",
       "      <th>Qde Total de Faturas Pagas após Vencimento</th>\n",
       "      <th>Qde Total de Faturas Inadimpletes</th>\n",
       "      <th>Valor Total Inadimplência</th>\n",
       "    </tr>\n",
       "  </thead>\n",
       "  <tbody>\n",
       "    <tr>\n",
       "      <th>count</th>\n",
       "      <td>1202.000000</td>\n",
       "      <td>1178.000000</td>\n",
       "      <td>1178.000000</td>\n",
       "      <td>524.000000</td>\n",
       "      <td>110.000000</td>\n",
       "      <td>395.000000</td>\n",
       "      <td>384.000000</td>\n",
       "      <td>1202.000000</td>\n",
       "      <td>1202.000000</td>\n",
       "      <td>103.000000</td>\n",
       "      <td>...</td>\n",
       "      <td>1091.000000</td>\n",
       "      <td>1158.000000</td>\n",
       "      <td>118.000000</td>\n",
       "      <td>579.000000</td>\n",
       "      <td>252.000000</td>\n",
       "      <td>252.000000</td>\n",
       "      <td>252.000000</td>\n",
       "      <td>252.000000</td>\n",
       "      <td>252.000000</td>\n",
       "      <td>252.000000</td>\n",
       "    </tr>\n",
       "    <tr>\n",
       "      <th>mean</th>\n",
       "      <td>3484.637271</td>\n",
       "      <td>63.729202</td>\n",
       "      <td>80.619694</td>\n",
       "      <td>417.921756</td>\n",
       "      <td>2555.736364</td>\n",
       "      <td>338.878481</td>\n",
       "      <td>244.635417</td>\n",
       "      <td>1.182196</td>\n",
       "      <td>10.122296</td>\n",
       "      <td>317.135922</td>\n",
       "      <td>...</td>\n",
       "      <td>75.735105</td>\n",
       "      <td>83.278066</td>\n",
       "      <td>3.144068</td>\n",
       "      <td>2.861831</td>\n",
       "      <td>6.325397</td>\n",
       "      <td>8.714286</td>\n",
       "      <td>94.484683</td>\n",
       "      <td>0.880952</td>\n",
       "      <td>0.250000</td>\n",
       "      <td>24.182738</td>\n",
       "    </tr>\n",
       "    <tr>\n",
       "      <th>std</th>\n",
       "      <td>1468.065478</td>\n",
       "      <td>3.353515</td>\n",
       "      <td>0.977062</td>\n",
       "      <td>129.712462</td>\n",
       "      <td>1213.154949</td>\n",
       "      <td>0.327144</td>\n",
       "      <td>25.618050</td>\n",
       "      <td>1.908197</td>\n",
       "      <td>8.938732</td>\n",
       "      <td>11.220647</td>\n",
       "      <td>...</td>\n",
       "      <td>104.519681</td>\n",
       "      <td>98.981933</td>\n",
       "      <td>8.482537</td>\n",
       "      <td>8.430147</td>\n",
       "      <td>4.803434</td>\n",
       "      <td>7.736556</td>\n",
       "      <td>32.399305</td>\n",
       "      <td>1.536318</td>\n",
       "      <td>0.821159</td>\n",
       "      <td>76.092674</td>\n",
       "    </tr>\n",
       "    <tr>\n",
       "      <th>min</th>\n",
       "      <td>250.000000</td>\n",
       "      <td>63.000000</td>\n",
       "      <td>80.000000</td>\n",
       "      <td>78.000000</td>\n",
       "      <td>321.000000</td>\n",
       "      <td>338.000000</td>\n",
       "      <td>238.000000</td>\n",
       "      <td>0.000000</td>\n",
       "      <td>0.000000</td>\n",
       "      <td>284.000000</td>\n",
       "      <td>...</td>\n",
       "      <td>1.000000</td>\n",
       "      <td>1.000000</td>\n",
       "      <td>1.000000</td>\n",
       "      <td>1.000000</td>\n",
       "      <td>1.000000</td>\n",
       "      <td>0.000000</td>\n",
       "      <td>50.000000</td>\n",
       "      <td>0.000000</td>\n",
       "      <td>0.000000</td>\n",
       "      <td>0.000000</td>\n",
       "    </tr>\n",
       "    <tr>\n",
       "      <th>25%</th>\n",
       "      <td>2399.250000</td>\n",
       "      <td>63.000000</td>\n",
       "      <td>80.000000</td>\n",
       "      <td>412.000000</td>\n",
       "      <td>1510.000000</td>\n",
       "      <td>339.000000</td>\n",
       "      <td>239.000000</td>\n",
       "      <td>0.000000</td>\n",
       "      <td>5.000000</td>\n",
       "      <td>313.000000</td>\n",
       "      <td>...</td>\n",
       "      <td>13.000000</td>\n",
       "      <td>19.000000</td>\n",
       "      <td>1.000000</td>\n",
       "      <td>1.000000</td>\n",
       "      <td>3.000000</td>\n",
       "      <td>3.000000</td>\n",
       "      <td>78.000000</td>\n",
       "      <td>0.000000</td>\n",
       "      <td>0.000000</td>\n",
       "      <td>0.000000</td>\n",
       "    </tr>\n",
       "    <tr>\n",
       "      <th>50%</th>\n",
       "      <td>3281.500000</td>\n",
       "      <td>64.000000</td>\n",
       "      <td>80.000000</td>\n",
       "      <td>412.000000</td>\n",
       "      <td>2379.000000</td>\n",
       "      <td>339.000000</td>\n",
       "      <td>239.000000</td>\n",
       "      <td>1.000000</td>\n",
       "      <td>8.000000</td>\n",
       "      <td>325.000000</td>\n",
       "      <td>...</td>\n",
       "      <td>40.000000</td>\n",
       "      <td>50.000000</td>\n",
       "      <td>1.000000</td>\n",
       "      <td>2.000000</td>\n",
       "      <td>5.000000</td>\n",
       "      <td>7.000000</td>\n",
       "      <td>88.000000</td>\n",
       "      <td>0.000000</td>\n",
       "      <td>0.000000</td>\n",
       "      <td>0.000000</td>\n",
       "    </tr>\n",
       "    <tr>\n",
       "      <th>75%</th>\n",
       "      <td>5114.750000</td>\n",
       "      <td>64.000000</td>\n",
       "      <td>82.000000</td>\n",
       "      <td>419.500000</td>\n",
       "      <td>3347.500000</td>\n",
       "      <td>339.000000</td>\n",
       "      <td>239.000000</td>\n",
       "      <td>2.000000</td>\n",
       "      <td>13.000000</td>\n",
       "      <td>325.000000</td>\n",
       "      <td>...</td>\n",
       "      <td>96.500000</td>\n",
       "      <td>110.000000</td>\n",
       "      <td>2.000000</td>\n",
       "      <td>3.000000</td>\n",
       "      <td>9.000000</td>\n",
       "      <td>12.000000</td>\n",
       "      <td>111.100000</td>\n",
       "      <td>1.000000</td>\n",
       "      <td>0.000000</td>\n",
       "      <td>0.000000</td>\n",
       "    </tr>\n",
       "    <tr>\n",
       "      <th>max</th>\n",
       "      <td>5956.000000</td>\n",
       "      <td>117.000000</td>\n",
       "      <td>83.000000</td>\n",
       "      <td>1164.000000</td>\n",
       "      <td>5556.000000</td>\n",
       "      <td>339.000000</td>\n",
       "      <td>360.000000</td>\n",
       "      <td>31.000000</td>\n",
       "      <td>137.000000</td>\n",
       "      <td>325.000000</td>\n",
       "      <td>...</td>\n",
       "      <td>1436.000000</td>\n",
       "      <td>1230.000000</td>\n",
       "      <td>80.000000</td>\n",
       "      <td>197.000000</td>\n",
       "      <td>30.000000</td>\n",
       "      <td>41.000000</td>\n",
       "      <td>383.750000</td>\n",
       "      <td>9.000000</td>\n",
       "      <td>7.000000</td>\n",
       "      <td>616.000000</td>\n",
       "    </tr>\n",
       "  </tbody>\n",
       "</table>\n",
       "<p>8 rows × 28 columns</p>\n",
       "</div>"
      ],
      "text/plain": [
       "         id_person    id_gender  id_marrital_status  id_health_plan  \\\n",
       "count  1202.000000  1178.000000         1178.000000      524.000000   \n",
       "mean   3484.637271    63.729202           80.619694      417.921756   \n",
       "std    1468.065478     3.353515            0.977062      129.712462   \n",
       "min     250.000000    63.000000           80.000000       78.000000   \n",
       "25%    2399.250000    63.000000           80.000000      412.000000   \n",
       "50%    3281.500000    64.000000           80.000000      412.000000   \n",
       "75%    5114.750000    64.000000           82.000000      419.500000   \n",
       "max    5956.000000   117.000000           83.000000     1164.000000   \n",
       "\n",
       "       id_person_recommendation  id_continuity_pf  Canal de Preferência  \\\n",
       "count                110.000000        395.000000            384.000000   \n",
       "mean                2555.736364        338.878481            244.635417   \n",
       "std                 1213.154949          0.327144             25.618050   \n",
       "min                  321.000000        338.000000            238.000000   \n",
       "25%                 1510.000000        339.000000            239.000000   \n",
       "50%                 2379.000000        339.000000            239.000000   \n",
       "75%                 3347.500000        339.000000            239.000000   \n",
       "max                 5556.000000        339.000000            360.000000   \n",
       "\n",
       "       notes_count  done_activities_count    id_label  ...  Mensagens Inbound  \\\n",
       "count  1202.000000            1202.000000  103.000000  ...        1091.000000   \n",
       "mean      1.182196              10.122296  317.135922  ...          75.735105   \n",
       "std       1.908197               8.938732   11.220647  ...         104.519681   \n",
       "min       0.000000               0.000000  284.000000  ...           1.000000   \n",
       "25%       0.000000               5.000000  313.000000  ...          13.000000   \n",
       "50%       1.000000               8.000000  325.000000  ...          40.000000   \n",
       "75%       2.000000              13.000000  325.000000  ...          96.500000   \n",
       "max      31.000000             137.000000  325.000000  ...        1436.000000   \n",
       "\n",
       "       Mensagens Outbound  Ligações Inbound  Ligações Outbound  \\\n",
       "count         1158.000000        118.000000         579.000000   \n",
       "mean            83.278066          3.144068           2.861831   \n",
       "std             98.981933          8.482537           8.430147   \n",
       "min              1.000000          1.000000           1.000000   \n",
       "25%             19.000000          1.000000           1.000000   \n",
       "50%             50.000000          1.000000           2.000000   \n",
       "75%            110.000000          2.000000           3.000000   \n",
       "max           1230.000000         80.000000         197.000000   \n",
       "\n",
       "       Qde Total de Faturas  Qde Total de Tentativas de Cobrança  \\\n",
       "count            252.000000                           252.000000   \n",
       "mean               6.325397                             8.714286   \n",
       "std                4.803434                             7.736556   \n",
       "min                1.000000                             0.000000   \n",
       "25%                3.000000                             3.000000   \n",
       "50%                5.000000                             7.000000   \n",
       "75%                9.000000                            12.000000   \n",
       "max               30.000000                            41.000000   \n",
       "\n",
       "       Valor Médio da Mensalidade  Qde Total de Faturas Pagas após Vencimento  \\\n",
       "count                  252.000000                                  252.000000   \n",
       "mean                    94.484683                                    0.880952   \n",
       "std                     32.399305                                    1.536318   \n",
       "min                     50.000000                                    0.000000   \n",
       "25%                     78.000000                                    0.000000   \n",
       "50%                     88.000000                                    0.000000   \n",
       "75%                    111.100000                                    1.000000   \n",
       "max                    383.750000                                    9.000000   \n",
       "\n",
       "       Qde Total de Faturas Inadimpletes  Valor Total Inadimplência  \n",
       "count                         252.000000                 252.000000  \n",
       "mean                            0.250000                  24.182738  \n",
       "std                             0.821159                  76.092674  \n",
       "min                             0.000000                   0.000000  \n",
       "25%                             0.000000                   0.000000  \n",
       "50%                             0.000000                   0.000000  \n",
       "75%                             0.000000                   0.000000  \n",
       "max                             7.000000                 616.000000  \n",
       "\n",
       "[8 rows x 28 columns]"
      ]
     },
     "execution_count": 5,
     "metadata": {},
     "output_type": "execute_result"
    }
   ],
   "source": [
    "df.describe()"
   ]
  },
  {
   "cell_type": "code",
   "execution_count": 6,
   "metadata": {},
   "outputs": [
    {
     "data": {
      "image/png": "[encoded data removed]",
      "text/plain": [
       "<Figure size 1440x1440 with 30 Axes>"
      ]
     },
     "metadata": {
      "needs_background": "light"
     },
     "output_type": "display_data"
    }
   ],
   "source": [
    "df.hist(bins=50, figsize=(20,20))\n",
    "plt.show()"
   ]
  },
  {
   "cell_type": "markdown",
   "metadata": {},
   "source": [
    "# Target - Achando a Coluna\n",
    "\n",
    "Coluna do Target são `contract_end_date` e `lost_time`.\n",
    "\n",
    "### Contract End Date - \n",
    "- Data de término do último contrato de assintura do benefício da Ana Health\n",
    "\n",
    "### Lost Time - \n",
    "- Data de cancelamento do benefício da Ana Health por assinatura (separada por vírgula)\n",
    "    - Pode ou não ter mais de um valor na amostra. Nesse caso, isso significa que o cliente teve mais de uma assinatura e acabou cancelando um ou mais dos planos.\n",
    "\n",
    "### Status - Assinatura\n",
    "- Nos trás o status de se o cliente cancelou a assinatura. `Lost` significa que ele acabou terminando a assinatura. \n",
    "\n",
    "### Status - Onboarding\n",
    "- Nos trás o status de se o cliente foi bem-sucedido no processo de oboarding e adentrou a empresa. `Lost` significa que ele acabou não continuando após o processo de onboarding. \n",
    "\n",
    "\n",
    "## Análises a Serem Levadas em Consideração\n",
    "- Motivo do cancelamento (falta de renda).\n",
    "- Se foi a empresa que cancelou e não o funcionário.\n",
    "- Desmembrar funcionário da empresa. Não há como retirar as empresas do DataSet. Talvez realizar uma análise separada para empresas ou para pessoa física.\n",
    "\n",
    "## Primeiro Passo - \n",
    "- Se houver um valor de `Contract End Date` mas não há um valor em `Lost Time`, clonar o valor de do final do contrato para o lost time.\n",
    "\n",
    "\n",
    "Cada amostra do DataSet é um usuário da plataforma. Esse usuário pode ou não ter cancelado a sua assinatura do serviço de saúde. Ou seja, precisamos criar uma coluna que diga se há uma data presente em uma das duas colunas mencionadas acima.\n",
    "\n",
    "\n",
    "## Criação da Coluna de Has_Ended\n",
    "Apenas criando uma coluna de se o usuário já cancelou a sua assinatura. Mas temos que acomodar o fato do cliente poder ter voltar para plataforma? Isso é algo a ser levado em consideração quano criamos nossa coluna de features. Para essa análise, escolhi não contemplar. "
   ]
  },
  {
   "cell_type": "code",
   "execution_count": 7,
   "metadata": {},
   "outputs": [
    {
     "data": {
      "text/plain": [
       "0       True\n",
       "1       True\n",
       "2       True\n",
       "3       True\n",
       "4       True\n",
       "        ... \n",
       "1197    True\n",
       "1198    True\n",
       "1199    True\n",
       "1200    True\n",
       "1201    True\n",
       "Name: Has-Ended, Length: 1202, dtype: bool"
      ]
     },
     "execution_count": 7,
     "metadata": {},
     "output_type": "execute_result"
    }
   ],
   "source": [
    "df[\"Has-Ended\"] = df['contract_end_date'].isna() + df['lost_time'].isna() \n",
    "\n",
    "df[\"Has-Ended\"]"
   ]
  },
  {
   "cell_type": "markdown",
   "metadata": {},
   "source": [
    "## Target -\n",
    "A ideia é tentarmos prever se houve ou não um cancelamento por parte do cliente. Após isso, podemos realizar as análises de taxa de cancelamento por mês e etc. Então, temos uma coluna de target bem simples, que nos leva a realizar análises mais complexas. "
   ]
  },
  {
   "cell_type": "markdown",
   "metadata": {},
   "source": [
    "# Feature a Feature - Análises\n",
    "\n",
    "**Minhas Colunas** - \n",
    "- 'lost_reason.1' - onboarding\n",
    "- 'lost_reason' - assinatura\n",
    "- 'Mensagens Outbound'\n",
    "- 'Datas Atendimento Médico'\n",
    "- 'stay_in_pipeline_stages_whoqol'\n",
    "- 'id_label'\n",
    "- 'done_activities_count'\n",
    "- 'state'\n",
    "- 'Faltas Psicoterapia'\n",
    "- 'Data Última Mensagens Outbound'\n",
    "- 'Qde Atendimentos Acolhimento'\n",
    "- 'status_assinatura'\n"
   ]
  },
  {
   "cell_type": "code",
   "execution_count": 9,
   "metadata": {},
   "outputs": [
    {
     "data": {
      "text/html": [
       "<div>\n",
       "<style scoped>\n",
       "    .dataframe tbody tr th:only-of-type {\n",
       "        vertical-align: middle;\n",
       "    }\n",
       "\n",
       "    .dataframe tbody tr th {\n",
       "        vertical-align: top;\n",
       "    }\n",
       "\n",
       "    .dataframe thead th {\n",
       "        text-align: right;\n",
       "    }\n",
       "</style>\n",
       "<table border=\"1\" class=\"dataframe\">\n",
       "  <thead>\n",
       "    <tr style=\"text-align: right;\">\n",
       "      <th></th>\n",
       "      <th>lost_reason.1</th>\n",
       "      <th>lost_reason</th>\n",
       "      <th>Mensagens Outbound</th>\n",
       "      <th>Datas Atendimento Médico</th>\n",
       "      <th>stay_in_pipeline_stages_whoqol</th>\n",
       "      <th>id_label</th>\n",
       "      <th>done_activities_count</th>\n",
       "      <th>state</th>\n",
       "      <th>Faltas Psicoterapia</th>\n",
       "      <th>Data Última Mensagens Outbound</th>\n",
       "      <th>Qde Atendimentos Acolhimento</th>\n",
       "      <th>status</th>\n",
       "    </tr>\n",
       "  </thead>\n",
       "  <tbody>\n",
       "    <tr>\n",
       "      <th>0</th>\n",
       "      <td>NaN</td>\n",
       "      <td>NaN</td>\n",
       "      <td>38.0</td>\n",
       "      <td>False</td>\n",
       "      <td>0.0</td>\n",
       "      <td>NaN</td>\n",
       "      <td>8</td>\n",
       "      <td>São Paulo</td>\n",
       "      <td>NaN</td>\n",
       "      <td>2023-01-30 16:24:27</td>\n",
       "      <td>False</td>\n",
       "      <td>NaN</td>\n",
       "    </tr>\n",
       "    <tr>\n",
       "      <th>1</th>\n",
       "      <td>Cancelou assinatura</td>\n",
       "      <td>NaN</td>\n",
       "      <td>NaN</td>\n",
       "      <td>False</td>\n",
       "      <td>NaN</td>\n",
       "      <td>NaN</td>\n",
       "      <td>4</td>\n",
       "      <td>North Carolina</td>\n",
       "      <td>NaN</td>\n",
       "      <td>NaN</td>\n",
       "      <td>False</td>\n",
       "      <td>NaN</td>\n",
       "    </tr>\n",
       "    <tr>\n",
       "      <th>2</th>\n",
       "      <td>NaN</td>\n",
       "      <td>NaN</td>\n",
       "      <td>NaN</td>\n",
       "      <td>False</td>\n",
       "      <td>NaN</td>\n",
       "      <td>NaN</td>\n",
       "      <td>0</td>\n",
       "      <td>São Paulo</td>\n",
       "      <td>NaN</td>\n",
       "      <td>NaN</td>\n",
       "      <td>False</td>\n",
       "      <td>NaN</td>\n",
       "    </tr>\n",
       "    <tr>\n",
       "      <th>3</th>\n",
       "      <td>NaN</td>\n",
       "      <td>NaN</td>\n",
       "      <td>NaN</td>\n",
       "      <td>False</td>\n",
       "      <td>NaN</td>\n",
       "      <td>NaN</td>\n",
       "      <td>0</td>\n",
       "      <td>NaN</td>\n",
       "      <td>NaN</td>\n",
       "      <td>NaN</td>\n",
       "      <td>False</td>\n",
       "      <td>NaN</td>\n",
       "    </tr>\n",
       "    <tr>\n",
       "      <th>4</th>\n",
       "      <td>NaN</td>\n",
       "      <td>NaN</td>\n",
       "      <td>NaN</td>\n",
       "      <td>False</td>\n",
       "      <td>NaN</td>\n",
       "      <td>NaN</td>\n",
       "      <td>0</td>\n",
       "      <td>São Paulo</td>\n",
       "      <td>NaN</td>\n",
       "      <td>NaN</td>\n",
       "      <td>False</td>\n",
       "      <td>NaN</td>\n",
       "    </tr>\n",
       "    <tr>\n",
       "      <th>...</th>\n",
       "      <td>...</td>\n",
       "      <td>...</td>\n",
       "      <td>...</td>\n",
       "      <td>...</td>\n",
       "      <td>...</td>\n",
       "      <td>...</td>\n",
       "      <td>...</td>\n",
       "      <td>...</td>\n",
       "      <td>...</td>\n",
       "      <td>...</td>\n",
       "      <td>...</td>\n",
       "      <td>...</td>\n",
       "    </tr>\n",
       "    <tr>\n",
       "      <th>1197</th>\n",
       "      <td>NaN</td>\n",
       "      <td>NaN</td>\n",
       "      <td>NaN</td>\n",
       "      <td>False</td>\n",
       "      <td>NaN</td>\n",
       "      <td>NaN</td>\n",
       "      <td>0</td>\n",
       "      <td>Bahia</td>\n",
       "      <td>NaN</td>\n",
       "      <td>NaN</td>\n",
       "      <td>False</td>\n",
       "      <td>won</td>\n",
       "    </tr>\n",
       "    <tr>\n",
       "      <th>1198</th>\n",
       "      <td>NaN</td>\n",
       "      <td>NaN</td>\n",
       "      <td>NaN</td>\n",
       "      <td>False</td>\n",
       "      <td>NaN</td>\n",
       "      <td>313.0</td>\n",
       "      <td>0</td>\n",
       "      <td>São Paulo</td>\n",
       "      <td>NaN</td>\n",
       "      <td>NaN</td>\n",
       "      <td>False</td>\n",
       "      <td>won</td>\n",
       "    </tr>\n",
       "    <tr>\n",
       "      <th>1199</th>\n",
       "      <td>NaN</td>\n",
       "      <td>NaN</td>\n",
       "      <td>150.0</td>\n",
       "      <td>False</td>\n",
       "      <td>150401.0</td>\n",
       "      <td>NaN</td>\n",
       "      <td>0</td>\n",
       "      <td>São Paulo</td>\n",
       "      <td>NaN</td>\n",
       "      <td>2023-10-31 14:01:06</td>\n",
       "      <td>False</td>\n",
       "      <td>NaN</td>\n",
       "    </tr>\n",
       "    <tr>\n",
       "      <th>1200</th>\n",
       "      <td>NaN</td>\n",
       "      <td>NaN</td>\n",
       "      <td>NaN</td>\n",
       "      <td>False</td>\n",
       "      <td>NaN</td>\n",
       "      <td>NaN</td>\n",
       "      <td>0</td>\n",
       "      <td>São Paulo</td>\n",
       "      <td>NaN</td>\n",
       "      <td>NaN</td>\n",
       "      <td>False</td>\n",
       "      <td>won</td>\n",
       "    </tr>\n",
       "    <tr>\n",
       "      <th>1201</th>\n",
       "      <td>NaN</td>\n",
       "      <td>NaN</td>\n",
       "      <td>NaN</td>\n",
       "      <td>False</td>\n",
       "      <td>NaN</td>\n",
       "      <td>NaN</td>\n",
       "      <td>0</td>\n",
       "      <td>Rio de Janeiro</td>\n",
       "      <td>NaN</td>\n",
       "      <td>NaN</td>\n",
       "      <td>False</td>\n",
       "      <td>won</td>\n",
       "    </tr>\n",
       "  </tbody>\n",
       "</table>\n",
       "<p>1202 rows × 12 columns</p>\n",
       "</div>"
      ],
      "text/plain": [
       "            lost_reason.1 lost_reason  Mensagens Outbound  \\\n",
       "0                     NaN         NaN                38.0   \n",
       "1     Cancelou assinatura         NaN                 NaN   \n",
       "2                     NaN         NaN                 NaN   \n",
       "3                     NaN         NaN                 NaN   \n",
       "4                     NaN         NaN                 NaN   \n",
       "...                   ...         ...                 ...   \n",
       "1197                  NaN         NaN                 NaN   \n",
       "1198                  NaN         NaN                 NaN   \n",
       "1199                  NaN         NaN               150.0   \n",
       "1200                  NaN         NaN                 NaN   \n",
       "1201                  NaN         NaN                 NaN   \n",
       "\n",
       "      Datas Atendimento Médico  stay_in_pipeline_stages_whoqol  id_label  \\\n",
       "0                        False                             0.0       NaN   \n",
       "1                        False                             NaN       NaN   \n",
       "2                        False                             NaN       NaN   \n",
       "3                        False                             NaN       NaN   \n",
       "4                        False                             NaN       NaN   \n",
       "...                        ...                             ...       ...   \n",
       "1197                     False                             NaN       NaN   \n",
       "1198                     False                             NaN     313.0   \n",
       "1199                     False                        150401.0       NaN   \n",
       "1200                     False                             NaN       NaN   \n",
       "1201                     False                             NaN       NaN   \n",
       "\n",
       "      done_activities_count           state  Faltas Psicoterapia  \\\n",
       "0                         8       São Paulo                  NaN   \n",
       "1                         4  North Carolina                  NaN   \n",
       "2                         0       São Paulo                  NaN   \n",
       "3                         0             NaN                  NaN   \n",
       "4                         0       São Paulo                  NaN   \n",
       "...                     ...             ...                  ...   \n",
       "1197                      0           Bahia                  NaN   \n",
       "1198                      0       São Paulo                  NaN   \n",
       "1199                      0       São Paulo                  NaN   \n",
       "1200                      0       São Paulo                  NaN   \n",
       "1201                      0  Rio de Janeiro                  NaN   \n",
       "\n",
       "     Data Última Mensagens Outbound  Qde Atendimentos Acolhimento status  \n",
       "0               2023-01-30 16:24:27                         False    NaN  \n",
       "1                               NaN                         False    NaN  \n",
       "2                               NaN                         False    NaN  \n",
       "3                               NaN                         False    NaN  \n",
       "4                               NaN                         False    NaN  \n",
       "...                             ...                           ...    ...  \n",
       "1197                            NaN                         False    won  \n",
       "1198                            NaN                         False    won  \n",
       "1199            2023-10-31 14:01:06                         False    NaN  \n",
       "1200                            NaN                         False    won  \n",
       "1201                            NaN                         False    won  \n",
       "\n",
       "[1202 rows x 12 columns]"
      ]
     },
     "execution_count": 9,
     "metadata": {},
     "output_type": "execute_result"
    }
   ],
   "source": [
    "df_alfredo = df[['lost_reason.1', 'lost_reason', 'Mensagens Outbound', 'Datas Atendimento Médico', 'stay_in_pipeline_stages_whoqol', 'id_label', 'done_activities_count', 'state', 'Faltas Psicoterapia', 'Data Última Mensagens Outbound', 'Qde Atendimentos Acolhimento', 'status']]\n",
    "\n",
    "df_alfredo"
   ]
  },
  {
   "cell_type": "code",
   "execution_count": 10,
   "metadata": {},
   "outputs": [
    {
     "data": {
      "image/png": "[encoded data removed]",
      "text/plain": [
       "<Figure size 1440x1440 with 6 Axes>"
      ]
     },
     "metadata": {
      "needs_background": "light"
     },
     "output_type": "display_data"
    }
   ],
   "source": [
    "df_alfredo.hist(bins=50, figsize=(20,20))\n",
    "plt.show()"
   ]
  },
  {
   "cell_type": "code",
   "execution_count": 11,
   "metadata": {},
   "outputs": [
    {
     "name": "stdout",
     "output_type": "stream",
     "text": [
      "<class 'pandas.core.frame.DataFrame'>\n",
      "RangeIndex: 1202 entries, 0 to 1201\n",
      "Data columns (total 12 columns):\n",
      " #   Column                          Non-Null Count  Dtype  \n",
      "---  ------                          --------------  -----  \n",
      " 0   lost_reason.1                   317 non-null    object \n",
      " 1   lost_reason                     520 non-null    object \n",
      " 2   Mensagens Outbound              1158 non-null   float64\n",
      " 3   Datas Atendimento Médico        1202 non-null   bool   \n",
      " 4   stay_in_pipeline_stages_whoqol  864 non-null    float64\n",
      " 5   id_label                        103 non-null    float64\n",
      " 6   done_activities_count           1202 non-null   int64  \n",
      " 7   state                           1185 non-null   object \n",
      " 8   Faltas Psicoterapia             180 non-null    float64\n",
      " 9   Data Última Mensagens Outbound  1158 non-null   object \n",
      " 10  Qde Atendimentos Acolhimento    1202 non-null   bool   \n",
      " 11  status                          1079 non-null   object \n",
      "dtypes: bool(2), float64(4), int64(1), object(5)\n",
      "memory usage: 96.4+ KB\n"
     ]
    }
   ],
   "source": [
    "df_alfredo.info()"
   ]
  },
  {
   "cell_type": "markdown",
   "metadata": {},
   "source": [
    "### lost_reason.1 - Onboarding\n",
    "\n",
    "Motivo pelo qual a pessoa não concluiu o processo de onboarding."
   ]
  },
  {
   "cell_type": "code",
   "execution_count": 12,
   "metadata": {},
   "outputs": [
    {
     "data": {
      "text/plain": [
       "1                                     Cancelou assinatura\n",
       "6                                     Cancelou assinatura\n",
       "9       [Onboarding] Não retornou aos contatos de resgate\n",
       "17      [Onboarding] Não tem interesse em seguir nas e...\n",
       "23      [Onboarding] Não tem interesse em seguir nas e...\n",
       "                              ...                        \n",
       "1122    [Onboarding] Não retornou aos contatos de resgate\n",
       "1126    [Onboarding] Não retornou aos contatos de resgate\n",
       "1129    [Onboarding] Não retornou aos contatos de resgate\n",
       "1131    [Onboarding] Não retornou aos contatos de resgate\n",
       "1148    [Onboarding] Não retornou aos contatos de resgate\n",
       "Name: lost_reason.1, Length: 317, dtype: object"
      ]
     },
     "execution_count": 12,
     "metadata": {},
     "output_type": "execute_result"
    }
   ],
   "source": [
    "df['lost_reason.1'].dropna()"
   ]
  },
  {
   "cell_type": "markdown",
   "metadata": {},
   "source": [
    "### lost_reason - Assinatura\n",
    "\n",
    "Motivo do cancelamento por assinatura (separada por vírgula)."
   ]
  },
  {
   "cell_type": "code",
   "execution_count": 13,
   "metadata": {},
   "outputs": [
    {
     "data": {
      "text/plain": [
       "24                 [Assinatura] Não quer seguir com a Ana\n",
       "28                    [Assinatura] Precisou cortar custos\n",
       "30      [Assinatura] Cancelamento após saída da psicot...\n",
       "36       [Assinatura] Empresa cancelou o benefício da Ana\n",
       "37                     Empresa está encerrando a operação\n",
       "                              ...                        \n",
       "1110                  [Assinatura] Precisou cortar custos\n",
       "1112               [Assinatura] Não quer seguir com a Ana\n",
       "1114                            [Assinatura] Desligamento\n",
       "1120                            [Assinatura] Desligamento\n",
       "1133                            [Assinatura] Desligamento\n",
       "Name: lost_reason, Length: 520, dtype: object"
      ]
     },
     "execution_count": 13,
     "metadata": {},
     "output_type": "execute_result"
    }
   ],
   "source": [
    "df['lost_reason'].dropna()"
   ]
  },
  {
   "cell_type": "markdown",
   "metadata": {},
   "source": [
    "### Mensagens Outbound - \n",
    "\n",
    "Contagem de mensagens enviadas pela equipe de saúde. Pode ser interessante ver q quantidade ao longo do tempo, assim, mostrando como que o cuidado vai evoluindo com o passar do tempo, mas, não temos acesso ao log de mensagens por dia, apenas por cliente."
   ]
  },
  {
   "cell_type": "code",
   "execution_count": 14,
   "metadata": {},
   "outputs": [
    {
     "data": {
      "image/png": "[encoded data removed]",
      "text/plain": [
       "<Figure size 432x288 with 1 Axes>"
      ]
     },
     "metadata": {
      "needs_background": "light"
     },
     "output_type": "display_data"
    }
   ],
   "source": [
    "plt.bar(df['id_person'],df['Mensagens Outbound'])\n",
    "plt.show()"
   ]
  },
  {
   "cell_type": "markdown",
   "metadata": {},
   "source": [
    "Média de mensagens."
   ]
  },
  {
   "cell_type": "code",
   "execution_count": 15,
   "metadata": {},
   "outputs": [
    {
     "data": {
      "text/plain": [
       "83.27806563039724"
      ]
     },
     "execution_count": 15,
     "metadata": {},
     "output_type": "execute_result"
    }
   ],
   "source": [
    "df['Mensagens Outbound'].mean()"
   ]
  },
  {
   "cell_type": "markdown",
   "metadata": {},
   "source": [
    "Primeiro Quartil de mensagens."
   ]
  },
  {
   "cell_type": "code",
   "execution_count": 16,
   "metadata": {},
   "outputs": [
    {
     "data": {
      "text/plain": [
       "19.0"
      ]
     },
     "execution_count": 16,
     "metadata": {},
     "output_type": "execute_result"
    }
   ],
   "source": [
    "df['Mensagens Outbound'].quantile(0.25)"
   ]
  },
  {
   "cell_type": "markdown",
   "metadata": {},
   "source": [
    "Quartil superior (acima de 75% de número de mensagens)."
   ]
  },
  {
   "cell_type": "code",
   "execution_count": 17,
   "metadata": {},
   "outputs": [
    {
     "data": {
      "text/plain": [
       "110.0"
      ]
     },
     "execution_count": 17,
     "metadata": {},
     "output_type": "execute_result"
    }
   ],
   "source": [
    "df['Mensagens Outbound'].quantile(0.75)"
   ]
  },
  {
   "cell_type": "markdown",
   "metadata": {},
   "source": [
    "### Datas Atendimento Médico - \n",
    "Data dos atendimentos com a equipe médica. Importante ver a quantidade de atendimentos por cliente ou empresa que existem.\n"
   ]
  },
  {
   "cell_type": "code",
   "execution_count": 18,
   "metadata": {},
   "outputs": [
    {
     "data": {
      "text/plain": [
       "0       False\n",
       "1       False\n",
       "2       False\n",
       "3       False\n",
       "4       False\n",
       "        ...  \n",
       "1197    False\n",
       "1198    False\n",
       "1199    False\n",
       "1200    False\n",
       "1201    False\n",
       "Name: Datas Atendimento Médico, Length: 1202, dtype: bool"
      ]
     },
     "execution_count": 18,
     "metadata": {},
     "output_type": "execute_result"
    }
   ],
   "source": [
    "df['Datas Atendimento Médico']"
   ]
  },
  {
   "cell_type": "code",
   "execution_count": 19,
   "metadata": {},
   "outputs": [
    {
     "data": {
      "text/html": [
       "<div>\n",
       "<style scoped>\n",
       "    .dataframe tbody tr th:only-of-type {\n",
       "        vertical-align: middle;\n",
       "    }\n",
       "\n",
       "    .dataframe tbody tr th {\n",
       "        vertical-align: top;\n",
       "    }\n",
       "\n",
       "    .dataframe thead th {\n",
       "        text-align: right;\n",
       "    }\n",
       "</style>\n",
       "<table border=\"1\" class=\"dataframe\">\n",
       "  <thead>\n",
       "    <tr style=\"text-align: right;\">\n",
       "      <th></th>\n",
       "      <th>id_person</th>\n",
       "      <th>birthdate</th>\n",
       "      <th>id_gender</th>\n",
       "      <th>id_marrital_status</th>\n",
       "      <th>state</th>\n",
       "      <th>city</th>\n",
       "      <th>postal_code</th>\n",
       "      <th>id_health_plan</th>\n",
       "      <th>id_person_recommendation</th>\n",
       "      <th>contract_start_date</th>\n",
       "      <th>...</th>\n",
       "      <th>Data Última Ligações Outbound</th>\n",
       "      <th>Qde Total de Faturas</th>\n",
       "      <th>Qde Total de Tentativas de Cobrança</th>\n",
       "      <th>Método de Pagamento</th>\n",
       "      <th>Valor Médio da Mensalidade</th>\n",
       "      <th>Qde Total de Faturas Pagas após Vencimento</th>\n",
       "      <th>Qde Total de Faturas Inadimpletes</th>\n",
       "      <th>Valor Total Inadimplência</th>\n",
       "      <th>Qde Perfis de Pagamento Inativos</th>\n",
       "      <th>Has-Ended</th>\n",
       "    </tr>\n",
       "  </thead>\n",
       "  <tbody>\n",
       "  </tbody>\n",
       "</table>\n",
       "<p>0 rows × 76 columns</p>\n",
       "</div>"
      ],
      "text/plain": [
       "Empty DataFrame\n",
       "Columns: [id_person, birthdate, id_gender, id_marrital_status, state, city, postal_code, id_health_plan, id_person_recommendation, contract_start_date, contract_end_date, id_continuity_pf, Recebe Comunicados?, Canal de Preferência, Interesses, Pontos de Atenção, notes_count, done_activities_count, id_stage, id_org, status, start_of_service, lost_time, lost_reason, age_total_seconds, add_time, status.1, id_label, stay_in_pipeline_stages_welcome, stay_in_pipeline_stages_first_meeting, stay_in_pipeline_stages_whoqol, won_time, lost_time.1, lost_reason.1, age_total_seconds.1, activities_count, Qde Todos Atendimentos, Faltas Todos Atendimento, Cancelamentos Todos Atendimento, Qde Atendimento Médico, Faltas Atendimento Médico, Cancelamentos Atendimento Médico, Datas Atendimento Médico, Qde Atendimentos Acolhimento, Faltas Acolhimento, Cancelamentos Acolhimento, Datas Acolhimento, Qde Psicoterapia, Faltas Psicoterapia, Datas Psicoterapia, Cancelamentos Psicoterapia, Qde Prescrições, Datas Prescrição, Qde Respostas WHOQOL, Físico, Psicológico, Social, Ambiental, Problemas Abertos, Mensagens Inbound, Data Última Mensagens Inbound, Mensagens Outbound, Data Última Mensagens Outbound, Ligações Inbound, Data Última Ligações Inbound, Ligações Outbound, Data Última Ligações Outbound, Qde Total de Faturas, Qde Total de Tentativas de Cobrança, Método de Pagamento, Valor Médio da Mensalidade, Qde Total de Faturas Pagas após Vencimento, Qde Total de Faturas Inadimpletes, Valor Total Inadimplência, Qde Perfis de Pagamento Inativos, Has-Ended]\n",
       "Index: []\n",
       "\n",
       "[0 rows x 76 columns]"
      ]
     },
     "execution_count": 19,
     "metadata": {},
     "output_type": "execute_result"
    }
   ],
   "source": [
    "df[df['Datas Atendimento Médico']!=False]"
   ]
  },
  {
   "cell_type": "markdown",
   "metadata": {},
   "source": [
    "Está completamente nula. Droppar imediatamente."
   ]
  },
  {
   "cell_type": "markdown",
   "metadata": {},
   "source": [
    "### stay_in_pipeline_stages_whoqol - \n",
    "\n",
    "Tempo até a realização da atendimento para pactuar a jornada de cuidados. Não sabemos qual a unidade de medida de tempo utilizada."
   ]
  },
  {
   "cell_type": "code",
   "execution_count": 20,
   "metadata": {},
   "outputs": [
    {
     "data": {
      "text/plain": [
       "864"
      ]
     },
     "execution_count": 20,
     "metadata": {},
     "output_type": "execute_result"
    }
   ],
   "source": [
    "df['stay_in_pipeline_stages_whoqol']\n",
    "\n",
    "len(df['stay_in_pipeline_stages_whoqol'].dropna())"
   ]
  },
  {
   "cell_type": "code",
   "execution_count": 21,
   "metadata": {},
   "outputs": [
    {
     "data": {
      "image/png": "[encoded data removed]",
      "text/plain": [
       "<Figure size 432x288 with 1 Axes>"
      ]
     },
     "metadata": {
      "needs_background": "light"
     },
     "output_type": "display_data"
    }
   ],
   "source": [
    "filtro = pd.notna(df['stay_in_pipeline_stages_whoqol'])\n",
    "\n",
    "users_fizeram = df[filtro]['id_person']\n",
    "tempo_testes_feitos = df[filtro]['stay_in_pipeline_stages_whoqol']\n",
    "\n",
    "plt.bar(users_fizeram, tempo_testes_feitos)\n",
    "plt.show()"
   ]
  },
  {
   "cell_type": "markdown",
   "metadata": {},
   "source": [
    "O que é possível ver são tempos muito altos (já que a escala está relativa), indicando uma possível demora para realizar o teste de satisfação com a própria vida."
   ]
  },
  {
   "cell_type": "markdown",
   "metadata": {},
   "source": [
    "### id_label - \n",
    "\n",
    "Identificador do status do agendamento durante o processo de onboarding: Convera Agendada, Reagendar.\n",
    "\n",
    "Só há 103 valores não nulos e não sabemos o valor associado aos números presentes na coluna (cada um representa uma classe).\n"
   ]
  },
  {
   "cell_type": "code",
   "execution_count": 22,
   "metadata": {},
   "outputs": [
    {
     "data": {
      "text/plain": [
       "<AxesSubplot:>"
      ]
     },
     "execution_count": 22,
     "metadata": {},
     "output_type": "execute_result"
    },
    {
     "data": {
      "image/png": "[encoded data removed]",
      "text/plain": [
       "<Figure size 432x288 with 1 Axes>"
      ]
     },
     "metadata": {
      "needs_background": "light"
     },
     "output_type": "display_data"
    }
   ],
   "source": [
    "df['id_label'].hist()"
   ]
  },
  {
   "cell_type": "code",
   "execution_count": 23,
   "metadata": {},
   "outputs": [
    {
     "data": {
      "text/plain": [
       "38      284.0\n",
       "69      325.0\n",
       "78      284.0\n",
       "81      284.0\n",
       "137     323.0\n",
       "        ...  \n",
       "1182    313.0\n",
       "1189    313.0\n",
       "1191    313.0\n",
       "1193    313.0\n",
       "1198    313.0\n",
       "Name: id_label, Length: 103, dtype: float64"
      ]
     },
     "execution_count": 23,
     "metadata": {},
     "output_type": "execute_result"
    }
   ],
   "source": [
    "df['id_label'].dropna()"
   ]
  },
  {
   "cell_type": "markdown",
   "metadata": {},
   "source": [
    "### done_activities_count - \n",
    "\n",
    "Contagem das atividades concluídas relacionada à pessoa. Algo a ser levado em consideração quando analisarmos quais os clientes propícios a cancelar é o quanto eles usufruíram dos serviços antes do término."
   ]
  },
  {
   "cell_type": "code",
   "execution_count": 24,
   "metadata": {},
   "outputs": [
    {
     "data": {
      "text/plain": [
       "0       8\n",
       "1       4\n",
       "2       0\n",
       "3       0\n",
       "4       0\n",
       "       ..\n",
       "1197    0\n",
       "1198    0\n",
       "1199    0\n",
       "1200    0\n",
       "1201    0\n",
       "Name: done_activities_count, Length: 1202, dtype: int64"
      ]
     },
     "execution_count": 24,
     "metadata": {},
     "output_type": "execute_result"
    }
   ],
   "source": [
    "df['done_activities_count']"
   ]
  },
  {
   "cell_type": "code",
   "execution_count": 25,
   "metadata": {},
   "outputs": [
    {
     "data": {
      "text/plain": [
       "<AxesSubplot:>"
      ]
     },
     "execution_count": 25,
     "metadata": {},
     "output_type": "execute_result"
    },
    {
     "data": {
      "image/png": "[encoded data removed]",
      "text/plain": [
       "<Figure size 432x288 with 1 Axes>"
      ]
     },
     "metadata": {
      "needs_background": "light"
     },
     "output_type": "display_data"
    }
   ],
   "source": [
    "df['done_activities_count'].hist()"
   ]
  },
  {
   "cell_type": "code",
   "execution_count": 26,
   "metadata": {},
   "outputs": [
    {
     "data": {
      "text/plain": [
       "(5.0, 13.0)"
      ]
     },
     "execution_count": 26,
     "metadata": {},
     "output_type": "execute_result"
    }
   ],
   "source": [
    "df['done_activities_count'].quantile(0.25), df['done_activities_count'].quantile(0.75)"
   ]
  },
  {
   "cell_type": "markdown",
   "metadata": {},
   "source": [
    "### state - \n",
    "Estado onde a pessoa reside."
   ]
  },
  {
   "cell_type": "code",
   "execution_count": 27,
   "metadata": {},
   "outputs": [
    {
     "data": {
      "image/png": "[encoded data removed]",
      "text/plain": [
       "<Figure size 720x720 with 1 Axes>"
      ]
     },
     "metadata": {
      "needs_background": "light"
     },
     "output_type": "display_data"
    }
   ],
   "source": [
    "vc = df['state'].value_counts()\n",
    "plt.figure(figsize=(10,10))\n",
    "plt.bar(vc.index,vc.values)\n",
    "plt.xticks(rotation=90)\n",
    "plt.show()"
   ]
  },
  {
   "cell_type": "markdown",
   "metadata": {},
   "source": [
    "Grande maioria dos usuários são situados em São Paulo."
   ]
  },
  {
   "cell_type": "markdown",
   "metadata": {},
   "source": [
    "### Faltas Psicoterapia - \n",
    "\n",
    "Contagem das faltas considerando apenas as sessões de psicoterapia. Se alguém acabar por faltar bastante, pode indicar alguma insatisfação com o serviço ou insegurança com o processo de terapia.\n",
    "\n",
    "Há apenas 180 valores não nulos"
   ]
  },
  {
   "cell_type": "code",
   "execution_count": 28,
   "metadata": {},
   "outputs": [
    {
     "data": {
      "text/plain": [
       "28       1.0\n",
       "50       8.0\n",
       "55      12.0\n",
       "65       1.0\n",
       "72       2.0\n",
       "        ... \n",
       "1105     2.0\n",
       "1106     1.0\n",
       "1111     1.0\n",
       "1138     1.0\n",
       "1142     1.0\n",
       "Name: Faltas Psicoterapia, Length: 180, dtype: float64"
      ]
     },
     "execution_count": 28,
     "metadata": {},
     "output_type": "execute_result"
    }
   ],
   "source": [
    "df['Faltas Psicoterapia'].dropna()"
   ]
  },
  {
   "cell_type": "code",
   "execution_count": 29,
   "metadata": {},
   "outputs": [
    {
     "data": {
      "text/plain": [
       "<AxesSubplot:>"
      ]
     },
     "execution_count": 29,
     "metadata": {},
     "output_type": "execute_result"
    },
    {
     "data": {
      "image/png": "[encoded data removed]",
      "text/plain": [
       "<Figure size 432x288 with 1 Axes>"
      ]
     },
     "metadata": {
      "needs_background": "light"
     },
     "output_type": "display_data"
    }
   ],
   "source": [
    "df['Faltas Psicoterapia'].hist()"
   ]
  },
  {
   "cell_type": "markdown",
   "metadata": {},
   "source": [
    "### Data Última Mensagens Outbound\n",
    "Data da última mensagem enviada pela equipe de saúde. Se essa data for anterior à última data da mensagem enviada pelo cliente isso é um possível problema."
   ]
  },
  {
   "cell_type": "code",
   "execution_count": 30,
   "metadata": {},
   "outputs": [
    {
     "data": {
      "text/plain": [
       "0       2023-01-30 16:24:27\n",
       "1                       NaN\n",
       "2                       NaN\n",
       "3                       NaN\n",
       "4                       NaN\n",
       "               ...         \n",
       "1197                    NaN\n",
       "1198                    NaN\n",
       "1199    2023-10-31 14:01:06\n",
       "1200                    NaN\n",
       "1201                    NaN\n",
       "Name: Data Última Mensagens Outbound, Length: 1202, dtype: object"
      ]
     },
     "execution_count": 30,
     "metadata": {},
     "output_type": "execute_result"
    }
   ],
   "source": [
    "df['Data Última Mensagens Outbound']"
   ]
  },
  {
   "cell_type": "code",
   "execution_count": 31,
   "metadata": {},
   "outputs": [
    {
     "data": {
      "text/plain": [
       "2022-03-24 11:55:48    5\n",
       "2023-10-31 18:40:50    3\n",
       "2023-10-26 07:40:52    3\n",
       "2023-10-30 18:40:51    3\n",
       "2023-10-03 10:33:21    3\n",
       "                      ..\n",
       "2022-11-07 17:17:07    1\n",
       "2023-10-27 18:55:34    1\n",
       "2023-10-26 20:58:51    1\n",
       "2022-06-17 11:01:17    1\n",
       "2023-10-31 14:01:06    1\n",
       "Name: Data Última Mensagens Outbound, Length: 1125, dtype: int64"
      ]
     },
     "execution_count": 31,
     "metadata": {},
     "output_type": "execute_result"
    }
   ],
   "source": [
    "df['Data Última Mensagens Outbound'].value_counts()"
   ]
  },
  {
   "cell_type": "code",
   "execution_count": 32,
   "metadata": {},
   "outputs": [
    {
     "data": {
      "text/plain": [
       "0      2023-01-30 16:24:27\n",
       "1                      NaT\n",
       "2                      NaT\n",
       "3                      NaT\n",
       "4                      NaT\n",
       "               ...        \n",
       "1197                   NaT\n",
       "1198                   NaT\n",
       "1199   2023-10-31 14:01:06\n",
       "1200                   NaT\n",
       "1201                   NaT\n",
       "Name: Data Última Mensagens Outbound, Length: 1202, dtype: datetime64[ns]"
      ]
     },
     "execution_count": 32,
     "metadata": {},
     "output_type": "execute_result"
    }
   ],
   "source": [
    "df['Data Última Mensagens Outbound'] = pd.to_datetime(df['Data Última Mensagens Outbound'], format='%Y-%m-%d %H:%M:%S')\n",
    "df['Data Última Mensagens Outbound']"
   ]
  },
  {
   "cell_type": "code",
   "execution_count": 33,
   "metadata": {},
   "outputs": [
    {
     "data": {
      "text/plain": [
       "0      2023-01-02 15:36:27\n",
       "1                      NaT\n",
       "2                      NaT\n",
       "3                      NaT\n",
       "4                      NaT\n",
       "               ...        \n",
       "1197                   NaT\n",
       "1198                   NaT\n",
       "1199   2023-10-31 14:01:01\n",
       "1200                   NaT\n",
       "1201                   NaT\n",
       "Name: Data Última Mensagens Inbound, Length: 1202, dtype: datetime64[ns]"
      ]
     },
     "execution_count": 33,
     "metadata": {},
     "output_type": "execute_result"
    }
   ],
   "source": [
    "df['Data Última Mensagens Inbound'] = pd.to_datetime(df['Data Última Mensagens Inbound'], format='%Y-%m-%d %H:%M:%S')\n",
    "df['Data Última Mensagens Inbound']"
   ]
  },
  {
   "cell_type": "code",
   "execution_count": 34,
   "metadata": {},
   "outputs": [
    {
     "data": {
      "text/html": [
       "<div>\n",
       "<style scoped>\n",
       "    .dataframe tbody tr th:only-of-type {\n",
       "        vertical-align: middle;\n",
       "    }\n",
       "\n",
       "    .dataframe tbody tr th {\n",
       "        vertical-align: top;\n",
       "    }\n",
       "\n",
       "    .dataframe thead th {\n",
       "        text-align: right;\n",
       "    }\n",
       "</style>\n",
       "<table border=\"1\" class=\"dataframe\">\n",
       "  <thead>\n",
       "    <tr style=\"text-align: right;\">\n",
       "      <th></th>\n",
       "      <th>id_person</th>\n",
       "      <th>birthdate</th>\n",
       "      <th>id_gender</th>\n",
       "      <th>id_marrital_status</th>\n",
       "      <th>state</th>\n",
       "      <th>city</th>\n",
       "      <th>postal_code</th>\n",
       "      <th>id_health_plan</th>\n",
       "      <th>id_person_recommendation</th>\n",
       "      <th>contract_start_date</th>\n",
       "      <th>...</th>\n",
       "      <th>Data Última Ligações Outbound</th>\n",
       "      <th>Qde Total de Faturas</th>\n",
       "      <th>Qde Total de Tentativas de Cobrança</th>\n",
       "      <th>Método de Pagamento</th>\n",
       "      <th>Valor Médio da Mensalidade</th>\n",
       "      <th>Qde Total de Faturas Pagas após Vencimento</th>\n",
       "      <th>Qde Total de Faturas Inadimpletes</th>\n",
       "      <th>Valor Total Inadimplência</th>\n",
       "      <th>Qde Perfis de Pagamento Inativos</th>\n",
       "      <th>Has-Ended</th>\n",
       "    </tr>\n",
       "  </thead>\n",
       "  <tbody>\n",
       "    <tr>\n",
       "      <th>17</th>\n",
       "      <td>408</td>\n",
       "      <td>1963-10-04</td>\n",
       "      <td>63.0</td>\n",
       "      <td>82.0</td>\n",
       "      <td>São Paulo</td>\n",
       "      <td>Marília</td>\n",
       "      <td>17502-242</td>\n",
       "      <td>428.0</td>\n",
       "      <td>2379.0</td>\n",
       "      <td>2021-01-28</td>\n",
       "      <td>...</td>\n",
       "      <td>2023-06-06 07:59:43</td>\n",
       "      <td>30.0</td>\n",
       "      <td>32.0</td>\n",
       "      <td>Cartão de crédito</td>\n",
       "      <td>91.54</td>\n",
       "      <td>0.0</td>\n",
       "      <td>0.0</td>\n",
       "      <td>0.0</td>\n",
       "      <td>False</td>\n",
       "      <td>True</td>\n",
       "    </tr>\n",
       "    <tr>\n",
       "      <th>23</th>\n",
       "      <td>463</td>\n",
       "      <td>1971-02-28</td>\n",
       "      <td>64.0</td>\n",
       "      <td>82.0</td>\n",
       "      <td>NaN</td>\n",
       "      <td>NaN</td>\n",
       "      <td>NaN</td>\n",
       "      <td>NaN</td>\n",
       "      <td>NaN</td>\n",
       "      <td>2021-02-23</td>\n",
       "      <td>...</td>\n",
       "      <td>NaN</td>\n",
       "      <td>NaN</td>\n",
       "      <td>NaN</td>\n",
       "      <td>NaN</td>\n",
       "      <td>NaN</td>\n",
       "      <td>NaN</td>\n",
       "      <td>NaN</td>\n",
       "      <td>NaN</td>\n",
       "      <td>False</td>\n",
       "      <td>True</td>\n",
       "    </tr>\n",
       "    <tr>\n",
       "      <th>30</th>\n",
       "      <td>860</td>\n",
       "      <td>1998-05-06</td>\n",
       "      <td>63.0</td>\n",
       "      <td>80.0</td>\n",
       "      <td>Paraná</td>\n",
       "      <td>Londrina</td>\n",
       "      <td>86020-410</td>\n",
       "      <td>NaN</td>\n",
       "      <td>NaN</td>\n",
       "      <td>2022-06-21</td>\n",
       "      <td>...</td>\n",
       "      <td>NaN</td>\n",
       "      <td>13.0</td>\n",
       "      <td>14.0</td>\n",
       "      <td>Cartão de crédito</td>\n",
       "      <td>88.00</td>\n",
       "      <td>1.0</td>\n",
       "      <td>0.0</td>\n",
       "      <td>0.0</td>\n",
       "      <td>False</td>\n",
       "      <td>False</td>\n",
       "    </tr>\n",
       "    <tr>\n",
       "      <th>38</th>\n",
       "      <td>973</td>\n",
       "      <td>1986-10-11</td>\n",
       "      <td>64.0</td>\n",
       "      <td>80.0</td>\n",
       "      <td>Minas Gerais</td>\n",
       "      <td>Uberlândia</td>\n",
       "      <td>38405-364</td>\n",
       "      <td>412.0</td>\n",
       "      <td>NaN</td>\n",
       "      <td>2021-06-28</td>\n",
       "      <td>...</td>\n",
       "      <td>NaN</td>\n",
       "      <td>NaN</td>\n",
       "      <td>NaN</td>\n",
       "      <td>NaN</td>\n",
       "      <td>NaN</td>\n",
       "      <td>NaN</td>\n",
       "      <td>NaN</td>\n",
       "      <td>NaN</td>\n",
       "      <td>False</td>\n",
       "      <td>False</td>\n",
       "    </tr>\n",
       "    <tr>\n",
       "      <th>51</th>\n",
       "      <td>1152</td>\n",
       "      <td>1994-08-31</td>\n",
       "      <td>64.0</td>\n",
       "      <td>80.0</td>\n",
       "      <td>São Paulo</td>\n",
       "      <td>São Carlos</td>\n",
       "      <td>13569-060</td>\n",
       "      <td>NaN</td>\n",
       "      <td>NaN</td>\n",
       "      <td>2021-08-05</td>\n",
       "      <td>...</td>\n",
       "      <td>NaN</td>\n",
       "      <td>NaN</td>\n",
       "      <td>NaN</td>\n",
       "      <td>NaN</td>\n",
       "      <td>NaN</td>\n",
       "      <td>NaN</td>\n",
       "      <td>NaN</td>\n",
       "      <td>NaN</td>\n",
       "      <td>False</td>\n",
       "      <td>True</td>\n",
       "    </tr>\n",
       "    <tr>\n",
       "      <th>...</th>\n",
       "      <td>...</td>\n",
       "      <td>...</td>\n",
       "      <td>...</td>\n",
       "      <td>...</td>\n",
       "      <td>...</td>\n",
       "      <td>...</td>\n",
       "      <td>...</td>\n",
       "      <td>...</td>\n",
       "      <td>...</td>\n",
       "      <td>...</td>\n",
       "      <td>...</td>\n",
       "      <td>...</td>\n",
       "      <td>...</td>\n",
       "      <td>...</td>\n",
       "      <td>...</td>\n",
       "      <td>...</td>\n",
       "      <td>...</td>\n",
       "      <td>...</td>\n",
       "      <td>...</td>\n",
       "      <td>...</td>\n",
       "      <td>...</td>\n",
       "    </tr>\n",
       "    <tr>\n",
       "      <th>1166</th>\n",
       "      <td>5877</td>\n",
       "      <td>2003-01-15</td>\n",
       "      <td>63.0</td>\n",
       "      <td>80.0</td>\n",
       "      <td>Minas Gerais</td>\n",
       "      <td>Belo Horizonte</td>\n",
       "      <td>31310-360</td>\n",
       "      <td>NaN</td>\n",
       "      <td>NaN</td>\n",
       "      <td>2023-10-16</td>\n",
       "      <td>...</td>\n",
       "      <td>NaN</td>\n",
       "      <td>NaN</td>\n",
       "      <td>NaN</td>\n",
       "      <td>NaN</td>\n",
       "      <td>NaN</td>\n",
       "      <td>NaN</td>\n",
       "      <td>NaN</td>\n",
       "      <td>NaN</td>\n",
       "      <td>False</td>\n",
       "      <td>True</td>\n",
       "    </tr>\n",
       "    <tr>\n",
       "      <th>1173</th>\n",
       "      <td>5893</td>\n",
       "      <td>1983-12-02</td>\n",
       "      <td>64.0</td>\n",
       "      <td>82.0</td>\n",
       "      <td>São Paulo</td>\n",
       "      <td>São Paulo</td>\n",
       "      <td>04303-001</td>\n",
       "      <td>NaN</td>\n",
       "      <td>NaN</td>\n",
       "      <td>2023-10-19</td>\n",
       "      <td>...</td>\n",
       "      <td>NaN</td>\n",
       "      <td>NaN</td>\n",
       "      <td>NaN</td>\n",
       "      <td>NaN</td>\n",
       "      <td>NaN</td>\n",
       "      <td>NaN</td>\n",
       "      <td>NaN</td>\n",
       "      <td>NaN</td>\n",
       "      <td>False</td>\n",
       "      <td>True</td>\n",
       "    </tr>\n",
       "    <tr>\n",
       "      <th>1175</th>\n",
       "      <td>5897</td>\n",
       "      <td>1994-02-12</td>\n",
       "      <td>64.0</td>\n",
       "      <td>80.0</td>\n",
       "      <td>Pernambuco</td>\n",
       "      <td>Recife</td>\n",
       "      <td>54290-050</td>\n",
       "      <td>NaN</td>\n",
       "      <td>NaN</td>\n",
       "      <td>2023-10-20</td>\n",
       "      <td>...</td>\n",
       "      <td>NaN</td>\n",
       "      <td>NaN</td>\n",
       "      <td>NaN</td>\n",
       "      <td>NaN</td>\n",
       "      <td>NaN</td>\n",
       "      <td>NaN</td>\n",
       "      <td>NaN</td>\n",
       "      <td>NaN</td>\n",
       "      <td>False</td>\n",
       "      <td>True</td>\n",
       "    </tr>\n",
       "    <tr>\n",
       "      <th>1184</th>\n",
       "      <td>5914</td>\n",
       "      <td>1998-03-03</td>\n",
       "      <td>64.0</td>\n",
       "      <td>80.0</td>\n",
       "      <td>Bahia</td>\n",
       "      <td>Salvador</td>\n",
       "      <td>40230-113</td>\n",
       "      <td>NaN</td>\n",
       "      <td>NaN</td>\n",
       "      <td>2023-10-24</td>\n",
       "      <td>...</td>\n",
       "      <td>NaN</td>\n",
       "      <td>1.0</td>\n",
       "      <td>1.0</td>\n",
       "      <td>Cartão de crédito</td>\n",
       "      <td>50.00</td>\n",
       "      <td>0.0</td>\n",
       "      <td>0.0</td>\n",
       "      <td>0.0</td>\n",
       "      <td>False</td>\n",
       "      <td>True</td>\n",
       "    </tr>\n",
       "    <tr>\n",
       "      <th>1189</th>\n",
       "      <td>5924</td>\n",
       "      <td>1992-05-30</td>\n",
       "      <td>63.0</td>\n",
       "      <td>82.0</td>\n",
       "      <td>São Paulo</td>\n",
       "      <td>Taboão da Serra</td>\n",
       "      <td>06754-060</td>\n",
       "      <td>NaN</td>\n",
       "      <td>NaN</td>\n",
       "      <td>2023-10-30</td>\n",
       "      <td>...</td>\n",
       "      <td>NaN</td>\n",
       "      <td>NaN</td>\n",
       "      <td>NaN</td>\n",
       "      <td>NaN</td>\n",
       "      <td>NaN</td>\n",
       "      <td>NaN</td>\n",
       "      <td>NaN</td>\n",
       "      <td>NaN</td>\n",
       "      <td>False</td>\n",
       "      <td>True</td>\n",
       "    </tr>\n",
       "  </tbody>\n",
       "</table>\n",
       "<p>196 rows × 76 columns</p>\n",
       "</div>"
      ],
      "text/plain": [
       "      id_person   birthdate  id_gender  id_marrital_status         state  \\\n",
       "17          408  1963-10-04       63.0                82.0     São Paulo   \n",
       "23          463  1971-02-28       64.0                82.0           NaN   \n",
       "30          860  1998-05-06       63.0                80.0        Paraná   \n",
       "38          973  1986-10-11       64.0                80.0  Minas Gerais   \n",
       "51         1152  1994-08-31       64.0                80.0     São Paulo   \n",
       "...         ...         ...        ...                 ...           ...   \n",
       "1166       5877  2003-01-15       63.0                80.0  Minas Gerais   \n",
       "1173       5893  1983-12-02       64.0                82.0     São Paulo   \n",
       "1175       5897  1994-02-12       64.0                80.0    Pernambuco   \n",
       "1184       5914  1998-03-03       64.0                80.0         Bahia   \n",
       "1189       5924  1992-05-30       63.0                82.0     São Paulo   \n",
       "\n",
       "                 city postal_code  id_health_plan  id_person_recommendation  \\\n",
       "17            Marília   17502-242           428.0                    2379.0   \n",
       "23                NaN         NaN             NaN                       NaN   \n",
       "30           Londrina   86020-410             NaN                       NaN   \n",
       "38         Uberlândia   38405-364           412.0                       NaN   \n",
       "51         São Carlos   13569-060             NaN                       NaN   \n",
       "...               ...         ...             ...                       ...   \n",
       "1166   Belo Horizonte   31310-360             NaN                       NaN   \n",
       "1173        São Paulo   04303-001             NaN                       NaN   \n",
       "1175           Recife   54290-050             NaN                       NaN   \n",
       "1184         Salvador   40230-113             NaN                       NaN   \n",
       "1189  Taboão da Serra   06754-060             NaN                       NaN   \n",
       "\n",
       "     contract_start_date  ... Data Última Ligações Outbound  \\\n",
       "17            2021-01-28  ...           2023-06-06 07:59:43   \n",
       "23            2021-02-23  ...                           NaN   \n",
       "30            2022-06-21  ...                           NaN   \n",
       "38            2021-06-28  ...                           NaN   \n",
       "51            2021-08-05  ...                           NaN   \n",
       "...                  ...  ...                           ...   \n",
       "1166          2023-10-16  ...                           NaN   \n",
       "1173          2023-10-19  ...                           NaN   \n",
       "1175          2023-10-20  ...                           NaN   \n",
       "1184          2023-10-24  ...                           NaN   \n",
       "1189          2023-10-30  ...                           NaN   \n",
       "\n",
       "      Qde Total de Faturas Qde Total de Tentativas de Cobrança  \\\n",
       "17                    30.0                                32.0   \n",
       "23                     NaN                                 NaN   \n",
       "30                    13.0                                14.0   \n",
       "38                     NaN                                 NaN   \n",
       "51                     NaN                                 NaN   \n",
       "...                    ...                                 ...   \n",
       "1166                   NaN                                 NaN   \n",
       "1173                   NaN                                 NaN   \n",
       "1175                   NaN                                 NaN   \n",
       "1184                   1.0                                 1.0   \n",
       "1189                   NaN                                 NaN   \n",
       "\n",
       "      Método de Pagamento Valor Médio da Mensalidade  \\\n",
       "17      Cartão de crédito                      91.54   \n",
       "23                    NaN                        NaN   \n",
       "30      Cartão de crédito                      88.00   \n",
       "38                    NaN                        NaN   \n",
       "51                    NaN                        NaN   \n",
       "...                   ...                        ...   \n",
       "1166                  NaN                        NaN   \n",
       "1173                  NaN                        NaN   \n",
       "1175                  NaN                        NaN   \n",
       "1184    Cartão de crédito                      50.00   \n",
       "1189                  NaN                        NaN   \n",
       "\n",
       "     Qde Total de Faturas Pagas após Vencimento  \\\n",
       "17                                          0.0   \n",
       "23                                          NaN   \n",
       "30                                          1.0   \n",
       "38                                          NaN   \n",
       "51                                          NaN   \n",
       "...                                         ...   \n",
       "1166                                        NaN   \n",
       "1173                                        NaN   \n",
       "1175                                        NaN   \n",
       "1184                                        0.0   \n",
       "1189                                        NaN   \n",
       "\n",
       "      Qde Total de Faturas Inadimpletes  Valor Total Inadimplência  \\\n",
       "17                                  0.0                        0.0   \n",
       "23                                  NaN                        NaN   \n",
       "30                                  0.0                        0.0   \n",
       "38                                  NaN                        NaN   \n",
       "51                                  NaN                        NaN   \n",
       "...                                 ...                        ...   \n",
       "1166                                NaN                        NaN   \n",
       "1173                                NaN                        NaN   \n",
       "1175                                NaN                        NaN   \n",
       "1184                                0.0                        0.0   \n",
       "1189                                NaN                        NaN   \n",
       "\n",
       "     Qde Perfis de Pagamento Inativos Has-Ended  \n",
       "17                              False      True  \n",
       "23                              False      True  \n",
       "30                              False     False  \n",
       "38                              False     False  \n",
       "51                              False      True  \n",
       "...                               ...       ...  \n",
       "1166                            False      True  \n",
       "1173                            False      True  \n",
       "1175                            False      True  \n",
       "1184                            False      True  \n",
       "1189                            False      True  \n",
       "\n",
       "[196 rows x 76 columns]"
      ]
     },
     "execution_count": 34,
     "metadata": {},
     "output_type": "execute_result"
    }
   ],
   "source": [
    "filtro = df['Data Última Mensagens Inbound'] > df['Data Última Mensagens Outbound']\n",
    "\n",
    "df_negligencia = df[filtro]\n",
    "\n",
    "df_negligencia"
   ]
  },
  {
   "cell_type": "markdown",
   "metadata": {},
   "source": [
    "### Qde Atendimentos Acolhimento - \n",
    "\n",
    "Contagem dos atendimentos realizados com a equipe de acolhimento da Ana Health. Coluna inteira está vazia."
   ]
  },
  {
   "cell_type": "code",
   "execution_count": 35,
   "metadata": {},
   "outputs": [
    {
     "data": {
      "text/plain": [
       "count      1202\n",
       "unique        1\n",
       "top       False\n",
       "freq       1202\n",
       "Name: Qde Atendimentos Acolhimento, dtype: object"
      ]
     },
     "execution_count": 35,
     "metadata": {},
     "output_type": "execute_result"
    }
   ],
   "source": [
    "df['Qde Atendimentos Acolhimento'].describe()"
   ]
  },
  {
   "cell_type": "markdown",
   "metadata": {},
   "source": [
    "### Status - Assinatura \n",
    "\n",
    "Status por assinatura (separada por vírgula): Cancelada (lost), Ativa (won). O que acontece se o status for nulo?"
   ]
  },
  {
   "cell_type": "code",
   "execution_count": 36,
   "metadata": {},
   "outputs": [
    {
     "data": {
      "text/plain": [
       "24      lost\n",
       "28      lost\n",
       "30      lost\n",
       "36      lost\n",
       "37      lost\n",
       "        ... \n",
       "1196     won\n",
       "1197     won\n",
       "1198     won\n",
       "1200     won\n",
       "1201     won\n",
       "Name: status, Length: 1079, dtype: object"
      ]
     },
     "execution_count": 36,
     "metadata": {},
     "output_type": "execute_result"
    }
   ],
   "source": [
    "df['status'].dropna()"
   ]
  },
  {
   "cell_type": "code",
   "execution_count": 38,
   "metadata": {},
   "outputs": [
    {
     "data": {
      "text/plain": [
       "won                                                 551\n",
       "lost                                                450\n",
       "lost; lost                                           31\n",
       "won; lost                                            13\n",
       "lost; won                                            12\n",
       "won; won                                              6\n",
       "lost; lost; lost                                      5\n",
       "lost; won; lost                                       2\n",
       "won; lost; lost; lost                                 1\n",
       "lost; open                                            1\n",
       "lost; lost; won; lost                                 1\n",
       "open; won; lost                                       1\n",
       "lost; won; won; won                                   1\n",
       "won; won; won                                         1\n",
       "lost; lost; won                                       1\n",
       "won; lost; won                                        1\n",
       "won; won; won; won; won; won; won; won; won; won      1\n",
       "Name: status, dtype: int64"
      ]
     },
     "execution_count": 38,
     "metadata": {},
     "output_type": "execute_result"
    }
   ],
   "source": [
    "df['status'].value_counts()"
   ]
  },
  {
   "cell_type": "code",
   "execution_count": 39,
   "metadata": {},
   "outputs": [
    {
     "data": {
      "text/plain": [
       "won     574\n",
       "lost    504\n",
       "open      1\n",
       "Name: status, dtype: int64"
      ]
     },
     "execution_count": 39,
     "metadata": {},
     "output_type": "execute_result"
    }
   ],
   "source": [
    "def lastStatus(x):\n",
    "    s = x.split(';')\n",
    "    return s[-1].strip()\n",
    "\n",
    "status = df['status'].dropna().apply(lastStatus)\n",
    "\n",
    "status.value_counts()"
   ]
  }
 ],
 "metadata": {
  "kernelspec": {
   "display_name": "Python 3",
   "language": "python",
   "name": "python3"
  },
  "language_info": {
   "codemirror_mode": {
    "name": "ipython",
    "version": 3
   },
   "file_extension": ".py",
   "mimetype": "text/x-python",
   "name": "python",
   "nbconvert_exporter": "python",
   "pygments_lexer": "ipython3",
   "version": "3.10.2"
  }
 },
 "nbformat": 4,
 "nbformat_minor": 2
}
