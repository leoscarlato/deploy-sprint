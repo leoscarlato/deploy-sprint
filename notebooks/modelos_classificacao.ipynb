{
 "cells": [
  {
   "cell_type": "code",
   "execution_count": 40,
   "metadata": {},
   "outputs": [],
   "source": [
    "import pandas as pd\n",
    "from datetime import datetime\n",
    "\n",
    "df_agosto = pd.read_csv('../data/Agosto/Ana Health_Tabela Modelo Previsão Churn - Tabela até 08_23.csv', skiprows=1)\n",
    "df_julho = pd.read_csv('../data/Julho/Ana Health_Tabela Modelo Previsão Churn - Tabela até 07_23.csv', skiprows=1)\n",
    "df_junho = pd.read_csv('../data/Junho/Ana Health_Tabela Modelo Previsão Churn - Tabela até 06_23.csv', skiprows=1)\n",
    "df_novembro = pd.read_csv('../data/Novembro/Ana Health_Tabela Modelo Previsão Churn - Tabela Geral.csv', skiprows=1)\n",
    "df_outubro = pd.read_csv('../data/Outubro/Ana Health_Tabela Modelo Previsão Churn - Tabela até 10_23.csv', skiprows=1)\n",
    "df_setembro = pd.read_csv('../data/Setembro/Ana Health_Tabela Modelo Previsão Churn - Tabela até 09_23.csv', skiprows=1)"
   ]
  },
  {
   "cell_type": "code",
   "execution_count": 41,
   "metadata": {},
   "outputs": [],
   "source": [
    "import script_data_basico\n",
    "import importlib\n",
    "importlib.reload(script_data_basico)\n",
    "tratamento = script_data_basico.tratamento\n",
    "\n",
    "fim_junho = datetime(2023, 6, 30)\n",
    "fim_julho = datetime(2023, 7, 31)\n",
    "fim_agosto = datetime(2023, 8, 31)\n",
    "fim_setembro = datetime(2023, 9, 30)\n",
    "fim_outubro = datetime(2023, 10, 31)\n",
    "fim_novembro = datetime(2023, 11, 30)\n",
    "\n",
    "df_agosto = tratamento(df_agosto,fim_agosto,df_setembro)\n",
    "df_julho = tratamento(df_julho, fim_julho, df_agosto)\n",
    "df_junho = tratamento(df_junho, fim_junho, df_julho)\n",
    "df_outubro = tratamento(df_outubro, fim_outubro, df_novembro)\n",
    "df_setembro = tratamento(df_setembro, fim_setembro, df_outubro)\n"
   ]
  },
  {
   "cell_type": "code",
   "execution_count": 42,
   "metadata": {},
   "outputs": [],
   "source": [
    "df_total = pd.concat([df_junho, df_julho, df_agosto, df_setembro, df_outubro])\n",
    "\n",
    "df_total['Target'] = df_total['status_prox_mes'] == 'won'"
   ]
  },
  {
   "cell_type": "code",
   "execution_count": 43,
   "metadata": {},
   "outputs": [],
   "source": [
    "import script_data_classificacao\n",
    "import importlib\n",
    "importlib.reload(script_data_classificacao)\n",
    "tratamento_classificacao = script_data_classificacao.tratamento_classificacao\n",
    "\n",
    "df_total = tratamento_classificacao(df_total)"
   ]
  },
  {
   "cell_type": "code",
   "execution_count": 44,
   "metadata": {},
   "outputs": [
    {
     "name": "stdout",
     "output_type": "stream",
     "text": [
      "<class 'pandas.core.frame.DataFrame'>\n",
      "Index: 2634 entries, 0 to 1022\n",
      "Data columns (total 44 columns):\n",
      " #   Column                                   Non-Null Count  Dtype  \n",
      "---  ------                                   --------------  -----  \n",
      " 0   idade                                    2634 non-null   float64\n",
      " 1   done_activities_count                    2634 non-null   int64  \n",
      " 2   start_of_service                         2634 non-null   float64\n",
      " 3   Qde Todos Atendimentos                   2634 non-null   int64  \n",
      " 4   Faltas Todos Atendimento                 2634 non-null   int64  \n",
      " 5   Físico                                   2634 non-null   float64\n",
      " 6   Psicológico                              2634 non-null   float64\n",
      " 7   Social                                   2634 non-null   float64\n",
      " 8   Ambiental                                2634 non-null   float64\n",
      " 9   Mensagens Inbound                        2634 non-null   float64\n",
      " 10  Mensagens Outbound                       2634 non-null   float64\n",
      " 11  Ligações Inbound                         2634 non-null   float64\n",
      " 12  Ligações Outbound                        2634 non-null   float64\n",
      " 13  Qde Total de Tentativas de Cobrança      2634 non-null   float64\n",
      " 14  Valor Total Inadimplência                2634 non-null   float64\n",
      " 15  Tem Problema em Aberto                   2634 non-null   int64  \n",
      " 16  Tempo Última Mensagem Inbound            2634 non-null   float64\n",
      " 17  Tempo Última Mensagem Outbound           2634 non-null   float64\n",
      " 18  Target                                   2634 non-null   bool   \n",
      " 19  id_gender_63.0                           2634 non-null   bool   \n",
      " 20  id_gender_64.0                           2634 non-null   bool   \n",
      " 21  id_gender_Outros                         2634 non-null   bool   \n",
      " 22  id_marrital_status_80.0                  2634 non-null   bool   \n",
      " 23  id_marrital_status_82.0                  2634 non-null   bool   \n",
      " 24  id_marrital_status_83.0                  2634 non-null   bool   \n",
      " 25  id_health_plan_412.0                     2634 non-null   bool   \n",
      " 26  id_health_plan_415.0                     2634 non-null   bool   \n",
      " 27  id_health_plan_418.0                     2634 non-null   bool   \n",
      " 28  id_health_plan_435.0                     2634 non-null   bool   \n",
      " 29  id_health_plan_Outros                    2634 non-null   bool   \n",
      " 30  notes_count_0                            2634 non-null   bool   \n",
      " 31  notes_count_1                            2634 non-null   bool   \n",
      " 32  notes_count_2                            2634 non-null   bool   \n",
      " 33  notes_count_3                            2634 non-null   bool   \n",
      " 34  notes_count_4                            2634 non-null   bool   \n",
      " 35  notes_count_5                            2634 non-null   bool   \n",
      " 36  notes_count_6                            2634 non-null   bool   \n",
      " 37  Método de Pagamento_Cartão de crédito    2634 non-null   bool   \n",
      " 38  Método de Pagamento_Dinheiro             2634 non-null   bool   \n",
      " 39  Método de Pagamento_Outros               2634 non-null   bool   \n",
      " 40  Qde Total de Faturas Inadimpletes_False  2634 non-null   bool   \n",
      " 41  Qde Total de Faturas Inadimpletes_True   2634 non-null   bool   \n",
      " 42  Quem Enviou Última Mensagem_Cliente      2634 non-null   bool   \n",
      " 43  Quem Enviou Última Mensagem_Empresa      2634 non-null   bool   \n",
      "dtypes: bool(26), float64(14), int64(4)\n",
      "memory usage: 457.9 KB\n"
     ]
    }
   ],
   "source": [
    "df_total.info()"
   ]
  },
  {
   "cell_type": "code",
   "execution_count": null,
   "metadata": {},
   "outputs": [],
   "source": []
  }
 ],
 "metadata": {
  "kernelspec": {
   "display_name": "env",
   "language": "python",
   "name": "python3"
  },
  "language_info": {
   "codemirror_mode": {
    "name": "ipython",
    "version": 3
   },
   "file_extension": ".py",
   "mimetype": "text/x-python",
   "name": "python",
   "nbconvert_exporter": "python",
   "pygments_lexer": "ipython3",
   "version": "3.11.4"
  }
 },
 "nbformat": 4,
 "nbformat_minor": 2
}
