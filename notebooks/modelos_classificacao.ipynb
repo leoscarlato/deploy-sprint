{
 "cells": [
  {
   "cell_type": "markdown",
   "metadata": {},
   "source": [
    "# Modelo de Classificação"
   ]
  },
  {
   "cell_type": "markdown",
   "metadata": {},
   "source": [
    "Import de funções da pasta de `scripts`, onde as funções e tratamento de dados estão (para todos os modelos)"
   ]
  },
  {
   "cell_type": "code",
   "execution_count": 105,
   "metadata": {},
   "outputs": [],
   "source": [
    "import sys\n",
    "sys.path.append('../')\n",
    "\n",
    "import  scripts.script_data_basico\n",
    "import  scripts.script_data_classificacao\n",
    "\n",
    "reload(scripts.script_data_basico)\n",
    "reload(scripts.script_data_classificacao)\n",
    "\n",
    "tratamento = scripts.script_data_basico.tratamento\n",
    "tratamento_classificacao = scripts.script_data_classificacao.tratamento_classificacao\n",
    "\n",
    "from importlib import reload"
   ]
  },
  {
   "cell_type": "markdown",
   "metadata": {},
   "source": [
    "Import de bibliotecas básicas"
   ]
  },
  {
   "cell_type": "code",
   "execution_count": 106,
   "metadata": {},
   "outputs": [],
   "source": [
    "import pandas as pd\n",
    "from datetime import datetime\n",
    "import numpy as np"
   ]
  },
  {
   "cell_type": "markdown",
   "metadata": {},
   "source": [
    "Leitura de todos os DataFrames (um para cada mês)"
   ]
  },
  {
   "cell_type": "code",
   "execution_count": 107,
   "metadata": {},
   "outputs": [],
   "source": [
    "df_agosto = pd.read_csv('../data/Agosto/Ana Health_Tabela Modelo Previsão Churn - Tabela até 08_23.csv', skiprows=1)\n",
    "df_julho = pd.read_csv('../data/Julho/Ana Health_Tabela Modelo Previsão Churn - Tabela até 07_23.csv', skiprows=1)\n",
    "df_junho = pd.read_csv('../data/Junho/Ana Health_Tabela Modelo Previsão Churn - Tabela até 06_23.csv', skiprows=1)\n",
    "df_novembro = pd.read_csv('../data/Novembro/Ana Health_Tabela Modelo Previsão Churn - Tabela Geral.csv', skiprows=1)\n",
    "df_outubro = pd.read_csv('../data/Outubro/Ana Health_Tabela Modelo Previsão Churn - Tabela até 10_23.csv', skiprows=1)\n",
    "df_setembro = pd.read_csv('../data/Setembro/Ana Health_Tabela Modelo Previsão Churn - Tabela até 09_23.csv', skiprows=1)"
   ]
  },
  {
   "cell_type": "markdown",
   "metadata": {},
   "source": [
    "## Tratamento inicial - \n",
    "\n",
    "Colunas que foram Dropped:\n",
    "\n",
    "    'state'\n",
    "    'city'\n",
    "    'postal_code'\n",
    "    'id_person_recommendation'\n",
    "    'Recebe Comunicados?'\n",
    "    'Interesses'\n",
    "    'Pontos de Atenção'\n",
    "    'id_stage'\n",
    "    'id_org'\n",
    "    'status.1'\n",
    "    'activities_count'\n",
    "    'Datas Atendimento Médico'\n",
    "    'Datas Acolhimento'\n",
    "    'Datas Psicoterapia'\n",
    "    'Qde Prescrições'\n",
    "    'Datas Prescrição'\n",
    "    'Qde Respostas WHOQOL'\n",
    "\n",
    "**status** - Apenas utiliza o último status da amostra\n",
    "\n",
    "**start_of_service** - Apenas contemplamos a primeira data\n",
    "\n",
    "**lost_reason** - Apenas contemplamos a última justificativa\n",
    "\n",
    "**Colunas de WHOQOL** - `Físico`, `Psicológico`, `Social`, `Ambiental`\n",
    "- Calcula a média dos testes e substitui a amostra original\n",
    "\n",
    "**Colunas de Data** - `start_of_service`, `add_time`, `won_time`, `lost_time.1`\n",
    "- Passar tudo para DateTime e calcular o tempo da data até o dia atual\n",
    "\n",
    "**Coluna de Tempo** - Tempo é guardado em segundos: `stay_in_pipeline_stages_welcome`,`stay_in_pipeline_stages_first_meeting`, `stay_in_pipeline_stages_whoqol`\n",
    "- Transformar em dias\n",
    "\n",
    "**contract_start_date** e **contract_end_date** - Transformação em DateTime\n",
    "\n",
    "**Tempo até Sair** - Criação da coluna com base no **contract_start_date** e **contract_end_date**\n",
    "\n",
    "**Tem Problema em Aberto** - Criação da Coluna.\n",
    "\n",
    "**Data Última Mensagens Outbound** e **Data Última Mensagens Inbound** - Transformar em DateTime\n",
    "\n",
    "**birthdate** - Transformar em Idade do Cliente\n",
    "\n",
    "**Status Próxima Mês** - Criação da Coluna com Base no DF do Próximo Mês"
   ]
  },
  {
   "cell_type": "code",
   "execution_count": 108,
   "metadata": {},
   "outputs": [],
   "source": [
    "fim_junho = datetime(2023, 6, 30)\n",
    "fim_julho = datetime(2023, 7, 31)\n",
    "fim_agosto = datetime(2023, 8, 31)\n",
    "fim_setembro = datetime(2023, 9, 30)\n",
    "fim_outubro = datetime(2023, 10, 31)\n",
    "fim_novembro = datetime(2023, 11, 30)\n",
    "\n",
    "df_agosto = tratamento(df_agosto, fim_agosto, df_setembro)\n",
    "df_julho = tratamento(df_julho, fim_julho, df_agosto)\n",
    "df_junho = tratamento(df_junho, fim_junho, df_julho)\n",
    "df_outubro = tratamento(df_outubro, fim_outubro, df_novembro)\n",
    "df_setembro = tratamento(df_setembro, fim_setembro, df_outubro)"
   ]
  },
  {
   "cell_type": "code",
   "execution_count": 109,
   "metadata": {},
   "outputs": [],
   "source": [
    "df_total = pd.concat([df_junho, df_julho, df_agosto, df_setembro, df_outubro])"
   ]
  },
  {
   "cell_type": "code",
   "execution_count": 110,
   "metadata": {},
   "outputs": [
    {
     "data": {
      "text/plain": [
       "Index(['id_person', 'birthdate', 'id_gender', 'id_marrital_status',\n",
       "       'id_health_plan', 'contract_start_date', 'contract_end_date',\n",
       "       'id_continuity_pf', 'Canal de Preferência', 'notes_count',\n",
       "       'done_activities_count', 'status', 'start_of_service', 'lost_time',\n",
       "       'lost_reason', 'add_time', 'id_label', 'won_time', 'lost_time.1',\n",
       "       'lost_reason.1', 'Qde Todos Atendimentos', 'Faltas Todos Atendimento',\n",
       "       'Qde Atendimento Médico', 'Faltas Atendimento Médico',\n",
       "       'Qde Atendimentos Acolhimento', 'Faltas Acolhimento',\n",
       "       'Qde Psicoterapia', 'Faltas Psicoterapia', 'Físico', 'Psicológico',\n",
       "       'Social', 'Ambiental', 'Problemas Abertos', 'Mensagens Inbound',\n",
       "       'Mensagens Outbound', 'Ligações Inbound',\n",
       "       'Data Última Ligações Inbound', 'Ligações Outbound',\n",
       "       'Data Última Ligações Outbound', 'Qde Total de Faturas',\n",
       "       'Qde Total de Tentativas de Cobrança', 'Método de Pagamento',\n",
       "       'Valor Médio da Mensalidade',\n",
       "       'Qde Total de Faturas Pagas após Vencimento',\n",
       "       'Qde Total de Faturas Inadimpletes', 'Valor Total Inadimplência',\n",
       "       'Qde Perfis de Pagamento Inativos', 'Tempo até Sair',\n",
       "       'Tem Problema em Aberto', 'Tempo Última Mensagem Inbound',\n",
       "       'Tempo Última Mensagem Outbound', 'Quem Enviou Última Mensagem',\n",
       "       'status_prox_mes'],\n",
       "      dtype='object')"
      ]
     },
     "execution_count": 110,
     "metadata": {},
     "output_type": "execute_result"
    }
   ],
   "source": [
    "df_total.columns"
   ]
  },
  {
   "cell_type": "markdown",
   "metadata": {},
   "source": [
    "## Tratamento Específico para Classificação\n",
    "\n",
    "Colunas que Foram Dropped:\n",
    "\n",
    "    'id_person'\n",
    "    'contract_start_date'\n",
    "    'contract_end_date'\n",
    "    'id_continuity_pf'\n",
    "    'Canal de Preferência'\n",
    "    'status'\n",
    "    'lost_time'\n",
    "    'add_time'\n",
    "    'id_label'\n",
    "    'won_time'\n",
    "    'lost_time.1'\n",
    "    'lost_reason'\n",
    "    'lost_reason.1'\n",
    "    'Qde Atendimento Médico'\n",
    "    'Faltas Atendimento Médico'\n",
    "    'Qde Atendimentos Acolhimento'\n",
    "    'Faltas Acolhimento'\n",
    "    'Qde Psicoterapia'\n",
    "    'Faltas Psicoterapia'\n",
    "    'Data Última Ligações Outbound'\n",
    "    'Data Última Ligações Inbound'\n",
    "    'Qde Total de Faturas Pagas após Vencimento'\n",
    "    'Qde Perfis de Pagamento Inativos'\n",
    "    'Tempo até Sair'\n",
    "    'Valor Médio da Mensalidade'\n",
    "    'status_prox_mes'\n",
    "    'Qde Total de Faturas'\n",
    "    'Problemas Abertos'\n",
    "\n",
    "Colunas onde aplicamos o GetDummies:\n",
    "\n",
    "    'id_gender'\n",
    "    'id_marrital_status'\n",
    "    'id_health_plan'\n",
    "    'notes_count'\n",
    "    'Método de Pagamento'\n",
    "    'Qde Total de Faturas Inadimpletes'\n",
    "    'Quem Enviou Última Mensagem'\n",
    "\n",
    "Droppamos as linhas duplicadas, também."
   ]
  },
  {
   "cell_type": "code",
   "execution_count": 111,
   "metadata": {},
   "outputs": [],
   "source": [
    "df_total = tratamento_classificacao(df_total)"
   ]
  },
  {
   "cell_type": "code",
   "execution_count": 112,
   "metadata": {},
   "outputs": [
    {
     "data": {
      "text/plain": [
       "Index(['idade', 'done_activities_count', 'start_of_service',\n",
       "       'Qde Todos Atendimentos', 'Faltas Todos Atendimento', 'Físico',\n",
       "       'Psicológico', 'Social', 'Ambiental', 'Mensagens Inbound',\n",
       "       'Mensagens Outbound', 'Ligações Inbound', 'Ligações Outbound',\n",
       "       'Qde Total de Tentativas de Cobrança', 'Valor Total Inadimplência',\n",
       "       'Tem Problema em Aberto', 'Tempo Última Mensagem Inbound',\n",
       "       'Tempo Última Mensagem Outbound', 'Target', 'id_gender_63.0',\n",
       "       'id_gender_64.0', 'id_gender_Outros', 'id_marrital_status_80.0',\n",
       "       'id_marrital_status_82.0', 'id_marrital_status_83.0',\n",
       "       'id_health_plan_412.0', 'id_health_plan_415.0', 'id_health_plan_418.0',\n",
       "       'id_health_plan_435.0', 'id_health_plan_Outros', 'notes_count_0',\n",
       "       'notes_count_1', 'notes_count_2', 'notes_count_3', 'notes_count_4',\n",
       "       'notes_count_5', 'notes_count_6',\n",
       "       'Método de Pagamento_Cartão de crédito', 'Método de Pagamento_Dinheiro',\n",
       "       'Método de Pagamento_Outros', 'Qde Total de Faturas Inadimpletes_False',\n",
       "       'Qde Total de Faturas Inadimpletes_True',\n",
       "       'Quem Enviou Última Mensagem_Cliente',\n",
       "       'Quem Enviou Última Mensagem_Empresa'],\n",
       "      dtype='object')"
      ]
     },
     "execution_count": 112,
     "metadata": {},
     "output_type": "execute_result"
    }
   ],
   "source": [
    "df_total.columns"
   ]
  },
  {
   "cell_type": "markdown",
   "metadata": {},
   "source": [
    "### Usando Decision Tree para classificar quem sai no próximo mês"
   ]
  },
  {
   "cell_type": "code",
   "execution_count": 113,
   "metadata": {},
   "outputs": [
    {
     "name": "stdout",
     "output_type": "stream",
     "text": [
      "Accuracy: 0.8671726755218216\n",
      "Confusion Matrix:\n",
      "[[ 97  23]\n",
      " [ 47 360]]\n",
      "Classification Report:\n",
      "              precision    recall  f1-score   support\n",
      "\n",
      "       False       0.67      0.81      0.73       120\n",
      "        True       0.94      0.88      0.91       407\n",
      "\n",
      "    accuracy                           0.87       527\n",
      "   macro avg       0.81      0.85      0.82       527\n",
      "weighted avg       0.88      0.87      0.87       527\n",
      "\n"
     ]
    }
   ],
   "source": [
    "#decision tree\n",
    "from sklearn.tree import DecisionTreeClassifier\n",
    "from sklearn.model_selection import train_test_split\n",
    "from sklearn.metrics import accuracy_score\n",
    "from sklearn.metrics import confusion_matrix\n",
    "from sklearn.metrics import classification_report\n",
    "# Split the data into training and testing sets\n",
    "X_train, X_test, y_train, y_test = train_test_split(df_total.drop('Target', axis=1), df_total['Target'], test_size=0.2, random_state=42)\n",
    "\n",
    "# Create the decision tree classifier\n",
    "tree_clf = DecisionTreeClassifier(random_state=42)\n",
    "\n",
    "# Train the model\n",
    "tree_clf.fit(X_train, y_train)\n",
    "\n",
    "# Make predictions on the test set\n",
    "y_pred = tree_clf.predict(X_test)\n",
    "\n",
    "# Evaluate the model\n",
    "accuracy = accuracy_score(y_test, y_pred)\n",
    "confusion_mat = confusion_matrix(y_test, y_pred)\n",
    "classification_rep = classification_report(y_test, y_pred)\n",
    "\n",
    "# Print the results\n",
    "print(\"Accuracy:\", accuracy)\n",
    "print(\"Confusion Matrix:\")\n",
    "print(confusion_mat)\n",
    "print(\"Classification Report:\")\n",
    "print(classification_rep)"
   ]
  },
  {
   "cell_type": "markdown",
   "metadata": {},
   "source": [
    "### Usando Random Forest para classificar quem sai no próximo mês"
   ]
  },
  {
   "cell_type": "code",
   "execution_count": 114,
   "metadata": {},
   "outputs": [
    {
     "name": "stdout",
     "output_type": "stream",
     "text": [
      "Accuracy: 0.9089184060721063\n",
      "Confusion Matrix:\n",
      "[[ 93  27]\n",
      " [ 21 386]]\n",
      "Classification Report:\n",
      "              precision    recall  f1-score   support\n",
      "\n",
      "       False       0.82      0.78      0.79       120\n",
      "        True       0.93      0.95      0.94       407\n",
      "\n",
      "    accuracy                           0.91       527\n",
      "   macro avg       0.88      0.86      0.87       527\n",
      "weighted avg       0.91      0.91      0.91       527\n",
      "\n"
     ]
    }
   ],
   "source": [
    "from sklearn.model_selection import train_test_split\n",
    "from sklearn.metrics import accuracy_score\n",
    "from sklearn.metrics import confusion_matrix\n",
    "from sklearn.metrics import classification_report\n",
    "from sklearn.ensemble import RandomForestClassifier\n",
    "\n",
    "\n",
    "X_train, X_test, y_train, y_test = train_test_split(df_total.drop('Target', axis=1), df_total['Target'], test_size=0.2, random_state=42)\n",
    "\n",
    "# Create the decision tree classifier\n",
    "random_forest = RandomForestClassifier(random_state=42)\n",
    "\n",
    "# Train the model\n",
    "random_forest.fit(X_train, y_train)\n",
    "\n",
    "# Make predictions on the test set\n",
    "y_pred = random_forest.predict(X_test)\n",
    "\n",
    "# Evaluate the model\n",
    "accuracy = accuracy_score(y_test, y_pred)\n",
    "confusion_mat = confusion_matrix(y_test, y_pred)\n",
    "classification_rep = classification_report(y_test, y_pred)\n",
    "\n",
    "# Print the results\n",
    "print(\"Accuracy:\", accuracy)\n",
    "print(\"Confusion Matrix:\")\n",
    "print(confusion_mat)\n",
    "print(\"Classification Report:\")\n",
    "print(classification_rep)\n"
   ]
  },
  {
   "cell_type": "markdown",
   "metadata": {},
   "source": [
    "### Refazendo as Análises com CrossValidation para a realização de um TTest"
   ]
  },
  {
   "cell_type": "code",
   "execution_count": 115,
   "metadata": {},
   "outputs": [],
   "source": [
    "from sklearn.model_selection import cross_val_score\n",
    "\n",
    "# realizando a validação cruzada de cada algoritmo\n",
    "\n",
    "random_forest_scores = cross_val_score(random_forest, X_train, y_train, scoring=\"accuracy\", cv=10, n_jobs=-1)\n",
    "\n",
    "tree_scores = cross_val_score(tree_clf, X_train, y_train, scoring=\"accuracy\", cv=10, n_jobs=-1)"
   ]
  },
  {
   "cell_type": "code",
   "execution_count": 116,
   "metadata": {},
   "outputs": [
    {
     "data": {
      "text/plain": [
       "array([0.90047393, 0.90047393, 0.90995261, 0.91469194, 0.92890995,\n",
       "       0.90952381, 0.9       , 0.9       , 0.9047619 , 0.87142857])"
      ]
     },
     "execution_count": 116,
     "metadata": {},
     "output_type": "execute_result"
    }
   ],
   "source": [
    "random_forest_scores"
   ]
  },
  {
   "cell_type": "code",
   "execution_count": 117,
   "metadata": {},
   "outputs": [
    {
     "data": {
      "text/plain": [
       "array([0.87203791, 0.8436019 , 0.8957346 , 0.89099526, 0.86729858,\n",
       "       0.88095238, 0.86190476, 0.84761905, 0.9047619 , 0.8952381 ])"
      ]
     },
     "execution_count": 117,
     "metadata": {},
     "output_type": "execute_result"
    }
   ],
   "source": [
    "tree_scores"
   ]
  },
  {
   "cell_type": "code",
   "execution_count": 118,
   "metadata": {},
   "outputs": [
    {
     "data": {
      "text/plain": [
       "Ttest_indResult(statistic=3.4589702884383247, pvalue=0.0032215963292787854)"
      ]
     },
     "execution_count": 118,
     "metadata": {},
     "output_type": "execute_result"
    }
   ],
   "source": [
    "from scipy.stats import ttest_ind\n",
    "\n",
    "# para afirmar que a hipótese nula está errada, tem que avaliar o pvalue e ver se ele é menor que o valor de alpha escolhido\n",
    "# alpha escolhido foi 0.05\n",
    "\n",
    "ttest_ind(random_forest_scores,tree_scores,equal_var=False)"
   ]
  },
  {
   "cell_type": "markdown",
   "metadata": {},
   "source": [
    "Com esse resultado, tratamos os dois modelos como tendo resultados matematicamente diferentes. Isso significa que podemos rejeitar a hipótese de que os modelos são iguais, e prosseguir com o modelo de Random Forest como o model de clasificação que será utilizado na API."
   ]
  },
  {
   "cell_type": "code",
   "execution_count": 119,
   "metadata": {},
   "outputs": [
    {
     "data": {
      "text/plain": [
       "['../modelos/classification_model.joblib']"
      ]
     },
     "execution_count": 119,
     "metadata": {},
     "output_type": "execute_result"
    }
   ],
   "source": [
    "import joblib\n",
    "\n",
    "# Seu modelo treinado\n",
    "modelo_treinado = random_forest\n",
    "\n",
    "joblib.dump(modelo_treinado, '../modelos/classification_model.joblib')"
   ]
  }
 ],
 "metadata": {
  "kernelspec": {
   "display_name": "env",
   "language": "python",
   "name": "python3"
  },
  "language_info": {
   "codemirror_mode": {
    "name": "ipython",
    "version": 3
   },
   "file_extension": ".py",
   "mimetype": "text/x-python",
   "name": "python",
   "nbconvert_exporter": "python",
   "pygments_lexer": "ipython3",
   "version": "3.11.4"
  }
 },
 "nbformat": 4,
 "nbformat_minor": 2
}
