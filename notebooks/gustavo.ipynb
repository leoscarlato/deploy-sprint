{
 "cells": [
  {
   "cell_type": "code",
   "execution_count": 73,
   "metadata": {},
   "outputs": [],
   "source": [
    "import matplotlib.pyplot as plt\n",
    "import numpy as np\n",
    "import pandas as pd\n",
    "import seaborn as sns\n",
    "\n",
    "RANDOM_SEED = 42"
   ]
  },
  {
   "cell_type": "code",
   "execution_count": 74,
   "metadata": {},
   "outputs": [
    {
     "data": {
      "text/html": [
       "<div>\n",
       "<style scoped>\n",
       "    .dataframe tbody tr th:only-of-type {\n",
       "        vertical-align: middle;\n",
       "    }\n",
       "\n",
       "    .dataframe tbody tr th {\n",
       "        vertical-align: top;\n",
       "    }\n",
       "\n",
       "    .dataframe thead th {\n",
       "        text-align: right;\n",
       "    }\n",
       "</style>\n",
       "<table border=\"1\" class=\"dataframe\">\n",
       "  <thead>\n",
       "    <tr style=\"text-align: right;\">\n",
       "      <th></th>\n",
       "      <th>id_person</th>\n",
       "      <th>birthdate</th>\n",
       "      <th>id_gender</th>\n",
       "      <th>id_marrital_status</th>\n",
       "      <th>state</th>\n",
       "      <th>city</th>\n",
       "      <th>postal_code</th>\n",
       "      <th>id_health_plan</th>\n",
       "      <th>id_person_recommendation</th>\n",
       "      <th>contract_start_date</th>\n",
       "      <th>...</th>\n",
       "      <th>Ligações Outbound</th>\n",
       "      <th>Data Última Ligações Outbound</th>\n",
       "      <th>Qde Total de Faturas</th>\n",
       "      <th>Qde Total de Tentativas de Cobrança</th>\n",
       "      <th>Método de Pagamento</th>\n",
       "      <th>Valor Médio da Mensalidade</th>\n",
       "      <th>Qde Total de Faturas Pagas após Vencimento</th>\n",
       "      <th>Qde Total de Faturas Inadimpletes</th>\n",
       "      <th>Valor Total Inadimplência</th>\n",
       "      <th>Qde Perfis de Pagamento Inativos</th>\n",
       "    </tr>\n",
       "  </thead>\n",
       "  <tbody>\n",
       "    <tr>\n",
       "      <th>0</th>\n",
       "      <td>250</td>\n",
       "      <td>1971-04-01</td>\n",
       "      <td>64.0</td>\n",
       "      <td>82.0</td>\n",
       "      <td>São Paulo</td>\n",
       "      <td>São Paulo</td>\n",
       "      <td>04534-020</td>\n",
       "      <td>417.0</td>\n",
       "      <td>NaN</td>\n",
       "      <td>2021-01-28</td>\n",
       "      <td>...</td>\n",
       "      <td>2.0</td>\n",
       "      <td>2022-04-25 19:18:52</td>\n",
       "      <td>NaN</td>\n",
       "      <td>NaN</td>\n",
       "      <td>NaN</td>\n",
       "      <td>NaN</td>\n",
       "      <td>NaN</td>\n",
       "      <td>NaN</td>\n",
       "      <td>NaN</td>\n",
       "      <td>False</td>\n",
       "    </tr>\n",
       "    <tr>\n",
       "      <th>1</th>\n",
       "      <td>254</td>\n",
       "      <td>NaN</td>\n",
       "      <td>NaN</td>\n",
       "      <td>NaN</td>\n",
       "      <td>North Carolina</td>\n",
       "      <td>Mecklenburg County</td>\n",
       "      <td>28203</td>\n",
       "      <td>NaN</td>\n",
       "      <td>NaN</td>\n",
       "      <td>2020-12-16</td>\n",
       "      <td>...</td>\n",
       "      <td>NaN</td>\n",
       "      <td>NaN</td>\n",
       "      <td>NaN</td>\n",
       "      <td>NaN</td>\n",
       "      <td>NaN</td>\n",
       "      <td>NaN</td>\n",
       "      <td>NaN</td>\n",
       "      <td>NaN</td>\n",
       "      <td>NaN</td>\n",
       "      <td>False</td>\n",
       "    </tr>\n",
       "    <tr>\n",
       "      <th>2</th>\n",
       "      <td>314</td>\n",
       "      <td>1985-08-01</td>\n",
       "      <td>NaN</td>\n",
       "      <td>NaN</td>\n",
       "      <td>São Paulo</td>\n",
       "      <td>São Paulo</td>\n",
       "      <td>05337-030</td>\n",
       "      <td>NaN</td>\n",
       "      <td>NaN</td>\n",
       "      <td>2021-01-21</td>\n",
       "      <td>...</td>\n",
       "      <td>NaN</td>\n",
       "      <td>NaN</td>\n",
       "      <td>NaN</td>\n",
       "      <td>NaN</td>\n",
       "      <td>NaN</td>\n",
       "      <td>NaN</td>\n",
       "      <td>NaN</td>\n",
       "      <td>NaN</td>\n",
       "      <td>NaN</td>\n",
       "      <td>False</td>\n",
       "    </tr>\n",
       "    <tr>\n",
       "      <th>3</th>\n",
       "      <td>315</td>\n",
       "      <td>NaN</td>\n",
       "      <td>NaN</td>\n",
       "      <td>NaN</td>\n",
       "      <td>NaN</td>\n",
       "      <td>NaN</td>\n",
       "      <td>NaN</td>\n",
       "      <td>NaN</td>\n",
       "      <td>NaN</td>\n",
       "      <td>2020-12-17</td>\n",
       "      <td>...</td>\n",
       "      <td>NaN</td>\n",
       "      <td>NaN</td>\n",
       "      <td>NaN</td>\n",
       "      <td>NaN</td>\n",
       "      <td>NaN</td>\n",
       "      <td>NaN</td>\n",
       "      <td>NaN</td>\n",
       "      <td>NaN</td>\n",
       "      <td>NaN</td>\n",
       "      <td>False</td>\n",
       "    </tr>\n",
       "    <tr>\n",
       "      <th>4</th>\n",
       "      <td>317</td>\n",
       "      <td>1986-10-14</td>\n",
       "      <td>NaN</td>\n",
       "      <td>NaN</td>\n",
       "      <td>São Paulo</td>\n",
       "      <td>São Paulo</td>\n",
       "      <td>05421-050</td>\n",
       "      <td>NaN</td>\n",
       "      <td>NaN</td>\n",
       "      <td>2021-01-18</td>\n",
       "      <td>...</td>\n",
       "      <td>NaN</td>\n",
       "      <td>NaN</td>\n",
       "      <td>NaN</td>\n",
       "      <td>NaN</td>\n",
       "      <td>NaN</td>\n",
       "      <td>NaN</td>\n",
       "      <td>NaN</td>\n",
       "      <td>NaN</td>\n",
       "      <td>NaN</td>\n",
       "      <td>False</td>\n",
       "    </tr>\n",
       "    <tr>\n",
       "      <th>...</th>\n",
       "      <td>...</td>\n",
       "      <td>...</td>\n",
       "      <td>...</td>\n",
       "      <td>...</td>\n",
       "      <td>...</td>\n",
       "      <td>...</td>\n",
       "      <td>...</td>\n",
       "      <td>...</td>\n",
       "      <td>...</td>\n",
       "      <td>...</td>\n",
       "      <td>...</td>\n",
       "      <td>...</td>\n",
       "      <td>...</td>\n",
       "      <td>...</td>\n",
       "      <td>...</td>\n",
       "      <td>...</td>\n",
       "      <td>...</td>\n",
       "      <td>...</td>\n",
       "      <td>...</td>\n",
       "      <td>...</td>\n",
       "      <td>...</td>\n",
       "    </tr>\n",
       "    <tr>\n",
       "      <th>1197</th>\n",
       "      <td>5948</td>\n",
       "      <td>1990-08-13</td>\n",
       "      <td>64.0</td>\n",
       "      <td>80.0</td>\n",
       "      <td>Bahia</td>\n",
       "      <td>Salvador</td>\n",
       "      <td>41830-120</td>\n",
       "      <td>NaN</td>\n",
       "      <td>NaN</td>\n",
       "      <td>2023-11-07</td>\n",
       "      <td>...</td>\n",
       "      <td>NaN</td>\n",
       "      <td>NaN</td>\n",
       "      <td>1.0</td>\n",
       "      <td>1.0</td>\n",
       "      <td>Cartão de crédito</td>\n",
       "      <td>50.0</td>\n",
       "      <td>0.0</td>\n",
       "      <td>0.0</td>\n",
       "      <td>0.0</td>\n",
       "      <td>False</td>\n",
       "    </tr>\n",
       "    <tr>\n",
       "      <th>1198</th>\n",
       "      <td>5949</td>\n",
       "      <td>1997-04-17</td>\n",
       "      <td>64.0</td>\n",
       "      <td>80.0</td>\n",
       "      <td>São Paulo</td>\n",
       "      <td>São Paulo</td>\n",
       "      <td>05014-001</td>\n",
       "      <td>NaN</td>\n",
       "      <td>NaN</td>\n",
       "      <td>2023-11-07</td>\n",
       "      <td>...</td>\n",
       "      <td>NaN</td>\n",
       "      <td>NaN</td>\n",
       "      <td>NaN</td>\n",
       "      <td>NaN</td>\n",
       "      <td>NaN</td>\n",
       "      <td>NaN</td>\n",
       "      <td>NaN</td>\n",
       "      <td>NaN</td>\n",
       "      <td>NaN</td>\n",
       "      <td>False</td>\n",
       "    </tr>\n",
       "    <tr>\n",
       "      <th>1199</th>\n",
       "      <td>5951</td>\n",
       "      <td>1973-10-20</td>\n",
       "      <td>111.0</td>\n",
       "      <td>83.0</td>\n",
       "      <td>São Paulo</td>\n",
       "      <td>São Paulo</td>\n",
       "      <td>04883-190</td>\n",
       "      <td>412.0</td>\n",
       "      <td>NaN</td>\n",
       "      <td>2023-10-02</td>\n",
       "      <td>...</td>\n",
       "      <td>NaN</td>\n",
       "      <td>NaN</td>\n",
       "      <td>NaN</td>\n",
       "      <td>NaN</td>\n",
       "      <td>NaN</td>\n",
       "      <td>NaN</td>\n",
       "      <td>NaN</td>\n",
       "      <td>NaN</td>\n",
       "      <td>NaN</td>\n",
       "      <td>False</td>\n",
       "    </tr>\n",
       "    <tr>\n",
       "      <th>1200</th>\n",
       "      <td>5954</td>\n",
       "      <td>1970-08-14</td>\n",
       "      <td>63.0</td>\n",
       "      <td>82.0</td>\n",
       "      <td>São Paulo</td>\n",
       "      <td>São Paulo</td>\n",
       "      <td>04513-100</td>\n",
       "      <td>NaN</td>\n",
       "      <td>NaN</td>\n",
       "      <td>2023-11-07</td>\n",
       "      <td>...</td>\n",
       "      <td>NaN</td>\n",
       "      <td>NaN</td>\n",
       "      <td>1.0</td>\n",
       "      <td>1.0</td>\n",
       "      <td>Cartão de crédito</td>\n",
       "      <td>120.0</td>\n",
       "      <td>0.0</td>\n",
       "      <td>0.0</td>\n",
       "      <td>0.0</td>\n",
       "      <td>False</td>\n",
       "    </tr>\n",
       "    <tr>\n",
       "      <th>1201</th>\n",
       "      <td>5956</td>\n",
       "      <td>1985-01-26</td>\n",
       "      <td>63.0</td>\n",
       "      <td>82.0</td>\n",
       "      <td>Rio de Janeiro</td>\n",
       "      <td>Rio de Janeiro</td>\n",
       "      <td>22280-010</td>\n",
       "      <td>NaN</td>\n",
       "      <td>NaN</td>\n",
       "      <td>2023-11-08</td>\n",
       "      <td>...</td>\n",
       "      <td>NaN</td>\n",
       "      <td>NaN</td>\n",
       "      <td>NaN</td>\n",
       "      <td>NaN</td>\n",
       "      <td>NaN</td>\n",
       "      <td>NaN</td>\n",
       "      <td>NaN</td>\n",
       "      <td>NaN</td>\n",
       "      <td>NaN</td>\n",
       "      <td>False</td>\n",
       "    </tr>\n",
       "  </tbody>\n",
       "</table>\n",
       "<p>1202 rows × 75 columns</p>\n",
       "</div>"
      ],
      "text/plain": [
       "      id_person   birthdate  id_gender  id_marrital_status           state  \\\n",
       "0           250  1971-04-01       64.0                82.0       São Paulo   \n",
       "1           254         NaN        NaN                 NaN  North Carolina   \n",
       "2           314  1985-08-01        NaN                 NaN       São Paulo   \n",
       "3           315         NaN        NaN                 NaN             NaN   \n",
       "4           317  1986-10-14        NaN                 NaN       São Paulo   \n",
       "...         ...         ...        ...                 ...             ...   \n",
       "1197       5948  1990-08-13       64.0                80.0           Bahia   \n",
       "1198       5949  1997-04-17       64.0                80.0       São Paulo   \n",
       "1199       5951  1973-10-20      111.0                83.0       São Paulo   \n",
       "1200       5954  1970-08-14       63.0                82.0       São Paulo   \n",
       "1201       5956  1985-01-26       63.0                82.0  Rio de Janeiro   \n",
       "\n",
       "                    city postal_code  id_health_plan  \\\n",
       "0              São Paulo   04534-020           417.0   \n",
       "1     Mecklenburg County       28203             NaN   \n",
       "2              São Paulo   05337-030             NaN   \n",
       "3                    NaN         NaN             NaN   \n",
       "4              São Paulo   05421-050             NaN   \n",
       "...                  ...         ...             ...   \n",
       "1197            Salvador   41830-120             NaN   \n",
       "1198           São Paulo   05014-001             NaN   \n",
       "1199           São Paulo   04883-190           412.0   \n",
       "1200           São Paulo   04513-100             NaN   \n",
       "1201      Rio de Janeiro   22280-010             NaN   \n",
       "\n",
       "      id_person_recommendation contract_start_date  ... Ligações Outbound  \\\n",
       "0                          NaN          2021-01-28  ...               2.0   \n",
       "1                          NaN          2020-12-16  ...               NaN   \n",
       "2                          NaN          2021-01-21  ...               NaN   \n",
       "3                          NaN          2020-12-17  ...               NaN   \n",
       "4                          NaN          2021-01-18  ...               NaN   \n",
       "...                        ...                 ...  ...               ...   \n",
       "1197                       NaN          2023-11-07  ...               NaN   \n",
       "1198                       NaN          2023-11-07  ...               NaN   \n",
       "1199                       NaN          2023-10-02  ...               NaN   \n",
       "1200                       NaN          2023-11-07  ...               NaN   \n",
       "1201                       NaN          2023-11-08  ...               NaN   \n",
       "\n",
       "      Data Última Ligações Outbound Qde Total de Faturas  \\\n",
       "0               2022-04-25 19:18:52                  NaN   \n",
       "1                               NaN                  NaN   \n",
       "2                               NaN                  NaN   \n",
       "3                               NaN                  NaN   \n",
       "4                               NaN                  NaN   \n",
       "...                             ...                  ...   \n",
       "1197                            NaN                  1.0   \n",
       "1198                            NaN                  NaN   \n",
       "1199                            NaN                  NaN   \n",
       "1200                            NaN                  1.0   \n",
       "1201                            NaN                  NaN   \n",
       "\n",
       "      Qde Total de Tentativas de Cobrança Método de Pagamento  \\\n",
       "0                                     NaN                 NaN   \n",
       "1                                     NaN                 NaN   \n",
       "2                                     NaN                 NaN   \n",
       "3                                     NaN                 NaN   \n",
       "4                                     NaN                 NaN   \n",
       "...                                   ...                 ...   \n",
       "1197                                  1.0   Cartão de crédito   \n",
       "1198                                  NaN                 NaN   \n",
       "1199                                  NaN                 NaN   \n",
       "1200                                  1.0   Cartão de crédito   \n",
       "1201                                  NaN                 NaN   \n",
       "\n",
       "     Valor Médio da Mensalidade  Qde Total de Faturas Pagas após Vencimento  \\\n",
       "0                           NaN                                         NaN   \n",
       "1                           NaN                                         NaN   \n",
       "2                           NaN                                         NaN   \n",
       "3                           NaN                                         NaN   \n",
       "4                           NaN                                         NaN   \n",
       "...                         ...                                         ...   \n",
       "1197                       50.0                                         0.0   \n",
       "1198                        NaN                                         NaN   \n",
       "1199                        NaN                                         NaN   \n",
       "1200                      120.0                                         0.0   \n",
       "1201                        NaN                                         NaN   \n",
       "\n",
       "      Qde Total de Faturas Inadimpletes Valor Total Inadimplência  \\\n",
       "0                                   NaN                       NaN   \n",
       "1                                   NaN                       NaN   \n",
       "2                                   NaN                       NaN   \n",
       "3                                   NaN                       NaN   \n",
       "4                                   NaN                       NaN   \n",
       "...                                 ...                       ...   \n",
       "1197                                0.0                       0.0   \n",
       "1198                                NaN                       NaN   \n",
       "1199                                NaN                       NaN   \n",
       "1200                                0.0                       0.0   \n",
       "1201                                NaN                       NaN   \n",
       "\n",
       "     Qde Perfis de Pagamento Inativos  \n",
       "0                               False  \n",
       "1                               False  \n",
       "2                               False  \n",
       "3                               False  \n",
       "4                               False  \n",
       "...                               ...  \n",
       "1197                            False  \n",
       "1198                            False  \n",
       "1199                            False  \n",
       "1200                            False  \n",
       "1201                            False  \n",
       "\n",
       "[1202 rows x 75 columns]"
      ]
     },
     "execution_count": 74,
     "metadata": {},
     "output_type": "execute_result"
    }
   ],
   "source": [
    "df = pd.read_csv(\"./data/Ana_Health-Tabela_Modelo_Previsao_Churn.csv\",skiprows=1)\n",
    "df"
   ]
  },
  {
   "cell_type": "code",
   "execution_count": 75,
   "metadata": {},
   "outputs": [
    {
     "data": {
      "image/png": "[encoded data removed]",
      "text/plain": [
       "<Figure size 2000x2000 with 6 Axes>"
      ]
     },
     "metadata": {},
     "output_type": "display_data"
    }
   ],
   "source": [
    "df_gustavo = df[['Qde Total de Faturas Pagas após Vencimento', 'birthdate', 'Qde Psicoterapia', 'stay_in_pipeline_stages_first_meeting', 'status.1', 'Data Última Ligações Outbound', 'lost_time', 'Ligações Inbound', 'Qde Total de Tentativas de Cobrança', 'Cancelamentos Psicoterapia', 'Faltas Todos Atendimento', 'Valor Médio da Mensalidade']]\n",
    "df_gustavo.hist(figsize=(20,20))\n",
    "plt.show()"
   ]
  },
  {
   "cell_type": "markdown",
   "metadata": {},
   "source": [
    "Coluna 'Qde Total de Faturas Pagas após Vencimento' possui muitos valores nulos, deveriamos ou preencher utilizando um mecanismo de imputer ou retirar essa coluna"
   ]
  },
  {
   "cell_type": "code",
   "execution_count": 76,
   "metadata": {},
   "outputs": [
    {
     "data": {
      "text/plain": [
       "count    252.000000\n",
       "mean       0.880952\n",
       "std        1.536318\n",
       "min        0.000000\n",
       "25%        0.000000\n",
       "50%        0.000000\n",
       "75%        1.000000\n",
       "max        9.000000\n",
       "Name: Qde Total de Faturas Pagas após Vencimento, dtype: float64"
      ]
     },
     "execution_count": 76,
     "metadata": {},
     "output_type": "execute_result"
    }
   ],
   "source": [
    "df_notnan = df_gustavo[df_gustavo['Qde Total de Faturas Pagas após Vencimento'].notna()]\n",
    "df_notnan['Qde Total de Faturas Pagas após Vencimento'].describe()"
   ]
  },
  {
   "cell_type": "markdown",
   "metadata": {},
   "source": [
    "Coluna 'birthdate' deve ser modificada para facilitar a implementação do algoritmo"
   ]
  },
  {
   "cell_type": "code",
   "execution_count": 77,
   "metadata": {},
   "outputs": [
    {
     "data": {
      "text/plain": [
       "count           1191\n",
       "unique          1100\n",
       "top       1995-01-16\n",
       "freq               8\n",
       "Name: birthdate, dtype: object"
      ]
     },
     "execution_count": 77,
     "metadata": {},
     "output_type": "execute_result"
    }
   ],
   "source": [
    "df_notnan = df_gustavo[df_gustavo['birthdate'].notna()]\n",
    "df_notnan['birthdate'].describe()"
   ]
  },
  {
   "cell_type": "markdown",
   "metadata": {},
   "source": [
    "Por não existir 0 na quantidade de psicoterapia talvez os 0 sejam considerados como nan"
   ]
  },
  {
   "cell_type": "markdown",
   "metadata": {},
   "source": []
  },
  {
   "cell_type": "code",
   "execution_count": 78,
   "metadata": {},
   "outputs": [
    {
     "data": {
      "text/plain": [
       "count    459.000000\n",
       "mean      11.775599\n",
       "std       12.079602\n",
       "min        1.000000\n",
       "25%        3.000000\n",
       "50%        8.000000\n",
       "75%       17.000000\n",
       "max       83.000000\n",
       "Name: Qde Psicoterapia, dtype: float64"
      ]
     },
     "execution_count": 78,
     "metadata": {},
     "output_type": "execute_result"
    }
   ],
   "source": [
    "df_notnan = df_gustavo[df_gustavo['Qde Psicoterapia'].notna()]\n",
    "df_notnan['Qde Psicoterapia'].describe()"
   ]
  },
  {
   "cell_type": "markdown",
   "metadata": {},
   "source": [
    "Tempo até responder o questionário de qualidade de vida.\n",
    "Qual a medida de tempo?"
   ]
  },
  {
   "cell_type": "code",
   "execution_count": 79,
   "metadata": {},
   "outputs": [
    {
     "data": {
      "text/plain": [
       "count    9.240000e+02\n",
       "mean     7.500847e+05\n",
       "std      2.126858e+06\n",
       "min      0.000000e+00\n",
       "25%      3.502500e+02\n",
       "50%      4.671000e+03\n",
       "75%      3.804052e+05\n",
       "max      1.727560e+07\n",
       "Name: stay_in_pipeline_stages_first_meeting, dtype: float64"
      ]
     },
     "execution_count": 79,
     "metadata": {},
     "output_type": "execute_result"
    }
   ],
   "source": [
    "df_notnan = df_gustavo[df_gustavo['stay_in_pipeline_stages_first_meeting'].notna()]\n",
    "df_notnan['stay_in_pipeline_stages_first_meeting'].describe()"
   ]
  },
  {
   "cell_type": "markdown",
   "metadata": {},
   "source": [
    "Status do processo de onboarding: Aberto, Perdido, Ganho\n",
    "Dados estão ok pode dropar as linhas que não tem status ou fazer um imputer"
   ]
  },
  {
   "cell_type": "code",
   "execution_count": 80,
   "metadata": {},
   "outputs": [
    {
     "data": {
      "text/plain": [
       "count     1116\n",
       "unique       3\n",
       "top        won\n",
       "freq       693\n",
       "Name: status.1, dtype: object"
      ]
     },
     "execution_count": 80,
     "metadata": {},
     "output_type": "execute_result"
    }
   ],
   "source": [
    "df_notnan = df_gustavo[df_gustavo['status.1'].notna()]\n",
    "df_notnan['status.1'].describe()"
   ]
  },
  {
   "cell_type": "markdown",
   "metadata": {},
   "source": [
    "Pouquissimos dados, talvez o melhor seja dropar a coluna"
   ]
  },
  {
   "cell_type": "code",
   "execution_count": 81,
   "metadata": {},
   "outputs": [
    {
     "data": {
      "text/plain": [
       "count                     579\n",
       "unique                    575\n",
       "top       2022-12-22 19:46:59\n",
       "freq                        3\n",
       "Name: Data Última Ligações Outbound, dtype: object"
      ]
     },
     "execution_count": 81,
     "metadata": {},
     "output_type": "execute_result"
    }
   ],
   "source": [
    "df_notnan = df_gustavo[df_gustavo['Data Última Ligações Outbound'].notna()]\n",
    "df_notnan['Data Última Ligações Outbound'].describe()"
   ]
  },
  {
   "cell_type": "markdown",
   "metadata": {},
   "source": [
    "Pouquissimos dados, talvez o melhor seja dropar a coluna"
   ]
  },
  {
   "cell_type": "code",
   "execution_count": 82,
   "metadata": {},
   "outputs": [
    {
     "data": {
      "text/plain": [
       "count                     519\n",
       "unique                    278\n",
       "top       2022-09-11 03:00:00\n",
       "freq                       61\n",
       "Name: lost_time, dtype: object"
      ]
     },
     "execution_count": 82,
     "metadata": {},
     "output_type": "execute_result"
    }
   ],
   "source": [
    "df_notnan = df_gustavo[df_gustavo['lost_time'].notna()]\n",
    "df_notnan['lost_time'].describe()"
   ]
  },
  {
   "cell_type": "markdown",
   "metadata": {},
   "source": [
    "Pouquissimos dados, talvez o melhor seja dropar a coluna"
   ]
  },
  {
   "cell_type": "code",
   "execution_count": 83,
   "metadata": {},
   "outputs": [
    {
     "data": {
      "text/plain": [
       "count    118.000000\n",
       "mean       3.144068\n",
       "std        8.482537\n",
       "min        1.000000\n",
       "25%        1.000000\n",
       "50%        1.000000\n",
       "75%        2.000000\n",
       "max       80.000000\n",
       "Name: Ligações Inbound, dtype: float64"
      ]
     },
     "execution_count": 83,
     "metadata": {},
     "output_type": "execute_result"
    }
   ],
   "source": [
    "df_notnan = df_gustavo[df_gustavo['Ligações Inbound'].notna()]\n",
    "df_notnan['Ligações Inbound'].describe()"
   ]
  },
  {
   "cell_type": "markdown",
   "metadata": {},
   "source": [
    "Pouquissimos dados, talvez o melhor seja dropar a coluna"
   ]
  },
  {
   "cell_type": "code",
   "execution_count": 84,
   "metadata": {},
   "outputs": [
    {
     "data": {
      "text/plain": [
       "count    252.000000\n",
       "mean       8.714286\n",
       "std        7.736556\n",
       "min        0.000000\n",
       "25%        3.000000\n",
       "50%        7.000000\n",
       "75%       12.000000\n",
       "max       41.000000\n",
       "Name: Qde Total de Tentativas de Cobrança, dtype: float64"
      ]
     },
     "execution_count": 84,
     "metadata": {},
     "output_type": "execute_result"
    }
   ],
   "source": [
    "df_notnan = df_gustavo[df_gustavo['Qde Total de Tentativas de Cobrança'].notna()]\n",
    "df_notnan['Qde Total de Tentativas de Cobrança'].describe()"
   ]
  },
  {
   "cell_type": "markdown",
   "metadata": {},
   "source": [
    "Todos são iguais deve dropar"
   ]
  },
  {
   "cell_type": "code",
   "execution_count": 85,
   "metadata": {},
   "outputs": [
    {
     "data": {
      "text/plain": [
       "count      1202\n",
       "unique        1\n",
       "top       False\n",
       "freq       1202\n",
       "Name: Cancelamentos Psicoterapia, dtype: object"
      ]
     },
     "execution_count": 85,
     "metadata": {},
     "output_type": "execute_result"
    }
   ],
   "source": [
    "df_notnan = df_gustavo[df_gustavo['Cancelamentos Psicoterapia'].notna()]\n",
    "df_notnan['Cancelamentos Psicoterapia'].describe()"
   ]
  },
  {
   "cell_type": "markdown",
   "metadata": {},
   "source": [
    "Todos são iguais deve dropar"
   ]
  },
  {
   "cell_type": "code",
   "execution_count": 86,
   "metadata": {},
   "outputs": [
    {
     "data": {
      "text/plain": [
       "count      1202\n",
       "unique        1\n",
       "top       False\n",
       "freq       1202\n",
       "Name: Faltas Todos Atendimento, dtype: object"
      ]
     },
     "execution_count": 86,
     "metadata": {},
     "output_type": "execute_result"
    }
   ],
   "source": [
    "df_notnan = df_gustavo[df_gustavo['Faltas Todos Atendimento'].notna()]\n",
    "df_notnan['Faltas Todos Atendimento'].describe()"
   ]
  },
  {
   "cell_type": "markdown",
   "metadata": {},
   "source": [
    "Poucos valores"
   ]
  },
  {
   "cell_type": "code",
   "execution_count": 90,
   "metadata": {},
   "outputs": [
    {
     "data": {
      "text/plain": [
       "count    252.000000\n",
       "mean      94.484683\n",
       "std       32.399305\n",
       "min       50.000000\n",
       "25%       78.000000\n",
       "50%       88.000000\n",
       "75%      111.100000\n",
       "max      383.750000\n",
       "Name: Valor Médio da Mensalidade, dtype: float64"
      ]
     },
     "execution_count": 90,
     "metadata": {},
     "output_type": "execute_result"
    }
   ],
   "source": [
    "df_notnan = df_gustavo[df_gustavo['Valor Médio da Mensalidade'].notna()]\n",
    "df_notnan['Valor Médio da Mensalidade'].describe()"
   ]
  }
 ],
 "metadata": {
  "kernelspec": {
   "display_name": "base",
   "language": "python",
   "name": "python3"
  },
  "language_info": {
   "codemirror_mode": {
    "name": "ipython",
    "version": 3
   },
   "file_extension": ".py",
   "mimetype": "text/x-python",
   "name": "python",
   "nbconvert_exporter": "python",
   "pygments_lexer": "ipython3",
   "version": "3.11.4"
  }
 },
 "nbformat": 4,
 "nbformat_minor": 2
}
