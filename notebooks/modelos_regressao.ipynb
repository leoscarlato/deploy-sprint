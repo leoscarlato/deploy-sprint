{
 "cells": [
  {
   "cell_type": "code",
   "execution_count": 83,
   "metadata": {},
   "outputs": [],
   "source": [
    "import pandas as pd\n",
    "import numpy as np\n",
    "import seaborn as sns\n",
    "import joblib\n",
    "from sklearn.model_selection import train_test_split\n",
    "from sklearn.metrics import accuracy_score\n",
    "from datetime import datetime\n",
    "from sklearn.metrics import mean_squared_error\n",
    "from sklearn.ensemble import RandomForestRegressor\n",
    "from sklearn.model_selection import GridSearchCV\n",
    "from sklearn.linear_model import LinearRegression, Lasso, Ridge, ElasticNet\n",
    "from sklearn.svm import SVR"
   ]
  },
  {
   "cell_type": "markdown",
   "metadata": {},
   "source": [
    "Fazemos a leitura dos dados de todos os meses para coletar e repassar o máximo de informações possíveis para o modelo de previsão."
   ]
  },
  {
   "cell_type": "code",
   "execution_count": 60,
   "metadata": {},
   "outputs": [],
   "source": [
    "df_agosto = pd.read_csv('../data/Agosto/Ana Health_Tabela Modelo Previsão Churn - Tabela até 08_23.csv', skiprows=1)\n",
    "df_julho = pd.read_csv('../data/Julho/Ana Health_Tabela Modelo Previsão Churn - Tabela até 07_23.csv', skiprows=1)\n",
    "df_junho = pd.read_csv('../data/Junho/Ana Health_Tabela Modelo Previsão Churn - Tabela até 06_23.csv', skiprows=1)\n",
    "df_novembro = pd.read_csv('../data/Novembro/Ana Health_Tabela Modelo Previsão Churn - Tabela Geral.csv', skiprows=1)\n",
    "df_outubro = pd.read_csv('../data/Outubro/Ana Health_Tabela Modelo Previsão Churn - Tabela até 10_23.csv', skiprows=1)\n",
    "df_setembro = pd.read_csv('../data/Setembro/Ana Health_Tabela Modelo Previsão Churn - Tabela até 09_23.csv', skiprows=1)"
   ]
  },
  {
   "cell_type": "markdown",
   "metadata": {},
   "source": [
    "Aplicamos os tratamentos básicos de limpeza e transformação dos dados em todos os meses."
   ]
  },
  {
   "cell_type": "code",
   "execution_count": 61,
   "metadata": {},
   "outputs": [],
   "source": [
    "import script_data_basico\n",
    "import importlib\n",
    "importlib.reload(script_data_basico)\n",
    "tratamento = script_data_basico.tratamento\n",
    "\n",
    "fim_junho = datetime(2023, 6, 30)\n",
    "fim_julho = datetime(2023, 7, 31)\n",
    "fim_agosto = datetime(2023, 8, 31)\n",
    "fim_setembro = datetime(2023, 9, 30)\n",
    "fim_outubro = datetime(2023, 10, 31)\n",
    "fim_novembro = datetime(2023, 11, 30)\n",
    "\n",
    "df_agosto = tratamento(df_agosto,fim_agosto,df_setembro)\n",
    "df_julho = tratamento(df_julho, fim_julho, df_agosto)\n",
    "df_junho = tratamento(df_junho, fim_junho, df_julho)\n",
    "df_outubro = tratamento(df_outubro, fim_outubro, df_novembro)\n",
    "df_setembro = tratamento(df_setembro, fim_setembro, df_outubro)"
   ]
  },
  {
   "cell_type": "markdown",
   "metadata": {},
   "source": [
    "Juntamos os dados de todos os meses em um único dataframe."
   ]
  },
  {
   "cell_type": "code",
   "execution_count": 62,
   "metadata": {},
   "outputs": [],
   "source": [
    "df_total = pd.concat([df_junho, df_julho, df_agosto, df_setembro, df_outubro])"
   ]
  },
  {
   "cell_type": "markdown",
   "metadata": {},
   "source": [
    "Aplicamos o tratamento de dados para o nosso modelo de regressão, temos o df_regr que usaremos para treinar o modelo. E também temos o df_regr_coerencia, que é constituído apenas dos dados das pessoas que ainda estão na empresa, para termos uma espécie de \"teste de coerência\" que o intuito de verificar se o modelo está prevendo corretamente (se ele prever que a pessoa deveria já ter saído ele estaria errado). "
   ]
  },
  {
   "cell_type": "code",
   "execution_count": 63,
   "metadata": {},
   "outputs": [],
   "source": [
    "import script_data_regressao\n",
    "\n",
    "df_regr, df_regr_coerencia = script_data_regressao.tratamento_regressao(df_total)"
   ]
  },
  {
   "cell_type": "code",
   "execution_count": 64,
   "metadata": {},
   "outputs": [],
   "source": [
    "# Embaralhamento dos dados para não ficar na ordem de data e não ter viés\n",
    "\n",
    "df_regr = df_regr.sample(frac=1)\n",
    "df_regr_coerencia = df_regr_coerencia.sample(frac=1)"
   ]
  },
  {
   "cell_type": "markdown",
   "metadata": {},
   "source": [
    "### Random Forest Regression"
   ]
  },
  {
   "cell_type": "code",
   "execution_count": 81,
   "metadata": {},
   "outputs": [
    {
     "name": "stdout",
     "output_type": "stream",
     "text": [
      "Mean Squared Error: 7868.9925692095285\n",
      "Root Mean Squared Error (Erro em dias de atraso): 88.70734225085052\n",
      "Melhores parâmetros: {'max_depth': None, 'min_samples_leaf': 2, 'min_samples_split': 0.001, 'n_estimators': 500}\n"
     ]
    }
   ],
   "source": [
    "# Divisão dos dados em treino e teste\n",
    "y = df_regr['Tempo até Sair']\n",
    "X = df_regr.drop(['Tempo até Sair'], axis=1)\n",
    "X_train, X_test, y_train, y_test = train_test_split(X, y, test_size=0.1, random_state=42)\n",
    "\n",
    "# Criação do modelo de regressão\n",
    "model = RandomForestRegressor(random_state=42)\n",
    "\n",
    "# Escolhemos os parâmetros que queremos testar no modelo de regressão através do GridSearchCV\n",
    "param_grid = {\n",
    "    'n_estimators': [1, 10, 100, 500],\n",
    "    'max_depth': [None, 3, 5, 10, 50],\n",
    "    'min_samples_split': [0.001, 0.01, 0.1, 2],\n",
    "    'min_samples_leaf': [1, 2, 5, 10]\n",
    "}\n",
    "\n",
    "# Obtemos o melhor modelo através do GridSearchCV\n",
    "model = GridSearchCV(model, param_grid, cv=5, scoring='neg_mean_squared_error', return_train_score=True, n_jobs=-1)\n",
    "\n",
    "# Treinamos o modelo com os dados de treino\n",
    "model.fit(X_train, y_train)\n",
    "\n",
    "# Obtemos as previsões do modelo\n",
    "y_pred = model.predict(X_test)\n",
    "\n",
    "# Calculamos a performance do modelo\n",
    "mse = mean_squared_error(y_test, y_pred)\n",
    "print(\"Mean Squared Error:\", mse)\n",
    "print(\"Root Mean Squared Error (Erro em dias de atraso):\", np.sqrt(mse))\n",
    "print(\"Melhores parâmetros:\", model.best_params_)\n"
   ]
  },
  {
   "cell_type": "code",
   "execution_count": 84,
   "metadata": {},
   "outputs": [
    {
     "data": {
      "text/plain": [
       "['regression_model.joblib']"
      ]
     },
     "execution_count": 84,
     "metadata": {},
     "output_type": "execute_result"
    }
   ],
   "source": [
    "joblib.dump(model, 'regression_model.joblib')"
   ]
  },
  {
   "cell_type": "markdown",
   "metadata": {},
   "source": [
    "Aqui realizamos um teste para verificar se o modelo está coerente com a realidade.\n",
    "\n",
    "Para isso, utilizamos o dataset de pessoas que ainda estão ativas para tentar entender o comportamento do modelo ao prever o tempo de cancelamento e comparar com o tempo real que a pessoa está ativa."
   ]
  },
  {
   "cell_type": "code",
   "execution_count": 66,
   "metadata": {},
   "outputs": [
    {
     "name": "stdout",
     "output_type": "stream",
     "text": [
      "Mean Squared Error: 15987.001261835016\n",
      "Root Mean Squared Error (Erro em dias de atraso): 126.43971394239634\n",
      "Erro médio: -106.93332324073005\n"
     ]
    }
   ],
   "source": [
    "# Usando os dados de clientes que ainda estão para comparar com os dados de clientes que sairam apenas para testar o modelo\n",
    "y = df_regr_coerencia['Tempo até Sair']\n",
    "X = df_regr_coerencia.drop(['Tempo até Sair'], axis=1)\n",
    "\n",
    "# Obtemos as previsões do modelo\n",
    "y_pred = model.predict(X)\n",
    "\n",
    "# Calculamos a performance do modelo\n",
    "mse = mean_squared_error(y, y_pred)\n",
    "print(\"Mean Squared Error:\", mse)\n",
    "print(\"Root Mean Squared Error (Erro em dias de atraso):\", np.sqrt(mse))\n",
    "\n",
    "# Verificar se está errando para mais ou para menos\n",
    "print('Erro médio:', np.mean(y_pred - y))"
   ]
  },
  {
   "cell_type": "markdown",
   "metadata": {},
   "source": [
    "### Linear Regression"
   ]
  },
  {
   "cell_type": "code",
   "execution_count": 67,
   "metadata": {},
   "outputs": [
    {
     "name": "stdout",
     "output_type": "stream",
     "text": [
      "Mean Squared Error: 11685.326031623177\n",
      "Root Mean Squared Error (Erro em dias de atraso): 108.09868653976874\n",
      "Melhores parâmetros: {'copy_X': True, 'fit_intercept': False, 'n_jobs': None, 'positive': False}\n"
     ]
    }
   ],
   "source": [
    "# Divisão dos dados em treino e teste\n",
    "y = df_regr['Tempo até Sair']\n",
    "X = df_regr.drop(['Tempo até Sair'], axis=1)\n",
    "X_train, X_test, y_train, y_test = train_test_split(X, y, test_size=0.1, random_state=42)  # Adjust test_size\n",
    "\n",
    "# Criação do modelo de regressão\n",
    "model = LinearRegression()\n",
    "\n",
    "# Parâmetros que queremos testar no modelo de regressão através do GridSearchCV\n",
    "param_grid = {\n",
    "    'fit_intercept': [True, False],\n",
    "    'copy_X': [True, False],\n",
    "    'n_jobs': [None, 1, 2, 5, 10],\n",
    "    'positive': [True, False],\n",
    "\n",
    "}\n",
    "\n",
    "# Obtemos o melhor modelo através do GridSearchCV\n",
    "model = GridSearchCV(model, param_grid, cv=5, scoring='neg_mean_squared_error', return_train_score=True, n_jobs=-1)\n",
    "\n",
    "# Treinando o modelo\n",
    "model.fit(X_train, y_train)\n",
    "\n",
    "# Obtendo as previsões do modelo\n",
    "y_pred = model.predict(X_test)\n",
    "\n",
    "# Calculamos a performance do modelo\n",
    "mse = mean_squared_error(y_test, y_pred)\n",
    "print(\"Mean Squared Error:\", mse)\n",
    "print(\"Root Mean Squared Error (Erro em dias de atraso):\", np.sqrt(mse))\n",
    "print(\"Melhores parâmetros:\", model.best_params_)\n",
    "\n"
   ]
  },
  {
   "cell_type": "markdown",
   "metadata": {},
   "source": [
    "### Support Vector Regression"
   ]
  },
  {
   "cell_type": "code",
   "execution_count": 68,
   "metadata": {},
   "outputs": [
    {
     "name": "stdout",
     "output_type": "stream",
     "text": [
      "Mean Squared Error: 11632.619156796005\n",
      "Root Mean Squared Error (Erro em dias de atraso): 107.85462047031645\n",
      "Melhores parâmetros: {'C': 2, 'epsilon': 50, 'kernel': 'linear'}\n"
     ]
    }
   ],
   "source": [
    "# Parâmetros que queremos testar no modelo de regressão através do GridSearchCV\n",
    "param_grid = {\n",
    "    'C': [0.1, 0.5, 1, 2, 3, 4, 5, 10],\n",
    "    'epsilon': [0.01, 0.1, 0.5, 1, 2, 3, 4, 5, 10, 50, 100],\n",
    "    'kernel': ['linear', 'rbf', 'poly']\n",
    "}\n",
    "\n",
    "# Criação do modelo de regressão\n",
    "model = SVR()\n",
    "\n",
    "# Obtemos o melhor modelo através do GridSearchCV\n",
    "model = GridSearchCV(model, param_grid, cv=5, scoring='neg_mean_squared_error', return_train_score=True, n_jobs=-1)\n",
    "\n",
    "# Treina o modelo\n",
    "model.fit(X_train, y_train)\n",
    "\n",
    "# Obtém as previsões do modelo\n",
    "y_pred = model.predict(X_test)\n",
    "\n",
    "# Calculamos a performance do modelo\n",
    "mse = mean_squared_error(y_test, y_pred)\n",
    "print(\"Mean Squared Error:\", mse)\n",
    "print(\"Root Mean Squared Error (Erro em dias de atraso):\", np.sqrt(mse))\n",
    "print(\"Melhores parâmetros:\", model.best_params_)"
   ]
  },
  {
   "cell_type": "markdown",
   "metadata": {},
   "source": [
    "### Lasso"
   ]
  },
  {
   "cell_type": "code",
   "execution_count": 69,
   "metadata": {},
   "outputs": [
    {
     "name": "stdout",
     "output_type": "stream",
     "text": [
      "Mean Squared Error: 12846.508386030006\n",
      "Root Mean Squared Error (Erro em dias de atraso): 113.3424385922149\n",
      "Melhores parâmetros: {'alpha': 2, 'copy_X': True, 'fit_intercept': True, 'selection': 'random', 'warm_start': True}\n"
     ]
    }
   ],
   "source": [
    "# Parâmetros que queremos testar no modelo de regressão através do GridSearchCV\n",
    "param_grid = {\n",
    "    'alpha':[0.001,0.01,0.05,0.1,0.5,1, 2, 3, 4, 5, 10],\n",
    "    \"fit_intercept\": [True, False],\n",
    "    \"copy_X\": [True,False],\n",
    "    \"warm_start\": [True, False],\n",
    "    \"selection\": ['cyclic', 'random']\n",
    "}\n",
    "\n",
    "# Cria modelo\n",
    "model = Lasso()\n",
    "\n",
    "# Obtemos o melhor modelo através do GridSearchCV para o modelo de regressão com Lasso\n",
    "model = GridSearchCV(model, param_grid, cv=5, scoring='neg_mean_squared_error', return_train_score=True, n_jobs=-1)\n",
    "model.fit(X_train, y_train)\n",
    "\n",
    "# Faz as previsões do modelo\n",
    "y_pred = model.predict(X_test)\n",
    "\n",
    "# Calculamos a performance do modelo\n",
    "mse = mean_squared_error(y_test, y_pred)\n",
    "print(\"Mean Squared Error:\", mse)\n",
    "print(\"Root Mean Squared Error (Erro em dias de atraso):\", np.sqrt(mse))\n",
    "print(\"Melhores parâmetros:\", model.best_params_)\n"
   ]
  },
  {
   "cell_type": "markdown",
   "metadata": {},
   "source": [
    "### Ridge"
   ]
  },
  {
   "cell_type": "code",
   "execution_count": 70,
   "metadata": {},
   "outputs": [
    {
     "name": "stdout",
     "output_type": "stream",
     "text": [
      "Mean Squared Error: 12714.51546160036\n",
      "Root Mean Squared Error (Erro em dias de atraso): 112.75866025099961\n",
      "Melhores parâmetros: {'alpha': 100}\n"
     ]
    }
   ],
   "source": [
    "# Cria modelo\n",
    "model = Ridge()\n",
    "\n",
    "# Parâmetro que queremos testar no modelo Ridge através do GridSearchCV\n",
    "param_grid = {\n",
    "    'alpha': [0.01, 0.1, 1, 10, 100]\n",
    "}\n",
    "\n",
    "\n",
    "# Obtemos o melhor modelo através do GridSearchCV para o modelo\n",
    "model = GridSearchCV(model, param_grid, cv=5, scoring='neg_mean_squared_error', return_train_score=True, n_jobs=-1)\n",
    "model.fit(X_train, y_train)\n",
    "\n",
    "# Faz as previsões do modelo\n",
    "y_pred = model.predict(X_test)\n",
    "\n",
    "# Calculamos a performance do modelo\n",
    "mse = mean_squared_error(y_test, y_pred)\n",
    "print(\"Mean Squared Error:\", mse)\n",
    "print(\"Root Mean Squared Error (Erro em dias de atraso):\", np.sqrt(mse))\n",
    "print(\"Melhores parâmetros:\", model.best_params_)\n"
   ]
  },
  {
   "cell_type": "markdown",
   "metadata": {},
   "source": [
    "### Elastic Net"
   ]
  },
  {
   "cell_type": "code",
   "execution_count": 71,
   "metadata": {},
   "outputs": [
    {
     "name": "stdout",
     "output_type": "stream",
     "text": [
      "Mean Squared Error: 12796.600707773283\n",
      "Root Mean Squared Error (Erro em dias de atraso): 113.12206110115429\n",
      "Melhores parâmetros: {'alpha': 0.5, 'copy_X': False, 'fit_intercept': True, 'l1_ratio': 0.5, 'selection': 'random', 'warm_start': False}\n"
     ]
    }
   ],
   "source": [
    "param_grid = {\n",
    "    'alpha':[0.001,0.01,0.05,0.1,0.5,1],\n",
    "    'l1_ratio':[0.1, 0.01, 0.5, 0.05, 0.001],\n",
    "    \"fit_intercept\": [True, False],\n",
    "    \"copy_X\": [True,False],\n",
    "    \"warm_start\": [True, False],\n",
    "    \"selection\": ['cyclic', 'random']\n",
    "}\n",
    "\n",
    "# Cria modelo\n",
    "model = ElasticNet()\n",
    "\n",
    "# Obtém o melhor modelo através do GridSearchCV para o modelo ElasticNet\n",
    "model = GridSearchCV(model, param_grid, cv=5, scoring='neg_mean_squared_error', return_train_score=True, n_jobs=-1)\n",
    "model.fit(X_train, y_train)\n",
    "\n",
    "# Calcula as previsões do modelo\n",
    "y_pred = model.predict(X_test)\n",
    "\n",
    "# Calculamos a performance do modelo\n",
    "mse = mean_squared_error(y_test, y_pred)\n",
    "print(\"Mean Squared Error:\", mse)\n",
    "print(\"Root Mean Squared Error (Erro em dias de atraso):\", np.sqrt(mse))\n",
    "print(\"Melhores parâmetros:\", model.best_params_)"
   ]
  }
 ],
 "metadata": {
  "kernelspec": {
   "display_name": "Python 3",
   "language": "python",
   "name": "python3"
  },
  "language_info": {
   "codemirror_mode": {
    "name": "ipython",
    "version": 3
   },
   "file_extension": ".py",
   "mimetype": "text/x-python",
   "name": "python",
   "nbconvert_exporter": "python",
   "pygments_lexer": "ipython3",
   "version": "3.11.3"
  }
 },
 "nbformat": 4,
 "nbformat_minor": 2
}
